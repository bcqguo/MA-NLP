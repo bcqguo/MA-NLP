{
 "cells": [
  {
   "cell_type": "markdown",
   "id": "60a436e6-d81d-47a5-9ba9-80326a379060",
   "metadata": {},
   "source": [
    "# Parse SEC filings"
   ]
  },
  {
   "cell_type": "code",
   "execution_count": 7,
   "id": "cfd724f9-cf68-46c9-af2b-b04b5dd28ecd",
   "metadata": {},
   "outputs": [],
   "source": [
    "from __future__ import division, unicode_literals \n",
    "\n",
    "import pandas as pd\n",
    "import numpy as np\n",
    "import time, sys, os, re\n",
    "import datetime, pickle, bz2\n",
    "import getpass\n",
    "from tqdm import tqdm\n",
    "import datetime\n",
    "from datetime import datetime\n",
    "import string\n",
    "# Import BeautifulSoup\n",
    "from bs4 import BeautifulSoup\n",
    "import re"
   ]
  },
  {
   "cell_type": "code",
   "execution_count": 549,
   "id": "8939f2e1-49c9-4359-9f55-9acf7ec3d426",
   "metadata": {},
   "outputs": [],
   "source": [
    "def cleanStr(test_df_1):\n",
    "    test_df_1 = test_df_1.translate(str.maketrans('', '', string.punctuation))\n",
    "    test_df_1 = re.sub('&#160;',' ', test_df_1) \n",
    "    test_df_1 = re.sub('&nbsp;', ' ', test_df_1) \n",
    "    test_df_1 = re.sub('\\xa0', ' ', test_df_1)\n",
    "    test_df_1 = re.sub('\\n',' ', test_df_1)\n",
    "    test_df_1 = re.sub(':',' ', test_df_1)\n",
    "    test_df_1 = re.sub(\"–\", ' ', test_df_1)\n",
    "    test_df_1 = re.sub('\\t', ' ', test_df_1)\n",
    "    test_df_1 = re.sub('·', ' ', test_df_1)\n",
    "    test_df_1 = re.sub(' ·', ' ', test_df_1)\n",
    "    test_df_1 = re.sub('     ', ' ', test_df_1)\n",
    "    test_df_1 = re.sub('    ', ' ', test_df_1)\n",
    "    test_df_1 = re.sub('   ', ' ', test_df_1)\n",
    "    test_df_1 = re.sub('  ', ' ', test_df_1)\n",
    "        \n",
    "    return test_df_1"
   ]
  },
  {
   "cell_type": "code",
   "execution_count": 82,
   "id": "98e62cfc-30d9-4117-8dfe-2cfb51463d1b",
   "metadata": {},
   "outputs": [],
   "source": [
    "def cleanDf(test_df):\n",
    "    test_df.replace('&#160;',' ',regex=True,inplace=True)\n",
    "    test_df.replace('&nbsp;',' ',regex=True,inplace=True)\n",
    "    test_df.replace('\\.','',regex=True,inplace=True)\n",
    "    test_df.replace('>','',regex=True,inplace=True)\n",
    "    test_df.replace('   ',' ',regex=True,inplace=True)\n",
    "    test_df.replace('  ',' ',regex=True,inplace=True)\n",
    "    test_df.replace(' ','',regex=True,inplace=True)\n",
    "    \n",
    "    return test_df"
   ]
  },
  {
   "cell_type": "markdown",
   "id": "e3be5679-0ddc-4ca0-bd43-2c34f9c68004",
   "metadata": {},
   "source": [
    "# unit test"
   ]
  },
  {
   "cell_type": "code",
   "execution_count": 396,
   "id": "50cfc23d-c177-4c9a-ba91-ae6a28e2c0c6",
   "metadata": {},
   "outputs": [],
   "source": [
    "ma_list = sorted(os.listdir(\"/home/dada/CyberSpace/GQ/AI_prj/10-K/{}\".format('Pos')))\n",
    "ma_list = [i for i in ma_list if \".html\" in i]"
   ]
  },
  {
   "cell_type": "code",
   "execution_count": 543,
   "id": "c114677f-2971-4562-9a2a-a8467857a171",
   "metadata": {},
   "outputs": [],
   "source": [
    "with open(f\"/home/dada/CyberSpace/GQ/AI_prj/10-K/Pos/FTFT.html\") as fp:\n",
    "    document = BeautifulSoup(fp.read()).get_text().lower()"
   ]
  },
  {
   "cell_type": "code",
   "execution_count": 552,
   "id": "1b17944c-0adb-402d-a9ee-05feff909d9e",
   "metadata": {},
   "outputs": [],
   "source": [
    "parse_i_j = BeautifulSoup(document, 'lxml')\n",
    "parse_i_j = parse_i_j.get_text(\"\\n\\n\")\n",
    "parse_i_j = cleanStr(parse_i_j)"
   ]
  },
  {
   "cell_type": "code",
   "execution_count": 553,
   "id": "4273bbb2-04cd-4e00-a4bc-598787caab25",
   "metadata": {},
   "outputs": [
    {
     "data": {
      "text/plain": [
       "True"
      ]
     },
     "execution_count": 553,
     "metadata": {},
     "output_type": "execute_result"
    }
   ],
   "source": [
    "\"item 7\" in parse_i_j"
   ]
  },
  {
   "cell_type": "code",
   "execution_count": 554,
   "id": "95a73f8e-b7d7-459d-8150-26e80fdae421",
   "metadata": {},
   "outputs": [],
   "source": [
    "#regex = re.compile(r'(item\\s7\\smanagements discussion)|(item\\s(7A|7|8))', re.IGNORECASE)"
   ]
  },
  {
   "cell_type": "code",
   "execution_count": 555,
   "id": "f4ee719e-9b68-415a-9f4f-3bbe9fbf8898",
   "metadata": {},
   "outputs": [
    {
     "data": {
      "text/html": [
       "<div>\n",
       "<style scoped>\n",
       "    .dataframe tbody tr th:only-of-type {\n",
       "        vertical-align: middle;\n",
       "    }\n",
       "\n",
       "    .dataframe tbody tr th {\n",
       "        vertical-align: top;\n",
       "    }\n",
       "\n",
       "    .dataframe thead th {\n",
       "        text-align: right;\n",
       "    }\n",
       "</style>\n",
       "<table border=\"1\" class=\"dataframe\">\n",
       "  <thead>\n",
       "    <tr style=\"text-align: right;\">\n",
       "      <th></th>\n",
       "      <th>item</th>\n",
       "      <th>start</th>\n",
       "      <th>end</th>\n",
       "    </tr>\n",
       "  </thead>\n",
       "  <tbody>\n",
       "    <tr>\n",
       "      <th>0</th>\n",
       "      <td>item 7 managements discussion</td>\n",
       "      <td>4140</td>\n",
       "      <td>4169</td>\n",
       "    </tr>\n",
       "    <tr>\n",
       "      <th>1</th>\n",
       "      <td>item 8 financial statements</td>\n",
       "      <td>4305</td>\n",
       "      <td>4332</td>\n",
       "    </tr>\n",
       "    <tr>\n",
       "      <th>2</th>\n",
       "      <td>item 7 managements discussion</td>\n",
       "      <td>121072</td>\n",
       "      <td>121101</td>\n",
       "    </tr>\n",
       "    <tr>\n",
       "      <th>3</th>\n",
       "      <td>item 8 financial statements</td>\n",
       "      <td>171462</td>\n",
       "      <td>171489</td>\n",
       "    </tr>\n",
       "  </tbody>\n",
       "</table>\n",
       "</div>"
      ],
      "text/plain": [
       "                            item   start     end\n",
       "0  item 7 managements discussion    4140    4169\n",
       "1    item 8 financial statements    4305    4332\n",
       "2  item 7 managements discussion  121072  121101\n",
       "3    item 8 financial statements  171462  171489"
      ]
     },
     "execution_count": 555,
     "metadata": {},
     "output_type": "execute_result"
    }
   ],
   "source": [
    "matches = regex.finditer(parse_i_j)\n",
    "test_df = pd.DataFrame([(x.group(), x.start(), x.end()) for x in matches])\n",
    "\n",
    "test_df.columns = ['item', 'start', 'end']\n",
    "test_df['item'] = test_df.item.str.lower()\n",
    "\n",
    "# Display the dataframe\n",
    "test_df"
   ]
  },
  {
   "cell_type": "code",
   "execution_count": 540,
   "id": "f44ed373-96d5-4f96-b1c8-332d82b544c4",
   "metadata": {},
   "outputs": [
    {
     "data": {
      "text/html": [
       "<div>\n",
       "<style scoped>\n",
       "    .dataframe tbody tr th:only-of-type {\n",
       "        vertical-align: middle;\n",
       "    }\n",
       "\n",
       "    .dataframe tbody tr th {\n",
       "        vertical-align: top;\n",
       "    }\n",
       "\n",
       "    .dataframe thead th {\n",
       "        text-align: right;\n",
       "    }\n",
       "</style>\n",
       "<table border=\"1\" class=\"dataframe\">\n",
       "  <thead>\n",
       "    <tr style=\"text-align: right;\">\n",
       "      <th></th>\n",
       "      <th>item</th>\n",
       "      <th>start</th>\n",
       "      <th>end</th>\n",
       "    </tr>\n",
       "  </thead>\n",
       "  <tbody>\n",
       "    <tr>\n",
       "      <th>0</th>\n",
       "      <td>item 7 managements discussion</td>\n",
       "      <td>37786</td>\n",
       "      <td>37815</td>\n",
       "    </tr>\n",
       "    <tr>\n",
       "      <th>1</th>\n",
       "      <td>item 8 financial statements</td>\n",
       "      <td>65821</td>\n",
       "      <td>65848</td>\n",
       "    </tr>\n",
       "  </tbody>\n",
       "</table>\n",
       "</div>"
      ],
      "text/plain": [
       "                            item  start    end\n",
       "0  item 7 managements discussion  37786  37815\n",
       "1    item 8 financial statements  65821  65848"
      ]
     },
     "execution_count": 540,
     "metadata": {},
     "output_type": "execute_result"
    }
   ],
   "source": [
    "# Drop duplicates\n",
    "pos_dat = test_df.sort_values('start', ascending=True).drop_duplicates(subset=['item'], keep='last')\n",
    "\n",
    "# Display the dataframe\n",
    "pos_dat.reset_index(drop = True, inplace = True)\n",
    "pos_dat"
   ]
  },
  {
   "cell_type": "markdown",
   "id": "3ba657f3-c74e-4838-8e7f-82caac2470cf",
   "metadata": {},
   "source": [
    "# parse SEC 10-K in Batch model "
   ]
  },
  {
   "cell_type": "code",
   "execution_count": 556,
   "id": "f45730d5-efb4-4752-b03e-368d342524a3",
   "metadata": {},
   "outputs": [],
   "source": [
    "def prepText_K(ma_status = \"Pos\"):\n",
    "    \n",
    "    ma_dict = {} \n",
    "    \n",
    "    ma_list = sorted(os.listdir(\"/home/dada/CyberSpace/GQ/AI_prj/10-K/{}\".format(ma_status)))\n",
    "    ma_list = [i for i in ma_list if \".html\" in i]\n",
    "    \n",
    "    for i in tqdm(ma_list):\n",
    "        \n",
    "        ticker_i = i.replace(\".html\", \"\")    \n",
    "        with open(f\"/home/dada/CyberSpace/GQ/AI_prj/10-K/{ma_status}/{i}\") as fp:\n",
    "            document = BeautifulSoup(fp.read()).get_text().lower()\n",
    "            \n",
    "#            if \"item 2\" in document:\n",
    "#             regex_i_j = regex.finditer(document)\n",
    "#             match_df = pd.DataFrame([(x.start(), x.end()) for x in regex_i_j])\n",
    "#             parse_i_j = BeautifulSoup(document[match_df.iloc[0,1]:match_df.iloc[len(match_df)-1,0]], 'lxml')\n",
    "\n",
    "            parse_i_j = BeautifulSoup(document, 'lxml')\n",
    "            parse_i_j = parse_i_j.get_text(\"\\n\\n\")\n",
    "            parse_i_j = cleanStr(parse_i_j)\n",
    "\n",
    "#             matches_array = pd.DataFrame([(match.group(), match.start()) for match in matches.finditer(parse_i_j)])\n",
    "#             matches_array.columns = ['SearchTerm', 'Start']\n",
    "                        \n",
    "            #regex = re.compile(r'(>item(\\s| | )(7A|7|8)\\.{0,1})|(item\\s(7A|7|8))', re.IGNORECASE)\n",
    "            regex = re.compile(r'item\\s7[ ]{0,1}\\smanagement(.|)s\\sdiscussion|' 'item\\s8[ ]{0,1}(consolidated\\sfinancial|financial)\\sstatements',re.IGNORECASE)\n",
    "            matches = regex.finditer(parse_i_j)\n",
    "\n",
    "            test_df = pd.DataFrame([(x.group(), x.start(), x.end()) for x in matches])\n",
    "            \n",
    "            if len(test_df) == 0:\n",
    "                print(f\"{ticker_i} is not processed\")\n",
    "                pass\n",
    "            \n",
    "            else:\n",
    "                test_df.columns = ['item', 'start', 'end']            \n",
    "                test_df = cleanDf(test_df)\n",
    "                \n",
    "                if \"item8\" in [i[:5] for i in test_df.item]:\n",
    "                    test_df = test_df[:max(list(test_df[['item8' in i for i in test_df.item]].index+1))]\n",
    "            \n",
    "                    pos_dat = test_df.sort_values('start', ascending=True).drop_duplicates(subset=['item'], keep='last')\n",
    "                    pos_dat.reset_index(drop = True, inplace = True)\n",
    "                    ma_dict[ticker_i] = parse_i_j[int(pos_dat.start[0]):int(pos_dat.start[len(pos_dat)-1])]\n",
    "                else:\n",
    "                    print(f\"{ticker_i} is not processed\")\n",
    "                    pass\n",
    "            \n",
    "    return ma_dict"
   ]
  },
  {
   "cell_type": "markdown",
   "id": "5eade2ff-dfa9-4b45-aacd-981ef04c549d",
   "metadata": {},
   "source": [
    "# extract Pos text for training"
   ]
  },
  {
   "cell_type": "code",
   "execution_count": 557,
   "id": "8cd93a7c-a239-4246-b476-7b871b1763d9",
   "metadata": {},
   "outputs": [
    {
     "name": "stderr",
     "output_type": "stream",
     "text": [
      " 16%|█▋        | 91/553 [02:51<31:03,  4.03s/it]"
     ]
    },
    {
     "name": "stdout",
     "output_type": "stream",
     "text": [
      "C is not processed\n"
     ]
    },
    {
     "name": "stderr",
     "output_type": "stream",
     "text": [
      " 30%|███       | 167/553 [05:10<09:42,  1.51s/it]"
     ]
    },
    {
     "name": "stdout",
     "output_type": "stream",
     "text": [
      "ECPG is not processed\n"
     ]
    },
    {
     "name": "stderr",
     "output_type": "stream",
     "text": [
      " 42%|████▏     | 232/553 [07:45<12:29,  2.33s/it]"
     ]
    },
    {
     "name": "stdout",
     "output_type": "stream",
     "text": [
      "GTLS is not processed\n"
     ]
    },
    {
     "name": "stderr",
     "output_type": "stream",
     "text": [
      " 43%|████▎     | 240/553 [08:01<15:24,  2.95s/it]"
     ]
    },
    {
     "name": "stdout",
     "output_type": "stream",
     "text": [
      "HIG is not processed\n"
     ]
    },
    {
     "name": "stderr",
     "output_type": "stream",
     "text": [
      "100%|██████████| 553/553 [18:01<00:00,  1.96s/it]"
     ]
    },
    {
     "name": "stdout",
     "output_type": "stream",
     "text": [
      "CPU times: user 17min 59s, sys: 2.51 s, total: 18min 2s\n",
      "Wall time: 18min 1s\n"
     ]
    },
    {
     "name": "stderr",
     "output_type": "stream",
     "text": [
      "\n"
     ]
    }
   ],
   "source": [
    "%%time \n",
    "\n",
    "ma_pos_10K = prepText_K(ma_status = \"Pos\")"
   ]
  },
  {
   "cell_type": "code",
   "execution_count": 558,
   "id": "5a1895f6-9db9-41c0-9993-64e332d994a4",
   "metadata": {},
   "outputs": [],
   "source": [
    "ma_pos_10K_df = pd.DataFrame.from_dict(ma_pos_10K, orient ='index')"
   ]
  },
  {
   "cell_type": "code",
   "execution_count": 559,
   "id": "51aba4d5-7e01-4333-81fe-6c6320cbd43c",
   "metadata": {},
   "outputs": [
    {
     "name": "stdout",
     "output_type": "stream",
     "text": [
      "(549, 1)\n"
     ]
    },
    {
     "data": {
      "text/html": [
       "<div>\n",
       "<style scoped>\n",
       "    .dataframe tbody tr th:only-of-type {\n",
       "        vertical-align: middle;\n",
       "    }\n",
       "\n",
       "    .dataframe tbody tr th {\n",
       "        vertical-align: top;\n",
       "    }\n",
       "\n",
       "    .dataframe thead th {\n",
       "        text-align: right;\n",
       "    }\n",
       "</style>\n",
       "<table border=\"1\" class=\"dataframe\">\n",
       "  <thead>\n",
       "    <tr style=\"text-align: right;\">\n",
       "      <th></th>\n",
       "      <th>0</th>\n",
       "    </tr>\n",
       "  </thead>\n",
       "  <tbody>\n",
       "    <tr>\n",
       "      <th>AACI</th>\n",
       "      <td>item 7 management’s discussion and analysis of...</td>\n",
       "    </tr>\n",
       "    <tr>\n",
       "      <th>AAL</th>\n",
       "      <td>item 7 management’s discussion and analysis of...</td>\n",
       "    </tr>\n",
       "    <tr>\n",
       "      <th>AAP</th>\n",
       "      <td>item 7 management’s discussion and analysis of...</td>\n",
       "    </tr>\n",
       "    <tr>\n",
       "      <th>ABC</th>\n",
       "      <td>item 7 managements discussion and analysis of ...</td>\n",
       "    </tr>\n",
       "    <tr>\n",
       "      <th>ACEV</th>\n",
       "      <td>item 7 management’s discussion and analysis of...</td>\n",
       "    </tr>\n",
       "  </tbody>\n",
       "</table>\n",
       "</div>"
      ],
      "text/plain": [
       "                                                      0\n",
       "AACI  item 7 management’s discussion and analysis of...\n",
       "AAL   item 7 management’s discussion and analysis of...\n",
       "AAP   item 7 management’s discussion and analysis of...\n",
       "ABC   item 7 managements discussion and analysis of ...\n",
       "ACEV  item 7 management’s discussion and analysis of..."
      ]
     },
     "execution_count": 559,
     "metadata": {},
     "output_type": "execute_result"
    }
   ],
   "source": [
    "print(ma_pos_10K_df.shape)\n",
    "ma_pos_10K_df.head()"
   ]
  },
  {
   "cell_type": "code",
   "execution_count": 560,
   "id": "f8b5bbcc-80fe-4317-b73b-870fb057acb6",
   "metadata": {},
   "outputs": [],
   "source": [
    "pickle.dump(ma_pos_10K_df.reset_index(), open(\"ma_pos_10K_new.pkl\", \"wb\"))"
   ]
  },
  {
   "cell_type": "markdown",
   "id": "5a9f041f-8a41-4a93-974d-0b275d932478",
   "metadata": {},
   "source": [
    "# extract Neg text for training"
   ]
  },
  {
   "cell_type": "code",
   "execution_count": null,
   "id": "79ee26f8-110a-47a5-82c4-81c1f89dbdce",
   "metadata": {},
   "outputs": [
    {
     "name": "stderr",
     "output_type": "stream",
     "text": [
      "  5%|▍         | 27/551 [01:00<14:58,  1.71s/it]"
     ]
    }
   ],
   "source": [
    "%%time \n",
    "\n",
    "ma_neg_10K = prepText_K(ma_status = \"Neg\")"
   ]
  },
  {
   "cell_type": "code",
   "execution_count": null,
   "id": "e76a6a6f-1076-427b-8907-dfbf3ed5a081",
   "metadata": {},
   "outputs": [],
   "source": [
    "ma_neg_10K_df = pd.DataFrame.from_dict(ma_neg_10K, orient ='index')"
   ]
  },
  {
   "cell_type": "code",
   "execution_count": null,
   "id": "6d29f9a7-7b30-45d8-af3d-9d4b67d0c26f",
   "metadata": {},
   "outputs": [],
   "source": [
    "print(ma_neg_10K_df.shape)\n",
    "ma_neg_10K_df.head()"
   ]
  },
  {
   "cell_type": "code",
   "execution_count": null,
   "id": "3887cd6e-5a01-402c-992c-c1f863c60f41",
   "metadata": {},
   "outputs": [],
   "source": [
    "pickle.dump(ma_neg_10K_df.reset_index(), open(\"ma_neg_10K_new.pkl\", \"wb\"))"
   ]
  },
  {
   "cell_type": "markdown",
   "id": "c6a405f9-ece1-40e7-a346-3fd4cec53d57",
   "metadata": {},
   "source": [
    "# extract Neg text for testing"
   ]
  },
  {
   "cell_type": "code",
   "execution_count": null,
   "id": "459238d0-41be-4073-a3b4-468637fbef3a",
   "metadata": {},
   "outputs": [],
   "source": [
    "%%time \n",
    "\n",
    "tst_neg_10K = prepText_K(ma_status = \"Tst/Neg\")"
   ]
  },
  {
   "cell_type": "code",
   "execution_count": null,
   "id": "c79b6b8b-fe25-4950-8586-621f9716f53c",
   "metadata": {},
   "outputs": [],
   "source": [
    "tst_neg_10K_df = pd.DataFrame.from_dict(tst_neg_10K, orient ='index')"
   ]
  },
  {
   "cell_type": "code",
   "execution_count": null,
   "id": "0533aa5a-9dcf-4434-a1b7-ca12b98437a4",
   "metadata": {},
   "outputs": [],
   "source": [
    "print(tst_neg_10K_df.shape)\n",
    "tst_neg_10K_df.head()"
   ]
  },
  {
   "cell_type": "code",
   "execution_count": null,
   "id": "f37ed64c-2158-4c8e-89e1-e14dd1ae7c81",
   "metadata": {},
   "outputs": [],
   "source": [
    "pickle.dump(tst_neg_10K_df.reset_index(), open(\"tst_neg_10K_new.pkl\", \"wb\"))"
   ]
  },
  {
   "cell_type": "markdown",
   "id": "bc1c4906-382f-4123-bde8-661b1f12fbc6",
   "metadata": {},
   "source": [
    "# extract Neg text"
   ]
  },
  {
   "cell_type": "code",
   "execution_count": null,
   "id": "665bda4e-ec9a-434a-bff7-ab7f00083252",
   "metadata": {},
   "outputs": [],
   "source": [
    "%%time \n",
    "\n",
    "tst_pos_10K = prepText_K(ma_status = \"Tst/Pos\")"
   ]
  },
  {
   "cell_type": "code",
   "execution_count": null,
   "id": "f90e4986-a870-49a0-a78e-8f57fd55b4b6",
   "metadata": {},
   "outputs": [],
   "source": [
    "tst_pos_10K_df = pd.DataFrame.from_dict(tst_pos_10K, orient ='index')"
   ]
  },
  {
   "cell_type": "code",
   "execution_count": null,
   "id": "1d928935-d0eb-4796-841d-adc4dc82ac40",
   "metadata": {},
   "outputs": [],
   "source": [
    "print(tst_pos_10K_df.shape)\n",
    "tst_pos_10K_df.head()"
   ]
  },
  {
   "cell_type": "code",
   "execution_count": null,
   "id": "c1aabd95-e4ed-45bb-bde2-7908d0472eac",
   "metadata": {},
   "outputs": [],
   "source": [
    "pickle.dump(tst_pos_10K_df.reset_index(), open(\"tst_pos_10K_new.pkl\", \"wb\"))"
   ]
  },
  {
   "cell_type": "code",
   "execution_count": null,
   "id": "2bf5dc29-823c-4f38-8b3b-f5864086b3df",
   "metadata": {},
   "outputs": [],
   "source": []
  },
  {
   "cell_type": "code",
   "execution_count": null,
   "id": "67bdfb66-405e-4f22-9748-e8242db39f9f",
   "metadata": {},
   "outputs": [],
   "source": []
  },
  {
   "cell_type": "code",
   "execution_count": null,
   "id": "995e81e5-23fb-4013-a80b-a127ca7451ba",
   "metadata": {},
   "outputs": [],
   "source": []
  },
  {
   "cell_type": "code",
   "execution_count": null,
   "id": "464819b6-288e-432b-94fa-7d3ed0b64c17",
   "metadata": {},
   "outputs": [],
   "source": []
  }
 ],
 "metadata": {
  "kernelspec": {
   "display_name": "Python 3 (ipykernel)",
   "language": "python",
   "name": "python3"
  },
  "language_info": {
   "codemirror_mode": {
    "name": "ipython",
    "version": 3
   },
   "file_extension": ".py",
   "mimetype": "text/x-python",
   "name": "python",
   "nbconvert_exporter": "python",
   "pygments_lexer": "ipython3",
   "version": "3.9.13"
  }
 },
 "nbformat": 4,
 "nbformat_minor": 5
}
