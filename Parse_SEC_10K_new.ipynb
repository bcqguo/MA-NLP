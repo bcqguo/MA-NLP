{
 "cells": [
  {
   "cell_type": "markdown",
   "id": "60a436e6-d81d-47a5-9ba9-80326a379060",
   "metadata": {},
   "source": [
    "# Parse SEC filings"
   ]
  },
  {
   "cell_type": "code",
   "execution_count": 7,
   "id": "cfd724f9-cf68-46c9-af2b-b04b5dd28ecd",
   "metadata": {},
   "outputs": [],
   "source": [
    "from __future__ import division, unicode_literals \n",
    "\n",
    "import pandas as pd\n",
    "import numpy as np\n",
    "import time, sys, os, re\n",
    "import datetime, pickle, bz2\n",
    "import getpass\n",
    "from tqdm import tqdm\n",
    "import datetime\n",
    "from datetime import datetime\n",
    "import string\n",
    "# Import BeautifulSoup\n",
    "from bs4 import BeautifulSoup\n",
    "import re"
   ]
  },
  {
   "cell_type": "code",
   "execution_count": 2,
   "id": "8939f2e1-49c9-4359-9f55-9acf7ec3d426",
   "metadata": {},
   "outputs": [],
   "source": [
    "def cleanStr(test_df_1):\n",
    "    test_df_1 = test_df_1.translate(str.maketrans('', '', string.punctuation))\n",
    "    test_df_1 = re.sub('\\xa0', ' ', test_df_1)\n",
    "    test_df_1 = re.sub('\\n',' ', test_df_1)\n",
    "    test_df_1 = re.sub(':','', test_df_1)\n",
    "    test_df_1 = re.sub(\"—\", '', test_df_1)\n",
    "    test_df_1 = re.sub('\\t', ' ', test_df_1)\n",
    "    test_df_1 = re.sub(' ·', ' ', test_df_1)\n",
    "    test_df_1 = re.sub('     ', ' ', test_df_1)\n",
    "    test_df_1 = re.sub('    ', ' ', test_df_1)\n",
    "    test_df_1 = re.sub('   ', ' ', test_df_1)\n",
    "    test_df_1 = re.sub('  ', ' ', test_df_1)\n",
    "        \n",
    "    return test_df_1"
   ]
  },
  {
   "cell_type": "code",
   "execution_count": 82,
   "id": "98e62cfc-30d9-4117-8dfe-2cfb51463d1b",
   "metadata": {},
   "outputs": [],
   "source": [
    "def cleanDf(test_df):\n",
    "    test_df.replace('&#160;',' ',regex=True,inplace=True)\n",
    "    test_df.replace('&nbsp;',' ',regex=True,inplace=True)\n",
    "    test_df.replace('\\.','',regex=True,inplace=True)\n",
    "    test_df.replace('>','',regex=True,inplace=True)\n",
    "    test_df.replace('   ',' ',regex=True,inplace=True)\n",
    "    test_df.replace('  ',' ',regex=True,inplace=True)\n",
    "    test_df.replace(' ','',regex=True,inplace=True)\n",
    "    \n",
    "    return test_df"
   ]
  },
  {
   "cell_type": "markdown",
   "id": "e3be5679-0ddc-4ca0-bd43-2c34f9c68004",
   "metadata": {},
   "source": [
    "# unit test"
   ]
  },
  {
   "cell_type": "code",
   "execution_count": 3,
   "id": "50cfc23d-c177-4c9a-ba91-ae6a28e2c0c6",
   "metadata": {},
   "outputs": [],
   "source": [
    "ma_list = sorted(os.listdir(\"/home/dada/CyberSpace/GQ/AI_prj/10-K/{}\".format('Pos')))\n",
    "ma_list = [i for i in ma_list if \".html\" in i]"
   ]
  },
  {
   "cell_type": "code",
   "execution_count": 192,
   "id": "268002b6-6491-4139-93bc-14be4c81f59f",
   "metadata": {},
   "outputs": [
    {
     "data": {
      "text/plain": [
       "'HIG.html'"
      ]
     },
     "execution_count": 192,
     "metadata": {},
     "output_type": "execute_result"
    }
   ],
   "source": [
    "ma_list[246]"
   ]
  },
  {
   "cell_type": "code",
   "execution_count": 193,
   "id": "c114677f-2971-4562-9a2a-a8467857a171",
   "metadata": {},
   "outputs": [],
   "source": [
    "with open(f\"/home/dada/CyberSpace/GQ/AI_prj/10-K/Pos/{ma_list[246]}\") as fp:\n",
    "    document = BeautifulSoup(fp.read()).get_text().lower()"
   ]
  },
  {
   "cell_type": "code",
   "execution_count": 194,
   "id": "1b17944c-0adb-402d-a9ee-05feff909d9e",
   "metadata": {},
   "outputs": [],
   "source": [
    "parse_i_j = BeautifulSoup(document, 'lxml')\n",
    "parse_i_j = parse_i_j.get_text(\"\\n\\n\")\n",
    "parse_i_j = cleanStr(parse_i_j)"
   ]
  },
  {
   "cell_type": "code",
   "execution_count": 195,
   "id": "bdbf6d7a-647f-49dd-8495-d3c8f17cfb5f",
   "metadata": {},
   "outputs": [
    {
     "data": {
      "text/plain": [
       "'inline xbrl viewer this application relies heavily on javascript you will need to allow javascript t'"
      ]
     },
     "execution_count": 195,
     "metadata": {},
     "output_type": "execute_result"
    }
   ],
   "source": [
    "parse_i_j[:100]"
   ]
  },
  {
   "cell_type": "code",
   "execution_count": 4,
   "id": "d1958709-2bcf-4ea0-bd10-289f4bf6f1f5",
   "metadata": {},
   "outputs": [],
   "source": [
    "# # Create the dataframe\n",
    "# test_df = pd.DataFrame([(x.start(), x.end()) for x in matches])"
   ]
  },
  {
   "cell_type": "code",
   "execution_count": null,
   "id": "95a73f8e-b7d7-459d-8150-26e80fdae421",
   "metadata": {},
   "outputs": [],
   "source": [
    "regex = re.compile(r'(>item(\\s|.| )(7a|7|8)\\.{0,1})|(item\\s(7a|7|8))', re.IGNORECASE)"
   ]
  },
  {
   "cell_type": "code",
   "execution_count": 223,
   "id": "f4ee719e-9b68-415a-9f4f-3bbe9fbf8898",
   "metadata": {},
   "outputs": [
    {
     "data": {
      "text/html": [
       "<div>\n",
       "<style scoped>\n",
       "    .dataframe tbody tr th:only-of-type {\n",
       "        vertical-align: middle;\n",
       "    }\n",
       "\n",
       "    .dataframe tbody tr th {\n",
       "        vertical-align: top;\n",
       "    }\n",
       "\n",
       "    .dataframe thead th {\n",
       "        text-align: right;\n",
       "    }\n",
       "</style>\n",
       "<table border=\"1\" class=\"dataframe\">\n",
       "  <thead>\n",
       "    <tr style=\"text-align: right;\">\n",
       "      <th></th>\n",
       "      <th>item</th>\n",
       "      <th>start</th>\n",
       "      <th>end</th>\n",
       "    </tr>\n",
       "  </thead>\n",
       "  <tbody>\n",
       "    <tr>\n",
       "      <th>0</th>\n",
       "      <td>item 7</td>\n",
       "      <td>256009</td>\n",
       "      <td>256015</td>\n",
       "    </tr>\n",
       "    <tr>\n",
       "      <th>1</th>\n",
       "      <td>item 7</td>\n",
       "      <td>256238</td>\n",
       "      <td>256244</td>\n",
       "    </tr>\n",
       "    <tr>\n",
       "      <th>2</th>\n",
       "      <td>item 7</td>\n",
       "      <td>258298</td>\n",
       "      <td>258304</td>\n",
       "    </tr>\n",
       "    <tr>\n",
       "      <th>3</th>\n",
       "      <td>item 7</td>\n",
       "      <td>267843</td>\n",
       "      <td>267849</td>\n",
       "    </tr>\n",
       "    <tr>\n",
       "      <th>4</th>\n",
       "      <td>item 7</td>\n",
       "      <td>275168</td>\n",
       "      <td>275174</td>\n",
       "    </tr>\n",
       "  </tbody>\n",
       "</table>\n",
       "</div>"
      ],
      "text/plain": [
       "     item   start     end\n",
       "0  item 7  256009  256015\n",
       "1  item 7  256238  256244\n",
       "2  item 7  258298  258304\n",
       "3  item 7  267843  267849\n",
       "4  item 7  275168  275174"
      ]
     },
     "execution_count": 223,
     "metadata": {},
     "output_type": "execute_result"
    }
   ],
   "source": [
    "matches = regex.finditer(parse_i_j)\n",
    "test_df = pd.DataFrame([(x.group(), x.start(), x.end()) for x in matches])\n",
    "\n",
    "test_df.columns = ['item', 'start', 'end']\n",
    "test_df['item'] = test_df.item.str.lower()\n",
    "\n",
    "# Display the dataframe\n",
    "test_df.head()"
   ]
  },
  {
   "cell_type": "code",
   "execution_count": null,
   "id": "d844f999-7f98-4f6f-8f87-6300417b252e",
   "metadata": {},
   "outputs": [],
   "source": [
    "# Get rid of unnesesary charcters from the dataframe\n",
    "test_df.replace('&#160;',' ',regex=True,inplace=True)\n",
    "test_df.replace('&nbsp;',' ',regex=True,inplace=True)\n",
    "test_df.replace('\\.','',regex=True,inplace=True)\n",
    "test_df.replace('>','',regex=True,inplace=True)\n",
    "test_df.replace('   ',' ',regex=True,inplace=True)\n",
    "test_df.replace('  ',' ',regex=True,inplace=True)\n",
    "test_df.replace(' ','',regex=True,inplace=True)\n",
    "test_df.replace('\\.','',regex=True,inplace=True)\n",
    "test_df.replace('>','',regex=True,inplace=True)\n",
    "\n",
    "# display the dataframe\n",
    "test_df.iloc[0, -1]"
   ]
  },
  {
   "cell_type": "code",
   "execution_count": 225,
   "id": "f44ed373-96d5-4f96-b1c8-332d82b544c4",
   "metadata": {},
   "outputs": [
    {
     "data": {
      "text/html": [
       "<div>\n",
       "<style scoped>\n",
       "    .dataframe tbody tr th:only-of-type {\n",
       "        vertical-align: middle;\n",
       "    }\n",
       "\n",
       "    .dataframe tbody tr th {\n",
       "        vertical-align: top;\n",
       "    }\n",
       "\n",
       "    .dataframe thead th {\n",
       "        text-align: right;\n",
       "    }\n",
       "</style>\n",
       "<table border=\"1\" class=\"dataframe\">\n",
       "  <thead>\n",
       "    <tr style=\"text-align: right;\">\n",
       "      <th></th>\n",
       "      <th>item</th>\n",
       "      <th>start</th>\n",
       "      <th>end</th>\n",
       "    </tr>\n",
       "  </thead>\n",
       "  <tbody>\n",
       "    <tr>\n",
       "      <th>0</th>\n",
       "      <td>item7</td>\n",
       "      <td>773904</td>\n",
       "      <td>773910</td>\n",
       "    </tr>\n",
       "  </tbody>\n",
       "</table>\n",
       "</div>"
      ],
      "text/plain": [
       "    item   start     end\n",
       "0  item7  773904  773910"
      ]
     },
     "execution_count": 225,
     "metadata": {},
     "output_type": "execute_result"
    }
   ],
   "source": [
    "# Drop duplicates\n",
    "pos_dat = test_df.sort_values('start', ascending=True).drop_duplicates(subset=['item'], keep='last')\n",
    "\n",
    "# Display the dataframe\n",
    "pos_dat.reset_index(drop = True, inplace = True)\n",
    "pos_dat"
   ]
  },
  {
   "cell_type": "code",
   "execution_count": 229,
   "id": "d7c48f4f-ffb5-4c1f-8405-9395d99402ce",
   "metadata": {},
   "outputs": [
    {
     "data": {
      "text/plain": [
       "True"
      ]
     },
     "execution_count": 229,
     "metadata": {},
     "output_type": "execute_result"
    }
   ],
   "source": [
    "\"item7\" in test_df.item.to_list()"
   ]
  },
  {
   "cell_type": "code",
   "execution_count": 163,
   "id": "2737f22d-e192-4d31-8680-19e0ce5aad3b",
   "metadata": {},
   "outputs": [],
   "source": [
    "tt = pd.DataFrame([\"item7\", 382513, 393456]).T\n",
    "tt.columns = pos_dat.columns"
   ]
  },
  {
   "cell_type": "code",
   "execution_count": 164,
   "id": "bc4e6707-ae05-4164-a9be-af5a8bbf0153",
   "metadata": {},
   "outputs": [],
   "source": [
    "pos_dat = pd.concat([pos_dat, tt])"
   ]
  },
  {
   "cell_type": "code",
   "execution_count": 165,
   "id": "34132c8b-7d95-4448-a745-b0f3667d600b",
   "metadata": {},
   "outputs": [],
   "source": [
    "pos_dat.reset_index(drop = True, inplace = True)"
   ]
  },
  {
   "cell_type": "code",
   "execution_count": 166,
   "id": "de2947c6-9ef9-4a52-98e6-3fb4ef909da0",
   "metadata": {},
   "outputs": [
    {
     "data": {
      "text/html": [
       "<div>\n",
       "<style scoped>\n",
       "    .dataframe tbody tr th:only-of-type {\n",
       "        vertical-align: middle;\n",
       "    }\n",
       "\n",
       "    .dataframe tbody tr th {\n",
       "        vertical-align: top;\n",
       "    }\n",
       "\n",
       "    .dataframe thead th {\n",
       "        text-align: right;\n",
       "    }\n",
       "</style>\n",
       "<table border=\"1\" class=\"dataframe\">\n",
       "  <thead>\n",
       "    <tr style=\"text-align: right;\">\n",
       "      <th></th>\n",
       "      <th>item</th>\n",
       "      <th>start</th>\n",
       "      <th>end</th>\n",
       "    </tr>\n",
       "  </thead>\n",
       "  <tbody>\n",
       "    <tr>\n",
       "      <th>0</th>\n",
       "      <td>item7</td>\n",
       "      <td>212496</td>\n",
       "      <td>212502</td>\n",
       "    </tr>\n",
       "    <tr>\n",
       "      <th>1</th>\n",
       "      <td>item7a</td>\n",
       "      <td>235286</td>\n",
       "      <td>235293</td>\n",
       "    </tr>\n",
       "    <tr>\n",
       "      <th>2</th>\n",
       "      <td>item8</td>\n",
       "      <td>361443</td>\n",
       "      <td>361449</td>\n",
       "    </tr>\n",
       "    <tr>\n",
       "      <th>3</th>\n",
       "      <td>item7</td>\n",
       "      <td>382513</td>\n",
       "      <td>393456</td>\n",
       "    </tr>\n",
       "  </tbody>\n",
       "</table>\n",
       "</div>"
      ],
      "text/plain": [
       "     item   start     end\n",
       "0   item7  212496  212502\n",
       "1  item7a  235286  235293\n",
       "2   item8  361443  361449\n",
       "3   item7  382513  393456"
      ]
     },
     "execution_count": 166,
     "metadata": {},
     "output_type": "execute_result"
    }
   ],
   "source": [
    "pos_dat"
   ]
  },
  {
   "cell_type": "code",
   "execution_count": 167,
   "id": "7d556e2f-dac0-4790-b5e9-e1e075b88078",
   "metadata": {},
   "outputs": [
    {
     "data": {
      "text/html": [
       "<div>\n",
       "<style scoped>\n",
       "    .dataframe tbody tr th:only-of-type {\n",
       "        vertical-align: middle;\n",
       "    }\n",
       "\n",
       "    .dataframe tbody tr th {\n",
       "        vertical-align: top;\n",
       "    }\n",
       "\n",
       "    .dataframe thead th {\n",
       "        text-align: right;\n",
       "    }\n",
       "</style>\n",
       "<table border=\"1\" class=\"dataframe\">\n",
       "  <thead>\n",
       "    <tr style=\"text-align: right;\">\n",
       "      <th></th>\n",
       "      <th>item</th>\n",
       "      <th>start</th>\n",
       "      <th>end</th>\n",
       "    </tr>\n",
       "  </thead>\n",
       "  <tbody>\n",
       "    <tr>\n",
       "      <th>1</th>\n",
       "      <td>item7a</td>\n",
       "      <td>235286</td>\n",
       "      <td>235293</td>\n",
       "    </tr>\n",
       "    <tr>\n",
       "      <th>2</th>\n",
       "      <td>item8</td>\n",
       "      <td>361443</td>\n",
       "      <td>361449</td>\n",
       "    </tr>\n",
       "    <tr>\n",
       "      <th>3</th>\n",
       "      <td>item7</td>\n",
       "      <td>382513</td>\n",
       "      <td>393456</td>\n",
       "    </tr>\n",
       "  </tbody>\n",
       "</table>\n",
       "</div>"
      ],
      "text/plain": [
       "     item   start     end\n",
       "1  item7a  235286  235293\n",
       "2   item8  361443  361449\n",
       "3   item7  382513  393456"
      ]
     },
     "execution_count": 167,
     "metadata": {},
     "output_type": "execute_result"
    }
   ],
   "source": [
    "pos_dat.sort_values('start', ascending=True).drop_duplicates(subset=['item'], keep='last')"
   ]
  },
  {
   "cell_type": "code",
   "execution_count": 159,
   "id": "7ce10776-5199-4326-8649-8c8744d61476",
   "metadata": {},
   "outputs": [
    {
     "data": {
      "text/plain": [
       "3"
      ]
     },
     "execution_count": 159,
     "metadata": {},
     "output_type": "execute_result"
    }
   ],
   "source": [
    "max(list(pos_dat[pos_dat.item == 'item8'].index+1))"
   ]
  },
  {
   "cell_type": "code",
   "execution_count": 161,
   "id": "bd0c96a7-dbf3-4375-8207-28d4d1b37b65",
   "metadata": {},
   "outputs": [
    {
     "data": {
      "text/html": [
       "<div>\n",
       "<style scoped>\n",
       "    .dataframe tbody tr th:only-of-type {\n",
       "        vertical-align: middle;\n",
       "    }\n",
       "\n",
       "    .dataframe tbody tr th {\n",
       "        vertical-align: top;\n",
       "    }\n",
       "\n",
       "    .dataframe thead th {\n",
       "        text-align: right;\n",
       "    }\n",
       "</style>\n",
       "<table border=\"1\" class=\"dataframe\">\n",
       "  <thead>\n",
       "    <tr style=\"text-align: right;\">\n",
       "      <th></th>\n",
       "      <th>item</th>\n",
       "      <th>start</th>\n",
       "      <th>end</th>\n",
       "    </tr>\n",
       "  </thead>\n",
       "  <tbody>\n",
       "    <tr>\n",
       "      <th>0</th>\n",
       "      <td>item7</td>\n",
       "      <td>212496</td>\n",
       "      <td>212502</td>\n",
       "    </tr>\n",
       "    <tr>\n",
       "      <th>1</th>\n",
       "      <td>item7a</td>\n",
       "      <td>235286</td>\n",
       "      <td>235293</td>\n",
       "    </tr>\n",
       "    <tr>\n",
       "      <th>2</th>\n",
       "      <td>item8</td>\n",
       "      <td>361443</td>\n",
       "      <td>361449</td>\n",
       "    </tr>\n",
       "  </tbody>\n",
       "</table>\n",
       "</div>"
      ],
      "text/plain": [
       "     item   start     end\n",
       "0   item7  212496  212502\n",
       "1  item7a  235286  235293\n",
       "2   item8  361443  361449"
      ]
     },
     "execution_count": 161,
     "metadata": {},
     "output_type": "execute_result"
    }
   ],
   "source": [
    "pos_dat = pos_dat[:max(list(pos_dat[pos_dat.item == 'item8'].index+1))]\n",
    "pos_dat"
   ]
  },
  {
   "cell_type": "code",
   "execution_count": 77,
   "id": "46dbe601-b64c-49f7-abad-f70e11f34b29",
   "metadata": {},
   "outputs": [],
   "source": [
    "# Get Item 7\n",
    "item_7 = parse_i_j[int(pos_dat.start[0]):int(pos_dat.start[len(pos_dat)-1])]"
   ]
  },
  {
   "cell_type": "code",
   "execution_count": null,
   "id": "972e7a3f-87e3-4ed8-ac85-f02cf6aaaa05",
   "metadata": {},
   "outputs": [],
   "source": [
    "item_7 = parse_i_j[int(pos_dat.start[pos_dat.item == 'item7']):int(pos_dat.start[pos_dat.item == 'item7a'])]"
   ]
  },
  {
   "cell_type": "code",
   "execution_count": 252,
   "id": "b5e08981-2335-4195-8cd8-70338dda0344",
   "metadata": {},
   "outputs": [],
   "source": [
    "with open(f\"/home/dada/CyberSpace/GQ/AI_prj/10-K/Pos/ECPG.html\") as fp:\n",
    "    document = BeautifulSoup(fp.read()).get_text().lower()"
   ]
  },
  {
   "cell_type": "code",
   "execution_count": 253,
   "id": "9c3f2fca-8819-4e18-8ac6-3be7cb5bd45f",
   "metadata": {},
   "outputs": [],
   "source": [
    "parse_i_j = BeautifulSoup(document, 'lxml')\n",
    "parse_i_j = parse_i_j.get_text(\"\\n\\n\")\n",
    "parse_i_j = cleanStr(parse_i_j)"
   ]
  },
  {
   "cell_type": "code",
   "execution_count": 211,
   "id": "de66121d-383a-428f-bab2-46fdb794fc41",
   "metadata": {},
   "outputs": [],
   "source": [
    "matches = re.compile(r'(>item\\s(7[\\.\\s]|7a[\\.\\s]|8[\\.\\s])|'\n",
    "                      'management.s\\sdiscussion\\sand\\sanalysis\\sof\\s(consolidated\\sfinancial|financial)\\scondition|'\n",
    "                      '(consolidated\\sfinancial|financial)\\sstatements\\sand\\ssupplementary\\sdata)', re.IGNORECASE)"
   ]
  },
  {
   "cell_type": "code",
   "execution_count": 212,
   "id": "2f0f1d06-37d3-4449-8d51-771a00cb0a5c",
   "metadata": {},
   "outputs": [],
   "source": [
    "matches_array = pd.DataFrame([(match.group(), match.start(), match.end()) for match in matches.finditer(parse_i_j)])"
   ]
  },
  {
   "cell_type": "code",
   "execution_count": 216,
   "id": "043fa9c0-05ad-4e04-9d32-c3bf9901a82b",
   "metadata": {},
   "outputs": [
    {
     "data": {
      "text/html": [
       "<div>\n",
       "<style scoped>\n",
       "    .dataframe tbody tr th:only-of-type {\n",
       "        vertical-align: middle;\n",
       "    }\n",
       "\n",
       "    .dataframe tbody tr th {\n",
       "        vertical-align: top;\n",
       "    }\n",
       "\n",
       "    .dataframe thead th {\n",
       "        text-align: right;\n",
       "    }\n",
       "</style>\n",
       "<table border=\"1\" class=\"dataframe\">\n",
       "  <thead>\n",
       "    <tr style=\"text-align: right;\">\n",
       "      <th></th>\n",
       "      <th>item</th>\n",
       "      <th>start</th>\n",
       "      <th>end</th>\n",
       "    </tr>\n",
       "  </thead>\n",
       "  <tbody>\n",
       "    <tr>\n",
       "      <th>0</th>\n",
       "      <td>financialstatementsandsupplementarydata</td>\n",
       "      <td>255281</td>\n",
       "      <td>255324</td>\n",
       "    </tr>\n",
       "    <tr>\n",
       "      <th>1</th>\n",
       "      <td>management’sdiscussionandanalysisoffinancialco...</td>\n",
       "      <td>267850</td>\n",
       "      <td>267909</td>\n",
       "    </tr>\n",
       "    <tr>\n",
       "      <th>2</th>\n",
       "      <td>management’sdiscussionandanalysisoffinancialco...</td>\n",
       "      <td>427034</td>\n",
       "      <td>427093</td>\n",
       "    </tr>\n",
       "  </tbody>\n",
       "</table>\n",
       "</div>"
      ],
      "text/plain": [
       "                                                item   start     end\n",
       "0            financialstatementsandsupplementarydata  255281  255324\n",
       "1  management’sdiscussionandanalysisoffinancialco...  267850  267909\n",
       "2  management’sdiscussionandanalysisoffinancialco...  427034  427093"
      ]
     },
     "execution_count": 216,
     "metadata": {},
     "output_type": "execute_result"
    }
   ],
   "source": [
    "matches_array.columns = ['item', 'start', 'end']\n",
    "matches_array"
   ]
  },
  {
   "cell_type": "code",
   "execution_count": null,
   "id": "dc389c84-fa21-4ed7-a6f6-4c4535484e98",
   "metadata": {},
   "outputs": [],
   "source": []
  },
  {
   "cell_type": "code",
   "execution_count": 231,
   "id": "f45730d5-efb4-4752-b03e-368d342524a3",
   "metadata": {},
   "outputs": [],
   "source": [
    "def prepText_K(ma_status = \"Pos\"):\n",
    "    \n",
    "    ma_dict = {} \n",
    "    \n",
    "    ma_list = sorted(os.listdir(\"/home/dada/CyberSpace/GQ/AI_prj/10-K/{}\".format(ma_status)))\n",
    "    ma_list = [i for i in ma_list if \".html\" in i]\n",
    "    \n",
    "    for i in tqdm(ma_list):\n",
    "        \n",
    "        ticker_i = i.replace(\".html\", \"\")    \n",
    "        with open(f\"/home/dada/CyberSpace/GQ/AI_prj/10-K/{ma_status}/{i}\") as fp:\n",
    "            document = BeautifulSoup(fp.read()).get_text().lower()\n",
    "            \n",
    "#            if \"item 2\" in document:\n",
    "#             regex_i_j = regex.finditer(document)\n",
    "#             match_df = pd.DataFrame([(x.start(), x.end()) for x in regex_i_j])\n",
    "#             parse_i_j = BeautifulSoup(document[match_df.iloc[0,1]:match_df.iloc[len(match_df)-1,0]], 'lxml')\n",
    "\n",
    "            parse_i_j = BeautifulSoup(document, 'lxml')\n",
    "            parse_i_j = parse_i_j.get_text(\"\\n\\n\")\n",
    "            parse_i_j = cleanStr(parse_i_j)\n",
    "\n",
    "#             matches_array = pd.DataFrame([(match.group(), match.start()) for match in matches.finditer(parse_i_j)])\n",
    "#             matches_array.columns = ['SearchTerm', 'Start']\n",
    "                        \n",
    "            regex = re.compile(r'(>item(\\s| | )(7A|7|8)\\.{0,1})|(item\\s(7A|7|8))', re.IGNORECASE)\n",
    "            matches = regex.finditer(parse_i_j)\n",
    "\n",
    "            test_df = pd.DataFrame([(x.group(), x.start(), x.end()) for x in matches])\n",
    "            \n",
    "            if len(test_df) == 0:\n",
    "                print(f\"{ticker_i} is not processed\")\n",
    "                pass\n",
    "            \n",
    "            else:\n",
    "                test_df.columns = ['item', 'start', 'end']            \n",
    "                test_df = cleanDf(test_df)\n",
    "                \n",
    "                if \"item8\" in test_df.item.to_list():\n",
    "                    test_df = test_df[:max(list(test_df[test_df.item == 'item8'].index+1))]\n",
    "            \n",
    "                    pos_dat = test_df.sort_values('start', ascending=True).drop_duplicates(subset=['item'], keep='last')\n",
    "                    pos_dat.reset_index(drop = True, inplace = True)\n",
    "                    ma_dict[ticker_i] = parse_i_j[int(pos_dat.start[0]):int(pos_dat.start[len(pos_dat)-1])]\n",
    "                else:\n",
    "                    print(f\"{ticker_i} is not processed\")\n",
    "                    pass\n",
    "            \n",
    "    return ma_dict"
   ]
  },
  {
   "cell_type": "markdown",
   "id": "5eade2ff-dfa9-4b45-aacd-981ef04c549d",
   "metadata": {},
   "source": [
    "# extract Neg text for training"
   ]
  },
  {
   "cell_type": "code",
   "execution_count": null,
   "id": "8cd93a7c-a239-4246-b476-7b871b1763d9",
   "metadata": {},
   "outputs": [
    {
     "name": "stderr",
     "output_type": "stream",
     "text": [
      " 17%|█▋        | 95/568 [03:18<36:42,  4.66s/it]"
     ]
    },
    {
     "name": "stdout",
     "output_type": "stream",
     "text": [
      "C is not processed\n"
     ]
    },
    {
     "name": "stderr",
     "output_type": "stream",
     "text": [
      " 40%|███▉      | 226/568 [07:50<11:43,  2.06s/it]"
     ]
    }
   ],
   "source": [
    "%%time \n",
    "\n",
    "ma_pos_10K = prepText_K(ma_status = \"Pos\")"
   ]
  },
  {
   "cell_type": "code",
   "execution_count": null,
   "id": "5a1895f6-9db9-41c0-9993-64e332d994a4",
   "metadata": {},
   "outputs": [],
   "source": [
    "ma_pos_10K_df = pd.DataFrame.from_dict(ma_pos_10K, orient ='index')"
   ]
  },
  {
   "cell_type": "code",
   "execution_count": null,
   "id": "51aba4d5-7e01-4333-81fe-6c6320cbd43c",
   "metadata": {},
   "outputs": [],
   "source": [
    "print(ma_pos_10K_df.shape)\n",
    "ma_pos_10K_df.head()"
   ]
  },
  {
   "cell_type": "code",
   "execution_count": null,
   "id": "f8b5bbcc-80fe-4317-b73b-870fb057acb6",
   "metadata": {},
   "outputs": [],
   "source": [
    "pickle.dump(ma_pos_10K_df.reset_index(drop=True), open(\"ma_pos_10K_new.pkl\", \"wb\"))"
   ]
  },
  {
   "cell_type": "markdown",
   "id": "5a9f041f-8a41-4a93-974d-0b275d932478",
   "metadata": {},
   "source": [
    "# extract Neg text for training"
   ]
  },
  {
   "cell_type": "code",
   "execution_count": null,
   "id": "79ee26f8-110a-47a5-82c4-81c1f89dbdce",
   "metadata": {},
   "outputs": [],
   "source": [
    "%%time \n",
    "\n",
    "ma_neg_10K = prepText_K(ma_status = \"Neg\")"
   ]
  },
  {
   "cell_type": "code",
   "execution_count": null,
   "id": "e76a6a6f-1076-427b-8907-dfbf3ed5a081",
   "metadata": {},
   "outputs": [],
   "source": [
    "ma_neg_10K_df = pd.DataFrame.from_dict(ma_neg_10K, orient ='index')"
   ]
  },
  {
   "cell_type": "code",
   "execution_count": null,
   "id": "6d29f9a7-7b30-45d8-af3d-9d4b67d0c26f",
   "metadata": {},
   "outputs": [],
   "source": [
    "print(ma_neg_10K_df.shape)\n",
    "ma_neg_10K_df.head()"
   ]
  },
  {
   "cell_type": "code",
   "execution_count": null,
   "id": "3887cd6e-5a01-402c-992c-c1f863c60f41",
   "metadata": {},
   "outputs": [],
   "source": [
    "pickle.dump(ma_neg_10K_df.reset_index(drop=True), open(\"ma_neg_10K_new.pkl\", \"wb\"))"
   ]
  },
  {
   "cell_type": "markdown",
   "id": "c6a405f9-ece1-40e7-a346-3fd4cec53d57",
   "metadata": {},
   "source": [
    "# extract Neg text for testing"
   ]
  },
  {
   "cell_type": "code",
   "execution_count": null,
   "id": "459238d0-41be-4073-a3b4-468637fbef3a",
   "metadata": {},
   "outputs": [],
   "source": [
    "%%time \n",
    "\n",
    "tst_neg_10K = prepText_K(ma_status = \"Tst/Neg\")"
   ]
  },
  {
   "cell_type": "code",
   "execution_count": null,
   "id": "c79b6b8b-fe25-4950-8586-621f9716f53c",
   "metadata": {},
   "outputs": [],
   "source": [
    "tst_neg_10K_df = pd.DataFrame.from_dict(tst_neg_10K, orient ='index')"
   ]
  },
  {
   "cell_type": "code",
   "execution_count": null,
   "id": "0533aa5a-9dcf-4434-a1b7-ca12b98437a4",
   "metadata": {},
   "outputs": [],
   "source": [
    "print(tst_neg_10K_df.shape)\n",
    "tst_neg_10K_df.head()"
   ]
  },
  {
   "cell_type": "code",
   "execution_count": null,
   "id": "f37ed64c-2158-4c8e-89e1-e14dd1ae7c81",
   "metadata": {},
   "outputs": [],
   "source": [
    "pickle.dump(tst_neg_10K_df.reset_index(drop=True), open(\"tst_neg_10K_new.pkl\", \"wb\"))"
   ]
  },
  {
   "cell_type": "markdown",
   "id": "bc1c4906-382f-4123-bde8-661b1f12fbc6",
   "metadata": {},
   "source": [
    "# extract Neg text"
   ]
  },
  {
   "cell_type": "code",
   "execution_count": null,
   "id": "665bda4e-ec9a-434a-bff7-ab7f00083252",
   "metadata": {},
   "outputs": [],
   "source": [
    "%%time \n",
    "\n",
    "tst_pos_10K = prepText_K(ma_status = \"Tst/Pos\")"
   ]
  },
  {
   "cell_type": "code",
   "execution_count": null,
   "id": "f90e4986-a870-49a0-a78e-8f57fd55b4b6",
   "metadata": {},
   "outputs": [],
   "source": [
    "tst_pos_10K_df = pd.DataFrame.from_dict(tst_pos_10K, orient ='index')"
   ]
  },
  {
   "cell_type": "code",
   "execution_count": null,
   "id": "1d928935-d0eb-4796-841d-adc4dc82ac40",
   "metadata": {},
   "outputs": [],
   "source": [
    "print(tst_pos_10K_df.shape)\n",
    "tst_pos_10K_df.head()"
   ]
  },
  {
   "cell_type": "code",
   "execution_count": null,
   "id": "c1aabd95-e4ed-45bb-bde2-7908d0472eac",
   "metadata": {},
   "outputs": [],
   "source": [
    "pickle.dump(tst_pos_10K_df.reset_index(drop=True), open(\"tst_pos_10K_new.pkl\", \"wb\"))"
   ]
  },
  {
   "cell_type": "code",
   "execution_count": null,
   "id": "2bf5dc29-823c-4f38-8b3b-f5864086b3df",
   "metadata": {},
   "outputs": [],
   "source": []
  },
  {
   "cell_type": "code",
   "execution_count": null,
   "id": "67bdfb66-405e-4f22-9748-e8242db39f9f",
   "metadata": {},
   "outputs": [],
   "source": []
  },
  {
   "cell_type": "code",
   "execution_count": null,
   "id": "995e81e5-23fb-4013-a80b-a127ca7451ba",
   "metadata": {},
   "outputs": [],
   "source": []
  },
  {
   "cell_type": "code",
   "execution_count": null,
   "id": "464819b6-288e-432b-94fa-7d3ed0b64c17",
   "metadata": {},
   "outputs": [],
   "source": []
  }
 ],
 "metadata": {
  "kernelspec": {
   "display_name": "Python 3 (ipykernel)",
   "language": "python",
   "name": "python3"
  },
  "language_info": {
   "codemirror_mode": {
    "name": "ipython",
    "version": 3
   },
   "file_extension": ".py",
   "mimetype": "text/x-python",
   "name": "python",
   "nbconvert_exporter": "python",
   "pygments_lexer": "ipython3",
   "version": "3.9.13"
  }
 },
 "nbformat": 4,
 "nbformat_minor": 5
}
