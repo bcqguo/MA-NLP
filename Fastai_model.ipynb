{
 "cells": [
  {
   "cell_type": "code",
   "execution_count": 1,
   "id": "54efc9b2-152c-4e86-b299-9444bd496908",
   "metadata": {},
   "outputs": [],
   "source": [
    "#!pip install fastai"
   ]
  },
  {
   "cell_type": "code",
   "execution_count": 1,
   "id": "d5914b39-f533-4ef3-bff2-835b37a6706d",
   "metadata": {},
   "outputs": [
    {
     "name": "stdout",
     "output_type": "stream",
     "text": [
      "nvcc: NVIDIA (R) Cuda compiler driver\n",
      "Copyright (c) 2005-2022 NVIDIA Corporation\n",
      "Built on Wed_Sep_21_10:33:58_PDT_2022\n",
      "Cuda compilation tools, release 11.8, V11.8.89\n",
      "Build cuda_11.8.r11.8/compiler.31833905_0\n"
     ]
    }
   ],
   "source": [
    "# CUDAnano\n",
    "!nvcc --version"
   ]
  },
  {
   "cell_type": "code",
   "execution_count": 2,
   "id": "dfad7f8c-1a62-4281-886f-3954169cf7ac",
   "metadata": {},
   "outputs": [],
   "source": [
    "#import torch"
   ]
  },
  {
   "cell_type": "code",
   "execution_count": 3,
   "id": "a28c68f6-8192-4a35-9a28-c9364f387add",
   "metadata": {},
   "outputs": [],
   "source": [
    "#device = torch.device('cuda')"
   ]
  },
  {
   "cell_type": "code",
   "execution_count": 4,
   "id": "1c0d90b2-9b96-4f3c-b492-5957d36a14d0",
   "metadata": {},
   "outputs": [],
   "source": [
    "from __future__ import division, unicode_literals \n",
    "\n",
    "import pandas as pd\n",
    "import numpy as np\n",
    "import time, sys, os, re, gc\n",
    "import datetime, pickle, bz2\n",
    "import getpass\n",
    "from tqdm import tqdm\n",
    "import datetime\n",
    "from datetime import datetime\n",
    "import random\n",
    "from string import punctuation\n",
    "\n",
    "# Import BeautifulSoup\n",
    "from bs4 import BeautifulSoup\n",
    "import re"
   ]
  },
  {
   "cell_type": "code",
   "execution_count": 5,
   "id": "3d283d70-b0bb-4487-b0bf-7607880768c9",
   "metadata": {},
   "outputs": [
    {
     "data": {
      "text/plain": [
       "'2.7.10'"
      ]
     },
     "execution_count": 5,
     "metadata": {},
     "output_type": "execute_result"
    }
   ],
   "source": [
    "import fastai\n",
    "fastai.__version__"
   ]
  },
  {
   "cell_type": "code",
   "execution_count": 6,
   "id": "d47174d3-0d3f-467b-ae8d-4fa4d0c2ade4",
   "metadata": {},
   "outputs": [],
   "source": [
    "from fastai.text.all import *"
   ]
  },
  {
   "cell_type": "code",
   "execution_count": 7,
   "id": "e121140b-d30e-4a36-9d18-999ad46bf071",
   "metadata": {},
   "outputs": [],
   "source": [
    "ma_pos_10K = pickle.load(open(\"ma_pos_10K.pkl\", \"rb\"))\n",
    "ma_neg_10K = pickle.load(open(\"ma_neg_10K.pkl\", \"rb\"))"
   ]
  },
  {
   "cell_type": "code",
   "execution_count": 8,
   "id": "7e60e621-3b73-4563-9a62-7ae46f52657f",
   "metadata": {},
   "outputs": [],
   "source": [
    "ma_pos_10K['Label'] = \"Pos\"\n",
    "ma_neg_10K['Label'] = \"Neg\""
   ]
  },
  {
   "cell_type": "code",
   "execution_count": 9,
   "id": "73e20462-40bf-471e-9787-7312bcd611fc",
   "metadata": {},
   "outputs": [],
   "source": [
    "ma_trn_10_K  = pd.concat([ma_pos_10K, ma_neg_10K])"
   ]
  },
  {
   "cell_type": "code",
   "execution_count": 10,
   "id": "aa4b5f55-4f44-44c5-b380-9caddfdf3cc9",
   "metadata": {},
   "outputs": [],
   "source": [
    "ma_trn_10_K.reset_index(drop = True, inplace = True)"
   ]
  },
  {
   "cell_type": "code",
   "execution_count": 12,
   "id": "db9403b2-04f0-4e44-bf95-b877bf09b639",
   "metadata": {},
   "outputs": [
    {
     "name": "stdout",
     "output_type": "stream",
     "text": [
      "(1119, 3)\n"
     ]
    },
    {
     "data": {
      "text/html": [
       "<div>\n",
       "<style scoped>\n",
       "    .dataframe tbody tr th:only-of-type {\n",
       "        vertical-align: middle;\n",
       "    }\n",
       "\n",
       "    .dataframe tbody tr th {\n",
       "        vertical-align: top;\n",
       "    }\n",
       "\n",
       "    .dataframe thead th {\n",
       "        text-align: right;\n",
       "    }\n",
       "</style>\n",
       "<table border=\"1\" class=\"dataframe\">\n",
       "  <thead>\n",
       "    <tr style=\"text-align: right;\">\n",
       "      <th></th>\n",
       "      <th>Ticker</th>\n",
       "      <th>Text</th>\n",
       "      <th>Label</th>\n",
       "    </tr>\n",
       "  </thead>\n",
       "  <tbody>\n",
       "    <tr>\n",
       "      <th>0</th>\n",
       "      <td>AACI</td>\n",
       "      <td>item 7. management’s discussion and analysis of financial condition and results of operations the following discussion and analysis of the company’s financial condition and results of operations should be read in conjunction with the financial statements and the notes thereto contained elsewhere in this report. references to the “company,” “us” or “we” refer to armada acquisition corp. i. cautionary note regarding forward-looking statements this annual report on form 10-k includes forward-looking statements within the meaning of section 27a of the securities act of 1933, as amended, and se...</td>\n",
       "      <td>Pos</td>\n",
       "    </tr>\n",
       "    <tr>\n",
       "      <th>1</th>\n",
       "      <td>AAL</td>\n",
       "      <td>item 7. on august 26, 2010, the federal aviation administration (faa) proposed a $24.2 million civil penalty against american, claiming that american failed to properly perform certain portions of an faa airworthiness directive concerning certain wiring to the mcdonnell douglas md-80 aircraft auxiliary hydraulic pump. american plans to challenge the proposed civil penalty. the company has concluded that the amount of the penalty, if any, that may be paid is not estimable at december 31, 2010. gds discussion over the past several years, american has been developing a direct connection techn...</td>\n",
       "      <td>Pos</td>\n",
       "    </tr>\n",
       "    <tr>\n",
       "      <th>2</th>\n",
       "      <td>AAP</td>\n",
       "      <td>item 7. management's discussion and analysis of financial condition and results of operations, of this annual report on form 10-k. in addition, selected financial data for our segments is available in note 21, segment and related information, of the notes to consolidated financial statements, included in item 15. exhibits, financial statement schedules, of this annual report on form 10-k. aap segment at january 2, 2010, we operated 3,264 aap stores within the united states, puerto rico and the virgin islands. we operated 3,238 stores throughout 39 states in the northeastern, southeastern a...</td>\n",
       "      <td>Pos</td>\n",
       "    </tr>\n",
       "    <tr>\n",
       "      <th>3</th>\n",
       "      <td>ABC</td>\n",
       "      <td>item 7. 16 item 8. financial statements and supplementary data report of ernst &amp; young llp, independent auditors to the board of directors and stockholders of amerisource health corporation we have audited the accompanying consolidated balance sheets of amerisource health corporation and subsidiaries as of september 30, 2000 and 1999, and the related consolidated statements of operations, changes in stockholders' equity, and cash flows for each of the three years in the period ended september 30, 2000. our audits also included the financial statement schedules listed in the index at item 1...</td>\n",
       "      <td>Pos</td>\n",
       "    </tr>\n",
       "    <tr>\n",
       "      <th>4</th>\n",
       "      <td>ACEV</td>\n",
       "      <td>item 7.a. quantitative and qualitative disclosure about market risk. 39 item 8. financial statements and supplementary data 40 item 9. changes in and disagreements with accountants on accounting and financial disclosure. 41 item 9.a. controls and procedures. 41 item 9.b. other information. 41 part iii. 42 item 10. directors, executive officer and corporate governance. 42 item 11. executive compensation. 51 item 12. security ownership of certain beneficial owners and management and related stockholder matters. 52 item 13. certain relationships and related transactions, and director independ...</td>\n",
       "      <td>Pos</td>\n",
       "    </tr>\n",
       "  </tbody>\n",
       "</table>\n",
       "</div>"
      ],
      "text/plain": [
       "  Ticker  \\\n",
       "0   AACI   \n",
       "1    AAL   \n",
       "2    AAP   \n",
       "3    ABC   \n",
       "4   ACEV   \n",
       "\n",
       "                                                                                                                                                                                                                                                                                                                                                                                                                                                                                                                                                                                                                      Text  \\\n",
       "0  item 7. management’s discussion and analysis of financial condition and results of operations the following discussion and analysis of the company’s financial condition and results of operations should be read in conjunction with the financial statements and the notes thereto contained elsewhere in this report. references to the “company,” “us” or “we” refer to armada acquisition corp. i. cautionary note regarding forward-looking statements this annual report on form 10-k includes forward-looking statements within the meaning of section 27a of the securities act of 1933, as amended, and se...   \n",
       "1  item 7. on august 26, 2010, the federal aviation administration (faa) proposed a $24.2 million civil penalty against american, claiming that american failed to properly perform certain portions of an faa airworthiness directive concerning certain wiring to the mcdonnell douglas md-80 aircraft auxiliary hydraulic pump. american plans to challenge the proposed civil penalty. the company has concluded that the amount of the penalty, if any, that may be paid is not estimable at december 31, 2010. gds discussion over the past several years, american has been developing a direct connection techn...   \n",
       "2  item 7. management's discussion and analysis of financial condition and results of operations, of this annual report on form 10-k. in addition, selected financial data for our segments is available in note 21, segment and related information, of the notes to consolidated financial statements, included in item 15. exhibits, financial statement schedules, of this annual report on form 10-k. aap segment at january 2, 2010, we operated 3,264 aap stores within the united states, puerto rico and the virgin islands. we operated 3,238 stores throughout 39 states in the northeastern, southeastern a...   \n",
       "3  item 7. 16 item 8. financial statements and supplementary data report of ernst & young llp, independent auditors to the board of directors and stockholders of amerisource health corporation we have audited the accompanying consolidated balance sheets of amerisource health corporation and subsidiaries as of september 30, 2000 and 1999, and the related consolidated statements of operations, changes in stockholders' equity, and cash flows for each of the three years in the period ended september 30, 2000. our audits also included the financial statement schedules listed in the index at item 1...   \n",
       "4  item 7.a. quantitative and qualitative disclosure about market risk. 39 item 8. financial statements and supplementary data 40 item 9. changes in and disagreements with accountants on accounting and financial disclosure. 41 item 9.a. controls and procedures. 41 item 9.b. other information. 41 part iii. 42 item 10. directors, executive officer and corporate governance. 42 item 11. executive compensation. 51 item 12. security ownership of certain beneficial owners and management and related stockholder matters. 52 item 13. certain relationships and related transactions, and director independ...   \n",
       "\n",
       "  Label  \n",
       "0   Pos  \n",
       "1   Pos  \n",
       "2   Pos  \n",
       "3   Pos  \n",
       "4   Pos  "
      ]
     },
     "execution_count": 12,
     "metadata": {},
     "output_type": "execute_result"
    }
   ],
   "source": [
    "print(ma_trn_10_K.shape)\n",
    "ma_trn_10_K.head()"
   ]
  },
  {
   "cell_type": "markdown",
   "id": "edbf9d2b-45fb-4a69-88b7-6f377572bb6c",
   "metadata": {},
   "source": [
    "# remove punctuations"
   ]
  },
  {
   "cell_type": "code",
   "execution_count": 13,
   "id": "791f869d-85be-4c6a-aa0d-90fe1271781a",
   "metadata": {},
   "outputs": [],
   "source": [
    "def remove_punct(text):\n",
    "    for punctuations in punctuation:\n",
    "        text = text.replace(punctuations, '')\n",
    "    return text"
   ]
  },
  {
   "cell_type": "code",
   "execution_count": 117,
   "id": "c5328ac0-bc97-46d6-afab-64c24102c81e",
   "metadata": {},
   "outputs": [],
   "source": [
    "ma_trn_10_K['Text'] = ma_trn_10_K['Text'].apply(remove_punct)"
   ]
  },
  {
   "cell_type": "code",
   "execution_count": 118,
   "id": "4ea83604-b0c8-4b21-a89e-e0fac02305c1",
   "metadata": {},
   "outputs": [
    {
     "data": {
      "text/html": [
       "<div>\n",
       "<style scoped>\n",
       "    .dataframe tbody tr th:only-of-type {\n",
       "        vertical-align: middle;\n",
       "    }\n",
       "\n",
       "    .dataframe tbody tr th {\n",
       "        vertical-align: top;\n",
       "    }\n",
       "\n",
       "    .dataframe thead th {\n",
       "        text-align: right;\n",
       "    }\n",
       "</style>\n",
       "<table border=\"1\" class=\"dataframe\">\n",
       "  <thead>\n",
       "    <tr style=\"text-align: right;\">\n",
       "      <th></th>\n",
       "      <th>Ticker</th>\n",
       "      <th>Text</th>\n",
       "      <th>Label</th>\n",
       "    </tr>\n",
       "  </thead>\n",
       "  <tbody>\n",
       "    <tr>\n",
       "      <th>0</th>\n",
       "      <td>AACI</td>\n",
       "      <td>item 7 management’s discussion and analysis of financial condition and results of operations the following discussion and analysis of the company’s financial condition and results of operations should be read in conjunction with the financial statements and the notes thereto contained elsewhere in this report references to the “company” “us” or “we” refer to armada acquisition corp i cautionary note regarding forwardlooking statements this annual report on form 10k includes forwardlooking statements within the meaning of section 27a of the securities act of 1933 as amended and section 21e ...</td>\n",
       "      <td>Pos</td>\n",
       "    </tr>\n",
       "    <tr>\n",
       "      <th>1</th>\n",
       "      <td>AAL</td>\n",
       "      <td>item 7 on august 26 2010 the federal aviation administration faa proposed a 242 million civil penalty against american claiming that american failed to properly perform certain portions of an faa airworthiness directive concerning certain wiring to the mcdonnell douglas md80 aircraft auxiliary hydraulic pump american plans to challenge the proposed civil penalty the company has concluded that the amount of the penalty if any that may be paid is not estimable at december 31 2010 gds discussion over the past several years american has been developing a direct connection technology designed t...</td>\n",
       "      <td>Pos</td>\n",
       "    </tr>\n",
       "    <tr>\n",
       "      <th>2</th>\n",
       "      <td>AAP</td>\n",
       "      <td>item 7 managements discussion and analysis of financial condition and results of operations of this annual report on form 10k in addition selected financial data for our segments is available in note 21 segment and related information of the notes to consolidated financial statements included in item 15 exhibits financial statement schedules of this annual report on form 10k aap segment at january 2 2010 we operated 3264 aap stores within the united states puerto rico and the virgin islands we operated 3238 stores throughout 39 states in the northeastern southeastern and midwestern regions...</td>\n",
       "      <td>Pos</td>\n",
       "    </tr>\n",
       "    <tr>\n",
       "      <th>3</th>\n",
       "      <td>ABC</td>\n",
       "      <td>item 7 16 item 8 financial statements and supplementary data report of ernst  young llp independent auditors to the board of directors and stockholders of amerisource health corporation we have audited the accompanying consolidated balance sheets of amerisource health corporation and subsidiaries as of september 30 2000 and 1999 and the related consolidated statements of operations changes in stockholders equity and cash flows for each of the three years in the period ended september 30 2000 our audits also included the financial statement schedules listed in the index at item 14a these fi...</td>\n",
       "      <td>Pos</td>\n",
       "    </tr>\n",
       "    <tr>\n",
       "      <th>4</th>\n",
       "      <td>ACEV</td>\n",
       "      <td>item 7a quantitative and qualitative disclosure about market risk 39 item 8 financial statements and supplementary data 40 item 9 changes in and disagreements with accountants on accounting and financial disclosure 41 item 9a controls and procedures 41 item 9b other information 41 part iii 42 item 10 directors executive officer and corporate governance 42 item 11 executive compensation 51 item 12 security ownership of certain beneficial owners and management and related stockholder matters 52 item 13 certain relationships and related transactions and director independence 53 item 14 princi...</td>\n",
       "      <td>Pos</td>\n",
       "    </tr>\n",
       "  </tbody>\n",
       "</table>\n",
       "</div>"
      ],
      "text/plain": [
       "  Ticker  \\\n",
       "0   AACI   \n",
       "1    AAL   \n",
       "2    AAP   \n",
       "3    ABC   \n",
       "4   ACEV   \n",
       "\n",
       "                                                                                                                                                                                                                                                                                                                                                                                                                                                                                                                                                                                                                      Text  \\\n",
       "0  item 7 management’s discussion and analysis of financial condition and results of operations the following discussion and analysis of the company’s financial condition and results of operations should be read in conjunction with the financial statements and the notes thereto contained elsewhere in this report references to the “company” “us” or “we” refer to armada acquisition corp i cautionary note regarding forwardlooking statements this annual report on form 10k includes forwardlooking statements within the meaning of section 27a of the securities act of 1933 as amended and section 21e ...   \n",
       "1  item 7 on august 26 2010 the federal aviation administration faa proposed a 242 million civil penalty against american claiming that american failed to properly perform certain portions of an faa airworthiness directive concerning certain wiring to the mcdonnell douglas md80 aircraft auxiliary hydraulic pump american plans to challenge the proposed civil penalty the company has concluded that the amount of the penalty if any that may be paid is not estimable at december 31 2010 gds discussion over the past several years american has been developing a direct connection technology designed t...   \n",
       "2  item 7 managements discussion and analysis of financial condition and results of operations of this annual report on form 10k in addition selected financial data for our segments is available in note 21 segment and related information of the notes to consolidated financial statements included in item 15 exhibits financial statement schedules of this annual report on form 10k aap segment at january 2 2010 we operated 3264 aap stores within the united states puerto rico and the virgin islands we operated 3238 stores throughout 39 states in the northeastern southeastern and midwestern regions...   \n",
       "3  item 7 16 item 8 financial statements and supplementary data report of ernst  young llp independent auditors to the board of directors and stockholders of amerisource health corporation we have audited the accompanying consolidated balance sheets of amerisource health corporation and subsidiaries as of september 30 2000 and 1999 and the related consolidated statements of operations changes in stockholders equity and cash flows for each of the three years in the period ended september 30 2000 our audits also included the financial statement schedules listed in the index at item 14a these fi...   \n",
       "4  item 7a quantitative and qualitative disclosure about market risk 39 item 8 financial statements and supplementary data 40 item 9 changes in and disagreements with accountants on accounting and financial disclosure 41 item 9a controls and procedures 41 item 9b other information 41 part iii 42 item 10 directors executive officer and corporate governance 42 item 11 executive compensation 51 item 12 security ownership of certain beneficial owners and management and related stockholder matters 52 item 13 certain relationships and related transactions and director independence 53 item 14 princi...   \n",
       "\n",
       "  Label  \n",
       "0   Pos  \n",
       "1   Pos  \n",
       "2   Pos  \n",
       "3   Pos  \n",
       "4   Pos  "
      ]
     },
     "execution_count": 118,
     "metadata": {},
     "output_type": "execute_result"
    }
   ],
   "source": [
    "ma_trn_10_K.head()"
   ]
  },
  {
   "cell_type": "code",
   "execution_count": 120,
   "id": "820dda00-4fca-4224-ab67-4506ab2ff77d",
   "metadata": {},
   "outputs": [],
   "source": [
    "ma_trn_10_K = ma_trn_10_K[[len(i)> 1000 for i in ma_trn_10_K.Text]]"
   ]
  },
  {
   "cell_type": "code",
   "execution_count": 121,
   "id": "0cac70aa-bc62-4678-9663-4c26463f7cc2",
   "metadata": {},
   "outputs": [
    {
     "data": {
      "text/plain": [
       "(1090, 3)"
      ]
     },
     "execution_count": 121,
     "metadata": {},
     "output_type": "execute_result"
    }
   ],
   "source": [
    "ma_trn_10_K.shape"
   ]
  },
  {
   "cell_type": "markdown",
   "id": "1b0dba57-e306-4163-9fc2-5cbc6ea36e4d",
   "metadata": {},
   "source": [
    "# split traning and validation"
   ]
  },
  {
   "cell_type": "code",
   "execution_count": 122,
   "id": "343db932-578b-44a9-8f8c-d26827ef596f",
   "metadata": {},
   "outputs": [],
   "source": [
    "#split training and validation 80/20 by label\n",
    "ma_trn_10_K['Is_Valid'] = False\n",
    "\n",
    "for i in [\"Pos\", \"Neg\"]:\n",
    "    i_idx = list(ma_trn_10_K.index[ma_trn_10_K.Label == i])\n",
    "    random.seed(1234)\n",
    "    i_20 = random.sample(i_idx, int(len(i_idx) * 0.2))  \n",
    "    ma_trn_10_K = ma_trn_10_K.copy()\n",
    "    ma_trn_10_K.loc[i_20, 'Is_Valid'] = True"
   ]
  },
  {
   "cell_type": "code",
   "execution_count": 123,
   "id": "be0a1b5f-37fb-46ec-85f5-5c84c429e463",
   "metadata": {},
   "outputs": [
    {
     "data": {
      "text/plain": [
       "False    873\n",
       "True     217\n",
       "Name: Is_Valid, dtype: int64"
      ]
     },
     "execution_count": 123,
     "metadata": {},
     "output_type": "execute_result"
    }
   ],
   "source": [
    "ma_trn_10_K.Is_Valid.value_counts()"
   ]
  },
  {
   "cell_type": "markdown",
   "id": "cbe221d3-7783-42f8-86b8-3414581065ee",
   "metadata": {},
   "source": [
    "# MASK NER"
   ]
  },
  {
   "cell_type": "code",
   "execution_count": 14,
   "id": "901e9a34-c011-4207-95c2-6d29ab62089d",
   "metadata": {},
   "outputs": [],
   "source": [
    "#!python -m spacy download en_core_web_lg"
   ]
  },
  {
   "cell_type": "code",
   "execution_count": 6,
   "id": "9a6c3baf-0d9c-4739-b65b-2b0f3889b448",
   "metadata": {},
   "outputs": [],
   "source": [
    "# import spacy\n",
    "# from spacy.language import Language\n",
    "# from spacy.tokens import Span\n",
    "# from spacy.pipeline import EntityRuler\n",
    "# from spacy.util import filter_spans\n",
    "# from spacy.pipeline import merge_entities"
   ]
  },
  {
   "cell_type": "code",
   "execution_count": 7,
   "id": "9907b422-a229-4168-888d-f3767d21f6ba",
   "metadata": {},
   "outputs": [],
   "source": [
    "#!pip install thinc_gpu_ops"
   ]
  },
  {
   "cell_type": "code",
   "execution_count": 8,
   "id": "e5e7fa05-7b2c-408e-90af-24e9298ac578",
   "metadata": {},
   "outputs": [],
   "source": [
    "#!pip install -U 'spacy[cuda-autodetect]'"
   ]
  },
  {
   "cell_type": "code",
   "execution_count": 9,
   "id": "90e38bca-d3c0-4808-b578-c7f6bd6f0f89",
   "metadata": {},
   "outputs": [],
   "source": [
    "# import cupy\n",
    "# a = cupy.zeros((5, 5))\n",
    "# a"
   ]
  },
  {
   "cell_type": "code",
   "execution_count": 125,
   "id": "f0165f61-ff86-4f6f-811c-9d8401b51135",
   "metadata": {},
   "outputs": [
    {
     "data": {
      "text/plain": [
       "(array([571., 285., 155.,  42.,  22.,   8.,   5.,   0.,   0.,   0.,   1.,\n",
       "          0.,   0.,   0.,   0.,   0.,   0.,   0.,   0.,   1.]),\n",
       " array([1.28800000e+03, 1.24135050e+05, 2.46982100e+05, 3.69829150e+05,\n",
       "        4.92676200e+05, 6.15523250e+05, 7.38370300e+05, 8.61217350e+05,\n",
       "        9.84064400e+05, 1.10691145e+06, 1.22975850e+06, 1.35260555e+06,\n",
       "        1.47545260e+06, 1.59829965e+06, 1.72114670e+06, 1.84399375e+06,\n",
       "        1.96684080e+06, 2.08968785e+06, 2.21253490e+06, 2.33538195e+06,\n",
       "        2.45822900e+06]),\n",
       " <BarContainer object of 20 artists>)"
      ]
     },
     "execution_count": 125,
     "metadata": {},
     "output_type": "execute_result"
    },
    {
     "data": {
      "image/png": "[encoded data removed]",
      "text/plain": [
       "<Figure size 640x480 with 1 Axes>"
      ]
     },
     "metadata": {},
     "output_type": "display_data"
    }
   ],
   "source": [
    "plt.hist([len(i) for i in ma_trn_10_K.Text], bins =20)"
   ]
  },
  {
   "cell_type": "code",
   "execution_count": 135,
   "id": "8df5f121-3f72-4a8c-8d55-6109c7dde98a",
   "metadata": {},
   "outputs": [
    {
     "data": {
      "text/html": [
       "<div>\n",
       "<style scoped>\n",
       "    .dataframe tbody tr th:only-of-type {\n",
       "        vertical-align: middle;\n",
       "    }\n",
       "\n",
       "    .dataframe tbody tr th {\n",
       "        vertical-align: top;\n",
       "    }\n",
       "\n",
       "    .dataframe thead th {\n",
       "        text-align: right;\n",
       "    }\n",
       "</style>\n",
       "<table border=\"1\" class=\"dataframe\">\n",
       "  <thead>\n",
       "    <tr style=\"text-align: right;\">\n",
       "      <th></th>\n",
       "      <th>Ticker</th>\n",
       "      <th>Text</th>\n",
       "      <th>Label</th>\n",
       "      <th>Is_Valid</th>\n",
       "    </tr>\n",
       "  </thead>\n",
       "  <tbody>\n",
       "    <tr>\n",
       "      <th>1114</th>\n",
       "      <td>XPO</td>\n",
       "      <td>item 7 management’s discussion and analysis of financial condition and results of operations you should read the following discussion in conjunction with part i including matters set forth under item 1a “risk factors” of this annual report and our audited consolidated financial statements and notes thereto included elsewhere in this annual report the following discussion contains forwardlooking statements you should refer to the “cautionary statement regarding forwardlooking statements” set forth in part i of this annual report executive summary xpo logistics inc a delaware corporation the...</td>\n",
       "      <td>Neg</td>\n",
       "      <td>True</td>\n",
       "    </tr>\n",
       "    <tr>\n",
       "      <th>1115</th>\n",
       "      <td>YELP</td>\n",
       "      <td>item 7 management’s discussion and analysis of financial condition and results of operationsthe following discussion and analysis of our financial condition and results of operations should be read in conjunction with our consolidated financial statements and related notes appearing elsewhere in this annual report this discussion contains forwardlooking statements that reflect our plans estimates and beliefs and involve risks and uncertainties our actual results and the timing of certain events could differ materially from those anticipated in these forwardlooking statements as a result of...</td>\n",
       "      <td>Neg</td>\n",
       "      <td>False</td>\n",
       "    </tr>\n",
       "    <tr>\n",
       "      <th>1116</th>\n",
       "      <td>YUM</td>\n",
       "      <td>item 7management’s discussion and analysis of financial condition and results of operationsintroduction and overviewthe following management’s discussion and analysis “mda” should be read in conjunction with the consolidated financial statements “financial statements” in item 8 and the forwardlooking statements and the risk factors set forth in item 1a all note references herein refer to the notes to the financial statements tabular amounts are displayed in millions of us dollars except per share and unit count amounts or as otherwise specifically identified unless otherwise stated financi...</td>\n",
       "      <td>Neg</td>\n",
       "      <td>False</td>\n",
       "    </tr>\n",
       "    <tr>\n",
       "      <th>1117</th>\n",
       "      <td>ZEST</td>\n",
       "      <td>item 7 management’s discussion and analysis of financial condition and results of operations the following management’s discussion and analysis of financial condition and results of operations describes the principal factors affecting the results of our operations financial condition and changes in financial condition this discussion should be read in conjunction with the accompanying audited financial statements and notes thereto included elsewhere in this report the information contained in this discussion is subject to a number of risks and uncertainties we urge you to review carefully ...</td>\n",
       "      <td>Neg</td>\n",
       "      <td>False</td>\n",
       "    </tr>\n",
       "    <tr>\n",
       "      <th>1118</th>\n",
       "      <td>ZUMZ</td>\n",
       "      <td>item 7 management’s discussion and analysis of financial condition and results of operations the following discussion and analysis of our financial condition and results of operations should be read in conjunction with our consolidated financial statements and related notes included elsewhere in this document this discussion contains forwardlooking statements that involve risks and uncertainties our actual results could differ materially from those anticipated in these forwardlooking statements as a result of certain factors including those discussed in “item 1a risk factors” see the cauti...</td>\n",
       "      <td>Neg</td>\n",
       "      <td>False</td>\n",
       "    </tr>\n",
       "  </tbody>\n",
       "</table>\n",
       "</div>"
      ],
      "text/plain": [
       "     Ticker  \\\n",
       "1114    XPO   \n",
       "1115   YELP   \n",
       "1116    YUM   \n",
       "1117   ZEST   \n",
       "1118   ZUMZ   \n",
       "\n",
       "                                                                                                                                                                                                                                                                                                                                                                                                                                                                                                                                                                                                                         Text  \\\n",
       "1114  item 7 management’s discussion and analysis of financial condition and results of operations you should read the following discussion in conjunction with part i including matters set forth under item 1a “risk factors” of this annual report and our audited consolidated financial statements and notes thereto included elsewhere in this annual report the following discussion contains forwardlooking statements you should refer to the “cautionary statement regarding forwardlooking statements” set forth in part i of this annual report executive summary xpo logistics inc a delaware corporation the...   \n",
       "1115  item 7 management’s discussion and analysis of financial condition and results of operationsthe following discussion and analysis of our financial condition and results of operations should be read in conjunction with our consolidated financial statements and related notes appearing elsewhere in this annual report this discussion contains forwardlooking statements that reflect our plans estimates and beliefs and involve risks and uncertainties our actual results and the timing of certain events could differ materially from those anticipated in these forwardlooking statements as a result of...   \n",
       "1116  item 7management’s discussion and analysis of financial condition and results of operationsintroduction and overviewthe following management’s discussion and analysis “mda” should be read in conjunction with the consolidated financial statements “financial statements” in item 8 and the forwardlooking statements and the risk factors set forth in item 1a all note references herein refer to the notes to the financial statements tabular amounts are displayed in millions of us dollars except per share and unit count amounts or as otherwise specifically identified unless otherwise stated financi...   \n",
       "1117  item 7 management’s discussion and analysis of financial condition and results of operations the following management’s discussion and analysis of financial condition and results of operations describes the principal factors affecting the results of our operations financial condition and changes in financial condition this discussion should be read in conjunction with the accompanying audited financial statements and notes thereto included elsewhere in this report the information contained in this discussion is subject to a number of risks and uncertainties we urge you to review carefully ...   \n",
       "1118  item 7 management’s discussion and analysis of financial condition and results of operations the following discussion and analysis of our financial condition and results of operations should be read in conjunction with our consolidated financial statements and related notes included elsewhere in this document this discussion contains forwardlooking statements that involve risks and uncertainties our actual results could differ materially from those anticipated in these forwardlooking statements as a result of certain factors including those discussed in “item 1a risk factors” see the cauti...   \n",
       "\n",
       "     Label  Is_Valid  \n",
       "1114   Neg      True  \n",
       "1115   Neg     False  \n",
       "1116   Neg     False  \n",
       "1117   Neg     False  \n",
       "1118   Neg     False  "
      ]
     },
     "execution_count": 135,
     "metadata": {},
     "output_type": "execute_result"
    }
   ],
   "source": [
    "ma_trn_10_K.tail()"
   ]
  },
  {
   "cell_type": "code",
   "execution_count": 127,
   "id": "565e4b11-ce27-4894-9846-d6dba9610539",
   "metadata": {},
   "outputs": [
    {
     "data": {
      "text/plain": [
       "2458229"
      ]
     },
     "execution_count": 127,
     "metadata": {},
     "output_type": "execute_result"
    }
   ],
   "source": [
    "max([len(i) for i in ma_trn_10_K.Text])"
   ]
  },
  {
   "cell_type": "code",
   "execution_count": 136,
   "id": "60c34d5a-1fca-4c64-b0ae-633c8f9573e2",
   "metadata": {},
   "outputs": [],
   "source": [
    "ma_trn_10_K.reset_index(drop = True, inplace = True)"
   ]
  },
  {
   "cell_type": "code",
   "execution_count": 139,
   "id": "3e1bee60-0447-45d7-b16e-c39717ed88e9",
   "metadata": {},
   "outputs": [
    {
     "data": {
      "text/html": [
       "<div>\n",
       "<style scoped>\n",
       "    .dataframe tbody tr th:only-of-type {\n",
       "        vertical-align: middle;\n",
       "    }\n",
       "\n",
       "    .dataframe tbody tr th {\n",
       "        vertical-align: top;\n",
       "    }\n",
       "\n",
       "    .dataframe thead th {\n",
       "        text-align: right;\n",
       "    }\n",
       "</style>\n",
       "<table border=\"1\" class=\"dataframe\">\n",
       "  <thead>\n",
       "    <tr style=\"text-align: right;\">\n",
       "      <th></th>\n",
       "      <th>Ticker</th>\n",
       "      <th>Text</th>\n",
       "      <th>Label</th>\n",
       "      <th>Is_Valid</th>\n",
       "    </tr>\n",
       "  </thead>\n",
       "  <tbody>\n",
       "    <tr>\n",
       "      <th>1085</th>\n",
       "      <td>XPO</td>\n",
       "      <td>item 7 management’s discussion and analysis of financial condition and results of operations you should read the following discussion in conjunction with part i including matters set forth under item 1a “risk factors” of this annual report and our audited consolidated financial statements and notes thereto included elsewhere in this annual report the following discussion contains forwardlooking statements you should refer to the “cautionary statement regarding forwardlooking statements” set forth in part i of this annual report executive summary xpo logistics inc a delaware corporation the...</td>\n",
       "      <td>Neg</td>\n",
       "      <td>True</td>\n",
       "    </tr>\n",
       "    <tr>\n",
       "      <th>1086</th>\n",
       "      <td>YELP</td>\n",
       "      <td>item 7 management’s discussion and analysis of financial condition and results of operationsthe following discussion and analysis of our financial condition and results of operations should be read in conjunction with our consolidated financial statements and related notes appearing elsewhere in this annual report this discussion contains forwardlooking statements that reflect our plans estimates and beliefs and involve risks and uncertainties our actual results and the timing of certain events could differ materially from those anticipated in these forwardlooking statements as a result of...</td>\n",
       "      <td>Neg</td>\n",
       "      <td>False</td>\n",
       "    </tr>\n",
       "    <tr>\n",
       "      <th>1087</th>\n",
       "      <td>YUM</td>\n",
       "      <td>item 7management’s discussion and analysis of financial condition and results of operationsintroduction and overviewthe following management’s discussion and analysis “mda” should be read in conjunction with the consolidated financial statements “financial statements” in item 8 and the forwardlooking statements and the risk factors set forth in item 1a all note references herein refer to the notes to the financial statements tabular amounts are displayed in millions of us dollars except per share and unit count amounts or as otherwise specifically identified unless otherwise stated financi...</td>\n",
       "      <td>Neg</td>\n",
       "      <td>False</td>\n",
       "    </tr>\n",
       "    <tr>\n",
       "      <th>1088</th>\n",
       "      <td>ZEST</td>\n",
       "      <td>item 7 management’s discussion and analysis of financial condition and results of operations the following management’s discussion and analysis of financial condition and results of operations describes the principal factors affecting the results of our operations financial condition and changes in financial condition this discussion should be read in conjunction with the accompanying audited financial statements and notes thereto included elsewhere in this report the information contained in this discussion is subject to a number of risks and uncertainties we urge you to review carefully ...</td>\n",
       "      <td>Neg</td>\n",
       "      <td>False</td>\n",
       "    </tr>\n",
       "    <tr>\n",
       "      <th>1089</th>\n",
       "      <td>ZUMZ</td>\n",
       "      <td>item 7 management’s discussion and analysis of financial condition and results of operations the following discussion and analysis of our financial condition and results of operations should be read in conjunction with our consolidated financial statements and related notes included elsewhere in this document this discussion contains forwardlooking statements that involve risks and uncertainties our actual results could differ materially from those anticipated in these forwardlooking statements as a result of certain factors including those discussed in “item 1a risk factors” see the cauti...</td>\n",
       "      <td>Neg</td>\n",
       "      <td>False</td>\n",
       "    </tr>\n",
       "  </tbody>\n",
       "</table>\n",
       "</div>"
      ],
      "text/plain": [
       "     Ticker  \\\n",
       "1085    XPO   \n",
       "1086   YELP   \n",
       "1087    YUM   \n",
       "1088   ZEST   \n",
       "1089   ZUMZ   \n",
       "\n",
       "                                                                                                                                                                                                                                                                                                                                                                                                                                                                                                                                                                                                                         Text  \\\n",
       "1085  item 7 management’s discussion and analysis of financial condition and results of operations you should read the following discussion in conjunction with part i including matters set forth under item 1a “risk factors” of this annual report and our audited consolidated financial statements and notes thereto included elsewhere in this annual report the following discussion contains forwardlooking statements you should refer to the “cautionary statement regarding forwardlooking statements” set forth in part i of this annual report executive summary xpo logistics inc a delaware corporation the...   \n",
       "1086  item 7 management’s discussion and analysis of financial condition and results of operationsthe following discussion and analysis of our financial condition and results of operations should be read in conjunction with our consolidated financial statements and related notes appearing elsewhere in this annual report this discussion contains forwardlooking statements that reflect our plans estimates and beliefs and involve risks and uncertainties our actual results and the timing of certain events could differ materially from those anticipated in these forwardlooking statements as a result of...   \n",
       "1087  item 7management’s discussion and analysis of financial condition and results of operationsintroduction and overviewthe following management’s discussion and analysis “mda” should be read in conjunction with the consolidated financial statements “financial statements” in item 8 and the forwardlooking statements and the risk factors set forth in item 1a all note references herein refer to the notes to the financial statements tabular amounts are displayed in millions of us dollars except per share and unit count amounts or as otherwise specifically identified unless otherwise stated financi...   \n",
       "1088  item 7 management’s discussion and analysis of financial condition and results of operations the following management’s discussion and analysis of financial condition and results of operations describes the principal factors affecting the results of our operations financial condition and changes in financial condition this discussion should be read in conjunction with the accompanying audited financial statements and notes thereto included elsewhere in this report the information contained in this discussion is subject to a number of risks and uncertainties we urge you to review carefully ...   \n",
       "1089  item 7 management’s discussion and analysis of financial condition and results of operations the following discussion and analysis of our financial condition and results of operations should be read in conjunction with our consolidated financial statements and related notes included elsewhere in this document this discussion contains forwardlooking statements that involve risks and uncertainties our actual results could differ materially from those anticipated in these forwardlooking statements as a result of certain factors including those discussed in “item 1a risk factors” see the cauti...   \n",
       "\n",
       "     Label  Is_Valid  \n",
       "1085   Neg      True  \n",
       "1086   Neg     False  \n",
       "1087   Neg     False  \n",
       "1088   Neg     False  \n",
       "1089   Neg     False  "
      ]
     },
     "execution_count": 139,
     "metadata": {},
     "output_type": "execute_result"
    }
   ],
   "source": [
    "ma_trn_10_K.tail()"
   ]
  },
  {
   "cell_type": "code",
   "execution_count": 140,
   "id": "2a288e1b-287d-4eb8-b7d4-de25f7968332",
   "metadata": {},
   "outputs": [],
   "source": [
    "pickle.dump(ma_trn_10_K, open(\"ma_trn_10_K.pkl\", \"wb\"))"
   ]
  },
  {
   "cell_type": "code",
   "execution_count": 5,
   "id": "9adf6bd8-cf00-4894-904f-0903104bc2d2",
   "metadata": {},
   "outputs": [],
   "source": [
    "ma_trn_10_K = pickle.load(open(\"ma_trn_10_K.pkl\", \"rb\"))"
   ]
  },
  {
   "cell_type": "code",
   "execution_count": 6,
   "id": "1791615d-dc72-404d-8697-6d87adce5cc2",
   "metadata": {},
   "outputs": [],
   "source": [
    "import spacy\n",
    "\n",
    "spacy.prefer_gpu()\n",
    "nlp = spacy.load('en_core_web_lg')\n",
    "nlp.add_pipe(\"merge_entities\")\n",
    "nlp.max_length = 3000000"
   ]
  },
  {
   "cell_type": "code",
   "execution_count": 7,
   "id": "670877b8-ceca-40ab-85f0-e3052fddfdce",
   "metadata": {},
   "outputs": [
    {
     "name": "stderr",
     "output_type": "stream",
     "text": [
      "100%|██████████| 1090/1090 [45:25<00:00,  2.50s/it] "
     ]
    },
    {
     "name": "stdout",
     "output_type": "stream",
     "text": [
      "CPU times: user 44min 47s, sys: 41.5 s, total: 45min 29s\n",
      "Wall time: 45min 25s\n"
     ]
    },
    {
     "name": "stderr",
     "output_type": "stream",
     "text": [
      "\n"
     ]
    }
   ],
   "source": [
    "%%time\n",
    "\n",
    "ma_trn_10_K_NER = []\n",
    "for i in tqdm(range(len(ma_trn_10_K))):\n",
    "    doc_i = nlp(ma_trn_10_K.Text[i], disable=[\"tagger\", \"attribute_ruler\", \"lemmatizer\"]) \n",
    "    ma_trn_10_K_NER.append(\" \".join([t.text if not t.ent_type_ else t.ent_type_ for t in doc_i]))"
   ]
  },
  {
   "cell_type": "code",
   "execution_count": 8,
   "id": "3f665b34-6551-417b-9144-d967818d6403",
   "metadata": {},
   "outputs": [],
   "source": [
    "ma_trn_10_K[\"Text\"] = ma_trn_10_K_NER"
   ]
  },
  {
   "cell_type": "code",
   "execution_count": 11,
   "id": "e2976bee-e0c9-4f7a-a16e-90a33eaf0a2c",
   "metadata": {},
   "outputs": [
    {
     "data": {
      "text/html": [
       "<div>\n",
       "<style scoped>\n",
       "    .dataframe tbody tr th:only-of-type {\n",
       "        vertical-align: middle;\n",
       "    }\n",
       "\n",
       "    .dataframe tbody tr th {\n",
       "        vertical-align: top;\n",
       "    }\n",
       "\n",
       "    .dataframe thead th {\n",
       "        text-align: right;\n",
       "    }\n",
       "</style>\n",
       "<table border=\"1\" class=\"dataframe\">\n",
       "  <thead>\n",
       "    <tr style=\"text-align: right;\">\n",
       "      <th></th>\n",
       "      <th>Ticker</th>\n",
       "      <th>Text</th>\n",
       "      <th>Label</th>\n",
       "      <th>Is_Valid</th>\n",
       "    </tr>\n",
       "  </thead>\n",
       "  <tbody>\n",
       "    <tr>\n",
       "      <th>0</th>\n",
       "      <td>AACI</td>\n",
       "      <td>item CARDINAL management ’s discussion and analysis of financial condition and results of operations the following discussion and analysis of the company ’s financial condition and results of operations should be read in conjunction with the financial statements and the notes thereto contained elsewhere in this report references to the “ company ” “ us ” or “ we ” refer to ORG i cautionary note regarding forwardlooking statements this annual report on form CARDINAL includes forwardlooking statements within the meaning of LAW of the securities act of DATE as amended and LAW of the securitie...</td>\n",
       "      <td>Pos</td>\n",
       "      <td>False</td>\n",
       "    </tr>\n",
       "    <tr>\n",
       "      <th>1</th>\n",
       "      <td>AAL</td>\n",
       "      <td>item CARDINAL on DATE the federal aviation administration ORG proposed a CARDINAL civil penalty against NORP claiming that NORP failed to properly perform certain portions of an faa airworthiness directive concerning certain wiring to the ORG ORG aircraft auxiliary hydraulic pump NORP plans to challenge the proposed civil penalty the company has concluded that the amount of the penalty if any that may be paid is not estimable at DATE gds discussion over DATE NORP has been developing a direct connection technology designed to distribute its fare content and bookings capability directly to t...</td>\n",
       "      <td>Pos</td>\n",
       "      <td>False</td>\n",
       "    </tr>\n",
       "    <tr>\n",
       "      <th>2</th>\n",
       "      <td>AAP</td>\n",
       "      <td>item CARDINAL managements discussion and analysis of financial condition and results of operations of this annual report on form CARDINAL in addition selected financial data for our segments is available in note CARDINAL segment and related information of the notes to consolidated financial statements included in item CARDINAL exhibits financial statement schedules of this annual report on form CARDINAL aap segment at DATE we operated CARDINAL ORG stores within GPE GPE and GPE we operated CARDINAL stores throughout CARDINAL states in the northeastern southeastern and midwestern regions of ...</td>\n",
       "      <td>Pos</td>\n",
       "      <td>False</td>\n",
       "    </tr>\n",
       "    <tr>\n",
       "      <th>3</th>\n",
       "      <td>ABC</td>\n",
       "      <td>item CARDINAL item CARDINAL financial statements and supplementary data report of ORG   young llp independent auditors to the board of directors and stockholders of ORG we have audited the accompanying consolidated balance sheets of ORG as of DATE and DATE and the related consolidated statements of operations changes in stockholders equity and cash flows for each of DATE in the period ended DATE our audits also included the financial statement schedules listed in the index at item CARDINAL these financial statements and schedules are the responsibility of the companys management our respon...</td>\n",
       "      <td>Pos</td>\n",
       "      <td>False</td>\n",
       "    </tr>\n",
       "    <tr>\n",
       "      <th>4</th>\n",
       "      <td>ACEV</td>\n",
       "      <td>item CARDINAL quantitative and qualitative disclosure about market risk CARDINAL item CARDINAL financial statements and supplementary data CARDINAL item CARDINAL changes in and disagreements with accountants on accounting and financial disclosure CARDINAL item CARDINAL controls and procedures CARDINAL item CARDINAL other information CARDINAL part iii CARDINAL item CARDINAL directors executive officer and corporate governance CARDINAL item CARDINAL executive compensation CARDINAL item CARDINAL security ownership of certain beneficial owners and management and related stockholder matters CAR...</td>\n",
       "      <td>Pos</td>\n",
       "      <td>False</td>\n",
       "    </tr>\n",
       "  </tbody>\n",
       "</table>\n",
       "</div>"
      ],
      "text/plain": [
       "  Ticker  \\\n",
       "0   AACI   \n",
       "1    AAL   \n",
       "2    AAP   \n",
       "3    ABC   \n",
       "4   ACEV   \n",
       "\n",
       "                                                                                                                                                                                                                                                                                                                                                                                                                                                                                                                                                                                                                      Text  \\\n",
       "0  item CARDINAL management ’s discussion and analysis of financial condition and results of operations the following discussion and analysis of the company ’s financial condition and results of operations should be read in conjunction with the financial statements and the notes thereto contained elsewhere in this report references to the “ company ” “ us ” or “ we ” refer to ORG i cautionary note regarding forwardlooking statements this annual report on form CARDINAL includes forwardlooking statements within the meaning of LAW of the securities act of DATE as amended and LAW of the securitie...   \n",
       "1  item CARDINAL on DATE the federal aviation administration ORG proposed a CARDINAL civil penalty against NORP claiming that NORP failed to properly perform certain portions of an faa airworthiness directive concerning certain wiring to the ORG ORG aircraft auxiliary hydraulic pump NORP plans to challenge the proposed civil penalty the company has concluded that the amount of the penalty if any that may be paid is not estimable at DATE gds discussion over DATE NORP has been developing a direct connection technology designed to distribute its fare content and bookings capability directly to t...   \n",
       "2  item CARDINAL managements discussion and analysis of financial condition and results of operations of this annual report on form CARDINAL in addition selected financial data for our segments is available in note CARDINAL segment and related information of the notes to consolidated financial statements included in item CARDINAL exhibits financial statement schedules of this annual report on form CARDINAL aap segment at DATE we operated CARDINAL ORG stores within GPE GPE and GPE we operated CARDINAL stores throughout CARDINAL states in the northeastern southeastern and midwestern regions of ...   \n",
       "3  item CARDINAL item CARDINAL financial statements and supplementary data report of ORG   young llp independent auditors to the board of directors and stockholders of ORG we have audited the accompanying consolidated balance sheets of ORG as of DATE and DATE and the related consolidated statements of operations changes in stockholders equity and cash flows for each of DATE in the period ended DATE our audits also included the financial statement schedules listed in the index at item CARDINAL these financial statements and schedules are the responsibility of the companys management our respon...   \n",
       "4  item CARDINAL quantitative and qualitative disclosure about market risk CARDINAL item CARDINAL financial statements and supplementary data CARDINAL item CARDINAL changes in and disagreements with accountants on accounting and financial disclosure CARDINAL item CARDINAL controls and procedures CARDINAL item CARDINAL other information CARDINAL part iii CARDINAL item CARDINAL directors executive officer and corporate governance CARDINAL item CARDINAL executive compensation CARDINAL item CARDINAL security ownership of certain beneficial owners and management and related stockholder matters CAR...   \n",
       "\n",
       "  Label  Is_Valid  \n",
       "0   Pos     False  \n",
       "1   Pos     False  \n",
       "2   Pos     False  \n",
       "3   Pos     False  \n",
       "4   Pos     False  "
      ]
     },
     "execution_count": 11,
     "metadata": {},
     "output_type": "execute_result"
    }
   ],
   "source": [
    "ma_trn_10_K.head()"
   ]
  },
  {
   "cell_type": "code",
   "execution_count": 13,
   "id": "12c7fe9f-8f16-4d42-b194-f342bfc3d185",
   "metadata": {},
   "outputs": [
    {
     "data": {
      "text/plain": [
       "9"
      ]
     },
     "execution_count": 13,
     "metadata": {},
     "output_type": "execute_result"
    }
   ],
   "source": [
    "del ma_trn_10_K_NER\n",
    "gc.collect()"
   ]
  },
  {
   "cell_type": "code",
   "execution_count": null,
   "id": "db0a097e-9e20-44dd-9412-09c16abc0690",
   "metadata": {},
   "outputs": [],
   "source": [
    "# STOPWORDS = nltk.corpus.stopwords.words('english')\n",
    "\n",
    "# filters = [ '!', '\"', '#', '$', '%', '&', '(', ')', '*', '+', '-', '.', '/',  '\\\\', ':', ';', '<', '=', '>',\n",
    "#            '?', '@', '[', ']', '^', '_', '`', '{', '|', '}', '\\~', '\\t','\\\\n',\"'\",\",\",'~' , '—']\n",
    "\n",
    "# def preprocess_text(input_strs , filters=None , stopwords=STOPWORDS):\n",
    "#     \"\"\"\n",
    "#         * filter punctuation\n",
    "#         * to_lower\n",
    "#         * remove stop words (from nltk corpus)\n",
    "#         * remove multiple spaces with one\n",
    "#         * remove leading spaces    \n",
    "#     \"\"\"\n",
    "    \n",
    "#     # filter punctuation and case conversion\n",
    "#     input_strs = input_strs.str.replace_multi(filters, ' ', regex=False)\n",
    "#     input_strs = input_strs.str.lower()\n",
    "        \n",
    "#     # remove stopwords\n",
    "#     stopwords_gpu = nvstrings.to_device(stopwords)\n",
    "#     input_strs = nvtext.replace_tokens(input_strs.data, stopwords_gpu, ' ')\n",
    "#     input_strs = cudf.Series(input_strs)\n",
    "        \n",
    "#     # replace multiple spaces with single one and strip leading/trailing spaces\n",
    "#     input_strs = input_strs.str.replace(r\"\\s+\", ' ', regex=True)\n",
    "#     input_strs = input_strs.str.strip(' ')\n",
    "    \n",
    "#     doc = nlp(input_strs) \n",
    "\n",
    "#     return \" \".join([t.text if not t.ent_type_ else t.ent_type_ for t in doc])       "
   ]
  },
  {
   "cell_type": "code",
   "execution_count": 60,
   "id": "744c1b70-d0d6-42f2-aa53-6635bc911ff6",
   "metadata": {},
   "outputs": [
    {
     "data": {
      "text/html": [
       "<div>\n",
       "<style scoped>\n",
       "    .dataframe tbody tr th:only-of-type {\n",
       "        vertical-align: middle;\n",
       "    }\n",
       "\n",
       "    .dataframe tbody tr th {\n",
       "        vertical-align: top;\n",
       "    }\n",
       "\n",
       "    .dataframe thead th {\n",
       "        text-align: right;\n",
       "    }\n",
       "</style>\n",
       "<table border=\"1\" class=\"dataframe\">\n",
       "  <thead>\n",
       "    <tr style=\"text-align: right;\">\n",
       "      <th></th>\n",
       "      <th>Ticker</th>\n",
       "      <th>Text</th>\n",
       "      <th>Label</th>\n",
       "      <th>Is_Valid</th>\n",
       "    </tr>\n",
       "  </thead>\n",
       "  <tbody>\n",
       "    <tr>\n",
       "      <th>0</th>\n",
       "      <td>AACI</td>\n",
       "      <td>item CARDINAL management ’s discussion and analysis of financial condition and results of operations the following discussion and analysis of the company ’s financial condition and results of operations should be read in conjunction with the financial statements and the notes thereto contained elsewhere in this report references to the “ company ” “ us ” or “ we ” refer to ORG i cautionary note regarding forwardlooking statements this annual report on form CARDINAL includes forwardlooking statements within the meaning of LAW of the securities act of DATE as amended and LAW of the securitie...</td>\n",
       "      <td>Pos</td>\n",
       "      <td>False</td>\n",
       "    </tr>\n",
       "    <tr>\n",
       "      <th>1</th>\n",
       "      <td>AAL</td>\n",
       "      <td>item CARDINAL on DATE the federal aviation administration ORG proposed a CARDINAL civil penalty against NORP claiming that NORP failed to properly perform certain portions of an faa airworthiness directive concerning certain wiring to the ORG ORG aircraft auxiliary hydraulic pump NORP plans to challenge the proposed civil penalty the company has concluded that the amount of the penalty if any that may be paid is not estimable at DATE gds discussion over DATE NORP has been developing a direct connection technology designed to distribute its fare content and bookings capability directly to t...</td>\n",
       "      <td>Pos</td>\n",
       "      <td>False</td>\n",
       "    </tr>\n",
       "    <tr>\n",
       "      <th>2</th>\n",
       "      <td>AAP</td>\n",
       "      <td>item CARDINAL managements discussion and analysis of financial condition and results of operations of this annual report on form CARDINAL in addition selected financial data for our segments is available in note CARDINAL segment and related information of the notes to consolidated financial statements included in item CARDINAL exhibits financial statement schedules of this annual report on form CARDINAL aap segment at DATE we operated CARDINAL ORG stores within GPE GPE and GPE we operated CARDINAL stores throughout CARDINAL states in the northeastern southeastern and midwestern regions of ...</td>\n",
       "      <td>Pos</td>\n",
       "      <td>False</td>\n",
       "    </tr>\n",
       "    <tr>\n",
       "      <th>3</th>\n",
       "      <td>ABC</td>\n",
       "      <td>item CARDINAL item CARDINAL financial statements and supplementary data report of ORG   young llp independent auditors to the board of directors and stockholders of ORG we have audited the accompanying consolidated balance sheets of ORG as of DATE and DATE and the related consolidated statements of operations changes in stockholders equity and cash flows for each of DATE in the period ended DATE our audits also included the financial statement schedules listed in the index at item CARDINAL these financial statements and schedules are the responsibility of the companys management our respon...</td>\n",
       "      <td>Pos</td>\n",
       "      <td>False</td>\n",
       "    </tr>\n",
       "    <tr>\n",
       "      <th>4</th>\n",
       "      <td>ACEV</td>\n",
       "      <td>item CARDINAL quantitative and qualitative disclosure about market risk CARDINAL item CARDINAL financial statements and supplementary data CARDINAL item CARDINAL changes in and disagreements with accountants on accounting and financial disclosure CARDINAL item CARDINAL controls and procedures CARDINAL item CARDINAL other information CARDINAL part iii CARDINAL item CARDINAL directors executive officer and corporate governance CARDINAL item CARDINAL executive compensation CARDINAL item CARDINAL security ownership of certain beneficial owners and management and related stockholder matters CAR...</td>\n",
       "      <td>Pos</td>\n",
       "      <td>False</td>\n",
       "    </tr>\n",
       "  </tbody>\n",
       "</table>\n",
       "</div>"
      ],
      "text/plain": [
       "  Ticker  \\\n",
       "0   AACI   \n",
       "1    AAL   \n",
       "2    AAP   \n",
       "3    ABC   \n",
       "4   ACEV   \n",
       "\n",
       "                                                                                                                                                                                                                                                                                                                                                                                                                                                                                                                                                                                                                      Text  \\\n",
       "0  item CARDINAL management ’s discussion and analysis of financial condition and results of operations the following discussion and analysis of the company ’s financial condition and results of operations should be read in conjunction with the financial statements and the notes thereto contained elsewhere in this report references to the “ company ” “ us ” or “ we ” refer to ORG i cautionary note regarding forwardlooking statements this annual report on form CARDINAL includes forwardlooking statements within the meaning of LAW of the securities act of DATE as amended and LAW of the securitie...   \n",
       "1  item CARDINAL on DATE the federal aviation administration ORG proposed a CARDINAL civil penalty against NORP claiming that NORP failed to properly perform certain portions of an faa airworthiness directive concerning certain wiring to the ORG ORG aircraft auxiliary hydraulic pump NORP plans to challenge the proposed civil penalty the company has concluded that the amount of the penalty if any that may be paid is not estimable at DATE gds discussion over DATE NORP has been developing a direct connection technology designed to distribute its fare content and bookings capability directly to t...   \n",
       "2  item CARDINAL managements discussion and analysis of financial condition and results of operations of this annual report on form CARDINAL in addition selected financial data for our segments is available in note CARDINAL segment and related information of the notes to consolidated financial statements included in item CARDINAL exhibits financial statement schedules of this annual report on form CARDINAL aap segment at DATE we operated CARDINAL ORG stores within GPE GPE and GPE we operated CARDINAL stores throughout CARDINAL states in the northeastern southeastern and midwestern regions of ...   \n",
       "3  item CARDINAL item CARDINAL financial statements and supplementary data report of ORG   young llp independent auditors to the board of directors and stockholders of ORG we have audited the accompanying consolidated balance sheets of ORG as of DATE and DATE and the related consolidated statements of operations changes in stockholders equity and cash flows for each of DATE in the period ended DATE our audits also included the financial statement schedules listed in the index at item CARDINAL these financial statements and schedules are the responsibility of the companys management our respon...   \n",
       "4  item CARDINAL quantitative and qualitative disclosure about market risk CARDINAL item CARDINAL financial statements and supplementary data CARDINAL item CARDINAL changes in and disagreements with accountants on accounting and financial disclosure CARDINAL item CARDINAL controls and procedures CARDINAL item CARDINAL other information CARDINAL part iii CARDINAL item CARDINAL directors executive officer and corporate governance CARDINAL item CARDINAL executive compensation CARDINAL item CARDINAL security ownership of certain beneficial owners and management and related stockholder matters CAR...   \n",
       "\n",
       "  Label  Is_Valid  \n",
       "0   Pos     False  \n",
       "1   Pos     False  \n",
       "2   Pos     False  \n",
       "3   Pos     False  \n",
       "4   Pos     False  "
      ]
     },
     "execution_count": 60,
     "metadata": {},
     "output_type": "execute_result"
    }
   ],
   "source": [
    "ma_trn_10_K.head()"
   ]
  },
  {
   "cell_type": "code",
   "execution_count": null,
   "id": "518f3852-51d3-44d0-9110-18d5693ede23",
   "metadata": {},
   "outputs": [],
   "source": [
    "ma_trn_10_K['Text'] = [i.lower() for i in ma_trn_10_K.Text]"
   ]
  },
  {
   "cell_type": "code",
   "execution_count": 64,
   "id": "f13cb531-93f5-4400-91da-55c6b48b2c54",
   "metadata": {},
   "outputs": [
    {
     "data": {
      "text/html": [
       "<div>\n",
       "<style scoped>\n",
       "    .dataframe tbody tr th:only-of-type {\n",
       "        vertical-align: middle;\n",
       "    }\n",
       "\n",
       "    .dataframe tbody tr th {\n",
       "        vertical-align: top;\n",
       "    }\n",
       "\n",
       "    .dataframe thead th {\n",
       "        text-align: right;\n",
       "    }\n",
       "</style>\n",
       "<table border=\"1\" class=\"dataframe\">\n",
       "  <thead>\n",
       "    <tr style=\"text-align: right;\">\n",
       "      <th></th>\n",
       "      <th>Ticker</th>\n",
       "      <th>Text</th>\n",
       "      <th>Label</th>\n",
       "      <th>Is_Valid</th>\n",
       "    </tr>\n",
       "  </thead>\n",
       "  <tbody>\n",
       "    <tr>\n",
       "      <th>0</th>\n",
       "      <td>AACI</td>\n",
       "      <td>item cardinal management ’s discussion and analysis of financial condition and results of operations the following discussion and analysis of the company ’s financial condition and results of operations should be read in conjunction with the financial statements and the notes thereto contained elsewhere in this report references to the “ company ” “ us ” or “ we ” refer to org i cautionary note regarding forwardlooking statements this annual report on form cardinal includes forwardlooking statements within the meaning of law of the securities act of date as amended and law of the securitie...</td>\n",
       "      <td>Pos</td>\n",
       "      <td>False</td>\n",
       "    </tr>\n",
       "    <tr>\n",
       "      <th>1</th>\n",
       "      <td>AAL</td>\n",
       "      <td>item cardinal on date the federal aviation administration org proposed a cardinal civil penalty against norp claiming that norp failed to properly perform certain portions of an faa airworthiness directive concerning certain wiring to the org org aircraft auxiliary hydraulic pump norp plans to challenge the proposed civil penalty the company has concluded that the amount of the penalty if any that may be paid is not estimable at date gds discussion over date norp has been developing a direct connection technology designed to distribute its fare content and bookings capability directly to t...</td>\n",
       "      <td>Pos</td>\n",
       "      <td>False</td>\n",
       "    </tr>\n",
       "    <tr>\n",
       "      <th>2</th>\n",
       "      <td>AAP</td>\n",
       "      <td>item cardinal managements discussion and analysis of financial condition and results of operations of this annual report on form cardinal in addition selected financial data for our segments is available in note cardinal segment and related information of the notes to consolidated financial statements included in item cardinal exhibits financial statement schedules of this annual report on form cardinal aap segment at date we operated cardinal org stores within gpe gpe and gpe we operated cardinal stores throughout cardinal states in the northeastern southeastern and midwestern regions of ...</td>\n",
       "      <td>Pos</td>\n",
       "      <td>False</td>\n",
       "    </tr>\n",
       "    <tr>\n",
       "      <th>3</th>\n",
       "      <td>ABC</td>\n",
       "      <td>item cardinal item cardinal financial statements and supplementary data report of org   young llp independent auditors to the board of directors and stockholders of org we have audited the accompanying consolidated balance sheets of org as of date and date and the related consolidated statements of operations changes in stockholders equity and cash flows for each of date in the period ended date our audits also included the financial statement schedules listed in the index at item cardinal these financial statements and schedules are the responsibility of the companys management our respon...</td>\n",
       "      <td>Pos</td>\n",
       "      <td>False</td>\n",
       "    </tr>\n",
       "    <tr>\n",
       "      <th>4</th>\n",
       "      <td>ACEV</td>\n",
       "      <td>item cardinal quantitative and qualitative disclosure about market risk cardinal item cardinal financial statements and supplementary data cardinal item cardinal changes in and disagreements with accountants on accounting and financial disclosure cardinal item cardinal controls and procedures cardinal item cardinal other information cardinal part iii cardinal item cardinal directors executive officer and corporate governance cardinal item cardinal executive compensation cardinal item cardinal security ownership of certain beneficial owners and management and related stockholder matters car...</td>\n",
       "      <td>Pos</td>\n",
       "      <td>False</td>\n",
       "    </tr>\n",
       "  </tbody>\n",
       "</table>\n",
       "</div>"
      ],
      "text/plain": [
       "  Ticker  \\\n",
       "0   AACI   \n",
       "1    AAL   \n",
       "2    AAP   \n",
       "3    ABC   \n",
       "4   ACEV   \n",
       "\n",
       "                                                                                                                                                                                                                                                                                                                                                                                                                                                                                                                                                                                                                      Text  \\\n",
       "0  item cardinal management ’s discussion and analysis of financial condition and results of operations the following discussion and analysis of the company ’s financial condition and results of operations should be read in conjunction with the financial statements and the notes thereto contained elsewhere in this report references to the “ company ” “ us ” or “ we ” refer to org i cautionary note regarding forwardlooking statements this annual report on form cardinal includes forwardlooking statements within the meaning of law of the securities act of date as amended and law of the securitie...   \n",
       "1  item cardinal on date the federal aviation administration org proposed a cardinal civil penalty against norp claiming that norp failed to properly perform certain portions of an faa airworthiness directive concerning certain wiring to the org org aircraft auxiliary hydraulic pump norp plans to challenge the proposed civil penalty the company has concluded that the amount of the penalty if any that may be paid is not estimable at date gds discussion over date norp has been developing a direct connection technology designed to distribute its fare content and bookings capability directly to t...   \n",
       "2  item cardinal managements discussion and analysis of financial condition and results of operations of this annual report on form cardinal in addition selected financial data for our segments is available in note cardinal segment and related information of the notes to consolidated financial statements included in item cardinal exhibits financial statement schedules of this annual report on form cardinal aap segment at date we operated cardinal org stores within gpe gpe and gpe we operated cardinal stores throughout cardinal states in the northeastern southeastern and midwestern regions of ...   \n",
       "3  item cardinal item cardinal financial statements and supplementary data report of org   young llp independent auditors to the board of directors and stockholders of org we have audited the accompanying consolidated balance sheets of org as of date and date and the related consolidated statements of operations changes in stockholders equity and cash flows for each of date in the period ended date our audits also included the financial statement schedules listed in the index at item cardinal these financial statements and schedules are the responsibility of the companys management our respon...   \n",
       "4  item cardinal quantitative and qualitative disclosure about market risk cardinal item cardinal financial statements and supplementary data cardinal item cardinal changes in and disagreements with accountants on accounting and financial disclosure cardinal item cardinal controls and procedures cardinal item cardinal other information cardinal part iii cardinal item cardinal directors executive officer and corporate governance cardinal item cardinal executive compensation cardinal item cardinal security ownership of certain beneficial owners and management and related stockholder matters car...   \n",
       "\n",
       "  Label  Is_Valid  \n",
       "0   Pos     False  \n",
       "1   Pos     False  \n",
       "2   Pos     False  \n",
       "3   Pos     False  \n",
       "4   Pos     False  "
      ]
     },
     "execution_count": 64,
     "metadata": {},
     "output_type": "execute_result"
    }
   ],
   "source": [
    "ma_trn_10_K.head()"
   ]
  },
  {
   "cell_type": "code",
   "execution_count": 61,
   "id": "97fe6072-974c-4acd-8016-97a3e80352e8",
   "metadata": {},
   "outputs": [],
   "source": [
    "ner_leb = [len(i) for i in ma_trn_10_K.Text]"
   ]
  },
  {
   "cell_type": "code",
   "execution_count": 62,
   "id": "e8d69005-9b11-4bf9-b436-91391bffca16",
   "metadata": {},
   "outputs": [
    {
     "data": {
      "text/plain": [
       "2383309"
      ]
     },
     "execution_count": 62,
     "metadata": {},
     "output_type": "execute_result"
    }
   ],
   "source": [
    "max(ner_leb)"
   ]
  },
  {
   "cell_type": "code",
   "execution_count": 65,
   "id": "4b4803ee-ae65-41e7-ba9f-39d389219917",
   "metadata": {},
   "outputs": [
    {
     "data": {
      "text/plain": [
       "(array([334., 240., 163., 127.,  96.,  56.,  26.,  13.,   7.,  14.,   5.,\n",
       "          3.,   1.,   3.,   0.,   0.,   0.,   0.,   0.,   0.,   0.,   1.,\n",
       "          0.,   0.,   0.,   0.,   0.,   0.,   0.,   0.,   0.,   0.,   0.,\n",
       "          0.,   0.,   0.,   0.,   0.,   0.,   1.]),\n",
       " array([1.33400000e+03, 6.08833750e+04, 1.20432750e+05, 1.79982125e+05,\n",
       "        2.39531500e+05, 2.99080875e+05, 3.58630250e+05, 4.18179625e+05,\n",
       "        4.77729000e+05, 5.37278375e+05, 5.96827750e+05, 6.56377125e+05,\n",
       "        7.15926500e+05, 7.75475875e+05, 8.35025250e+05, 8.94574625e+05,\n",
       "        9.54124000e+05, 1.01367338e+06, 1.07322275e+06, 1.13277212e+06,\n",
       "        1.19232150e+06, 1.25187088e+06, 1.31142025e+06, 1.37096962e+06,\n",
       "        1.43051900e+06, 1.49006838e+06, 1.54961775e+06, 1.60916712e+06,\n",
       "        1.66871650e+06, 1.72826588e+06, 1.78781525e+06, 1.84736462e+06,\n",
       "        1.90691400e+06, 1.96646338e+06, 2.02601275e+06, 2.08556212e+06,\n",
       "        2.14511150e+06, 2.20466088e+06, 2.26421025e+06, 2.32375962e+06,\n",
       "        2.38330900e+06]),\n",
       " <BarContainer object of 40 artists>)"
      ]
     },
     "execution_count": 65,
     "metadata": {},
     "output_type": "execute_result"
    },
    {
     "data": {
      "image/png": "[encoded data removed]",
      "text/plain": [
       "<Figure size 640x480 with 1 Axes>"
      ]
     },
     "metadata": {},
     "output_type": "display_data"
    }
   ],
   "source": [
    "plt.hist(ner_leb, bins =40)"
   ]
  },
  {
   "cell_type": "code",
   "execution_count": 67,
   "id": "ed197a93-e64e-4655-ba12-e210ac7ae6f4",
   "metadata": {},
   "outputs": [],
   "source": [
    "pickle.dump(ma_trn_10_K, open(\"ma_trn_10_K_NER.pkl\", \"wb\"))"
   ]
  },
  {
   "cell_type": "code",
   "execution_count": 4,
   "id": "362925aa-c544-45d7-9812-5f6fadeecca9",
   "metadata": {},
   "outputs": [],
   "source": [
    "ma_trn_10_K = pickle.load(open(\"ma_trn_10_K_NER.pkl\", \"rb\"))"
   ]
  },
  {
   "cell_type": "code",
   "execution_count": 17,
   "id": "53a94ae4-8ec6-47c3-b1fd-ed12e56536bd",
   "metadata": {},
   "outputs": [],
   "source": [
    "ma_trn_10_K[\"input\"] = [i[:100000] for i in ma_trn_10_K.Text] #get the first 100K characters"
   ]
  },
  {
   "cell_type": "markdown",
   "id": "53ade7a8-9e6b-4ea4-97ea-c4811cc4a748",
   "metadata": {},
   "source": [
    "# load text data"
   ]
  },
  {
   "cell_type": "code",
   "execution_count": 8,
   "id": "a8f210ec-443d-46f5-bf37-b5d6fb9a8bc9",
   "metadata": {},
   "outputs": [
    {
     "data": {
      "text/html": [
       "\n",
       "<style>\n",
       "    /* Turns off some styling */\n",
       "    progress {\n",
       "        /* gets rid of default border in Firefox and Opera. */\n",
       "        border: none;\n",
       "        /* Needs to be in here for Safari polyfill so background images work as expected. */\n",
       "        background-size: auto;\n",
       "    }\n",
       "    progress:not([value]), progress:not([value])::-webkit-progress-bar {\n",
       "        background: repeating-linear-gradient(45deg, #7e7e7e, #7e7e7e 10px, #5c5c5c 10px, #5c5c5c 20px);\n",
       "    }\n",
       "    .progress-bar-interrupted, .progress-bar-interrupted::-webkit-progress-bar {\n",
       "        background: #F44336;\n",
       "    }\n",
       "</style>\n"
      ],
      "text/plain": [
       "<IPython.core.display.HTML object>"
      ]
     },
     "metadata": {},
     "output_type": "display_data"
    },
    {
     "data": {
      "text/html": [],
      "text/plain": [
       "<IPython.core.display.HTML object>"
      ]
     },
     "metadata": {},
     "output_type": "display_data"
    }
   ],
   "source": [
    "df_tok, count = tokenize_df(ma_trn_10_K, ['input'])"
   ]
  },
  {
   "cell_type": "code",
   "execution_count": 9,
   "id": "bd3c43b5-118e-4927-8194-e1ebad905c83",
   "metadata": {},
   "outputs": [],
   "source": [
    "pickle.dump((df_tok, count), open(\"ma_trn_token_vocab.pkl\", \"wb\"))"
   ]
  },
  {
   "cell_type": "code",
   "execution_count": 5,
   "id": "4e64deba-4b9d-4d7b-b74a-e31e6bc6954e",
   "metadata": {},
   "outputs": [],
   "source": [
    "_, count = pickle.load(open(\"ma_trn_token_vocab.pkl\", \"rb\"))"
   ]
  },
  {
   "cell_type": "code",
   "execution_count": 35,
   "id": "7f529df0-0bec-49a7-8ccc-25ecf2653e33",
   "metadata": {},
   "outputs": [
    {
     "data": {
      "text/html": [
       "<div>\n",
       "<style scoped>\n",
       "    .dataframe tbody tr th:only-of-type {\n",
       "        vertical-align: middle;\n",
       "    }\n",
       "\n",
       "    .dataframe tbody tr th {\n",
       "        vertical-align: top;\n",
       "    }\n",
       "\n",
       "    .dataframe thead th {\n",
       "        text-align: right;\n",
       "    }\n",
       "</style>\n",
       "<table border=\"1\" class=\"dataframe\">\n",
       "  <thead>\n",
       "    <tr style=\"text-align: right;\">\n",
       "      <th></th>\n",
       "      <th>Ticker</th>\n",
       "      <th>Text</th>\n",
       "      <th>Label</th>\n",
       "      <th>Is_Valid</th>\n",
       "      <th>text</th>\n",
       "      <th>text_length</th>\n",
       "    </tr>\n",
       "  </thead>\n",
       "  <tbody>\n",
       "    <tr>\n",
       "      <th>0</th>\n",
       "      <td>AACI</td>\n",
       "      <td>item cardinal management ’s discussion and analysis of financial condition and results of operations the following discussion and analysis of the company ’s financial condition and results of operations should be read in conjunction with the financial statements and the notes thereto contained elsewhere in this report references to the “ company ” “ us ” or “ we ” refer to org i cautionary note regarding forwardlooking statements this annual report on form cardinal includes forwardlooking statements within the meaning of law of the securities act of date as amended and law of the securitie...</td>\n",
       "      <td>Pos</td>\n",
       "      <td>False</td>\n",
       "      <td>[xxbos, item, cardinal, management, ’s, discussion, and, analysis, of, financial, condition, and, results, of, operations, the, following, discussion, and, analysis, of, the, company, ’s, financial, condition, and, results, of, operations, should, be, read, in, conjunction, with, the, financial, statements, and, the, notes, thereto, contained, elsewhere, in, this, report, references, to, the, “, company, ”, “, us, ”, or, “, we, ”, refer, to, org, i, cautionary, note, regarding, forwardlooking, statements, this, annual, report, on, form, cardinal, includes, forwardlooking, statements, withi...</td>\n",
       "      <td>16049</td>\n",
       "    </tr>\n",
       "    <tr>\n",
       "      <th>1</th>\n",
       "      <td>AAL</td>\n",
       "      <td>item cardinal on date the federal aviation administration org proposed a cardinal civil penalty against norp claiming that norp failed to properly perform certain portions of an faa airworthiness directive concerning certain wiring to the org org aircraft auxiliary hydraulic pump norp plans to challenge the proposed civil penalty the company has concluded that the amount of the penalty if any that may be paid is not estimable at date gds discussion over date norp has been developing a direct connection technology designed to distribute its fare content and bookings capability directly to t...</td>\n",
       "      <td>Pos</td>\n",
       "      <td>False</td>\n",
       "      <td>[xxbos, item, cardinal, on, date, the, federal, aviation, administration, org, proposed, a, cardinal, civil, penalty, against, norp, claiming, that, norp, failed, to, properly, perform, certain, portions, of, an, faa, airworthiness, directive, concerning, certain, wiring, to, the, org, org, aircraft, auxiliary, hydraulic, pump, norp, plans, to, challenge, the, proposed, civil, penalty, the, company, has, concluded, that, the, amount, of, the, penalty, if, any, that, may, be, paid, is, not, estimable, at, date, gds, discussion, over, date, norp, has, been, developing, a, direct, connection,...</td>\n",
       "      <td>11302</td>\n",
       "    </tr>\n",
       "    <tr>\n",
       "      <th>2</th>\n",
       "      <td>AAP</td>\n",
       "      <td>item cardinal managements discussion and analysis of financial condition and results of operations of this annual report on form cardinal in addition selected financial data for our segments is available in note cardinal segment and related information of the notes to consolidated financial statements included in item cardinal exhibits financial statement schedules of this annual report on form cardinal aap segment at date we operated cardinal org stores within gpe gpe and gpe we operated cardinal stores throughout cardinal states in the northeastern southeastern and midwestern regions of ...</td>\n",
       "      <td>Pos</td>\n",
       "      <td>False</td>\n",
       "      <td>[xxbos, item, cardinal, managements, discussion, and, analysis, of, financial, condition, and, results, of, operations, of, this, annual, report, on, form, cardinal, in, addition, selected, financial, data, for, our, segments, is, available, in, note, cardinal, segment, and, related, information, of, the, notes, to, consolidated, financial, statements, included, in, item, cardinal, exhibits, financial, statement, schedules, of, this, annual, report, on, form, cardinal, aap, segment, at, date, we, operated, cardinal, org, stores, within, gpe, gpe, and, gpe, we, operated, cardinal, stores, t...</td>\n",
       "      <td>15425</td>\n",
       "    </tr>\n",
       "    <tr>\n",
       "      <th>3</th>\n",
       "      <td>ABC</td>\n",
       "      <td>item cardinal item cardinal financial statements and supplementary data report of org   young llp independent auditors to the board of directors and stockholders of org we have audited the accompanying consolidated balance sheets of org as of date and date and the related consolidated statements of operations changes in stockholders equity and cash flows for each of date in the period ended date our audits also included the financial statement schedules listed in the index at item cardinal these financial statements and schedules are the responsibility of the companys management our respon...</td>\n",
       "      <td>Pos</td>\n",
       "      <td>False</td>\n",
       "      <td>[xxbos, item, cardinal, item, cardinal, financial, statements, and, supplementary, data, report, of, org, young, llp, independent, auditors, to, the, board, of, directors, and, stockholders, of, org, we, have, audited, the, accompanying, consolidated, balance, sheets, of, org, as, of, date, and, date, and, the, related, consolidated, statements, of, operations, changes, in, stockholders, equity, and, cash, flows, for, each, of, date, in, the, period, ended, date, our, audits, also, included, the, financial, statement, schedules, listed, in, the, index, at, item, cardinal, these, financial,...</td>\n",
       "      <td>11121</td>\n",
       "    </tr>\n",
       "    <tr>\n",
       "      <th>4</th>\n",
       "      <td>ACEV</td>\n",
       "      <td>item cardinal quantitative and qualitative disclosure about market risk cardinal item cardinal financial statements and supplementary data cardinal item cardinal changes in and disagreements with accountants on accounting and financial disclosure cardinal item cardinal controls and procedures cardinal item cardinal other information cardinal part iii cardinal item cardinal directors executive officer and corporate governance cardinal item cardinal executive compensation cardinal item cardinal security ownership of certain beneficial owners and management and related stockholder matters car...</td>\n",
       "      <td>Pos</td>\n",
       "      <td>False</td>\n",
       "      <td>[xxbos, item, cardinal, quantitative, and, qualitative, disclosure, about, market, risk, cardinal, item, cardinal, financial, statements, and, supplementary, data, cardinal, item, cardinal, changes, in, and, disagreements, with, accountants, on, accounting, and, financial, disclosure, cardinal, item, cardinal, controls, and, procedures, cardinal, item, cardinal, other, information, cardinal, part, xxrep, 3, i, cardinal, item, cardinal, directors, executive, officer, and, corporate, governance, cardinal, item, cardinal, executive, compensation, cardinal, item, cardinal, security, ownership,...</td>\n",
       "      <td>15952</td>\n",
       "    </tr>\n",
       "  </tbody>\n",
       "</table>\n",
       "</div>"
      ],
      "text/plain": [
       "  Ticker  \\\n",
       "0   AACI   \n",
       "1    AAL   \n",
       "2    AAP   \n",
       "3    ABC   \n",
       "4   ACEV   \n",
       "\n",
       "                                                                                                                                                                                                                                                                                                                                                                                                                                                                                                                                                                                                                      Text  \\\n",
       "0  item cardinal management ’s discussion and analysis of financial condition and results of operations the following discussion and analysis of the company ’s financial condition and results of operations should be read in conjunction with the financial statements and the notes thereto contained elsewhere in this report references to the “ company ” “ us ” or “ we ” refer to org i cautionary note regarding forwardlooking statements this annual report on form cardinal includes forwardlooking statements within the meaning of law of the securities act of date as amended and law of the securitie...   \n",
       "1  item cardinal on date the federal aviation administration org proposed a cardinal civil penalty against norp claiming that norp failed to properly perform certain portions of an faa airworthiness directive concerning certain wiring to the org org aircraft auxiliary hydraulic pump norp plans to challenge the proposed civil penalty the company has concluded that the amount of the penalty if any that may be paid is not estimable at date gds discussion over date norp has been developing a direct connection technology designed to distribute its fare content and bookings capability directly to t...   \n",
       "2  item cardinal managements discussion and analysis of financial condition and results of operations of this annual report on form cardinal in addition selected financial data for our segments is available in note cardinal segment and related information of the notes to consolidated financial statements included in item cardinal exhibits financial statement schedules of this annual report on form cardinal aap segment at date we operated cardinal org stores within gpe gpe and gpe we operated cardinal stores throughout cardinal states in the northeastern southeastern and midwestern regions of ...   \n",
       "3  item cardinal item cardinal financial statements and supplementary data report of org   young llp independent auditors to the board of directors and stockholders of org we have audited the accompanying consolidated balance sheets of org as of date and date and the related consolidated statements of operations changes in stockholders equity and cash flows for each of date in the period ended date our audits also included the financial statement schedules listed in the index at item cardinal these financial statements and schedules are the responsibility of the companys management our respon...   \n",
       "4  item cardinal quantitative and qualitative disclosure about market risk cardinal item cardinal financial statements and supplementary data cardinal item cardinal changes in and disagreements with accountants on accounting and financial disclosure cardinal item cardinal controls and procedures cardinal item cardinal other information cardinal part iii cardinal item cardinal directors executive officer and corporate governance cardinal item cardinal executive compensation cardinal item cardinal security ownership of certain beneficial owners and management and related stockholder matters car...   \n",
       "\n",
       "  Label  Is_Valid  \\\n",
       "0   Pos     False   \n",
       "1   Pos     False   \n",
       "2   Pos     False   \n",
       "3   Pos     False   \n",
       "4   Pos     False   \n",
       "\n",
       "                                                                                                                                                                                                                                                                                                                                                                                                                                                                                                                                                                                                                      text  \\\n",
       "0  [xxbos, item, cardinal, management, ’s, discussion, and, analysis, of, financial, condition, and, results, of, operations, the, following, discussion, and, analysis, of, the, company, ’s, financial, condition, and, results, of, operations, should, be, read, in, conjunction, with, the, financial, statements, and, the, notes, thereto, contained, elsewhere, in, this, report, references, to, the, “, company, ”, “, us, ”, or, “, we, ”, refer, to, org, i, cautionary, note, regarding, forwardlooking, statements, this, annual, report, on, form, cardinal, includes, forwardlooking, statements, withi...   \n",
       "1  [xxbos, item, cardinal, on, date, the, federal, aviation, administration, org, proposed, a, cardinal, civil, penalty, against, norp, claiming, that, norp, failed, to, properly, perform, certain, portions, of, an, faa, airworthiness, directive, concerning, certain, wiring, to, the, org, org, aircraft, auxiliary, hydraulic, pump, norp, plans, to, challenge, the, proposed, civil, penalty, the, company, has, concluded, that, the, amount, of, the, penalty, if, any, that, may, be, paid, is, not, estimable, at, date, gds, discussion, over, date, norp, has, been, developing, a, direct, connection,...   \n",
       "2  [xxbos, item, cardinal, managements, discussion, and, analysis, of, financial, condition, and, results, of, operations, of, this, annual, report, on, form, cardinal, in, addition, selected, financial, data, for, our, segments, is, available, in, note, cardinal, segment, and, related, information, of, the, notes, to, consolidated, financial, statements, included, in, item, cardinal, exhibits, financial, statement, schedules, of, this, annual, report, on, form, cardinal, aap, segment, at, date, we, operated, cardinal, org, stores, within, gpe, gpe, and, gpe, we, operated, cardinal, stores, t...   \n",
       "3  [xxbos, item, cardinal, item, cardinal, financial, statements, and, supplementary, data, report, of, org, young, llp, independent, auditors, to, the, board, of, directors, and, stockholders, of, org, we, have, audited, the, accompanying, consolidated, balance, sheets, of, org, as, of, date, and, date, and, the, related, consolidated, statements, of, operations, changes, in, stockholders, equity, and, cash, flows, for, each, of, date, in, the, period, ended, date, our, audits, also, included, the, financial, statement, schedules, listed, in, the, index, at, item, cardinal, these, financial,...   \n",
       "4  [xxbos, item, cardinal, quantitative, and, qualitative, disclosure, about, market, risk, cardinal, item, cardinal, financial, statements, and, supplementary, data, cardinal, item, cardinal, changes, in, and, disagreements, with, accountants, on, accounting, and, financial, disclosure, cardinal, item, cardinal, controls, and, procedures, cardinal, item, cardinal, other, information, cardinal, part, xxrep, 3, i, cardinal, item, cardinal, directors, executive, officer, and, corporate, governance, cardinal, item, cardinal, executive, compensation, cardinal, item, cardinal, security, ownership,...   \n",
       "\n",
       "   text_length  \n",
       "0        16049  \n",
       "1        11302  \n",
       "2        15425  \n",
       "3        11121  \n",
       "4        15952  "
      ]
     },
     "execution_count": 35,
     "metadata": {},
     "output_type": "execute_result"
    }
   ],
   "source": [
    "df_tok.head()"
   ]
  },
  {
   "cell_type": "markdown",
   "id": "1ede3baf-a882-479e-90bd-7f496b454252",
   "metadata": {},
   "source": [
    "# load LM data"
   ]
  },
  {
   "cell_type": "code",
   "execution_count": 10,
   "id": "1a883696-29c7-4676-9cf5-e3e4883a4151",
   "metadata": {},
   "outputs": [
    {
     "data": {
      "text/html": [
       "\n",
       "<style>\n",
       "    /* Turns off some styling */\n",
       "    progress {\n",
       "        /* gets rid of default border in Firefox and Opera. */\n",
       "        border: none;\n",
       "        /* Needs to be in here for Safari polyfill so background images work as expected. */\n",
       "        background-size: auto;\n",
       "    }\n",
       "    progress:not([value]), progress:not([value])::-webkit-progress-bar {\n",
       "        background: repeating-linear-gradient(45deg, #7e7e7e, #7e7e7e 10px, #5c5c5c 10px, #5c5c5c 20px);\n",
       "    }\n",
       "    .progress-bar-interrupted, .progress-bar-interrupted::-webkit-progress-bar {\n",
       "        background: #F44336;\n",
       "    }\n",
       "</style>\n"
      ],
      "text/plain": [
       "<IPython.core.display.HTML object>"
      ]
     },
     "metadata": {},
     "output_type": "display_data"
    },
    {
     "data": {
      "text/html": [],
      "text/plain": [
       "<IPython.core.display.HTML object>"
      ]
     },
     "metadata": {},
     "output_type": "display_data"
    }
   ],
   "source": [
    "dls_lm = TextDataLoaders.from_df(ma_trn_10_K, path = '.', vocab = make_vocab(count), text_col= 'input', is_lm = True, \n",
    "                                 bs = 64, device=torch.device('cuda'))"
   ]
  },
  {
   "cell_type": "code",
   "execution_count": 11,
   "id": "20d776eb-8e26-47bd-b0d8-a63da05f030a",
   "metadata": {},
   "outputs": [
    {
     "data": {
      "text/html": [
       "<table border=\"1\" class=\"dataframe\">\n",
       "  <thead>\n",
       "    <tr style=\"text-align: right;\">\n",
       "      <th></th>\n",
       "      <th>text</th>\n",
       "      <th>text_</th>\n",
       "    </tr>\n",
       "  </thead>\n",
       "  <tbody>\n",
       "    <tr>\n",
       "      <th>0</th>\n",
       "      <td>xxbos item cardinal management ’s discussion and analysis of financial condition and results of operations incorporated by reference from exhibit cardinal annual report section entitled “ management ’s discussion and analysis of financial condition and results of operations ” item cardinal quantitative and qualitative disclosures about market risk incorporated by reference from exhibit cardinal annual report section entitled “ market risk ” item cardinal financial statements and supplementary data incorporated by reference</td>\n",
       "      <td>item cardinal management ’s discussion and analysis of financial condition and results of operations incorporated by reference from exhibit cardinal annual report section entitled “ management ’s discussion and analysis of financial condition and results of operations ” item cardinal quantitative and qualitative disclosures about market risk incorporated by reference from exhibit cardinal annual report section entitled “ market risk ” item cardinal financial statements and supplementary data incorporated by reference from</td>\n",
       "    </tr>\n",
       "    <tr>\n",
       "      <th>1</th>\n",
       "      <td>that are not expected to recur the loss on extinguishment of debt in date represents the cardinal make whole payment related to settlement of the mortgage on our corporate campus that was sold during date our net miscellaneous income consists of our earnings of joint venture investments royalty income gains and losses related to foreign exchange transactions and realized gains and impairments of other investments the majority of miscellaneous income is attributable</td>\n",
       "      <td>are not expected to recur the loss on extinguishment of debt in date represents the cardinal make whole payment related to settlement of the mortgage on our corporate campus that was sold during date our net miscellaneous income consists of our earnings of joint venture investments royalty income gains and losses related to foreign exchange transactions and realized gains and impairments of other investments the majority of miscellaneous income is attributable to</td>\n",
       "    </tr>\n",
       "  </tbody>\n",
       "</table>"
      ],
      "text/plain": [
       "<IPython.core.display.HTML object>"
      ]
     },
     "metadata": {},
     "output_type": "display_data"
    }
   ],
   "source": [
    "dls_lm.show_batch(max_n=2)"
   ]
  },
  {
   "cell_type": "code",
   "execution_count": 46,
   "id": "fc545183-d238-431f-a0b9-34f72d016250",
   "metadata": {},
   "outputs": [
    {
     "data": {
      "text/plain": [
       "(34384, 2218)"
      ]
     },
     "execution_count": 46,
     "metadata": {},
     "output_type": "execute_result"
    }
   ],
   "source": [
    "len(dls_lm.vocab), len(dls_lm.train)"
   ]
  },
  {
   "cell_type": "code",
   "execution_count": 47,
   "id": "8af4b7bb-cf13-4aa4-8fab-9964a0fead71",
   "metadata": {},
   "outputs": [
    {
     "data": {
      "text/plain": [
       "['xxunk',\n",
       " 'xxpad',\n",
       " 'xxbos',\n",
       " 'xxeos',\n",
       " 'xxfld',\n",
       " 'xxrep',\n",
       " 'xxwrep',\n",
       " 'xxup',\n",
       " 'xxmaj',\n",
       " 'the']"
      ]
     },
     "execution_count": 47,
     "metadata": {},
     "output_type": "execute_result"
    }
   ],
   "source": [
    "dls_lm.vocab[:10]"
   ]
  },
  {
   "cell_type": "code",
   "execution_count": 12,
   "id": "1be022c1-f055-439c-b7b0-557792f6e7e7",
   "metadata": {},
   "outputs": [],
   "source": [
    "pickle.dump(dls_lm, open(\"dls_lm.pkl\", \"wb\"))"
   ]
  },
  {
   "cell_type": "markdown",
   "id": "c4102ffc-edd8-4e67-ba32-584acaf4c2ea",
   "metadata": {},
   "source": [
    "# train language model"
   ]
  },
  {
   "cell_type": "code",
   "execution_count": 13,
   "id": "4571e4b3-168e-431a-806c-86e3c0afb204",
   "metadata": {},
   "outputs": [],
   "source": [
    "learn = language_model_learner(dls_lm, AWD_LSTM , metrics=[accuracy, Perplexity()], path=\".\", wd=0.1).to_fp16()"
   ]
  },
  {
   "cell_type": "code",
   "execution_count": null,
   "id": "cad601bd-0ac5-489f-87c7-3927d4928548",
   "metadata": {},
   "outputs": [],
   "source": [
    "callback_lm = SaveModelCallBack(learn, minitor=\"accuracy\", mode=\"max\", name = \"Best_SEC_LM\") "
   ]
  },
  {
   "cell_type": "code",
   "execution_count": 14,
   "id": "f3739930-7bd4-4e14-820a-ee0489240c27",
   "metadata": {},
   "outputs": [
    {
     "data": {
      "text/html": [
       "\n",
       "<style>\n",
       "    /* Turns off some styling */\n",
       "    progress {\n",
       "        /* gets rid of default border in Firefox and Opera. */\n",
       "        border: none;\n",
       "        /* Needs to be in here for Safari polyfill so background images work as expected. */\n",
       "        background-size: auto;\n",
       "    }\n",
       "    progress:not([value]), progress:not([value])::-webkit-progress-bar {\n",
       "        background: repeating-linear-gradient(45deg, #7e7e7e, #7e7e7e 10px, #5c5c5c 10px, #5c5c5c 20px);\n",
       "    }\n",
       "    .progress-bar-interrupted, .progress-bar-interrupted::-webkit-progress-bar {\n",
       "        background: #F44336;\n",
       "    }\n",
       "</style>\n"
      ],
      "text/plain": [
       "<IPython.core.display.HTML object>"
      ]
     },
     "metadata": {},
     "output_type": "display_data"
    },
    {
     "data": {
      "text/html": [
       "<table border=\"1\" class=\"dataframe\">\n",
       "  <thead>\n",
       "    <tr style=\"text-align: left;\">\n",
       "      <th>epoch</th>\n",
       "      <th>train_loss</th>\n",
       "      <th>valid_loss</th>\n",
       "      <th>accuracy</th>\n",
       "      <th>perplexity</th>\n",
       "      <th>time</th>\n",
       "    </tr>\n",
       "  </thead>\n",
       "  <tbody>\n",
       "    <tr>\n",
       "      <td>0</td>\n",
       "      <td>4.184661</td>\n",
       "      <td>3.896935</td>\n",
       "      <td>0.312333</td>\n",
       "      <td>49.251263</td>\n",
       "      <td>31:20</td>\n",
       "    </tr>\n",
       "  </tbody>\n",
       "</table>"
      ],
      "text/plain": [
       "<IPython.core.display.HTML object>"
      ]
     },
     "metadata": {},
     "output_type": "display_data"
    }
   ],
   "source": [
    "%%time \n",
    "\n",
    "learn.fit_one_cycle(1, 0.003, moms = (0.8, 0.7, 0.8), callbacks = [callback_lm])"
   ]
  },
  {
   "cell_type": "code",
   "execution_count": null,
   "id": "1132526d-fd2a-44f8-bf90-f83d1ca0866b",
   "metadata": {},
   "outputs": [],
   "source": [
    "#learn.fit_one_cycle(1, 0.003, moms = (0.8, 0.7, 0.8)) \n",
    "           \n",
    "#      epoch\ttrain_loss\tvalid_loss\taccuracy\tperplexity\ttime\n",
    "# :180000  0\t4.835928\t3.276992\t0.471030\t26.495962\t5:31:13\n",
    "# :100000  0\t4.840034\t3.239537\t0.528664\t25.521891\t5:42:26"
   ]
  },
  {
   "cell_type": "code",
   "execution_count": 15,
   "id": "6eb5f304-beff-4773-86ed-890ba6fcc5e8",
   "metadata": {},
   "outputs": [],
   "source": [
    "learn.save_encoder('finetuned_LM_0')"
   ]
  },
  {
   "cell_type": "code",
   "execution_count": 16,
   "id": "2d17555c-fbf9-4291-a19d-a6ee583a8367",
   "metadata": {},
   "outputs": [
    {
     "data": {
      "text/html": [
       "\n",
       "<style>\n",
       "    /* Turns off some styling */\n",
       "    progress {\n",
       "        /* gets rid of default border in Firefox and Opera. */\n",
       "        border: none;\n",
       "        /* Needs to be in here for Safari polyfill so background images work as expected. */\n",
       "        background-size: auto;\n",
       "    }\n",
       "    progress:not([value]), progress:not([value])::-webkit-progress-bar {\n",
       "        background: repeating-linear-gradient(45deg, #7e7e7e, #7e7e7e 10px, #5c5c5c 10px, #5c5c5c 20px);\n",
       "    }\n",
       "    .progress-bar-interrupted, .progress-bar-interrupted::-webkit-progress-bar {\n",
       "        background: #F44336;\n",
       "    }\n",
       "</style>\n"
      ],
      "text/plain": [
       "<IPython.core.display.HTML object>"
      ]
     },
     "metadata": {},
     "output_type": "display_data"
    },
    {
     "data": {
      "text/html": [],
      "text/plain": [
       "<IPython.core.display.HTML object>"
      ]
     },
     "metadata": {},
     "output_type": "display_data"
    },
    {
     "data": {
      "text/plain": [
       "SuggestedLRs(minimum=0.005754399299621582, steep=3.311311274956097e-06, valley=0.0063095735386013985, slide=0.004365158267319202)"
      ]
     },
     "execution_count": 16,
     "metadata": {},
     "output_type": "execute_result"
    },
    {
     "data": {
      "image/png": "[encoded data removed]",
      "text/plain": [
       "<Figure size 640x480 with 1 Axes>"
      ]
     },
     "metadata": {},
     "output_type": "display_data"
    }
   ],
   "source": [
    "#finding the learning rate for language learner\n",
    "learn.lr_find(suggest_funcs=(minimum, steep, valley, slide)) #use valley as LR"
   ]
  },
  {
   "cell_type": "code",
   "execution_count": 17,
   "id": "33fc4676-3ba9-4ca0-bca6-326448bb8f71",
   "metadata": {},
   "outputs": [
    {
     "data": {
      "text/html": [
       "\n",
       "<style>\n",
       "    /* Turns off some styling */\n",
       "    progress {\n",
       "        /* gets rid of default border in Firefox and Opera. */\n",
       "        border: none;\n",
       "        /* Needs to be in here for Safari polyfill so background images work as expected. */\n",
       "        background-size: auto;\n",
       "    }\n",
       "    progress:not([value]), progress:not([value])::-webkit-progress-bar {\n",
       "        background: repeating-linear-gradient(45deg, #7e7e7e, #7e7e7e 10px, #5c5c5c 10px, #5c5c5c 20px);\n",
       "    }\n",
       "    .progress-bar-interrupted, .progress-bar-interrupted::-webkit-progress-bar {\n",
       "        background: #F44336;\n",
       "    }\n",
       "</style>\n"
      ],
      "text/plain": [
       "<IPython.core.display.HTML object>"
      ]
     },
     "metadata": {},
     "output_type": "display_data"
    },
    {
     "data": {
      "text/html": [],
      "text/plain": [
       "<IPython.core.display.HTML object>"
      ]
     },
     "metadata": {},
     "output_type": "display_data"
    },
    {
     "data": {
      "text/html": [
       "\n",
       "<style>\n",
       "    /* Turns off some styling */\n",
       "    progress {\n",
       "        /* gets rid of default border in Firefox and Opera. */\n",
       "        border: none;\n",
       "        /* Needs to be in here for Safari polyfill so background images work as expected. */\n",
       "        background-size: auto;\n",
       "    }\n",
       "    progress:not([value]), progress:not([value])::-webkit-progress-bar {\n",
       "        background: repeating-linear-gradient(45deg, #7e7e7e, #7e7e7e 10px, #5c5c5c 10px, #5c5c5c 20px);\n",
       "    }\n",
       "    .progress-bar-interrupted, .progress-bar-interrupted::-webkit-progress-bar {\n",
       "        background: #F44336;\n",
       "    }\n",
       "</style>\n"
      ],
      "text/plain": [
       "<IPython.core.display.HTML object>"
      ]
     },
     "metadata": {},
     "output_type": "display_data"
    },
    {
     "data": {
      "text/html": [],
      "text/plain": [
       "<IPython.core.display.HTML object>"
      ]
     },
     "metadata": {},
     "output_type": "display_data"
    },
    {
     "name": "stdout",
     "output_type": "stream",
     "text": [
      "the net loss of surplus in this period is above cardinal of the estimated net loss for the period of date cardinal of the net loss in the date consisting of net income and losses from credit losses primarily from discontinued operations in date on date of the decrease in operating income cardinal the\n",
      "the net loss of cardinal tax credits from intentional violations of law of the law of the act of date and date law of the state of org contributed cardinal tax expense and income taxes other than the pretax income in date and date respectively the tax rate was cardinal for date compared to\n"
     ]
    }
   ],
   "source": [
    "TEXT = 'the net loss of'\n",
    "N_WORDS = 50\n",
    "N_SENTENCES = 2\n",
    "preds = [learn.predict(TEXT, N_WORDS, temperature=0.75) for _ in range(N_SENTENCES)]\n",
    "print('\\n'.join(preds)) #repeating pattern"
   ]
  },
  {
   "cell_type": "code",
   "execution_count": 22,
   "id": "fe041112-b255-4e22-9b6d-b333aadb0fc8",
   "metadata": {},
   "outputs": [
    {
     "data": {
      "text/html": [
       "\n",
       "<style>\n",
       "    /* Turns off some styling */\n",
       "    progress {\n",
       "        /* gets rid of default border in Firefox and Opera. */\n",
       "        border: none;\n",
       "        /* Needs to be in here for Safari polyfill so background images work as expected. */\n",
       "        background-size: auto;\n",
       "    }\n",
       "    progress:not([value]), progress:not([value])::-webkit-progress-bar {\n",
       "        background: repeating-linear-gradient(45deg, #7e7e7e, #7e7e7e 10px, #5c5c5c 10px, #5c5c5c 20px);\n",
       "    }\n",
       "    .progress-bar-interrupted, .progress-bar-interrupted::-webkit-progress-bar {\n",
       "        background: #F44336;\n",
       "    }\n",
       "</style>\n"
      ],
      "text/plain": [
       "<IPython.core.display.HTML object>"
      ]
     },
     "metadata": {},
     "output_type": "display_data"
    },
    {
     "data": {
      "text/html": [
       "<table border=\"1\" class=\"dataframe\">\n",
       "  <thead>\n",
       "    <tr style=\"text-align: left;\">\n",
       "      <th>epoch</th>\n",
       "      <th>train_loss</th>\n",
       "      <th>valid_loss</th>\n",
       "      <th>accuracy</th>\n",
       "      <th>perplexity</th>\n",
       "      <th>time</th>\n",
       "    </tr>\n",
       "  </thead>\n",
       "  <tbody>\n",
       "    <tr>\n",
       "      <td>0</td>\n",
       "      <td>4.035351</td>\n",
       "      <td>3.844885</td>\n",
       "      <td>0.317821</td>\n",
       "      <td>46.753311</td>\n",
       "      <td>31:30</td>\n",
       "    </tr>\n",
       "  </tbody>\n",
       "</table>"
      ],
      "text/plain": [
       "<IPython.core.display.HTML object>"
      ]
     },
     "metadata": {},
     "output_type": "display_data"
    },
    {
     "data": {
      "text/html": [
       "\n",
       "<style>\n",
       "    /* Turns off some styling */\n",
       "    progress {\n",
       "        /* gets rid of default border in Firefox and Opera. */\n",
       "        border: none;\n",
       "        /* Needs to be in here for Safari polyfill so background images work as expected. */\n",
       "        background-size: auto;\n",
       "    }\n",
       "    progress:not([value]), progress:not([value])::-webkit-progress-bar {\n",
       "        background: repeating-linear-gradient(45deg, #7e7e7e, #7e7e7e 10px, #5c5c5c 10px, #5c5c5c 20px);\n",
       "    }\n",
       "    .progress-bar-interrupted, .progress-bar-interrupted::-webkit-progress-bar {\n",
       "        background: #F44336;\n",
       "    }\n",
       "</style>\n"
      ],
      "text/plain": [
       "<IPython.core.display.HTML object>"
      ]
     },
     "metadata": {},
     "output_type": "display_data"
    },
    {
     "data": {
      "text/html": [
       "<table border=\"1\" class=\"dataframe\">\n",
       "  <thead>\n",
       "    <tr style=\"text-align: left;\">\n",
       "      <th>epoch</th>\n",
       "      <th>train_loss</th>\n",
       "      <th>valid_loss</th>\n",
       "      <th>accuracy</th>\n",
       "      <th>perplexity</th>\n",
       "      <th>time</th>\n",
       "    </tr>\n",
       "  </thead>\n",
       "  <tbody>\n",
       "    <tr>\n",
       "      <td>0</td>\n",
       "      <td>3.779136</td>\n",
       "      <td>3.632834</td>\n",
       "      <td>0.341033</td>\n",
       "      <td>37.819843</td>\n",
       "      <td>32:51</td>\n",
       "    </tr>\n",
       "    <tr>\n",
       "      <td>1</td>\n",
       "      <td>3.675510</td>\n",
       "      <td>3.510386</td>\n",
       "      <td>0.355176</td>\n",
       "      <td>33.461197</td>\n",
       "      <td>32:03</td>\n",
       "    </tr>\n",
       "    <tr>\n",
       "      <td>2</td>\n",
       "      <td>3.528002</td>\n",
       "      <td>3.443253</td>\n",
       "      <td>0.363280</td>\n",
       "      <td>31.288561</td>\n",
       "      <td>30:52</td>\n",
       "    </tr>\n",
       "    <tr>\n",
       "      <td>3</td>\n",
       "      <td>3.522334</td>\n",
       "      <td>3.408198</td>\n",
       "      <td>0.367454</td>\n",
       "      <td>30.210752</td>\n",
       "      <td>30:37</td>\n",
       "    </tr>\n",
       "    <tr>\n",
       "      <td>4</td>\n",
       "      <td>3.509359</td>\n",
       "      <td>3.401062</td>\n",
       "      <td>0.368486</td>\n",
       "      <td>29.995953</td>\n",
       "      <td>31:52</td>\n",
       "    </tr>\n",
       "  </tbody>\n",
       "</table>"
      ],
      "text/plain": [
       "<IPython.core.display.HTML object>"
      ]
     },
     "metadata": {},
     "output_type": "display_data"
    }
   ],
   "source": [
    "#https://github.com/fastai/fastai2/blob/master/fastai2/callback/schedule.py#L151\n",
    "learn.fine_tune(epochs=5) # base_lr = 0.0063"
   ]
  },
  {
   "cell_type": "code",
   "execution_count": 23,
   "id": "7552f000-e2aa-4cea-a66f-4ebaefc1e230",
   "metadata": {},
   "outputs": [
    {
     "data": {
      "text/html": [
       "\n",
       "<style>\n",
       "    /* Turns off some styling */\n",
       "    progress {\n",
       "        /* gets rid of default border in Firefox and Opera. */\n",
       "        border: none;\n",
       "        /* Needs to be in here for Safari polyfill so background images work as expected. */\n",
       "        background-size: auto;\n",
       "    }\n",
       "    progress:not([value]), progress:not([value])::-webkit-progress-bar {\n",
       "        background: repeating-linear-gradient(45deg, #7e7e7e, #7e7e7e 10px, #5c5c5c 10px, #5c5c5c 20px);\n",
       "    }\n",
       "    .progress-bar-interrupted, .progress-bar-interrupted::-webkit-progress-bar {\n",
       "        background: #F44336;\n",
       "    }\n",
       "</style>\n"
      ],
      "text/plain": [
       "<IPython.core.display.HTML object>"
      ]
     },
     "metadata": {},
     "output_type": "display_data"
    },
    {
     "data": {
      "text/html": [],
      "text/plain": [
       "<IPython.core.display.HTML object>"
      ]
     },
     "metadata": {},
     "output_type": "display_data"
    },
    {
     "data": {
      "text/html": [
       "\n",
       "<style>\n",
       "    /* Turns off some styling */\n",
       "    progress {\n",
       "        /* gets rid of default border in Firefox and Opera. */\n",
       "        border: none;\n",
       "        /* Needs to be in here for Safari polyfill so background images work as expected. */\n",
       "        background-size: auto;\n",
       "    }\n",
       "    progress:not([value]), progress:not([value])::-webkit-progress-bar {\n",
       "        background: repeating-linear-gradient(45deg, #7e7e7e, #7e7e7e 10px, #5c5c5c 10px, #5c5c5c 20px);\n",
       "    }\n",
       "    .progress-bar-interrupted, .progress-bar-interrupted::-webkit-progress-bar {\n",
       "        background: #F44336;\n",
       "    }\n",
       "</style>\n"
      ],
      "text/plain": [
       "<IPython.core.display.HTML object>"
      ]
     },
     "metadata": {},
     "output_type": "display_data"
    },
    {
     "data": {
      "text/html": [],
      "text/plain": [
       "<IPython.core.display.HTML object>"
      ]
     },
     "metadata": {},
     "output_type": "display_data"
    },
    {
     "name": "stdout",
     "output_type": "stream",
     "text": [
      "the net loss of operations for date the period ended date was primarily attributed to the release of cardinal of net income from operations in date and an increase in the net loss of cardinal from org in date the net loss is the result of cardinal components of the net loss date in\n",
      "the net loss of income in date and the income tax benefit of cardinal and the impact of the reclassification of tax attributes related to the adoption of the created tax cuts and jobs act date cash and cash equivalents and restricted cash were used as cash provided by operating activities of cardinal the\n"
     ]
    }
   ],
   "source": [
    "TEXT = 'the net loss of'\n",
    "N_WORDS = 50\n",
    "N_SENTENCES = 2\n",
    "preds = [learn.predict(TEXT, N_WORDS, temperature=0.75) for _ in range(N_SENTENCES)]\n",
    "print('\\n'.join(preds))"
   ]
  },
  {
   "cell_type": "code",
   "execution_count": 24,
   "id": "fa284fa4-1e81-4666-b91f-cc5649657da8",
   "metadata": {},
   "outputs": [],
   "source": [
    "learn.save_encoder('finetuned_LM_1')"
   ]
  },
  {
   "cell_type": "code",
   "execution_count": 25,
   "id": "d782d463-0e5c-463c-9ead-3cd999dc60b6",
   "metadata": {},
   "outputs": [
    {
     "data": {
      "text/html": [
       "\n",
       "<style>\n",
       "    /* Turns off some styling */\n",
       "    progress {\n",
       "        /* gets rid of default border in Firefox and Opera. */\n",
       "        border: none;\n",
       "        /* Needs to be in here for Safari polyfill so background images work as expected. */\n",
       "        background-size: auto;\n",
       "    }\n",
       "    progress:not([value]), progress:not([value])::-webkit-progress-bar {\n",
       "        background: repeating-linear-gradient(45deg, #7e7e7e, #7e7e7e 10px, #5c5c5c 10px, #5c5c5c 20px);\n",
       "    }\n",
       "    .progress-bar-interrupted, .progress-bar-interrupted::-webkit-progress-bar {\n",
       "        background: #F44336;\n",
       "    }\n",
       "</style>\n"
      ],
      "text/plain": [
       "<IPython.core.display.HTML object>"
      ]
     },
     "metadata": {},
     "output_type": "display_data"
    },
    {
     "data": {
      "text/html": [],
      "text/plain": [
       "<IPython.core.display.HTML object>"
      ]
     },
     "metadata": {},
     "output_type": "display_data"
    },
    {
     "data": {
      "text/html": [
       "<table border=\"1\" class=\"dataframe\">\n",
       "  <thead>\n",
       "    <tr style=\"text-align: right;\">\n",
       "      <th></th>\n",
       "      <th>input</th>\n",
       "      <th>target</th>\n",
       "      <th>pred</th>\n",
       "    </tr>\n",
       "  </thead>\n",
       "  <tbody>\n",
       "    <tr>\n",
       "      <th>0</th>\n",
       "      <td>xxbos item cardinal “ management ’s discussion and analysis of financial condition and results of operations ” we provide an overview of the impact that macroeconomic conditions had on our operations and in org in date we also continued to expand both the breadth and the depth of our products and services through the integration of new and expanded product lines designed to create additional scale advantages see “ strategic acquisitions expansion</td>\n",
       "      <td>item cardinal “ management ’s discussion and analysis of financial condition and results of operations ” we provide an overview of the impact that macroeconomic conditions had on our operations and in org in date we also continued to expand both the breadth and the depth of our products and services through the integration of new and expanded product lines designed to create additional scale advantages see “ strategic acquisitions expansion and</td>\n",
       "      <td>item cardinal management management ’s discussion and analysis of financial condition and results of operations ” the have a understanding of our company of our conditions and on our business and financial the ’s date we announced announced to focus our our global of breadth breadth of our business and services and our introduction of our products existing products offerings and to enhance new functionality and and “ item initiatives ” ”</td>\n",
       "    </tr>\n",
       "    <tr>\n",
       "      <th>1</th>\n",
       "      <td>– cardinal at date and is well within the policy limit of cardinal as are measures at all other shock levels liquidity liquidity is measured by a financial institution ’s ability to raise funds through loan and lease repayments maturing investments deposit growth borrowed funds capital and the sale of highly marketable assets such as investment securities and residential mortgage loans the company ’s liquidity position considering both internal and external sources</td>\n",
       "      <td>cardinal at date and is well within the policy limit of cardinal as are measures at all other shock levels liquidity liquidity is measured by a financial institution ’s ability to raise funds through loan and lease repayments maturing investments deposit growth borrowed funds capital and the sale of highly marketable assets such as investment securities and residential mortgage loans the company ’s liquidity position considering both internal and external sources available</td>\n",
       "      <td>the – date and date expected as the range of of cardinal the of the of date of times scenarios the and and not at the weighted institution that ability to meet capital through its and security agreements and in and accounts and funds and expenditures capital ability of loans liquid securities and as cash securities and securities mortgage loans the company ’s primary is is the the and external sources of</td>\n",
       "    </tr>\n",
       "    <tr>\n",
       "      <th>2</th>\n",
       "      <td>outlook during date we intend to continue to invest in new products and programs new features for our existing products and it infrastructure to scale and operate effectively to meet our strategic objectives we have used cash to acquire businesses and technologies and we anticipate that we may continue to do so in the future the nature of these transactions makes it difficult to predict the amount and timing of such cash</td>\n",
       "      <td>during date we intend to continue to invest in new products and programs new features for our existing products and it infrastructure to scale and operate effectively to meet our strategic objectives we have used cash to acquire businesses and technologies and we anticipate that we may continue to do so in the future the nature of these transactions makes it difficult to predict the amount and timing of such cash requirements</td>\n",
       "      <td>the date the announced to continue to invest in the products and services to products and our products products and services will to improve our improve our in meet our needs needs we expect also our and fund and and businesses that to expect that our will continue to invest so in the future we following of our initiatives will it difficult for predict the timing of timing of future cash flows</td>\n",
       "    </tr>\n",
       "  </tbody>\n",
       "</table>"
      ],
      "text/plain": [
       "<IPython.core.display.HTML object>"
      ]
     },
     "metadata": {},
     "output_type": "display_data"
    }
   ],
   "source": [
    "learn.show_results(max_n=2)"
   ]
  },
  {
   "cell_type": "markdown",
   "id": "97cdcb5d-8344-4f16-bd8b-64f9d6e9ca11",
   "metadata": {},
   "source": [
    "# find best LR and losses"
   ]
  },
  {
   "cell_type": "code",
   "execution_count": 29,
   "id": "9cde0c2e-02ac-4dbc-95d3-c5f9bc3e1322",
   "metadata": {},
   "outputs": [],
   "source": [
    "#learn.lr_find()"
   ]
  },
  {
   "cell_type": "code",
   "execution_count": 30,
   "id": "1874c71e-a16c-401b-8f2d-a0aaca7b12f0",
   "metadata": {},
   "outputs": [],
   "source": [
    "#learn.record.plot(suggestion = True)"
   ]
  },
  {
   "cell_type": "code",
   "execution_count": 31,
   "id": "9d015902-28f4-41fb-b1ce-4d43089261c9",
   "metadata": {},
   "outputs": [],
   "source": [
    "#min_lm_lr = learn.recorder.min_grad_lr"
   ]
  },
  {
   "cell_type": "code",
   "execution_count": 32,
   "id": "1e6af9a6-1d95-4bf8-99fd-aa4fd72cf1b2",
   "metadata": {},
   "outputs": [],
   "source": [
    "#learn.recorder.val_losses[-1]"
   ]
  },
  {
   "cell_type": "code",
   "execution_count": null,
   "id": "1658f90d-8223-4e86-87f6-ae44ff62a585",
   "metadata": {},
   "outputs": [],
   "source": [
    "#learn.recorder.metrics[0]"
   ]
  },
  {
   "cell_type": "code",
   "execution_count": null,
   "id": "a24e7f1c-dad7-42fc-8895-163baf7077c0",
   "metadata": {},
   "outputs": [],
   "source": [
    "learn.unfreeze()\n",
    "learn.fit_one_cycle(5, 1e-3,moms=(0.8,0.7))"
   ]
  },
  {
   "cell_type": "code",
   "execution_count": null,
   "id": "bc3d52d8-ad72-4871-b15f-e37512d35c4b",
   "metadata": {},
   "outputs": [],
   "source": [
    "learn.save_encoder('finetuned_LM_2')"
   ]
  },
  {
   "cell_type": "markdown",
   "id": "0e658f5a-8113-47ad-99b5-5e76aaa73e96",
   "metadata": {},
   "source": [
    "# train a classifer\n",
    "\n",
    "* https://docs.fast.ai/text.data.html\n"
   ]
  },
  {
   "cell_type": "code",
   "execution_count": 52,
   "id": "cc8abc37-4657-4467-882e-0e4e5342200d",
   "metadata": {},
   "outputs": [
    {
     "data": {
      "text/html": [
       "<div>\n",
       "<style scoped>\n",
       "    .dataframe tbody tr th:only-of-type {\n",
       "        vertical-align: middle;\n",
       "    }\n",
       "\n",
       "    .dataframe tbody tr th {\n",
       "        vertical-align: top;\n",
       "    }\n",
       "\n",
       "    .dataframe thead th {\n",
       "        text-align: right;\n",
       "    }\n",
       "</style>\n",
       "<table border=\"1\" class=\"dataframe\">\n",
       "  <thead>\n",
       "    <tr style=\"text-align: right;\">\n",
       "      <th></th>\n",
       "      <th>Ticker</th>\n",
       "      <th>Text</th>\n",
       "      <th>Label</th>\n",
       "      <th>Is_Valid</th>\n",
       "      <th>text</th>\n",
       "      <th>text_length</th>\n",
       "    </tr>\n",
       "  </thead>\n",
       "  <tbody>\n",
       "    <tr>\n",
       "      <th>0</th>\n",
       "      <td>AACI</td>\n",
       "      <td>item cardinal management ’s discussion and analysis of financial condition and results of operations the following discussion and analysis of the company ’s financial condition and results of operations should be read in conjunction with the financial statements and the notes thereto contained elsewhere in this report references to the “ company ” “ us ” or “ we ” refer to org i cautionary note regarding forwardlooking statements this annual report on form cardinal includes forwardlooking statements within the meaning of law of the securities act of date as amended and law of the securitie...</td>\n",
       "      <td>Pos</td>\n",
       "      <td>False</td>\n",
       "      <td>[xxbos, item, cardinal, management, ’s, discussion, and, analysis, of, financial, condition, and, results, of, operations, the, following, discussion, and, analysis, of, the, company, ’s, financial, condition, and, results, of, operations, should, be, read, in, conjunction, with, the, financial, statements, and, the, notes, thereto, contained, elsewhere, in, this, report, references, to, the, “, company, ”, “, us, ”, or, “, we, ”, refer, to, org, i, cautionary, note, regarding, forwardlooking, statements, this, annual, report, on, form, cardinal, includes, forwardlooking, statements, withi...</td>\n",
       "      <td>16049</td>\n",
       "    </tr>\n",
       "  </tbody>\n",
       "</table>\n",
       "</div>"
      ],
      "text/plain": [
       "  Ticker  \\\n",
       "0   AACI   \n",
       "\n",
       "                                                                                                                                                                                                                                                                                                                                                                                                                                                                                                                                                                                                                      Text  \\\n",
       "0  item cardinal management ’s discussion and analysis of financial condition and results of operations the following discussion and analysis of the company ’s financial condition and results of operations should be read in conjunction with the financial statements and the notes thereto contained elsewhere in this report references to the “ company ” “ us ” or “ we ” refer to org i cautionary note regarding forwardlooking statements this annual report on form cardinal includes forwardlooking statements within the meaning of law of the securities act of date as amended and law of the securitie...   \n",
       "\n",
       "  Label  Is_Valid  \\\n",
       "0   Pos     False   \n",
       "\n",
       "                                                                                                                                                                                                                                                                                                                                                                                                                                                                                                                                                                                                                      text  \\\n",
       "0  [xxbos, item, cardinal, management, ’s, discussion, and, analysis, of, financial, condition, and, results, of, operations, the, following, discussion, and, analysis, of, the, company, ’s, financial, condition, and, results, of, operations, should, be, read, in, conjunction, with, the, financial, statements, and, the, notes, thereto, contained, elsewhere, in, this, report, references, to, the, “, company, ”, “, us, ”, or, “, we, ”, refer, to, org, i, cautionary, note, regarding, forwardlooking, statements, this, annual, report, on, form, cardinal, includes, forwardlooking, statements, withi...   \n",
       "\n",
       "   text_length  \n",
       "0        16049  "
      ]
     },
     "execution_count": 52,
     "metadata": {},
     "output_type": "execute_result"
    }
   ],
   "source": [
    "df_tok.head(1)"
   ]
  },
  {
   "cell_type": "code",
   "execution_count": 51,
   "id": "c954226e-5168-4b47-aae6-495cdbbc7188",
   "metadata": {},
   "outputs": [
    {
     "data": {
      "text/html": [
       "<div>\n",
       "<style scoped>\n",
       "    .dataframe tbody tr th:only-of-type {\n",
       "        vertical-align: middle;\n",
       "    }\n",
       "\n",
       "    .dataframe tbody tr th {\n",
       "        vertical-align: top;\n",
       "    }\n",
       "\n",
       "    .dataframe thead th {\n",
       "        text-align: right;\n",
       "    }\n",
       "</style>\n",
       "<table border=\"1\" class=\"dataframe\">\n",
       "  <thead>\n",
       "    <tr style=\"text-align: right;\">\n",
       "      <th></th>\n",
       "      <th>Ticker</th>\n",
       "      <th>Text</th>\n",
       "      <th>Label</th>\n",
       "      <th>Is_Valid</th>\n",
       "      <th>input</th>\n",
       "    </tr>\n",
       "  </thead>\n",
       "  <tbody>\n",
       "    <tr>\n",
       "      <th>0</th>\n",
       "      <td>AACI</td>\n",
       "      <td>item cardinal management ’s discussion and analysis of financial condition and results of operations the following discussion and analysis of the company ’s financial condition and results of operations should be read in conjunction with the financial statements and the notes thereto contained elsewhere in this report references to the “ company ” “ us ” or “ we ” refer to org i cautionary note regarding forwardlooking statements this annual report on form cardinal includes forwardlooking statements within the meaning of law of the securities act of date as amended and law of the securitie...</td>\n",
       "      <td>Pos</td>\n",
       "      <td>False</td>\n",
       "      <td>item cardinal management ’s discussion and analysis of financial condition and results of operations the following discussion and analysis of the company ’s financial condition and results of operations should be read in conjunction with the financial statements and the notes thereto contained elsewhere in this report references to the “ company ” “ us ” or “ we ” refer to org i cautionary note regarding forwardlooking statements this annual report on form cardinal includes forwardlooking statements within the meaning of law of the securities act of date as amended and law of the securitie...</td>\n",
       "    </tr>\n",
       "  </tbody>\n",
       "</table>\n",
       "</div>"
      ],
      "text/plain": [
       "  Ticker  \\\n",
       "0   AACI   \n",
       "\n",
       "                                                                                                                                                                                                                                                                                                                                                                                                                                                                                                                                                                                                                      Text  \\\n",
       "0  item cardinal management ’s discussion and analysis of financial condition and results of operations the following discussion and analysis of the company ’s financial condition and results of operations should be read in conjunction with the financial statements and the notes thereto contained elsewhere in this report references to the “ company ” “ us ” or “ we ” refer to org i cautionary note regarding forwardlooking statements this annual report on form cardinal includes forwardlooking statements within the meaning of law of the securities act of date as amended and law of the securitie...   \n",
       "\n",
       "  Label  Is_Valid  \\\n",
       "0   Pos     False   \n",
       "\n",
       "                                                                                                                                                                                                                                                                                                                                                                                                                                                                                                                                                                                                                     input  \n",
       "0  item cardinal management ’s discussion and analysis of financial condition and results of operations the following discussion and analysis of the company ’s financial condition and results of operations should be read in conjunction with the financial statements and the notes thereto contained elsewhere in this report references to the “ company ” “ us ” or “ we ” refer to org i cautionary note regarding forwardlooking statements this annual report on form cardinal includes forwardlooking statements within the meaning of law of the securities act of date as amended and law of the securitie...  "
      ]
     },
     "execution_count": 51,
     "metadata": {},
     "output_type": "execute_result"
    }
   ],
   "source": [
    "ma_trn_10_K.head(1)"
   ]
  },
  {
   "cell_type": "code",
   "execution_count": 18,
   "id": "99f3a87d-072e-49c8-a813-b80eeaebefa4",
   "metadata": {},
   "outputs": [
    {
     "data": {
      "text/html": [
       "\n",
       "<style>\n",
       "    /* Turns off some styling */\n",
       "    progress {\n",
       "        /* gets rid of default border in Firefox and Opera. */\n",
       "        border: none;\n",
       "        /* Needs to be in here for Safari polyfill so background images work as expected. */\n",
       "        background-size: auto;\n",
       "    }\n",
       "    progress:not([value]), progress:not([value])::-webkit-progress-bar {\n",
       "        background: repeating-linear-gradient(45deg, #7e7e7e, #7e7e7e 10px, #5c5c5c 10px, #5c5c5c 20px);\n",
       "    }\n",
       "    .progress-bar-interrupted, .progress-bar-interrupted::-webkit-progress-bar {\n",
       "        background: #F44336;\n",
       "    }\n",
       "</style>\n"
      ],
      "text/plain": [
       "<IPython.core.display.HTML object>"
      ]
     },
     "metadata": {},
     "output_type": "display_data"
    },
    {
     "data": {
      "text/html": [],
      "text/plain": [
       "<IPython.core.display.HTML object>"
      ]
     },
     "metadata": {},
     "output_type": "display_data"
    }
   ],
   "source": [
    "dls_cls = TextDataLoaders.from_df(ma_trn_10_K, path = \".\" , vocab = make_vocab(count), bs = 50, device=torch.device('cuda'),\n",
    "                                  text_col= 'input', label_col= 'Label', valid_col = \"Is_Valid\")"
   ]
  },
  {
   "cell_type": "code",
   "execution_count": 19,
   "id": "afd75887-ba33-4f65-a407-54601769476a",
   "metadata": {},
   "outputs": [],
   "source": [
    "pickle.dump(dls_cls, open(\"dls_cls.pkl\", \"wb\"))"
   ]
  },
  {
   "cell_type": "code",
   "execution_count": 6,
   "id": "d9de9d1c-e9b6-4b48-8fbe-16dfd53d1e5d",
   "metadata": {},
   "outputs": [],
   "source": [
    "dls_cls = pickle.load(open(\"dls_cls.pkl\", \"rb\"))"
   ]
  },
  {
   "cell_type": "code",
   "execution_count": 20,
   "id": "2d601a4c-3700-48e5-852f-5092f0b4ddf7",
   "metadata": {},
   "outputs": [],
   "source": [
    "learn_cls = text_classifier_learner(dls_cls, AWD_LSTM , drop_mult=0.5, metrics=[accuracy, FBeta(beta=1)], max_len = 16000)\n",
    "\n",
    "learn_cls = learn_cls.load_encoder('finetuned_LM_1')"
   ]
  },
  {
   "cell_type": "code",
   "execution_count": 21,
   "id": "0c100d68-fafc-4baf-91ba-9fdbd06863e6",
   "metadata": {},
   "outputs": [],
   "source": [
    "callback_cls = SaveModelCallback(monitor='valid_loss', fname = \"Best_M&A_CLS_model\")"
   ]
  },
  {
   "cell_type": "code",
   "execution_count": 22,
   "id": "a9975e65-c5c8-45c4-81f1-31c3fa138416",
   "metadata": {},
   "outputs": [
    {
     "data": {
      "text/html": [
       "\n",
       "<style>\n",
       "    /* Turns off some styling */\n",
       "    progress {\n",
       "        /* gets rid of default border in Firefox and Opera. */\n",
       "        border: none;\n",
       "        /* Needs to be in here for Safari polyfill so background images work as expected. */\n",
       "        background-size: auto;\n",
       "    }\n",
       "    progress:not([value]), progress:not([value])::-webkit-progress-bar {\n",
       "        background: repeating-linear-gradient(45deg, #7e7e7e, #7e7e7e 10px, #5c5c5c 10px, #5c5c5c 20px);\n",
       "    }\n",
       "    .progress-bar-interrupted, .progress-bar-interrupted::-webkit-progress-bar {\n",
       "        background: #F44336;\n",
       "    }\n",
       "</style>\n"
      ],
      "text/plain": [
       "<IPython.core.display.HTML object>"
      ]
     },
     "metadata": {},
     "output_type": "display_data"
    },
    {
     "data": {
      "text/html": [
       "\n",
       "    <div>\n",
       "      <progress value='0' class='' max='1' style='width:300px; height:20px; vertical-align: middle;'></progress>\n",
       "      0.00% [0/1 00:00&lt;?]\n",
       "    </div>\n",
       "    \n",
       "<table border=\"1\" class=\"dataframe\">\n",
       "  <thead>\n",
       "    <tr style=\"text-align: left;\">\n",
       "      <th>epoch</th>\n",
       "      <th>train_loss</th>\n",
       "      <th>valid_loss</th>\n",
       "      <th>accuracy</th>\n",
       "      <th>fbeta_score</th>\n",
       "      <th>time</th>\n",
       "    </tr>\n",
       "  </thead>\n",
       "  <tbody>\n",
       "  </tbody>\n",
       "</table><p>\n",
       "\n",
       "    <div>\n",
       "      <progress value='0' class='' max='17' style='width:300px; height:20px; vertical-align: middle;'></progress>\n",
       "      0.00% [0/17 00:00&lt;?]\n",
       "    </div>\n",
       "    "
      ],
      "text/plain": [
       "<IPython.core.display.HTML object>"
      ]
     },
     "metadata": {},
     "output_type": "display_data"
    },
    {
     "ename": "OutOfMemoryError",
     "evalue": "CUDA out of memory. Tried to allocate 80.00 MiB (GPU 0; 11.76 GiB total capacity; 9.23 GiB already allocated; 75.75 MiB free; 9.65 GiB reserved in total by PyTorch) If reserved memory is >> allocated memory try setting max_split_size_mb to avoid fragmentation.  See documentation for Memory Management and PYTORCH_CUDA_ALLOC_CONF",
     "output_type": "error",
     "traceback": [
      "\u001b[0;31m---------------------------------------------------------------------------\u001b[0m",
      "\u001b[0;31mOutOfMemoryError\u001b[0m                          Traceback (most recent call last)",
      "\u001b[0;32m/tmp/ipykernel_118070/3608021631.py\u001b[0m in \u001b[0;36m<module>\u001b[0;34m\u001b[0m\n\u001b[0;32m----> 1\u001b[0;31m \u001b[0mlearn_cls\u001b[0m\u001b[0;34m.\u001b[0m\u001b[0mfit_one_cycle\u001b[0m\u001b[0;34m(\u001b[0m\u001b[0;36m1\u001b[0m\u001b[0;34m,\u001b[0m \u001b[0;36m2e-3\u001b[0m\u001b[0;34m,\u001b[0m \u001b[0mmoms\u001b[0m \u001b[0;34m=\u001b[0m \u001b[0;34m(\u001b[0m\u001b[0;36m0.8\u001b[0m\u001b[0;34m,\u001b[0m \u001b[0;36m0.7\u001b[0m\u001b[0;34m,\u001b[0m \u001b[0;36m0.8\u001b[0m\u001b[0;34m)\u001b[0m\u001b[0;34m)\u001b[0m\u001b[0;34m\u001b[0m\u001b[0;34m\u001b[0m\u001b[0m\n\u001b[0m",
      "\u001b[0;32m~/anaconda3/lib/python3.9/site-packages/fastai/callback/schedule.py\u001b[0m in \u001b[0;36mfit_one_cycle\u001b[0;34m(self, n_epoch, lr_max, div, div_final, pct_start, wd, moms, cbs, reset_opt, start_epoch)\u001b[0m\n\u001b[1;32m    117\u001b[0m     scheds = {'lr': combined_cos(pct_start, lr_max/div, lr_max, lr_max/div_final),\n\u001b[1;32m    118\u001b[0m               'mom': combined_cos(pct_start, *(self.moms if moms is None else moms))}\n\u001b[0;32m--> 119\u001b[0;31m     \u001b[0mself\u001b[0m\u001b[0;34m.\u001b[0m\u001b[0mfit\u001b[0m\u001b[0;34m(\u001b[0m\u001b[0mn_epoch\u001b[0m\u001b[0;34m,\u001b[0m \u001b[0mcbs\u001b[0m\u001b[0;34m=\u001b[0m\u001b[0mParamScheduler\u001b[0m\u001b[0;34m(\u001b[0m\u001b[0mscheds\u001b[0m\u001b[0;34m)\u001b[0m\u001b[0;34m+\u001b[0m\u001b[0mL\u001b[0m\u001b[0;34m(\u001b[0m\u001b[0mcbs\u001b[0m\u001b[0;34m)\u001b[0m\u001b[0;34m,\u001b[0m \u001b[0mreset_opt\u001b[0m\u001b[0;34m=\u001b[0m\u001b[0mreset_opt\u001b[0m\u001b[0;34m,\u001b[0m \u001b[0mwd\u001b[0m\u001b[0;34m=\u001b[0m\u001b[0mwd\u001b[0m\u001b[0;34m,\u001b[0m \u001b[0mstart_epoch\u001b[0m\u001b[0;34m=\u001b[0m\u001b[0mstart_epoch\u001b[0m\u001b[0;34m)\u001b[0m\u001b[0;34m\u001b[0m\u001b[0;34m\u001b[0m\u001b[0m\n\u001b[0m\u001b[1;32m    120\u001b[0m \u001b[0;34m\u001b[0m\u001b[0m\n\u001b[1;32m    121\u001b[0m \u001b[0;31m# %% ../../nbs/14_callback.schedule.ipynb 50\u001b[0m\u001b[0;34m\u001b[0m\u001b[0;34m\u001b[0m\u001b[0m\n",
      "\u001b[0;32m~/anaconda3/lib/python3.9/site-packages/fastai/learner.py\u001b[0m in \u001b[0;36mfit\u001b[0;34m(self, n_epoch, lr, wd, cbs, reset_opt, start_epoch)\u001b[0m\n\u001b[1;32m    254\u001b[0m             \u001b[0mself\u001b[0m\u001b[0;34m.\u001b[0m\u001b[0mopt\u001b[0m\u001b[0;34m.\u001b[0m\u001b[0mset_hypers\u001b[0m\u001b[0;34m(\u001b[0m\u001b[0mlr\u001b[0m\u001b[0;34m=\u001b[0m\u001b[0mself\u001b[0m\u001b[0;34m.\u001b[0m\u001b[0mlr\u001b[0m \u001b[0;32mif\u001b[0m \u001b[0mlr\u001b[0m \u001b[0;32mis\u001b[0m \u001b[0;32mNone\u001b[0m \u001b[0;32melse\u001b[0m \u001b[0mlr\u001b[0m\u001b[0;34m)\u001b[0m\u001b[0;34m\u001b[0m\u001b[0;34m\u001b[0m\u001b[0m\n\u001b[1;32m    255\u001b[0m             \u001b[0mself\u001b[0m\u001b[0;34m.\u001b[0m\u001b[0mn_epoch\u001b[0m \u001b[0;34m=\u001b[0m \u001b[0mn_epoch\u001b[0m\u001b[0;34m\u001b[0m\u001b[0;34m\u001b[0m\u001b[0m\n\u001b[0;32m--> 256\u001b[0;31m             \u001b[0mself\u001b[0m\u001b[0;34m.\u001b[0m\u001b[0m_with_events\u001b[0m\u001b[0;34m(\u001b[0m\u001b[0mself\u001b[0m\u001b[0;34m.\u001b[0m\u001b[0m_do_fit\u001b[0m\u001b[0;34m,\u001b[0m \u001b[0;34m'fit'\u001b[0m\u001b[0;34m,\u001b[0m \u001b[0mCancelFitException\u001b[0m\u001b[0;34m,\u001b[0m \u001b[0mself\u001b[0m\u001b[0;34m.\u001b[0m\u001b[0m_end_cleanup\u001b[0m\u001b[0;34m)\u001b[0m\u001b[0;34m\u001b[0m\u001b[0;34m\u001b[0m\u001b[0m\n\u001b[0m\u001b[1;32m    257\u001b[0m \u001b[0;34m\u001b[0m\u001b[0m\n\u001b[1;32m    258\u001b[0m     \u001b[0;32mdef\u001b[0m \u001b[0m_end_cleanup\u001b[0m\u001b[0;34m(\u001b[0m\u001b[0mself\u001b[0m\u001b[0;34m)\u001b[0m\u001b[0;34m:\u001b[0m \u001b[0mself\u001b[0m\u001b[0;34m.\u001b[0m\u001b[0mdl\u001b[0m\u001b[0;34m,\u001b[0m\u001b[0mself\u001b[0m\u001b[0;34m.\u001b[0m\u001b[0mxb\u001b[0m\u001b[0;34m,\u001b[0m\u001b[0mself\u001b[0m\u001b[0;34m.\u001b[0m\u001b[0myb\u001b[0m\u001b[0;34m,\u001b[0m\u001b[0mself\u001b[0m\u001b[0;34m.\u001b[0m\u001b[0mpred\u001b[0m\u001b[0;34m,\u001b[0m\u001b[0mself\u001b[0m\u001b[0;34m.\u001b[0m\u001b[0mloss\u001b[0m \u001b[0;34m=\u001b[0m \u001b[0;32mNone\u001b[0m\u001b[0;34m,\u001b[0m\u001b[0;34m(\u001b[0m\u001b[0;32mNone\u001b[0m\u001b[0;34m,\u001b[0m\u001b[0;34m)\u001b[0m\u001b[0;34m,\u001b[0m\u001b[0;34m(\u001b[0m\u001b[0;32mNone\u001b[0m\u001b[0;34m,\u001b[0m\u001b[0;34m)\u001b[0m\u001b[0;34m,\u001b[0m\u001b[0;32mNone\u001b[0m\u001b[0;34m,\u001b[0m\u001b[0;32mNone\u001b[0m\u001b[0;34m\u001b[0m\u001b[0;34m\u001b[0m\u001b[0m\n",
      "\u001b[0;32m~/anaconda3/lib/python3.9/site-packages/fastai/learner.py\u001b[0m in \u001b[0;36m_with_events\u001b[0;34m(self, f, event_type, ex, final)\u001b[0m\n\u001b[1;32m    191\u001b[0m \u001b[0;34m\u001b[0m\u001b[0m\n\u001b[1;32m    192\u001b[0m     \u001b[0;32mdef\u001b[0m \u001b[0m_with_events\u001b[0m\u001b[0;34m(\u001b[0m\u001b[0mself\u001b[0m\u001b[0;34m,\u001b[0m \u001b[0mf\u001b[0m\u001b[0;34m,\u001b[0m \u001b[0mevent_type\u001b[0m\u001b[0;34m,\u001b[0m \u001b[0mex\u001b[0m\u001b[0;34m,\u001b[0m \u001b[0mfinal\u001b[0m\u001b[0;34m=\u001b[0m\u001b[0mnoop\u001b[0m\u001b[0;34m)\u001b[0m\u001b[0;34m:\u001b[0m\u001b[0;34m\u001b[0m\u001b[0;34m\u001b[0m\u001b[0m\n\u001b[0;32m--> 193\u001b[0;31m         \u001b[0;32mtry\u001b[0m\u001b[0;34m:\u001b[0m \u001b[0mself\u001b[0m\u001b[0;34m(\u001b[0m\u001b[0;34mf'before_{event_type}'\u001b[0m\u001b[0;34m)\u001b[0m\u001b[0;34m;\u001b[0m  \u001b[0mf\u001b[0m\u001b[0;34m(\u001b[0m\u001b[0;34m)\u001b[0m\u001b[0;34m\u001b[0m\u001b[0;34m\u001b[0m\u001b[0m\n\u001b[0m\u001b[1;32m    194\u001b[0m         \u001b[0;32mexcept\u001b[0m \u001b[0mex\u001b[0m\u001b[0;34m:\u001b[0m \u001b[0mself\u001b[0m\u001b[0;34m(\u001b[0m\u001b[0;34mf'after_cancel_{event_type}'\u001b[0m\u001b[0;34m)\u001b[0m\u001b[0;34m\u001b[0m\u001b[0;34m\u001b[0m\u001b[0m\n\u001b[1;32m    195\u001b[0m         \u001b[0mself\u001b[0m\u001b[0;34m(\u001b[0m\u001b[0;34mf'after_{event_type}'\u001b[0m\u001b[0;34m)\u001b[0m\u001b[0;34m;\u001b[0m  \u001b[0mfinal\u001b[0m\u001b[0;34m(\u001b[0m\u001b[0;34m)\u001b[0m\u001b[0;34m\u001b[0m\u001b[0;34m\u001b[0m\u001b[0m\n",
      "\u001b[0;32m~/anaconda3/lib/python3.9/site-packages/fastai/learner.py\u001b[0m in \u001b[0;36m_do_fit\u001b[0;34m(self)\u001b[0m\n\u001b[1;32m    243\u001b[0m         \u001b[0;32mfor\u001b[0m \u001b[0mepoch\u001b[0m \u001b[0;32min\u001b[0m \u001b[0mrange\u001b[0m\u001b[0;34m(\u001b[0m\u001b[0mself\u001b[0m\u001b[0;34m.\u001b[0m\u001b[0mn_epoch\u001b[0m\u001b[0;34m)\u001b[0m\u001b[0;34m:\u001b[0m\u001b[0;34m\u001b[0m\u001b[0;34m\u001b[0m\u001b[0m\n\u001b[1;32m    244\u001b[0m             \u001b[0mself\u001b[0m\u001b[0;34m.\u001b[0m\u001b[0mepoch\u001b[0m\u001b[0;34m=\u001b[0m\u001b[0mepoch\u001b[0m\u001b[0;34m\u001b[0m\u001b[0;34m\u001b[0m\u001b[0m\n\u001b[0;32m--> 245\u001b[0;31m             \u001b[0mself\u001b[0m\u001b[0;34m.\u001b[0m\u001b[0m_with_events\u001b[0m\u001b[0;34m(\u001b[0m\u001b[0mself\u001b[0m\u001b[0;34m.\u001b[0m\u001b[0m_do_epoch\u001b[0m\u001b[0;34m,\u001b[0m \u001b[0;34m'epoch'\u001b[0m\u001b[0;34m,\u001b[0m \u001b[0mCancelEpochException\u001b[0m\u001b[0;34m)\u001b[0m\u001b[0;34m\u001b[0m\u001b[0;34m\u001b[0m\u001b[0m\n\u001b[0m\u001b[1;32m    246\u001b[0m \u001b[0;34m\u001b[0m\u001b[0m\n\u001b[1;32m    247\u001b[0m     \u001b[0;32mdef\u001b[0m \u001b[0mfit\u001b[0m\u001b[0;34m(\u001b[0m\u001b[0mself\u001b[0m\u001b[0;34m,\u001b[0m \u001b[0mn_epoch\u001b[0m\u001b[0;34m,\u001b[0m \u001b[0mlr\u001b[0m\u001b[0;34m=\u001b[0m\u001b[0;32mNone\u001b[0m\u001b[0;34m,\u001b[0m \u001b[0mwd\u001b[0m\u001b[0;34m=\u001b[0m\u001b[0;32mNone\u001b[0m\u001b[0;34m,\u001b[0m \u001b[0mcbs\u001b[0m\u001b[0;34m=\u001b[0m\u001b[0;32mNone\u001b[0m\u001b[0;34m,\u001b[0m \u001b[0mreset_opt\u001b[0m\u001b[0;34m=\u001b[0m\u001b[0;32mFalse\u001b[0m\u001b[0;34m,\u001b[0m \u001b[0mstart_epoch\u001b[0m\u001b[0;34m=\u001b[0m\u001b[0;36m0\u001b[0m\u001b[0;34m)\u001b[0m\u001b[0;34m:\u001b[0m\u001b[0;34m\u001b[0m\u001b[0;34m\u001b[0m\u001b[0m\n",
      "\u001b[0;32m~/anaconda3/lib/python3.9/site-packages/fastai/learner.py\u001b[0m in \u001b[0;36m_with_events\u001b[0;34m(self, f, event_type, ex, final)\u001b[0m\n\u001b[1;32m    191\u001b[0m \u001b[0;34m\u001b[0m\u001b[0m\n\u001b[1;32m    192\u001b[0m     \u001b[0;32mdef\u001b[0m \u001b[0m_with_events\u001b[0m\u001b[0;34m(\u001b[0m\u001b[0mself\u001b[0m\u001b[0;34m,\u001b[0m \u001b[0mf\u001b[0m\u001b[0;34m,\u001b[0m \u001b[0mevent_type\u001b[0m\u001b[0;34m,\u001b[0m \u001b[0mex\u001b[0m\u001b[0;34m,\u001b[0m \u001b[0mfinal\u001b[0m\u001b[0;34m=\u001b[0m\u001b[0mnoop\u001b[0m\u001b[0;34m)\u001b[0m\u001b[0;34m:\u001b[0m\u001b[0;34m\u001b[0m\u001b[0;34m\u001b[0m\u001b[0m\n\u001b[0;32m--> 193\u001b[0;31m         \u001b[0;32mtry\u001b[0m\u001b[0;34m:\u001b[0m \u001b[0mself\u001b[0m\u001b[0;34m(\u001b[0m\u001b[0;34mf'before_{event_type}'\u001b[0m\u001b[0;34m)\u001b[0m\u001b[0;34m;\u001b[0m  \u001b[0mf\u001b[0m\u001b[0;34m(\u001b[0m\u001b[0;34m)\u001b[0m\u001b[0;34m\u001b[0m\u001b[0;34m\u001b[0m\u001b[0m\n\u001b[0m\u001b[1;32m    194\u001b[0m         \u001b[0;32mexcept\u001b[0m \u001b[0mex\u001b[0m\u001b[0;34m:\u001b[0m \u001b[0mself\u001b[0m\u001b[0;34m(\u001b[0m\u001b[0;34mf'after_cancel_{event_type}'\u001b[0m\u001b[0;34m)\u001b[0m\u001b[0;34m\u001b[0m\u001b[0;34m\u001b[0m\u001b[0m\n\u001b[1;32m    195\u001b[0m         \u001b[0mself\u001b[0m\u001b[0;34m(\u001b[0m\u001b[0;34mf'after_{event_type}'\u001b[0m\u001b[0;34m)\u001b[0m\u001b[0;34m;\u001b[0m  \u001b[0mfinal\u001b[0m\u001b[0;34m(\u001b[0m\u001b[0;34m)\u001b[0m\u001b[0;34m\u001b[0m\u001b[0;34m\u001b[0m\u001b[0m\n",
      "\u001b[0;32m~/anaconda3/lib/python3.9/site-packages/fastai/learner.py\u001b[0m in \u001b[0;36m_do_epoch\u001b[0;34m(self)\u001b[0m\n\u001b[1;32m    237\u001b[0m \u001b[0;34m\u001b[0m\u001b[0m\n\u001b[1;32m    238\u001b[0m     \u001b[0;32mdef\u001b[0m \u001b[0m_do_epoch\u001b[0m\u001b[0;34m(\u001b[0m\u001b[0mself\u001b[0m\u001b[0;34m)\u001b[0m\u001b[0;34m:\u001b[0m\u001b[0;34m\u001b[0m\u001b[0;34m\u001b[0m\u001b[0m\n\u001b[0;32m--> 239\u001b[0;31m         \u001b[0mself\u001b[0m\u001b[0;34m.\u001b[0m\u001b[0m_do_epoch_train\u001b[0m\u001b[0;34m(\u001b[0m\u001b[0;34m)\u001b[0m\u001b[0;34m\u001b[0m\u001b[0;34m\u001b[0m\u001b[0m\n\u001b[0m\u001b[1;32m    240\u001b[0m         \u001b[0mself\u001b[0m\u001b[0;34m.\u001b[0m\u001b[0m_do_epoch_validate\u001b[0m\u001b[0;34m(\u001b[0m\u001b[0;34m)\u001b[0m\u001b[0;34m\u001b[0m\u001b[0;34m\u001b[0m\u001b[0m\n\u001b[1;32m    241\u001b[0m \u001b[0;34m\u001b[0m\u001b[0m\n",
      "\u001b[0;32m~/anaconda3/lib/python3.9/site-packages/fastai/learner.py\u001b[0m in \u001b[0;36m_do_epoch_train\u001b[0;34m(self)\u001b[0m\n\u001b[1;32m    229\u001b[0m     \u001b[0;32mdef\u001b[0m \u001b[0m_do_epoch_train\u001b[0m\u001b[0;34m(\u001b[0m\u001b[0mself\u001b[0m\u001b[0;34m)\u001b[0m\u001b[0;34m:\u001b[0m\u001b[0;34m\u001b[0m\u001b[0;34m\u001b[0m\u001b[0m\n\u001b[1;32m    230\u001b[0m         \u001b[0mself\u001b[0m\u001b[0;34m.\u001b[0m\u001b[0mdl\u001b[0m \u001b[0;34m=\u001b[0m \u001b[0mself\u001b[0m\u001b[0;34m.\u001b[0m\u001b[0mdls\u001b[0m\u001b[0;34m.\u001b[0m\u001b[0mtrain\u001b[0m\u001b[0;34m\u001b[0m\u001b[0;34m\u001b[0m\u001b[0m\n\u001b[0;32m--> 231\u001b[0;31m         \u001b[0mself\u001b[0m\u001b[0;34m.\u001b[0m\u001b[0m_with_events\u001b[0m\u001b[0;34m(\u001b[0m\u001b[0mself\u001b[0m\u001b[0;34m.\u001b[0m\u001b[0mall_batches\u001b[0m\u001b[0;34m,\u001b[0m \u001b[0;34m'train'\u001b[0m\u001b[0;34m,\u001b[0m \u001b[0mCancelTrainException\u001b[0m\u001b[0;34m)\u001b[0m\u001b[0;34m\u001b[0m\u001b[0;34m\u001b[0m\u001b[0m\n\u001b[0m\u001b[1;32m    232\u001b[0m \u001b[0;34m\u001b[0m\u001b[0m\n\u001b[1;32m    233\u001b[0m     \u001b[0;32mdef\u001b[0m \u001b[0m_do_epoch_validate\u001b[0m\u001b[0;34m(\u001b[0m\u001b[0mself\u001b[0m\u001b[0;34m,\u001b[0m \u001b[0mds_idx\u001b[0m\u001b[0;34m=\u001b[0m\u001b[0;36m1\u001b[0m\u001b[0;34m,\u001b[0m \u001b[0mdl\u001b[0m\u001b[0;34m=\u001b[0m\u001b[0;32mNone\u001b[0m\u001b[0;34m)\u001b[0m\u001b[0;34m:\u001b[0m\u001b[0;34m\u001b[0m\u001b[0;34m\u001b[0m\u001b[0m\n",
      "\u001b[0;32m~/anaconda3/lib/python3.9/site-packages/fastai/learner.py\u001b[0m in \u001b[0;36m_with_events\u001b[0;34m(self, f, event_type, ex, final)\u001b[0m\n\u001b[1;32m    191\u001b[0m \u001b[0;34m\u001b[0m\u001b[0m\n\u001b[1;32m    192\u001b[0m     \u001b[0;32mdef\u001b[0m \u001b[0m_with_events\u001b[0m\u001b[0;34m(\u001b[0m\u001b[0mself\u001b[0m\u001b[0;34m,\u001b[0m \u001b[0mf\u001b[0m\u001b[0;34m,\u001b[0m \u001b[0mevent_type\u001b[0m\u001b[0;34m,\u001b[0m \u001b[0mex\u001b[0m\u001b[0;34m,\u001b[0m \u001b[0mfinal\u001b[0m\u001b[0;34m=\u001b[0m\u001b[0mnoop\u001b[0m\u001b[0;34m)\u001b[0m\u001b[0;34m:\u001b[0m\u001b[0;34m\u001b[0m\u001b[0;34m\u001b[0m\u001b[0m\n\u001b[0;32m--> 193\u001b[0;31m         \u001b[0;32mtry\u001b[0m\u001b[0;34m:\u001b[0m \u001b[0mself\u001b[0m\u001b[0;34m(\u001b[0m\u001b[0;34mf'before_{event_type}'\u001b[0m\u001b[0;34m)\u001b[0m\u001b[0;34m;\u001b[0m  \u001b[0mf\u001b[0m\u001b[0;34m(\u001b[0m\u001b[0;34m)\u001b[0m\u001b[0;34m\u001b[0m\u001b[0;34m\u001b[0m\u001b[0m\n\u001b[0m\u001b[1;32m    194\u001b[0m         \u001b[0;32mexcept\u001b[0m \u001b[0mex\u001b[0m\u001b[0;34m:\u001b[0m \u001b[0mself\u001b[0m\u001b[0;34m(\u001b[0m\u001b[0;34mf'after_cancel_{event_type}'\u001b[0m\u001b[0;34m)\u001b[0m\u001b[0;34m\u001b[0m\u001b[0;34m\u001b[0m\u001b[0m\n\u001b[1;32m    195\u001b[0m         \u001b[0mself\u001b[0m\u001b[0;34m(\u001b[0m\u001b[0;34mf'after_{event_type}'\u001b[0m\u001b[0;34m)\u001b[0m\u001b[0;34m;\u001b[0m  \u001b[0mfinal\u001b[0m\u001b[0;34m(\u001b[0m\u001b[0;34m)\u001b[0m\u001b[0;34m\u001b[0m\u001b[0;34m\u001b[0m\u001b[0m\n",
      "\u001b[0;32m~/anaconda3/lib/python3.9/site-packages/fastai/learner.py\u001b[0m in \u001b[0;36mall_batches\u001b[0;34m(self)\u001b[0m\n\u001b[1;32m    197\u001b[0m     \u001b[0;32mdef\u001b[0m \u001b[0mall_batches\u001b[0m\u001b[0;34m(\u001b[0m\u001b[0mself\u001b[0m\u001b[0;34m)\u001b[0m\u001b[0;34m:\u001b[0m\u001b[0;34m\u001b[0m\u001b[0;34m\u001b[0m\u001b[0m\n\u001b[1;32m    198\u001b[0m         \u001b[0mself\u001b[0m\u001b[0;34m.\u001b[0m\u001b[0mn_iter\u001b[0m \u001b[0;34m=\u001b[0m \u001b[0mlen\u001b[0m\u001b[0;34m(\u001b[0m\u001b[0mself\u001b[0m\u001b[0;34m.\u001b[0m\u001b[0mdl\u001b[0m\u001b[0;34m)\u001b[0m\u001b[0;34m\u001b[0m\u001b[0;34m\u001b[0m\u001b[0m\n\u001b[0;32m--> 199\u001b[0;31m         \u001b[0;32mfor\u001b[0m \u001b[0mo\u001b[0m \u001b[0;32min\u001b[0m \u001b[0menumerate\u001b[0m\u001b[0;34m(\u001b[0m\u001b[0mself\u001b[0m\u001b[0;34m.\u001b[0m\u001b[0mdl\u001b[0m\u001b[0;34m)\u001b[0m\u001b[0;34m:\u001b[0m \u001b[0mself\u001b[0m\u001b[0;34m.\u001b[0m\u001b[0mone_batch\u001b[0m\u001b[0;34m(\u001b[0m\u001b[0;34m*\u001b[0m\u001b[0mo\u001b[0m\u001b[0;34m)\u001b[0m\u001b[0;34m\u001b[0m\u001b[0;34m\u001b[0m\u001b[0m\n\u001b[0m\u001b[1;32m    200\u001b[0m \u001b[0;34m\u001b[0m\u001b[0m\n\u001b[1;32m    201\u001b[0m     \u001b[0;32mdef\u001b[0m \u001b[0m_backward\u001b[0m\u001b[0;34m(\u001b[0m\u001b[0mself\u001b[0m\u001b[0;34m)\u001b[0m\u001b[0;34m:\u001b[0m \u001b[0mself\u001b[0m\u001b[0;34m.\u001b[0m\u001b[0mloss_grad\u001b[0m\u001b[0;34m.\u001b[0m\u001b[0mbackward\u001b[0m\u001b[0;34m(\u001b[0m\u001b[0;34m)\u001b[0m\u001b[0;34m\u001b[0m\u001b[0;34m\u001b[0m\u001b[0m\n",
      "\u001b[0;32m~/anaconda3/lib/python3.9/site-packages/fastai/learner.py\u001b[0m in \u001b[0;36mone_batch\u001b[0;34m(self, i, b)\u001b[0m\n\u001b[1;32m    225\u001b[0m         \u001b[0mb\u001b[0m \u001b[0;34m=\u001b[0m \u001b[0mself\u001b[0m\u001b[0;34m.\u001b[0m\u001b[0m_set_device\u001b[0m\u001b[0;34m(\u001b[0m\u001b[0mb\u001b[0m\u001b[0;34m)\u001b[0m\u001b[0;34m\u001b[0m\u001b[0;34m\u001b[0m\u001b[0m\n\u001b[1;32m    226\u001b[0m         \u001b[0mself\u001b[0m\u001b[0;34m.\u001b[0m\u001b[0m_split\u001b[0m\u001b[0;34m(\u001b[0m\u001b[0mb\u001b[0m\u001b[0;34m)\u001b[0m\u001b[0;34m\u001b[0m\u001b[0;34m\u001b[0m\u001b[0m\n\u001b[0;32m--> 227\u001b[0;31m         \u001b[0mself\u001b[0m\u001b[0;34m.\u001b[0m\u001b[0m_with_events\u001b[0m\u001b[0;34m(\u001b[0m\u001b[0mself\u001b[0m\u001b[0;34m.\u001b[0m\u001b[0m_do_one_batch\u001b[0m\u001b[0;34m,\u001b[0m \u001b[0;34m'batch'\u001b[0m\u001b[0;34m,\u001b[0m \u001b[0mCancelBatchException\u001b[0m\u001b[0;34m)\u001b[0m\u001b[0;34m\u001b[0m\u001b[0;34m\u001b[0m\u001b[0m\n\u001b[0m\u001b[1;32m    228\u001b[0m \u001b[0;34m\u001b[0m\u001b[0m\n\u001b[1;32m    229\u001b[0m     \u001b[0;32mdef\u001b[0m \u001b[0m_do_epoch_train\u001b[0m\u001b[0;34m(\u001b[0m\u001b[0mself\u001b[0m\u001b[0;34m)\u001b[0m\u001b[0;34m:\u001b[0m\u001b[0;34m\u001b[0m\u001b[0;34m\u001b[0m\u001b[0m\n",
      "\u001b[0;32m~/anaconda3/lib/python3.9/site-packages/fastai/learner.py\u001b[0m in \u001b[0;36m_with_events\u001b[0;34m(self, f, event_type, ex, final)\u001b[0m\n\u001b[1;32m    191\u001b[0m \u001b[0;34m\u001b[0m\u001b[0m\n\u001b[1;32m    192\u001b[0m     \u001b[0;32mdef\u001b[0m \u001b[0m_with_events\u001b[0m\u001b[0;34m(\u001b[0m\u001b[0mself\u001b[0m\u001b[0;34m,\u001b[0m \u001b[0mf\u001b[0m\u001b[0;34m,\u001b[0m \u001b[0mevent_type\u001b[0m\u001b[0;34m,\u001b[0m \u001b[0mex\u001b[0m\u001b[0;34m,\u001b[0m \u001b[0mfinal\u001b[0m\u001b[0;34m=\u001b[0m\u001b[0mnoop\u001b[0m\u001b[0;34m)\u001b[0m\u001b[0;34m:\u001b[0m\u001b[0;34m\u001b[0m\u001b[0;34m\u001b[0m\u001b[0m\n\u001b[0;32m--> 193\u001b[0;31m         \u001b[0;32mtry\u001b[0m\u001b[0;34m:\u001b[0m \u001b[0mself\u001b[0m\u001b[0;34m(\u001b[0m\u001b[0;34mf'before_{event_type}'\u001b[0m\u001b[0;34m)\u001b[0m\u001b[0;34m;\u001b[0m  \u001b[0mf\u001b[0m\u001b[0;34m(\u001b[0m\u001b[0;34m)\u001b[0m\u001b[0;34m\u001b[0m\u001b[0;34m\u001b[0m\u001b[0m\n\u001b[0m\u001b[1;32m    194\u001b[0m         \u001b[0;32mexcept\u001b[0m \u001b[0mex\u001b[0m\u001b[0;34m:\u001b[0m \u001b[0mself\u001b[0m\u001b[0;34m(\u001b[0m\u001b[0;34mf'after_cancel_{event_type}'\u001b[0m\u001b[0;34m)\u001b[0m\u001b[0;34m\u001b[0m\u001b[0;34m\u001b[0m\u001b[0m\n\u001b[1;32m    195\u001b[0m         \u001b[0mself\u001b[0m\u001b[0;34m(\u001b[0m\u001b[0;34mf'after_{event_type}'\u001b[0m\u001b[0;34m)\u001b[0m\u001b[0;34m;\u001b[0m  \u001b[0mfinal\u001b[0m\u001b[0;34m(\u001b[0m\u001b[0;34m)\u001b[0m\u001b[0;34m\u001b[0m\u001b[0;34m\u001b[0m\u001b[0m\n",
      "\u001b[0;32m~/anaconda3/lib/python3.9/site-packages/fastai/learner.py\u001b[0m in \u001b[0;36m_do_one_batch\u001b[0;34m(self)\u001b[0m\n\u001b[1;32m    203\u001b[0m \u001b[0;34m\u001b[0m\u001b[0m\n\u001b[1;32m    204\u001b[0m     \u001b[0;32mdef\u001b[0m \u001b[0m_do_one_batch\u001b[0m\u001b[0;34m(\u001b[0m\u001b[0mself\u001b[0m\u001b[0;34m)\u001b[0m\u001b[0;34m:\u001b[0m\u001b[0;34m\u001b[0m\u001b[0;34m\u001b[0m\u001b[0m\n\u001b[0;32m--> 205\u001b[0;31m         \u001b[0mself\u001b[0m\u001b[0;34m.\u001b[0m\u001b[0mpred\u001b[0m \u001b[0;34m=\u001b[0m \u001b[0mself\u001b[0m\u001b[0;34m.\u001b[0m\u001b[0mmodel\u001b[0m\u001b[0;34m(\u001b[0m\u001b[0;34m*\u001b[0m\u001b[0mself\u001b[0m\u001b[0;34m.\u001b[0m\u001b[0mxb\u001b[0m\u001b[0;34m)\u001b[0m\u001b[0;34m\u001b[0m\u001b[0;34m\u001b[0m\u001b[0m\n\u001b[0m\u001b[1;32m    206\u001b[0m         \u001b[0mself\u001b[0m\u001b[0;34m(\u001b[0m\u001b[0;34m'after_pred'\u001b[0m\u001b[0;34m)\u001b[0m\u001b[0;34m\u001b[0m\u001b[0;34m\u001b[0m\u001b[0m\n\u001b[1;32m    207\u001b[0m         \u001b[0;32mif\u001b[0m \u001b[0mlen\u001b[0m\u001b[0;34m(\u001b[0m\u001b[0mself\u001b[0m\u001b[0;34m.\u001b[0m\u001b[0myb\u001b[0m\u001b[0;34m)\u001b[0m\u001b[0;34m:\u001b[0m\u001b[0;34m\u001b[0m\u001b[0;34m\u001b[0m\u001b[0m\n",
      "\u001b[0;32m~/anaconda3/lib/python3.9/site-packages/torch/nn/modules/module.py\u001b[0m in \u001b[0;36m_call_impl\u001b[0;34m(self, *input, **kwargs)\u001b[0m\n\u001b[1;32m   1188\u001b[0m         if not (self._backward_hooks or self._forward_hooks or self._forward_pre_hooks or _global_backward_hooks\n\u001b[1;32m   1189\u001b[0m                 or _global_forward_hooks or _global_forward_pre_hooks):\n\u001b[0;32m-> 1190\u001b[0;31m             \u001b[0;32mreturn\u001b[0m \u001b[0mforward_call\u001b[0m\u001b[0;34m(\u001b[0m\u001b[0;34m*\u001b[0m\u001b[0minput\u001b[0m\u001b[0;34m,\u001b[0m \u001b[0;34m**\u001b[0m\u001b[0mkwargs\u001b[0m\u001b[0;34m)\u001b[0m\u001b[0;34m\u001b[0m\u001b[0;34m\u001b[0m\u001b[0m\n\u001b[0m\u001b[1;32m   1191\u001b[0m         \u001b[0;31m# Do not call functions when jit is used\u001b[0m\u001b[0;34m\u001b[0m\u001b[0;34m\u001b[0m\u001b[0m\n\u001b[1;32m   1192\u001b[0m         \u001b[0mfull_backward_hooks\u001b[0m\u001b[0;34m,\u001b[0m \u001b[0mnon_full_backward_hooks\u001b[0m \u001b[0;34m=\u001b[0m \u001b[0;34m[\u001b[0m\u001b[0;34m]\u001b[0m\u001b[0;34m,\u001b[0m \u001b[0;34m[\u001b[0m\u001b[0;34m]\u001b[0m\u001b[0;34m\u001b[0m\u001b[0;34m\u001b[0m\u001b[0m\n",
      "\u001b[0;32m~/anaconda3/lib/python3.9/site-packages/torch/nn/modules/container.py\u001b[0m in \u001b[0;36mforward\u001b[0;34m(self, input)\u001b[0m\n\u001b[1;32m    202\u001b[0m     \u001b[0;32mdef\u001b[0m \u001b[0mforward\u001b[0m\u001b[0;34m(\u001b[0m\u001b[0mself\u001b[0m\u001b[0;34m,\u001b[0m \u001b[0minput\u001b[0m\u001b[0;34m)\u001b[0m\u001b[0;34m:\u001b[0m\u001b[0;34m\u001b[0m\u001b[0;34m\u001b[0m\u001b[0m\n\u001b[1;32m    203\u001b[0m         \u001b[0;32mfor\u001b[0m \u001b[0mmodule\u001b[0m \u001b[0;32min\u001b[0m \u001b[0mself\u001b[0m\u001b[0;34m:\u001b[0m\u001b[0;34m\u001b[0m\u001b[0;34m\u001b[0m\u001b[0m\n\u001b[0;32m--> 204\u001b[0;31m             \u001b[0minput\u001b[0m \u001b[0;34m=\u001b[0m \u001b[0mmodule\u001b[0m\u001b[0;34m(\u001b[0m\u001b[0minput\u001b[0m\u001b[0;34m)\u001b[0m\u001b[0;34m\u001b[0m\u001b[0;34m\u001b[0m\u001b[0m\n\u001b[0m\u001b[1;32m    205\u001b[0m         \u001b[0;32mreturn\u001b[0m \u001b[0minput\u001b[0m\u001b[0;34m\u001b[0m\u001b[0;34m\u001b[0m\u001b[0m\n\u001b[1;32m    206\u001b[0m \u001b[0;34m\u001b[0m\u001b[0m\n",
      "\u001b[0;32m~/anaconda3/lib/python3.9/site-packages/torch/nn/modules/module.py\u001b[0m in \u001b[0;36m_call_impl\u001b[0;34m(self, *input, **kwargs)\u001b[0m\n\u001b[1;32m   1188\u001b[0m         if not (self._backward_hooks or self._forward_hooks or self._forward_pre_hooks or _global_backward_hooks\n\u001b[1;32m   1189\u001b[0m                 or _global_forward_hooks or _global_forward_pre_hooks):\n\u001b[0;32m-> 1190\u001b[0;31m             \u001b[0;32mreturn\u001b[0m \u001b[0mforward_call\u001b[0m\u001b[0;34m(\u001b[0m\u001b[0;34m*\u001b[0m\u001b[0minput\u001b[0m\u001b[0;34m,\u001b[0m \u001b[0;34m**\u001b[0m\u001b[0mkwargs\u001b[0m\u001b[0;34m)\u001b[0m\u001b[0;34m\u001b[0m\u001b[0;34m\u001b[0m\u001b[0m\n\u001b[0m\u001b[1;32m   1191\u001b[0m         \u001b[0;31m# Do not call functions when jit is used\u001b[0m\u001b[0;34m\u001b[0m\u001b[0;34m\u001b[0m\u001b[0m\n\u001b[1;32m   1192\u001b[0m         \u001b[0mfull_backward_hooks\u001b[0m\u001b[0;34m,\u001b[0m \u001b[0mnon_full_backward_hooks\u001b[0m \u001b[0;34m=\u001b[0m \u001b[0;34m[\u001b[0m\u001b[0;34m]\u001b[0m\u001b[0;34m,\u001b[0m \u001b[0;34m[\u001b[0m\u001b[0;34m]\u001b[0m\u001b[0;34m\u001b[0m\u001b[0;34m\u001b[0m\u001b[0m\n",
      "\u001b[0;32m~/anaconda3/lib/python3.9/site-packages/fastai/text/models/core.py\u001b[0m in \u001b[0;36mforward\u001b[0;34m(self, input)\u001b[0m\n\u001b[1;32m     96\u001b[0m             \u001b[0;31m#Note: this expects that sequence really begins on a round multiple of bptt\u001b[0m\u001b[0;34m\u001b[0m\u001b[0;34m\u001b[0m\u001b[0m\n\u001b[1;32m     97\u001b[0m             \u001b[0mreal_bs\u001b[0m \u001b[0;34m=\u001b[0m \u001b[0;34m(\u001b[0m\u001b[0minput\u001b[0m\u001b[0;34m[\u001b[0m\u001b[0;34m:\u001b[0m\u001b[0;34m,\u001b[0m\u001b[0mi\u001b[0m\u001b[0;34m]\u001b[0m \u001b[0;34m!=\u001b[0m \u001b[0mself\u001b[0m\u001b[0;34m.\u001b[0m\u001b[0mpad_idx\u001b[0m\u001b[0;34m)\u001b[0m\u001b[0;34m.\u001b[0m\u001b[0mlong\u001b[0m\u001b[0;34m(\u001b[0m\u001b[0;34m)\u001b[0m\u001b[0;34m.\u001b[0m\u001b[0msum\u001b[0m\u001b[0;34m(\u001b[0m\u001b[0;34m)\u001b[0m\u001b[0;34m\u001b[0m\u001b[0;34m\u001b[0m\u001b[0m\n\u001b[0;32m---> 98\u001b[0;31m             \u001b[0mo\u001b[0m \u001b[0;34m=\u001b[0m \u001b[0mself\u001b[0m\u001b[0;34m.\u001b[0m\u001b[0mmodule\u001b[0m\u001b[0;34m(\u001b[0m\u001b[0minput\u001b[0m\u001b[0;34m[\u001b[0m\u001b[0;34m:\u001b[0m\u001b[0mreal_bs\u001b[0m\u001b[0;34m,\u001b[0m\u001b[0mi\u001b[0m\u001b[0;34m:\u001b[0m \u001b[0mmin\u001b[0m\u001b[0;34m(\u001b[0m\u001b[0mi\u001b[0m\u001b[0;34m+\u001b[0m\u001b[0mself\u001b[0m\u001b[0;34m.\u001b[0m\u001b[0mbptt\u001b[0m\u001b[0;34m,\u001b[0m \u001b[0msl\u001b[0m\u001b[0;34m)\u001b[0m\u001b[0;34m]\u001b[0m\u001b[0;34m)\u001b[0m\u001b[0;34m\u001b[0m\u001b[0;34m\u001b[0m\u001b[0m\n\u001b[0m\u001b[1;32m     99\u001b[0m             \u001b[0;32mif\u001b[0m \u001b[0mself\u001b[0m\u001b[0;34m.\u001b[0m\u001b[0mmax_len\u001b[0m \u001b[0;32mis\u001b[0m \u001b[0;32mNone\u001b[0m \u001b[0;32mor\u001b[0m \u001b[0msl\u001b[0m\u001b[0;34m-\u001b[0m\u001b[0mi\u001b[0m \u001b[0;34m<=\u001b[0m \u001b[0mself\u001b[0m\u001b[0;34m.\u001b[0m\u001b[0mmax_len\u001b[0m\u001b[0;34m:\u001b[0m\u001b[0;34m\u001b[0m\u001b[0;34m\u001b[0m\u001b[0m\n\u001b[1;32m    100\u001b[0m                 \u001b[0mouts\u001b[0m\u001b[0;34m.\u001b[0m\u001b[0mappend\u001b[0m\u001b[0;34m(\u001b[0m\u001b[0mo\u001b[0m\u001b[0;34m)\u001b[0m\u001b[0;34m\u001b[0m\u001b[0;34m\u001b[0m\u001b[0m\n",
      "\u001b[0;32m~/anaconda3/lib/python3.9/site-packages/torch/nn/modules/module.py\u001b[0m in \u001b[0;36m_call_impl\u001b[0;34m(self, *input, **kwargs)\u001b[0m\n\u001b[1;32m   1188\u001b[0m         if not (self._backward_hooks or self._forward_hooks or self._forward_pre_hooks or _global_backward_hooks\n\u001b[1;32m   1189\u001b[0m                 or _global_forward_hooks or _global_forward_pre_hooks):\n\u001b[0;32m-> 1190\u001b[0;31m             \u001b[0;32mreturn\u001b[0m \u001b[0mforward_call\u001b[0m\u001b[0;34m(\u001b[0m\u001b[0;34m*\u001b[0m\u001b[0minput\u001b[0m\u001b[0;34m,\u001b[0m \u001b[0;34m**\u001b[0m\u001b[0mkwargs\u001b[0m\u001b[0;34m)\u001b[0m\u001b[0;34m\u001b[0m\u001b[0;34m\u001b[0m\u001b[0m\n\u001b[0m\u001b[1;32m   1191\u001b[0m         \u001b[0;31m# Do not call functions when jit is used\u001b[0m\u001b[0;34m\u001b[0m\u001b[0;34m\u001b[0m\u001b[0m\n\u001b[1;32m   1192\u001b[0m         \u001b[0mfull_backward_hooks\u001b[0m\u001b[0;34m,\u001b[0m \u001b[0mnon_full_backward_hooks\u001b[0m \u001b[0;34m=\u001b[0m \u001b[0;34m[\u001b[0m\u001b[0;34m]\u001b[0m\u001b[0;34m,\u001b[0m \u001b[0;34m[\u001b[0m\u001b[0;34m]\u001b[0m\u001b[0;34m\u001b[0m\u001b[0;34m\u001b[0m\u001b[0m\n",
      "\u001b[0;32m~/anaconda3/lib/python3.9/site-packages/fastai/text/models/awdlstm.py\u001b[0m in \u001b[0;36mforward\u001b[0;34m(self, inp, from_embeds)\u001b[0m\n\u001b[1;32m    126\u001b[0m         \u001b[0mnew_hidden\u001b[0m \u001b[0;34m=\u001b[0m \u001b[0;34m[\u001b[0m\u001b[0;34m]\u001b[0m\u001b[0;34m\u001b[0m\u001b[0;34m\u001b[0m\u001b[0m\n\u001b[1;32m    127\u001b[0m         \u001b[0;32mfor\u001b[0m \u001b[0ml\u001b[0m\u001b[0;34m,\u001b[0m \u001b[0;34m(\u001b[0m\u001b[0mrnn\u001b[0m\u001b[0;34m,\u001b[0m\u001b[0mhid_dp\u001b[0m\u001b[0;34m)\u001b[0m \u001b[0;32min\u001b[0m \u001b[0menumerate\u001b[0m\u001b[0;34m(\u001b[0m\u001b[0mzip\u001b[0m\u001b[0;34m(\u001b[0m\u001b[0mself\u001b[0m\u001b[0;34m.\u001b[0m\u001b[0mrnns\u001b[0m\u001b[0;34m,\u001b[0m \u001b[0mself\u001b[0m\u001b[0;34m.\u001b[0m\u001b[0mhidden_dps\u001b[0m\u001b[0;34m)\u001b[0m\u001b[0;34m)\u001b[0m\u001b[0;34m:\u001b[0m\u001b[0;34m\u001b[0m\u001b[0;34m\u001b[0m\u001b[0m\n\u001b[0;32m--> 128\u001b[0;31m             \u001b[0moutput\u001b[0m\u001b[0;34m,\u001b[0m \u001b[0mnew_h\u001b[0m \u001b[0;34m=\u001b[0m \u001b[0mrnn\u001b[0m\u001b[0;34m(\u001b[0m\u001b[0moutput\u001b[0m\u001b[0;34m,\u001b[0m \u001b[0mself\u001b[0m\u001b[0;34m.\u001b[0m\u001b[0mhidden\u001b[0m\u001b[0;34m[\u001b[0m\u001b[0ml\u001b[0m\u001b[0;34m]\u001b[0m\u001b[0;34m)\u001b[0m\u001b[0;34m\u001b[0m\u001b[0;34m\u001b[0m\u001b[0m\n\u001b[0m\u001b[1;32m    129\u001b[0m             \u001b[0mnew_hidden\u001b[0m\u001b[0;34m.\u001b[0m\u001b[0mappend\u001b[0m\u001b[0;34m(\u001b[0m\u001b[0mnew_h\u001b[0m\u001b[0;34m)\u001b[0m\u001b[0;34m\u001b[0m\u001b[0;34m\u001b[0m\u001b[0m\n\u001b[1;32m    130\u001b[0m             \u001b[0;32mif\u001b[0m \u001b[0ml\u001b[0m \u001b[0;34m!=\u001b[0m \u001b[0mself\u001b[0m\u001b[0;34m.\u001b[0m\u001b[0mn_layers\u001b[0m \u001b[0;34m-\u001b[0m \u001b[0;36m1\u001b[0m\u001b[0;34m:\u001b[0m \u001b[0moutput\u001b[0m \u001b[0;34m=\u001b[0m \u001b[0mhid_dp\u001b[0m\u001b[0;34m(\u001b[0m\u001b[0moutput\u001b[0m\u001b[0;34m)\u001b[0m\u001b[0;34m\u001b[0m\u001b[0;34m\u001b[0m\u001b[0m\n",
      "\u001b[0;32m~/anaconda3/lib/python3.9/site-packages/torch/nn/modules/module.py\u001b[0m in \u001b[0;36m_call_impl\u001b[0;34m(self, *input, **kwargs)\u001b[0m\n\u001b[1;32m   1188\u001b[0m         if not (self._backward_hooks or self._forward_hooks or self._forward_pre_hooks or _global_backward_hooks\n\u001b[1;32m   1189\u001b[0m                 or _global_forward_hooks or _global_forward_pre_hooks):\n\u001b[0;32m-> 1190\u001b[0;31m             \u001b[0;32mreturn\u001b[0m \u001b[0mforward_call\u001b[0m\u001b[0;34m(\u001b[0m\u001b[0;34m*\u001b[0m\u001b[0minput\u001b[0m\u001b[0;34m,\u001b[0m \u001b[0;34m**\u001b[0m\u001b[0mkwargs\u001b[0m\u001b[0;34m)\u001b[0m\u001b[0;34m\u001b[0m\u001b[0;34m\u001b[0m\u001b[0m\n\u001b[0m\u001b[1;32m   1191\u001b[0m         \u001b[0;31m# Do not call functions when jit is used\u001b[0m\u001b[0;34m\u001b[0m\u001b[0;34m\u001b[0m\u001b[0m\n\u001b[1;32m   1192\u001b[0m         \u001b[0mfull_backward_hooks\u001b[0m\u001b[0;34m,\u001b[0m \u001b[0mnon_full_backward_hooks\u001b[0m \u001b[0;34m=\u001b[0m \u001b[0;34m[\u001b[0m\u001b[0;34m]\u001b[0m\u001b[0;34m,\u001b[0m \u001b[0;34m[\u001b[0m\u001b[0;34m]\u001b[0m\u001b[0;34m\u001b[0m\u001b[0;34m\u001b[0m\u001b[0m\n",
      "\u001b[0;32m~/anaconda3/lib/python3.9/site-packages/fastai/text/models/awdlstm.py\u001b[0m in \u001b[0;36mforward\u001b[0;34m(self, *args)\u001b[0m\n\u001b[1;32m     60\u001b[0m             \u001b[0;31m# To avoid the warning that comes because the weights aren't flattened.\u001b[0m\u001b[0;34m\u001b[0m\u001b[0;34m\u001b[0m\u001b[0m\n\u001b[1;32m     61\u001b[0m             \u001b[0mwarnings\u001b[0m\u001b[0;34m.\u001b[0m\u001b[0msimplefilter\u001b[0m\u001b[0;34m(\u001b[0m\u001b[0;34m\"ignore\"\u001b[0m\u001b[0;34m,\u001b[0m \u001b[0mcategory\u001b[0m\u001b[0;34m=\u001b[0m\u001b[0mUserWarning\u001b[0m\u001b[0;34m)\u001b[0m\u001b[0;34m\u001b[0m\u001b[0;34m\u001b[0m\u001b[0m\n\u001b[0;32m---> 62\u001b[0;31m             \u001b[0;32mreturn\u001b[0m \u001b[0mself\u001b[0m\u001b[0;34m.\u001b[0m\u001b[0mmodule\u001b[0m\u001b[0;34m(\u001b[0m\u001b[0;34m*\u001b[0m\u001b[0margs\u001b[0m\u001b[0;34m)\u001b[0m\u001b[0;34m\u001b[0m\u001b[0;34m\u001b[0m\u001b[0m\n\u001b[0m\u001b[1;32m     63\u001b[0m \u001b[0;34m\u001b[0m\u001b[0m\n\u001b[1;32m     64\u001b[0m     \u001b[0;32mdef\u001b[0m \u001b[0mreset\u001b[0m\u001b[0;34m(\u001b[0m\u001b[0mself\u001b[0m\u001b[0;34m)\u001b[0m\u001b[0;34m:\u001b[0m\u001b[0;34m\u001b[0m\u001b[0;34m\u001b[0m\u001b[0m\n",
      "\u001b[0;32m~/anaconda3/lib/python3.9/site-packages/torch/nn/modules/module.py\u001b[0m in \u001b[0;36m_call_impl\u001b[0;34m(self, *input, **kwargs)\u001b[0m\n\u001b[1;32m   1188\u001b[0m         if not (self._backward_hooks or self._forward_hooks or self._forward_pre_hooks or _global_backward_hooks\n\u001b[1;32m   1189\u001b[0m                 or _global_forward_hooks or _global_forward_pre_hooks):\n\u001b[0;32m-> 1190\u001b[0;31m             \u001b[0;32mreturn\u001b[0m \u001b[0mforward_call\u001b[0m\u001b[0;34m(\u001b[0m\u001b[0;34m*\u001b[0m\u001b[0minput\u001b[0m\u001b[0;34m,\u001b[0m \u001b[0;34m**\u001b[0m\u001b[0mkwargs\u001b[0m\u001b[0;34m)\u001b[0m\u001b[0;34m\u001b[0m\u001b[0;34m\u001b[0m\u001b[0m\n\u001b[0m\u001b[1;32m   1191\u001b[0m         \u001b[0;31m# Do not call functions when jit is used\u001b[0m\u001b[0;34m\u001b[0m\u001b[0;34m\u001b[0m\u001b[0m\n\u001b[1;32m   1192\u001b[0m         \u001b[0mfull_backward_hooks\u001b[0m\u001b[0;34m,\u001b[0m \u001b[0mnon_full_backward_hooks\u001b[0m \u001b[0;34m=\u001b[0m \u001b[0;34m[\u001b[0m\u001b[0;34m]\u001b[0m\u001b[0;34m,\u001b[0m \u001b[0;34m[\u001b[0m\u001b[0;34m]\u001b[0m\u001b[0;34m\u001b[0m\u001b[0;34m\u001b[0m\u001b[0m\n",
      "\u001b[0;32m~/anaconda3/lib/python3.9/site-packages/torch/nn/modules/rnn.py\u001b[0m in \u001b[0;36mforward\u001b[0;34m(self, input, hx)\u001b[0m\n\u001b[1;32m    772\u001b[0m         \u001b[0mself\u001b[0m\u001b[0;34m.\u001b[0m\u001b[0mcheck_forward_args\u001b[0m\u001b[0;34m(\u001b[0m\u001b[0minput\u001b[0m\u001b[0;34m,\u001b[0m \u001b[0mhx\u001b[0m\u001b[0;34m,\u001b[0m \u001b[0mbatch_sizes\u001b[0m\u001b[0;34m)\u001b[0m\u001b[0;34m\u001b[0m\u001b[0;34m\u001b[0m\u001b[0m\n\u001b[1;32m    773\u001b[0m         \u001b[0;32mif\u001b[0m \u001b[0mbatch_sizes\u001b[0m \u001b[0;32mis\u001b[0m \u001b[0;32mNone\u001b[0m\u001b[0;34m:\u001b[0m\u001b[0;34m\u001b[0m\u001b[0;34m\u001b[0m\u001b[0m\n\u001b[0;32m--> 774\u001b[0;31m             result = _VF.lstm(input, hx, self._flat_weights, self.bias, self.num_layers,\n\u001b[0m\u001b[1;32m    775\u001b[0m                               self.dropout, self.training, self.bidirectional, self.batch_first)\n\u001b[1;32m    776\u001b[0m         \u001b[0;32melse\u001b[0m\u001b[0;34m:\u001b[0m\u001b[0;34m\u001b[0m\u001b[0;34m\u001b[0m\u001b[0m\n",
      "\u001b[0;31mOutOfMemoryError\u001b[0m: CUDA out of memory. Tried to allocate 80.00 MiB (GPU 0; 11.76 GiB total capacity; 9.23 GiB already allocated; 75.75 MiB free; 9.65 GiB reserved in total by PyTorch) If reserved memory is >> allocated memory try setting max_split_size_mb to avoid fragmentation.  See documentation for Memory Management and PYTORCH_CUDA_ALLOC_CONF"
     ]
    }
   ],
   "source": [
    "learn_cls.fit_one_cycle(1, 2e-3, moms = (0.8, 0.7, 0.8))"
   ]
  },
  {
   "cell_type": "code",
   "execution_count": 10,
   "id": "94d7ef2d-916b-44ba-b9a9-6418524cd215",
   "metadata": {},
   "outputs": [
    {
     "data": {
      "text/html": [
       "\n",
       "<style>\n",
       "    /* Turns off some styling */\n",
       "    progress {\n",
       "        /* gets rid of default border in Firefox and Opera. */\n",
       "        border: none;\n",
       "        /* Needs to be in here for Safari polyfill so background images work as expected. */\n",
       "        background-size: auto;\n",
       "    }\n",
       "    progress:not([value]), progress:not([value])::-webkit-progress-bar {\n",
       "        background: repeating-linear-gradient(45deg, #7e7e7e, #7e7e7e 10px, #5c5c5c 10px, #5c5c5c 20px);\n",
       "    }\n",
       "    .progress-bar-interrupted, .progress-bar-interrupted::-webkit-progress-bar {\n",
       "        background: #F44336;\n",
       "    }\n",
       "</style>\n"
      ],
      "text/plain": [
       "<IPython.core.display.HTML object>"
      ]
     },
     "metadata": {},
     "output_type": "display_data"
    },
    {
     "data": {
      "text/html": [],
      "text/plain": [
       "<IPython.core.display.HTML object>"
      ]
     },
     "metadata": {},
     "output_type": "display_data"
    },
    {
     "data": {
      "text/plain": [
       "SuggestedLRs(valley=0.0020892962347716093)"
      ]
     },
     "execution_count": 10,
     "metadata": {},
     "output_type": "execute_result"
    },
    {
     "data": {
      "image/png": "[encoded data removed]",
      "text/plain": [
       "<Figure size 640x480 with 1 Axes>"
      ]
     },
     "metadata": {},
     "output_type": "display_data"
    }
   ],
   "source": [
    "learn_cls.lr_find()"
   ]
  },
  {
   "cell_type": "code",
   "execution_count": 14,
   "id": "408041ff-7ad1-4b2e-878a-497f2ea28176",
   "metadata": {},
   "outputs": [
    {
     "data": {
      "text/html": [
       "\n",
       "<style>\n",
       "    /* Turns off some styling */\n",
       "    progress {\n",
       "        /* gets rid of default border in Firefox and Opera. */\n",
       "        border: none;\n",
       "        /* Needs to be in here for Safari polyfill so background images work as expected. */\n",
       "        background-size: auto;\n",
       "    }\n",
       "    progress:not([value]), progress:not([value])::-webkit-progress-bar {\n",
       "        background: repeating-linear-gradient(45deg, #7e7e7e, #7e7e7e 10px, #5c5c5c 10px, #5c5c5c 20px);\n",
       "    }\n",
       "    .progress-bar-interrupted, .progress-bar-interrupted::-webkit-progress-bar {\n",
       "        background: #F44336;\n",
       "    }\n",
       "</style>\n"
      ],
      "text/plain": [
       "<IPython.core.display.HTML object>"
      ]
     },
     "metadata": {},
     "output_type": "display_data"
    },
    {
     "data": {
      "text/html": [
       "<table border=\"1\" class=\"dataframe\">\n",
       "  <thead>\n",
       "    <tr style=\"text-align: left;\">\n",
       "      <th>epoch</th>\n",
       "      <th>train_loss</th>\n",
       "      <th>valid_loss</th>\n",
       "      <th>accuracy</th>\n",
       "      <th>fbeta_score</th>\n",
       "      <th>time</th>\n",
       "    </tr>\n",
       "  </thead>\n",
       "  <tbody>\n",
       "    <tr>\n",
       "      <td>0</td>\n",
       "      <td>0.702556</td>\n",
       "      <td>0.713202</td>\n",
       "      <td>0.451613</td>\n",
       "      <td>0.451613</td>\n",
       "      <td>00:44</td>\n",
       "    </tr>\n",
       "  </tbody>\n",
       "</table>"
      ],
      "text/plain": [
       "<IPython.core.display.HTML object>"
      ]
     },
     "metadata": {},
     "output_type": "display_data"
    },
    {
     "name": "stdout",
     "output_type": "stream",
     "text": [
      "Better model found at epoch 0 with valid_loss value: 0.7132015228271484.\n"
     ]
    }
   ],
   "source": [
    "learn_cls.freeze_to(-1)\n",
    "learn_cls.fit_one_cycle(1, slice(2e-3/(2.6**4),2e-3), cbs = [callback_cls])"
   ]
  },
  {
   "cell_type": "code",
   "execution_count": null,
   "id": "97ad87fd-55cc-4605-b46b-970e2dae2ea7",
   "metadata": {},
   "outputs": [],
   "source": [
    "learn_cls.save('finetuned_CLS_2')"
   ]
  },
  {
   "cell_type": "code",
   "execution_count": 15,
   "id": "1129bc8c-dbc8-42b2-bf18-4dac04e51e77",
   "metadata": {},
   "outputs": [
    {
     "data": {
      "text/html": [
       "\n",
       "<style>\n",
       "    /* Turns off some styling */\n",
       "    progress {\n",
       "        /* gets rid of default border in Firefox and Opera. */\n",
       "        border: none;\n",
       "        /* Needs to be in here for Safari polyfill so background images work as expected. */\n",
       "        background-size: auto;\n",
       "    }\n",
       "    progress:not([value]), progress:not([value])::-webkit-progress-bar {\n",
       "        background: repeating-linear-gradient(45deg, #7e7e7e, #7e7e7e 10px, #5c5c5c 10px, #5c5c5c 20px);\n",
       "    }\n",
       "    .progress-bar-interrupted, .progress-bar-interrupted::-webkit-progress-bar {\n",
       "        background: #F44336;\n",
       "    }\n",
       "</style>\n"
      ],
      "text/plain": [
       "<IPython.core.display.HTML object>"
      ]
     },
     "metadata": {},
     "output_type": "display_data"
    },
    {
     "data": {
      "text/html": [
       "\n",
       "    <div>\n",
       "      <progress value='0' class='' max='1' style='width:300px; height:20px; vertical-align: middle;'></progress>\n",
       "      0.00% [0/1 00:00&lt;?]\n",
       "    </div>\n",
       "    \n",
       "<table border=\"1\" class=\"dataframe\">\n",
       "  <thead>\n",
       "    <tr style=\"text-align: left;\">\n",
       "      <th>epoch</th>\n",
       "      <th>train_loss</th>\n",
       "      <th>valid_loss</th>\n",
       "      <th>accuracy</th>\n",
       "      <th>fbeta_score</th>\n",
       "      <th>time</th>\n",
       "    </tr>\n",
       "  </thead>\n",
       "  <tbody>\n",
       "  </tbody>\n",
       "</table><p>\n",
       "\n",
       "    <div>\n",
       "      <progress value='0' class='' max='13' style='width:300px; height:20px; vertical-align: middle;'></progress>\n",
       "      0.00% [0/13 00:00&lt;?]\n",
       "    </div>\n",
       "    "
      ],
      "text/plain": [
       "<IPython.core.display.HTML object>"
      ]
     },
     "metadata": {},
     "output_type": "display_data"
    },
    {
     "ename": "OutOfMemoryError",
     "evalue": "CUDA out of memory. Tried to allocate 102.00 MiB (GPU 0; 11.76 GiB total capacity; 9.07 GiB already allocated; 52.88 MiB free; 9.53 GiB reserved in total by PyTorch) If reserved memory is >> allocated memory try setting max_split_size_mb to avoid fragmentation.  See documentation for Memory Management and PYTORCH_CUDA_ALLOC_CONF",
     "output_type": "error",
     "traceback": [
      "\u001b[0;31m---------------------------------------------------------------------------\u001b[0m",
      "\u001b[0;31mOutOfMemoryError\u001b[0m                          Traceback (most recent call last)",
      "\u001b[0;32m/tmp/ipykernel_118070/2008070375.py\u001b[0m in \u001b[0;36m<module>\u001b[0;34m\u001b[0m\n\u001b[1;32m      1\u001b[0m \u001b[0mlearn_cls\u001b[0m\u001b[0;34m.\u001b[0m\u001b[0mfreeze_to\u001b[0m\u001b[0;34m(\u001b[0m\u001b[0;34m-\u001b[0m\u001b[0;36m2\u001b[0m\u001b[0;34m)\u001b[0m\u001b[0;34m\u001b[0m\u001b[0;34m\u001b[0m\u001b[0m\n\u001b[0;32m----> 2\u001b[0;31m \u001b[0mlearn_cls\u001b[0m\u001b[0;34m.\u001b[0m\u001b[0mfit_one_cycle\u001b[0m\u001b[0;34m(\u001b[0m\u001b[0;36m1\u001b[0m\u001b[0;34m,\u001b[0m \u001b[0mslice\u001b[0m\u001b[0;34m(\u001b[0m\u001b[0;36m2e-3\u001b[0m\u001b[0;34m/\u001b[0m\u001b[0;34m(\u001b[0m\u001b[0;36m2.6\u001b[0m\u001b[0;34m**\u001b[0m\u001b[0;36m4\u001b[0m\u001b[0;34m)\u001b[0m\u001b[0;34m,\u001b[0m\u001b[0;36m2e-3\u001b[0m\u001b[0;34m)\u001b[0m\u001b[0;34m,\u001b[0m \u001b[0mcbs\u001b[0m \u001b[0;34m=\u001b[0m \u001b[0;34m[\u001b[0m\u001b[0mcallback_cls\u001b[0m\u001b[0;34m]\u001b[0m\u001b[0;34m)\u001b[0m\u001b[0;34m\u001b[0m\u001b[0;34m\u001b[0m\u001b[0m\n\u001b[0m",
      "\u001b[0;32m~/anaconda3/lib/python3.9/site-packages/fastai/callback/schedule.py\u001b[0m in \u001b[0;36mfit_one_cycle\u001b[0;34m(self, n_epoch, lr_max, div, div_final, pct_start, wd, moms, cbs, reset_opt, start_epoch)\u001b[0m\n\u001b[1;32m    117\u001b[0m     scheds = {'lr': combined_cos(pct_start, lr_max/div, lr_max, lr_max/div_final),\n\u001b[1;32m    118\u001b[0m               'mom': combined_cos(pct_start, *(self.moms if moms is None else moms))}\n\u001b[0;32m--> 119\u001b[0;31m     \u001b[0mself\u001b[0m\u001b[0;34m.\u001b[0m\u001b[0mfit\u001b[0m\u001b[0;34m(\u001b[0m\u001b[0mn_epoch\u001b[0m\u001b[0;34m,\u001b[0m \u001b[0mcbs\u001b[0m\u001b[0;34m=\u001b[0m\u001b[0mParamScheduler\u001b[0m\u001b[0;34m(\u001b[0m\u001b[0mscheds\u001b[0m\u001b[0;34m)\u001b[0m\u001b[0;34m+\u001b[0m\u001b[0mL\u001b[0m\u001b[0;34m(\u001b[0m\u001b[0mcbs\u001b[0m\u001b[0;34m)\u001b[0m\u001b[0;34m,\u001b[0m \u001b[0mreset_opt\u001b[0m\u001b[0;34m=\u001b[0m\u001b[0mreset_opt\u001b[0m\u001b[0;34m,\u001b[0m \u001b[0mwd\u001b[0m\u001b[0;34m=\u001b[0m\u001b[0mwd\u001b[0m\u001b[0;34m,\u001b[0m \u001b[0mstart_epoch\u001b[0m\u001b[0;34m=\u001b[0m\u001b[0mstart_epoch\u001b[0m\u001b[0;34m)\u001b[0m\u001b[0;34m\u001b[0m\u001b[0;34m\u001b[0m\u001b[0m\n\u001b[0m\u001b[1;32m    120\u001b[0m \u001b[0;34m\u001b[0m\u001b[0m\n\u001b[1;32m    121\u001b[0m \u001b[0;31m# %% ../../nbs/14_callback.schedule.ipynb 50\u001b[0m\u001b[0;34m\u001b[0m\u001b[0;34m\u001b[0m\u001b[0m\n",
      "\u001b[0;32m~/anaconda3/lib/python3.9/site-packages/fastai/learner.py\u001b[0m in \u001b[0;36mfit\u001b[0;34m(self, n_epoch, lr, wd, cbs, reset_opt, start_epoch)\u001b[0m\n\u001b[1;32m    254\u001b[0m             \u001b[0mself\u001b[0m\u001b[0;34m.\u001b[0m\u001b[0mopt\u001b[0m\u001b[0;34m.\u001b[0m\u001b[0mset_hypers\u001b[0m\u001b[0;34m(\u001b[0m\u001b[0mlr\u001b[0m\u001b[0;34m=\u001b[0m\u001b[0mself\u001b[0m\u001b[0;34m.\u001b[0m\u001b[0mlr\u001b[0m \u001b[0;32mif\u001b[0m \u001b[0mlr\u001b[0m \u001b[0;32mis\u001b[0m \u001b[0;32mNone\u001b[0m \u001b[0;32melse\u001b[0m \u001b[0mlr\u001b[0m\u001b[0;34m)\u001b[0m\u001b[0;34m\u001b[0m\u001b[0;34m\u001b[0m\u001b[0m\n\u001b[1;32m    255\u001b[0m             \u001b[0mself\u001b[0m\u001b[0;34m.\u001b[0m\u001b[0mn_epoch\u001b[0m \u001b[0;34m=\u001b[0m \u001b[0mn_epoch\u001b[0m\u001b[0;34m\u001b[0m\u001b[0;34m\u001b[0m\u001b[0m\n\u001b[0;32m--> 256\u001b[0;31m             \u001b[0mself\u001b[0m\u001b[0;34m.\u001b[0m\u001b[0m_with_events\u001b[0m\u001b[0;34m(\u001b[0m\u001b[0mself\u001b[0m\u001b[0;34m.\u001b[0m\u001b[0m_do_fit\u001b[0m\u001b[0;34m,\u001b[0m \u001b[0;34m'fit'\u001b[0m\u001b[0;34m,\u001b[0m \u001b[0mCancelFitException\u001b[0m\u001b[0;34m,\u001b[0m \u001b[0mself\u001b[0m\u001b[0;34m.\u001b[0m\u001b[0m_end_cleanup\u001b[0m\u001b[0;34m)\u001b[0m\u001b[0;34m\u001b[0m\u001b[0;34m\u001b[0m\u001b[0m\n\u001b[0m\u001b[1;32m    257\u001b[0m \u001b[0;34m\u001b[0m\u001b[0m\n\u001b[1;32m    258\u001b[0m     \u001b[0;32mdef\u001b[0m \u001b[0m_end_cleanup\u001b[0m\u001b[0;34m(\u001b[0m\u001b[0mself\u001b[0m\u001b[0;34m)\u001b[0m\u001b[0;34m:\u001b[0m \u001b[0mself\u001b[0m\u001b[0;34m.\u001b[0m\u001b[0mdl\u001b[0m\u001b[0;34m,\u001b[0m\u001b[0mself\u001b[0m\u001b[0;34m.\u001b[0m\u001b[0mxb\u001b[0m\u001b[0;34m,\u001b[0m\u001b[0mself\u001b[0m\u001b[0;34m.\u001b[0m\u001b[0myb\u001b[0m\u001b[0;34m,\u001b[0m\u001b[0mself\u001b[0m\u001b[0;34m.\u001b[0m\u001b[0mpred\u001b[0m\u001b[0;34m,\u001b[0m\u001b[0mself\u001b[0m\u001b[0;34m.\u001b[0m\u001b[0mloss\u001b[0m \u001b[0;34m=\u001b[0m \u001b[0;32mNone\u001b[0m\u001b[0;34m,\u001b[0m\u001b[0;34m(\u001b[0m\u001b[0;32mNone\u001b[0m\u001b[0;34m,\u001b[0m\u001b[0;34m)\u001b[0m\u001b[0;34m,\u001b[0m\u001b[0;34m(\u001b[0m\u001b[0;32mNone\u001b[0m\u001b[0;34m,\u001b[0m\u001b[0;34m)\u001b[0m\u001b[0;34m,\u001b[0m\u001b[0;32mNone\u001b[0m\u001b[0;34m,\u001b[0m\u001b[0;32mNone\u001b[0m\u001b[0;34m\u001b[0m\u001b[0;34m\u001b[0m\u001b[0m\n",
      "\u001b[0;32m~/anaconda3/lib/python3.9/site-packages/fastai/learner.py\u001b[0m in \u001b[0;36m_with_events\u001b[0;34m(self, f, event_type, ex, final)\u001b[0m\n\u001b[1;32m    191\u001b[0m \u001b[0;34m\u001b[0m\u001b[0m\n\u001b[1;32m    192\u001b[0m     \u001b[0;32mdef\u001b[0m \u001b[0m_with_events\u001b[0m\u001b[0;34m(\u001b[0m\u001b[0mself\u001b[0m\u001b[0;34m,\u001b[0m \u001b[0mf\u001b[0m\u001b[0;34m,\u001b[0m \u001b[0mevent_type\u001b[0m\u001b[0;34m,\u001b[0m \u001b[0mex\u001b[0m\u001b[0;34m,\u001b[0m \u001b[0mfinal\u001b[0m\u001b[0;34m=\u001b[0m\u001b[0mnoop\u001b[0m\u001b[0;34m)\u001b[0m\u001b[0;34m:\u001b[0m\u001b[0;34m\u001b[0m\u001b[0;34m\u001b[0m\u001b[0m\n\u001b[0;32m--> 193\u001b[0;31m         \u001b[0;32mtry\u001b[0m\u001b[0;34m:\u001b[0m \u001b[0mself\u001b[0m\u001b[0;34m(\u001b[0m\u001b[0;34mf'before_{event_type}'\u001b[0m\u001b[0;34m)\u001b[0m\u001b[0;34m;\u001b[0m  \u001b[0mf\u001b[0m\u001b[0;34m(\u001b[0m\u001b[0;34m)\u001b[0m\u001b[0;34m\u001b[0m\u001b[0;34m\u001b[0m\u001b[0m\n\u001b[0m\u001b[1;32m    194\u001b[0m         \u001b[0;32mexcept\u001b[0m \u001b[0mex\u001b[0m\u001b[0;34m:\u001b[0m \u001b[0mself\u001b[0m\u001b[0;34m(\u001b[0m\u001b[0;34mf'after_cancel_{event_type}'\u001b[0m\u001b[0;34m)\u001b[0m\u001b[0;34m\u001b[0m\u001b[0;34m\u001b[0m\u001b[0m\n\u001b[1;32m    195\u001b[0m         \u001b[0mself\u001b[0m\u001b[0;34m(\u001b[0m\u001b[0;34mf'after_{event_type}'\u001b[0m\u001b[0;34m)\u001b[0m\u001b[0;34m;\u001b[0m  \u001b[0mfinal\u001b[0m\u001b[0;34m(\u001b[0m\u001b[0;34m)\u001b[0m\u001b[0;34m\u001b[0m\u001b[0;34m\u001b[0m\u001b[0m\n",
      "\u001b[0;32m~/anaconda3/lib/python3.9/site-packages/fastai/learner.py\u001b[0m in \u001b[0;36m_do_fit\u001b[0;34m(self)\u001b[0m\n\u001b[1;32m    243\u001b[0m         \u001b[0;32mfor\u001b[0m \u001b[0mepoch\u001b[0m \u001b[0;32min\u001b[0m \u001b[0mrange\u001b[0m\u001b[0;34m(\u001b[0m\u001b[0mself\u001b[0m\u001b[0;34m.\u001b[0m\u001b[0mn_epoch\u001b[0m\u001b[0;34m)\u001b[0m\u001b[0;34m:\u001b[0m\u001b[0;34m\u001b[0m\u001b[0;34m\u001b[0m\u001b[0m\n\u001b[1;32m    244\u001b[0m             \u001b[0mself\u001b[0m\u001b[0;34m.\u001b[0m\u001b[0mepoch\u001b[0m\u001b[0;34m=\u001b[0m\u001b[0mepoch\u001b[0m\u001b[0;34m\u001b[0m\u001b[0;34m\u001b[0m\u001b[0m\n\u001b[0;32m--> 245\u001b[0;31m             \u001b[0mself\u001b[0m\u001b[0;34m.\u001b[0m\u001b[0m_with_events\u001b[0m\u001b[0;34m(\u001b[0m\u001b[0mself\u001b[0m\u001b[0;34m.\u001b[0m\u001b[0m_do_epoch\u001b[0m\u001b[0;34m,\u001b[0m \u001b[0;34m'epoch'\u001b[0m\u001b[0;34m,\u001b[0m \u001b[0mCancelEpochException\u001b[0m\u001b[0;34m)\u001b[0m\u001b[0;34m\u001b[0m\u001b[0;34m\u001b[0m\u001b[0m\n\u001b[0m\u001b[1;32m    246\u001b[0m \u001b[0;34m\u001b[0m\u001b[0m\n\u001b[1;32m    247\u001b[0m     \u001b[0;32mdef\u001b[0m \u001b[0mfit\u001b[0m\u001b[0;34m(\u001b[0m\u001b[0mself\u001b[0m\u001b[0;34m,\u001b[0m \u001b[0mn_epoch\u001b[0m\u001b[0;34m,\u001b[0m \u001b[0mlr\u001b[0m\u001b[0;34m=\u001b[0m\u001b[0;32mNone\u001b[0m\u001b[0;34m,\u001b[0m \u001b[0mwd\u001b[0m\u001b[0;34m=\u001b[0m\u001b[0;32mNone\u001b[0m\u001b[0;34m,\u001b[0m \u001b[0mcbs\u001b[0m\u001b[0;34m=\u001b[0m\u001b[0;32mNone\u001b[0m\u001b[0;34m,\u001b[0m \u001b[0mreset_opt\u001b[0m\u001b[0;34m=\u001b[0m\u001b[0;32mFalse\u001b[0m\u001b[0;34m,\u001b[0m \u001b[0mstart_epoch\u001b[0m\u001b[0;34m=\u001b[0m\u001b[0;36m0\u001b[0m\u001b[0;34m)\u001b[0m\u001b[0;34m:\u001b[0m\u001b[0;34m\u001b[0m\u001b[0;34m\u001b[0m\u001b[0m\n",
      "\u001b[0;32m~/anaconda3/lib/python3.9/site-packages/fastai/learner.py\u001b[0m in \u001b[0;36m_with_events\u001b[0;34m(self, f, event_type, ex, final)\u001b[0m\n\u001b[1;32m    191\u001b[0m \u001b[0;34m\u001b[0m\u001b[0m\n\u001b[1;32m    192\u001b[0m     \u001b[0;32mdef\u001b[0m \u001b[0m_with_events\u001b[0m\u001b[0;34m(\u001b[0m\u001b[0mself\u001b[0m\u001b[0;34m,\u001b[0m \u001b[0mf\u001b[0m\u001b[0;34m,\u001b[0m \u001b[0mevent_type\u001b[0m\u001b[0;34m,\u001b[0m \u001b[0mex\u001b[0m\u001b[0;34m,\u001b[0m \u001b[0mfinal\u001b[0m\u001b[0;34m=\u001b[0m\u001b[0mnoop\u001b[0m\u001b[0;34m)\u001b[0m\u001b[0;34m:\u001b[0m\u001b[0;34m\u001b[0m\u001b[0;34m\u001b[0m\u001b[0m\n\u001b[0;32m--> 193\u001b[0;31m         \u001b[0;32mtry\u001b[0m\u001b[0;34m:\u001b[0m \u001b[0mself\u001b[0m\u001b[0;34m(\u001b[0m\u001b[0;34mf'before_{event_type}'\u001b[0m\u001b[0;34m)\u001b[0m\u001b[0;34m;\u001b[0m  \u001b[0mf\u001b[0m\u001b[0;34m(\u001b[0m\u001b[0;34m)\u001b[0m\u001b[0;34m\u001b[0m\u001b[0;34m\u001b[0m\u001b[0m\n\u001b[0m\u001b[1;32m    194\u001b[0m         \u001b[0;32mexcept\u001b[0m \u001b[0mex\u001b[0m\u001b[0;34m:\u001b[0m \u001b[0mself\u001b[0m\u001b[0;34m(\u001b[0m\u001b[0;34mf'after_cancel_{event_type}'\u001b[0m\u001b[0;34m)\u001b[0m\u001b[0;34m\u001b[0m\u001b[0;34m\u001b[0m\u001b[0m\n\u001b[1;32m    195\u001b[0m         \u001b[0mself\u001b[0m\u001b[0;34m(\u001b[0m\u001b[0;34mf'after_{event_type}'\u001b[0m\u001b[0;34m)\u001b[0m\u001b[0;34m;\u001b[0m  \u001b[0mfinal\u001b[0m\u001b[0;34m(\u001b[0m\u001b[0;34m)\u001b[0m\u001b[0;34m\u001b[0m\u001b[0;34m\u001b[0m\u001b[0m\n",
      "\u001b[0;32m~/anaconda3/lib/python3.9/site-packages/fastai/learner.py\u001b[0m in \u001b[0;36m_do_epoch\u001b[0;34m(self)\u001b[0m\n\u001b[1;32m    237\u001b[0m \u001b[0;34m\u001b[0m\u001b[0m\n\u001b[1;32m    238\u001b[0m     \u001b[0;32mdef\u001b[0m \u001b[0m_do_epoch\u001b[0m\u001b[0;34m(\u001b[0m\u001b[0mself\u001b[0m\u001b[0;34m)\u001b[0m\u001b[0;34m:\u001b[0m\u001b[0;34m\u001b[0m\u001b[0;34m\u001b[0m\u001b[0m\n\u001b[0;32m--> 239\u001b[0;31m         \u001b[0mself\u001b[0m\u001b[0;34m.\u001b[0m\u001b[0m_do_epoch_train\u001b[0m\u001b[0;34m(\u001b[0m\u001b[0;34m)\u001b[0m\u001b[0;34m\u001b[0m\u001b[0;34m\u001b[0m\u001b[0m\n\u001b[0m\u001b[1;32m    240\u001b[0m         \u001b[0mself\u001b[0m\u001b[0;34m.\u001b[0m\u001b[0m_do_epoch_validate\u001b[0m\u001b[0;34m(\u001b[0m\u001b[0;34m)\u001b[0m\u001b[0;34m\u001b[0m\u001b[0;34m\u001b[0m\u001b[0m\n\u001b[1;32m    241\u001b[0m \u001b[0;34m\u001b[0m\u001b[0m\n",
      "\u001b[0;32m~/anaconda3/lib/python3.9/site-packages/fastai/learner.py\u001b[0m in \u001b[0;36m_do_epoch_train\u001b[0;34m(self)\u001b[0m\n\u001b[1;32m    229\u001b[0m     \u001b[0;32mdef\u001b[0m \u001b[0m_do_epoch_train\u001b[0m\u001b[0;34m(\u001b[0m\u001b[0mself\u001b[0m\u001b[0;34m)\u001b[0m\u001b[0;34m:\u001b[0m\u001b[0;34m\u001b[0m\u001b[0;34m\u001b[0m\u001b[0m\n\u001b[1;32m    230\u001b[0m         \u001b[0mself\u001b[0m\u001b[0;34m.\u001b[0m\u001b[0mdl\u001b[0m \u001b[0;34m=\u001b[0m \u001b[0mself\u001b[0m\u001b[0;34m.\u001b[0m\u001b[0mdls\u001b[0m\u001b[0;34m.\u001b[0m\u001b[0mtrain\u001b[0m\u001b[0;34m\u001b[0m\u001b[0;34m\u001b[0m\u001b[0m\n\u001b[0;32m--> 231\u001b[0;31m         \u001b[0mself\u001b[0m\u001b[0;34m.\u001b[0m\u001b[0m_with_events\u001b[0m\u001b[0;34m(\u001b[0m\u001b[0mself\u001b[0m\u001b[0;34m.\u001b[0m\u001b[0mall_batches\u001b[0m\u001b[0;34m,\u001b[0m \u001b[0;34m'train'\u001b[0m\u001b[0;34m,\u001b[0m \u001b[0mCancelTrainException\u001b[0m\u001b[0;34m)\u001b[0m\u001b[0;34m\u001b[0m\u001b[0;34m\u001b[0m\u001b[0m\n\u001b[0m\u001b[1;32m    232\u001b[0m \u001b[0;34m\u001b[0m\u001b[0m\n\u001b[1;32m    233\u001b[0m     \u001b[0;32mdef\u001b[0m \u001b[0m_do_epoch_validate\u001b[0m\u001b[0;34m(\u001b[0m\u001b[0mself\u001b[0m\u001b[0;34m,\u001b[0m \u001b[0mds_idx\u001b[0m\u001b[0;34m=\u001b[0m\u001b[0;36m1\u001b[0m\u001b[0;34m,\u001b[0m \u001b[0mdl\u001b[0m\u001b[0;34m=\u001b[0m\u001b[0;32mNone\u001b[0m\u001b[0;34m)\u001b[0m\u001b[0;34m:\u001b[0m\u001b[0;34m\u001b[0m\u001b[0;34m\u001b[0m\u001b[0m\n",
      "\u001b[0;32m~/anaconda3/lib/python3.9/site-packages/fastai/learner.py\u001b[0m in \u001b[0;36m_with_events\u001b[0;34m(self, f, event_type, ex, final)\u001b[0m\n\u001b[1;32m    191\u001b[0m \u001b[0;34m\u001b[0m\u001b[0m\n\u001b[1;32m    192\u001b[0m     \u001b[0;32mdef\u001b[0m \u001b[0m_with_events\u001b[0m\u001b[0;34m(\u001b[0m\u001b[0mself\u001b[0m\u001b[0;34m,\u001b[0m \u001b[0mf\u001b[0m\u001b[0;34m,\u001b[0m \u001b[0mevent_type\u001b[0m\u001b[0;34m,\u001b[0m \u001b[0mex\u001b[0m\u001b[0;34m,\u001b[0m \u001b[0mfinal\u001b[0m\u001b[0;34m=\u001b[0m\u001b[0mnoop\u001b[0m\u001b[0;34m)\u001b[0m\u001b[0;34m:\u001b[0m\u001b[0;34m\u001b[0m\u001b[0;34m\u001b[0m\u001b[0m\n\u001b[0;32m--> 193\u001b[0;31m         \u001b[0;32mtry\u001b[0m\u001b[0;34m:\u001b[0m \u001b[0mself\u001b[0m\u001b[0;34m(\u001b[0m\u001b[0;34mf'before_{event_type}'\u001b[0m\u001b[0;34m)\u001b[0m\u001b[0;34m;\u001b[0m  \u001b[0mf\u001b[0m\u001b[0;34m(\u001b[0m\u001b[0;34m)\u001b[0m\u001b[0;34m\u001b[0m\u001b[0;34m\u001b[0m\u001b[0m\n\u001b[0m\u001b[1;32m    194\u001b[0m         \u001b[0;32mexcept\u001b[0m \u001b[0mex\u001b[0m\u001b[0;34m:\u001b[0m \u001b[0mself\u001b[0m\u001b[0;34m(\u001b[0m\u001b[0;34mf'after_cancel_{event_type}'\u001b[0m\u001b[0;34m)\u001b[0m\u001b[0;34m\u001b[0m\u001b[0;34m\u001b[0m\u001b[0m\n\u001b[1;32m    195\u001b[0m         \u001b[0mself\u001b[0m\u001b[0;34m(\u001b[0m\u001b[0;34mf'after_{event_type}'\u001b[0m\u001b[0;34m)\u001b[0m\u001b[0;34m;\u001b[0m  \u001b[0mfinal\u001b[0m\u001b[0;34m(\u001b[0m\u001b[0;34m)\u001b[0m\u001b[0;34m\u001b[0m\u001b[0;34m\u001b[0m\u001b[0m\n",
      "\u001b[0;32m~/anaconda3/lib/python3.9/site-packages/fastai/learner.py\u001b[0m in \u001b[0;36mall_batches\u001b[0;34m(self)\u001b[0m\n\u001b[1;32m    197\u001b[0m     \u001b[0;32mdef\u001b[0m \u001b[0mall_batches\u001b[0m\u001b[0;34m(\u001b[0m\u001b[0mself\u001b[0m\u001b[0;34m)\u001b[0m\u001b[0;34m:\u001b[0m\u001b[0;34m\u001b[0m\u001b[0;34m\u001b[0m\u001b[0m\n\u001b[1;32m    198\u001b[0m         \u001b[0mself\u001b[0m\u001b[0;34m.\u001b[0m\u001b[0mn_iter\u001b[0m \u001b[0;34m=\u001b[0m \u001b[0mlen\u001b[0m\u001b[0;34m(\u001b[0m\u001b[0mself\u001b[0m\u001b[0;34m.\u001b[0m\u001b[0mdl\u001b[0m\u001b[0;34m)\u001b[0m\u001b[0;34m\u001b[0m\u001b[0;34m\u001b[0m\u001b[0m\n\u001b[0;32m--> 199\u001b[0;31m         \u001b[0;32mfor\u001b[0m \u001b[0mo\u001b[0m \u001b[0;32min\u001b[0m \u001b[0menumerate\u001b[0m\u001b[0;34m(\u001b[0m\u001b[0mself\u001b[0m\u001b[0;34m.\u001b[0m\u001b[0mdl\u001b[0m\u001b[0;34m)\u001b[0m\u001b[0;34m:\u001b[0m \u001b[0mself\u001b[0m\u001b[0;34m.\u001b[0m\u001b[0mone_batch\u001b[0m\u001b[0;34m(\u001b[0m\u001b[0;34m*\u001b[0m\u001b[0mo\u001b[0m\u001b[0;34m)\u001b[0m\u001b[0;34m\u001b[0m\u001b[0;34m\u001b[0m\u001b[0m\n\u001b[0m\u001b[1;32m    200\u001b[0m \u001b[0;34m\u001b[0m\u001b[0m\n\u001b[1;32m    201\u001b[0m     \u001b[0;32mdef\u001b[0m \u001b[0m_backward\u001b[0m\u001b[0;34m(\u001b[0m\u001b[0mself\u001b[0m\u001b[0;34m)\u001b[0m\u001b[0;34m:\u001b[0m \u001b[0mself\u001b[0m\u001b[0;34m.\u001b[0m\u001b[0mloss_grad\u001b[0m\u001b[0;34m.\u001b[0m\u001b[0mbackward\u001b[0m\u001b[0;34m(\u001b[0m\u001b[0;34m)\u001b[0m\u001b[0;34m\u001b[0m\u001b[0;34m\u001b[0m\u001b[0m\n",
      "\u001b[0;32m~/anaconda3/lib/python3.9/site-packages/fastai/learner.py\u001b[0m in \u001b[0;36mone_batch\u001b[0;34m(self, i, b)\u001b[0m\n\u001b[1;32m    225\u001b[0m         \u001b[0mb\u001b[0m \u001b[0;34m=\u001b[0m \u001b[0mself\u001b[0m\u001b[0;34m.\u001b[0m\u001b[0m_set_device\u001b[0m\u001b[0;34m(\u001b[0m\u001b[0mb\u001b[0m\u001b[0;34m)\u001b[0m\u001b[0;34m\u001b[0m\u001b[0;34m\u001b[0m\u001b[0m\n\u001b[1;32m    226\u001b[0m         \u001b[0mself\u001b[0m\u001b[0;34m.\u001b[0m\u001b[0m_split\u001b[0m\u001b[0;34m(\u001b[0m\u001b[0mb\u001b[0m\u001b[0;34m)\u001b[0m\u001b[0;34m\u001b[0m\u001b[0;34m\u001b[0m\u001b[0m\n\u001b[0;32m--> 227\u001b[0;31m         \u001b[0mself\u001b[0m\u001b[0;34m.\u001b[0m\u001b[0m_with_events\u001b[0m\u001b[0;34m(\u001b[0m\u001b[0mself\u001b[0m\u001b[0;34m.\u001b[0m\u001b[0m_do_one_batch\u001b[0m\u001b[0;34m,\u001b[0m \u001b[0;34m'batch'\u001b[0m\u001b[0;34m,\u001b[0m \u001b[0mCancelBatchException\u001b[0m\u001b[0;34m)\u001b[0m\u001b[0;34m\u001b[0m\u001b[0;34m\u001b[0m\u001b[0m\n\u001b[0m\u001b[1;32m    228\u001b[0m \u001b[0;34m\u001b[0m\u001b[0m\n\u001b[1;32m    229\u001b[0m     \u001b[0;32mdef\u001b[0m \u001b[0m_do_epoch_train\u001b[0m\u001b[0;34m(\u001b[0m\u001b[0mself\u001b[0m\u001b[0;34m)\u001b[0m\u001b[0;34m:\u001b[0m\u001b[0;34m\u001b[0m\u001b[0;34m\u001b[0m\u001b[0m\n",
      "\u001b[0;32m~/anaconda3/lib/python3.9/site-packages/fastai/learner.py\u001b[0m in \u001b[0;36m_with_events\u001b[0;34m(self, f, event_type, ex, final)\u001b[0m\n\u001b[1;32m    191\u001b[0m \u001b[0;34m\u001b[0m\u001b[0m\n\u001b[1;32m    192\u001b[0m     \u001b[0;32mdef\u001b[0m \u001b[0m_with_events\u001b[0m\u001b[0;34m(\u001b[0m\u001b[0mself\u001b[0m\u001b[0;34m,\u001b[0m \u001b[0mf\u001b[0m\u001b[0;34m,\u001b[0m \u001b[0mevent_type\u001b[0m\u001b[0;34m,\u001b[0m \u001b[0mex\u001b[0m\u001b[0;34m,\u001b[0m \u001b[0mfinal\u001b[0m\u001b[0;34m=\u001b[0m\u001b[0mnoop\u001b[0m\u001b[0;34m)\u001b[0m\u001b[0;34m:\u001b[0m\u001b[0;34m\u001b[0m\u001b[0;34m\u001b[0m\u001b[0m\n\u001b[0;32m--> 193\u001b[0;31m         \u001b[0;32mtry\u001b[0m\u001b[0;34m:\u001b[0m \u001b[0mself\u001b[0m\u001b[0;34m(\u001b[0m\u001b[0;34mf'before_{event_type}'\u001b[0m\u001b[0;34m)\u001b[0m\u001b[0;34m;\u001b[0m  \u001b[0mf\u001b[0m\u001b[0;34m(\u001b[0m\u001b[0;34m)\u001b[0m\u001b[0;34m\u001b[0m\u001b[0;34m\u001b[0m\u001b[0m\n\u001b[0m\u001b[1;32m    194\u001b[0m         \u001b[0;32mexcept\u001b[0m \u001b[0mex\u001b[0m\u001b[0;34m:\u001b[0m \u001b[0mself\u001b[0m\u001b[0;34m(\u001b[0m\u001b[0;34mf'after_cancel_{event_type}'\u001b[0m\u001b[0;34m)\u001b[0m\u001b[0;34m\u001b[0m\u001b[0;34m\u001b[0m\u001b[0m\n\u001b[1;32m    195\u001b[0m         \u001b[0mself\u001b[0m\u001b[0;34m(\u001b[0m\u001b[0;34mf'after_{event_type}'\u001b[0m\u001b[0;34m)\u001b[0m\u001b[0;34m;\u001b[0m  \u001b[0mfinal\u001b[0m\u001b[0;34m(\u001b[0m\u001b[0;34m)\u001b[0m\u001b[0;34m\u001b[0m\u001b[0;34m\u001b[0m\u001b[0m\n",
      "\u001b[0;32m~/anaconda3/lib/python3.9/site-packages/fastai/learner.py\u001b[0m in \u001b[0;36m_do_one_batch\u001b[0;34m(self)\u001b[0m\n\u001b[1;32m    203\u001b[0m \u001b[0;34m\u001b[0m\u001b[0m\n\u001b[1;32m    204\u001b[0m     \u001b[0;32mdef\u001b[0m \u001b[0m_do_one_batch\u001b[0m\u001b[0;34m(\u001b[0m\u001b[0mself\u001b[0m\u001b[0;34m)\u001b[0m\u001b[0;34m:\u001b[0m\u001b[0;34m\u001b[0m\u001b[0;34m\u001b[0m\u001b[0m\n\u001b[0;32m--> 205\u001b[0;31m         \u001b[0mself\u001b[0m\u001b[0;34m.\u001b[0m\u001b[0mpred\u001b[0m \u001b[0;34m=\u001b[0m \u001b[0mself\u001b[0m\u001b[0;34m.\u001b[0m\u001b[0mmodel\u001b[0m\u001b[0;34m(\u001b[0m\u001b[0;34m*\u001b[0m\u001b[0mself\u001b[0m\u001b[0;34m.\u001b[0m\u001b[0mxb\u001b[0m\u001b[0;34m)\u001b[0m\u001b[0;34m\u001b[0m\u001b[0;34m\u001b[0m\u001b[0m\n\u001b[0m\u001b[1;32m    206\u001b[0m         \u001b[0mself\u001b[0m\u001b[0;34m(\u001b[0m\u001b[0;34m'after_pred'\u001b[0m\u001b[0;34m)\u001b[0m\u001b[0;34m\u001b[0m\u001b[0;34m\u001b[0m\u001b[0m\n\u001b[1;32m    207\u001b[0m         \u001b[0;32mif\u001b[0m \u001b[0mlen\u001b[0m\u001b[0;34m(\u001b[0m\u001b[0mself\u001b[0m\u001b[0;34m.\u001b[0m\u001b[0myb\u001b[0m\u001b[0;34m)\u001b[0m\u001b[0;34m:\u001b[0m\u001b[0;34m\u001b[0m\u001b[0;34m\u001b[0m\u001b[0m\n",
      "\u001b[0;32m~/anaconda3/lib/python3.9/site-packages/torch/nn/modules/module.py\u001b[0m in \u001b[0;36m_call_impl\u001b[0;34m(self, *input, **kwargs)\u001b[0m\n\u001b[1;32m   1188\u001b[0m         if not (self._backward_hooks or self._forward_hooks or self._forward_pre_hooks or _global_backward_hooks\n\u001b[1;32m   1189\u001b[0m                 or _global_forward_hooks or _global_forward_pre_hooks):\n\u001b[0;32m-> 1190\u001b[0;31m             \u001b[0;32mreturn\u001b[0m \u001b[0mforward_call\u001b[0m\u001b[0;34m(\u001b[0m\u001b[0;34m*\u001b[0m\u001b[0minput\u001b[0m\u001b[0;34m,\u001b[0m \u001b[0;34m**\u001b[0m\u001b[0mkwargs\u001b[0m\u001b[0;34m)\u001b[0m\u001b[0;34m\u001b[0m\u001b[0;34m\u001b[0m\u001b[0m\n\u001b[0m\u001b[1;32m   1191\u001b[0m         \u001b[0;31m# Do not call functions when jit is used\u001b[0m\u001b[0;34m\u001b[0m\u001b[0;34m\u001b[0m\u001b[0m\n\u001b[1;32m   1192\u001b[0m         \u001b[0mfull_backward_hooks\u001b[0m\u001b[0;34m,\u001b[0m \u001b[0mnon_full_backward_hooks\u001b[0m \u001b[0;34m=\u001b[0m \u001b[0;34m[\u001b[0m\u001b[0;34m]\u001b[0m\u001b[0;34m,\u001b[0m \u001b[0;34m[\u001b[0m\u001b[0;34m]\u001b[0m\u001b[0;34m\u001b[0m\u001b[0;34m\u001b[0m\u001b[0m\n",
      "\u001b[0;32m~/anaconda3/lib/python3.9/site-packages/torch/nn/modules/container.py\u001b[0m in \u001b[0;36mforward\u001b[0;34m(self, input)\u001b[0m\n\u001b[1;32m    202\u001b[0m     \u001b[0;32mdef\u001b[0m \u001b[0mforward\u001b[0m\u001b[0;34m(\u001b[0m\u001b[0mself\u001b[0m\u001b[0;34m,\u001b[0m \u001b[0minput\u001b[0m\u001b[0;34m)\u001b[0m\u001b[0;34m:\u001b[0m\u001b[0;34m\u001b[0m\u001b[0;34m\u001b[0m\u001b[0m\n\u001b[1;32m    203\u001b[0m         \u001b[0;32mfor\u001b[0m \u001b[0mmodule\u001b[0m \u001b[0;32min\u001b[0m \u001b[0mself\u001b[0m\u001b[0;34m:\u001b[0m\u001b[0;34m\u001b[0m\u001b[0;34m\u001b[0m\u001b[0m\n\u001b[0;32m--> 204\u001b[0;31m             \u001b[0minput\u001b[0m \u001b[0;34m=\u001b[0m \u001b[0mmodule\u001b[0m\u001b[0;34m(\u001b[0m\u001b[0minput\u001b[0m\u001b[0;34m)\u001b[0m\u001b[0;34m\u001b[0m\u001b[0;34m\u001b[0m\u001b[0m\n\u001b[0m\u001b[1;32m    205\u001b[0m         \u001b[0;32mreturn\u001b[0m \u001b[0minput\u001b[0m\u001b[0;34m\u001b[0m\u001b[0;34m\u001b[0m\u001b[0m\n\u001b[1;32m    206\u001b[0m \u001b[0;34m\u001b[0m\u001b[0m\n",
      "\u001b[0;32m~/anaconda3/lib/python3.9/site-packages/torch/nn/modules/module.py\u001b[0m in \u001b[0;36m_call_impl\u001b[0;34m(self, *input, **kwargs)\u001b[0m\n\u001b[1;32m   1188\u001b[0m         if not (self._backward_hooks or self._forward_hooks or self._forward_pre_hooks or _global_backward_hooks\n\u001b[1;32m   1189\u001b[0m                 or _global_forward_hooks or _global_forward_pre_hooks):\n\u001b[0;32m-> 1190\u001b[0;31m             \u001b[0;32mreturn\u001b[0m \u001b[0mforward_call\u001b[0m\u001b[0;34m(\u001b[0m\u001b[0;34m*\u001b[0m\u001b[0minput\u001b[0m\u001b[0;34m,\u001b[0m \u001b[0;34m**\u001b[0m\u001b[0mkwargs\u001b[0m\u001b[0;34m)\u001b[0m\u001b[0;34m\u001b[0m\u001b[0;34m\u001b[0m\u001b[0m\n\u001b[0m\u001b[1;32m   1191\u001b[0m         \u001b[0;31m# Do not call functions when jit is used\u001b[0m\u001b[0;34m\u001b[0m\u001b[0;34m\u001b[0m\u001b[0m\n\u001b[1;32m   1192\u001b[0m         \u001b[0mfull_backward_hooks\u001b[0m\u001b[0;34m,\u001b[0m \u001b[0mnon_full_backward_hooks\u001b[0m \u001b[0;34m=\u001b[0m \u001b[0;34m[\u001b[0m\u001b[0;34m]\u001b[0m\u001b[0;34m,\u001b[0m \u001b[0;34m[\u001b[0m\u001b[0;34m]\u001b[0m\u001b[0;34m\u001b[0m\u001b[0;34m\u001b[0m\u001b[0m\n",
      "\u001b[0;32m~/anaconda3/lib/python3.9/site-packages/fastai/text/models/core.py\u001b[0m in \u001b[0;36mforward\u001b[0;34m(self, input)\u001b[0m\n\u001b[1;32m     96\u001b[0m             \u001b[0;31m#Note: this expects that sequence really begins on a round multiple of bptt\u001b[0m\u001b[0;34m\u001b[0m\u001b[0;34m\u001b[0m\u001b[0m\n\u001b[1;32m     97\u001b[0m             \u001b[0mreal_bs\u001b[0m \u001b[0;34m=\u001b[0m \u001b[0;34m(\u001b[0m\u001b[0minput\u001b[0m\u001b[0;34m[\u001b[0m\u001b[0;34m:\u001b[0m\u001b[0;34m,\u001b[0m\u001b[0mi\u001b[0m\u001b[0;34m]\u001b[0m \u001b[0;34m!=\u001b[0m \u001b[0mself\u001b[0m\u001b[0;34m.\u001b[0m\u001b[0mpad_idx\u001b[0m\u001b[0;34m)\u001b[0m\u001b[0;34m.\u001b[0m\u001b[0mlong\u001b[0m\u001b[0;34m(\u001b[0m\u001b[0;34m)\u001b[0m\u001b[0;34m.\u001b[0m\u001b[0msum\u001b[0m\u001b[0;34m(\u001b[0m\u001b[0;34m)\u001b[0m\u001b[0;34m\u001b[0m\u001b[0;34m\u001b[0m\u001b[0m\n\u001b[0;32m---> 98\u001b[0;31m             \u001b[0mo\u001b[0m \u001b[0;34m=\u001b[0m \u001b[0mself\u001b[0m\u001b[0;34m.\u001b[0m\u001b[0mmodule\u001b[0m\u001b[0;34m(\u001b[0m\u001b[0minput\u001b[0m\u001b[0;34m[\u001b[0m\u001b[0;34m:\u001b[0m\u001b[0mreal_bs\u001b[0m\u001b[0;34m,\u001b[0m\u001b[0mi\u001b[0m\u001b[0;34m:\u001b[0m \u001b[0mmin\u001b[0m\u001b[0;34m(\u001b[0m\u001b[0mi\u001b[0m\u001b[0;34m+\u001b[0m\u001b[0mself\u001b[0m\u001b[0;34m.\u001b[0m\u001b[0mbptt\u001b[0m\u001b[0;34m,\u001b[0m \u001b[0msl\u001b[0m\u001b[0;34m)\u001b[0m\u001b[0;34m]\u001b[0m\u001b[0;34m)\u001b[0m\u001b[0;34m\u001b[0m\u001b[0;34m\u001b[0m\u001b[0m\n\u001b[0m\u001b[1;32m     99\u001b[0m             \u001b[0;32mif\u001b[0m \u001b[0mself\u001b[0m\u001b[0;34m.\u001b[0m\u001b[0mmax_len\u001b[0m \u001b[0;32mis\u001b[0m \u001b[0;32mNone\u001b[0m \u001b[0;32mor\u001b[0m \u001b[0msl\u001b[0m\u001b[0;34m-\u001b[0m\u001b[0mi\u001b[0m \u001b[0;34m<=\u001b[0m \u001b[0mself\u001b[0m\u001b[0;34m.\u001b[0m\u001b[0mmax_len\u001b[0m\u001b[0;34m:\u001b[0m\u001b[0;34m\u001b[0m\u001b[0;34m\u001b[0m\u001b[0m\n\u001b[1;32m    100\u001b[0m                 \u001b[0mouts\u001b[0m\u001b[0;34m.\u001b[0m\u001b[0mappend\u001b[0m\u001b[0;34m(\u001b[0m\u001b[0mo\u001b[0m\u001b[0;34m)\u001b[0m\u001b[0;34m\u001b[0m\u001b[0;34m\u001b[0m\u001b[0m\n",
      "\u001b[0;32m~/anaconda3/lib/python3.9/site-packages/torch/nn/modules/module.py\u001b[0m in \u001b[0;36m_call_impl\u001b[0;34m(self, *input, **kwargs)\u001b[0m\n\u001b[1;32m   1188\u001b[0m         if not (self._backward_hooks or self._forward_hooks or self._forward_pre_hooks or _global_backward_hooks\n\u001b[1;32m   1189\u001b[0m                 or _global_forward_hooks or _global_forward_pre_hooks):\n\u001b[0;32m-> 1190\u001b[0;31m             \u001b[0;32mreturn\u001b[0m \u001b[0mforward_call\u001b[0m\u001b[0;34m(\u001b[0m\u001b[0;34m*\u001b[0m\u001b[0minput\u001b[0m\u001b[0;34m,\u001b[0m \u001b[0;34m**\u001b[0m\u001b[0mkwargs\u001b[0m\u001b[0;34m)\u001b[0m\u001b[0;34m\u001b[0m\u001b[0;34m\u001b[0m\u001b[0m\n\u001b[0m\u001b[1;32m   1191\u001b[0m         \u001b[0;31m# Do not call functions when jit is used\u001b[0m\u001b[0;34m\u001b[0m\u001b[0;34m\u001b[0m\u001b[0m\n\u001b[1;32m   1192\u001b[0m         \u001b[0mfull_backward_hooks\u001b[0m\u001b[0;34m,\u001b[0m \u001b[0mnon_full_backward_hooks\u001b[0m \u001b[0;34m=\u001b[0m \u001b[0;34m[\u001b[0m\u001b[0;34m]\u001b[0m\u001b[0;34m,\u001b[0m \u001b[0;34m[\u001b[0m\u001b[0;34m]\u001b[0m\u001b[0;34m\u001b[0m\u001b[0;34m\u001b[0m\u001b[0m\n",
      "\u001b[0;32m~/anaconda3/lib/python3.9/site-packages/fastai/text/models/awdlstm.py\u001b[0m in \u001b[0;36mforward\u001b[0;34m(self, inp, from_embeds)\u001b[0m\n\u001b[1;32m    126\u001b[0m         \u001b[0mnew_hidden\u001b[0m \u001b[0;34m=\u001b[0m \u001b[0;34m[\u001b[0m\u001b[0;34m]\u001b[0m\u001b[0;34m\u001b[0m\u001b[0;34m\u001b[0m\u001b[0m\n\u001b[1;32m    127\u001b[0m         \u001b[0;32mfor\u001b[0m \u001b[0ml\u001b[0m\u001b[0;34m,\u001b[0m \u001b[0;34m(\u001b[0m\u001b[0mrnn\u001b[0m\u001b[0;34m,\u001b[0m\u001b[0mhid_dp\u001b[0m\u001b[0;34m)\u001b[0m \u001b[0;32min\u001b[0m \u001b[0menumerate\u001b[0m\u001b[0;34m(\u001b[0m\u001b[0mzip\u001b[0m\u001b[0;34m(\u001b[0m\u001b[0mself\u001b[0m\u001b[0;34m.\u001b[0m\u001b[0mrnns\u001b[0m\u001b[0;34m,\u001b[0m \u001b[0mself\u001b[0m\u001b[0;34m.\u001b[0m\u001b[0mhidden_dps\u001b[0m\u001b[0;34m)\u001b[0m\u001b[0;34m)\u001b[0m\u001b[0;34m:\u001b[0m\u001b[0;34m\u001b[0m\u001b[0;34m\u001b[0m\u001b[0m\n\u001b[0;32m--> 128\u001b[0;31m             \u001b[0moutput\u001b[0m\u001b[0;34m,\u001b[0m \u001b[0mnew_h\u001b[0m \u001b[0;34m=\u001b[0m \u001b[0mrnn\u001b[0m\u001b[0;34m(\u001b[0m\u001b[0moutput\u001b[0m\u001b[0;34m,\u001b[0m \u001b[0mself\u001b[0m\u001b[0;34m.\u001b[0m\u001b[0mhidden\u001b[0m\u001b[0;34m[\u001b[0m\u001b[0ml\u001b[0m\u001b[0;34m]\u001b[0m\u001b[0;34m)\u001b[0m\u001b[0;34m\u001b[0m\u001b[0;34m\u001b[0m\u001b[0m\n\u001b[0m\u001b[1;32m    129\u001b[0m             \u001b[0mnew_hidden\u001b[0m\u001b[0;34m.\u001b[0m\u001b[0mappend\u001b[0m\u001b[0;34m(\u001b[0m\u001b[0mnew_h\u001b[0m\u001b[0;34m)\u001b[0m\u001b[0;34m\u001b[0m\u001b[0;34m\u001b[0m\u001b[0m\n\u001b[1;32m    130\u001b[0m             \u001b[0;32mif\u001b[0m \u001b[0ml\u001b[0m \u001b[0;34m!=\u001b[0m \u001b[0mself\u001b[0m\u001b[0;34m.\u001b[0m\u001b[0mn_layers\u001b[0m \u001b[0;34m-\u001b[0m \u001b[0;36m1\u001b[0m\u001b[0;34m:\u001b[0m \u001b[0moutput\u001b[0m \u001b[0;34m=\u001b[0m \u001b[0mhid_dp\u001b[0m\u001b[0;34m(\u001b[0m\u001b[0moutput\u001b[0m\u001b[0;34m)\u001b[0m\u001b[0;34m\u001b[0m\u001b[0;34m\u001b[0m\u001b[0m\n",
      "\u001b[0;32m~/anaconda3/lib/python3.9/site-packages/torch/nn/modules/module.py\u001b[0m in \u001b[0;36m_call_impl\u001b[0;34m(self, *input, **kwargs)\u001b[0m\n\u001b[1;32m   1188\u001b[0m         if not (self._backward_hooks or self._forward_hooks or self._forward_pre_hooks or _global_backward_hooks\n\u001b[1;32m   1189\u001b[0m                 or _global_forward_hooks or _global_forward_pre_hooks):\n\u001b[0;32m-> 1190\u001b[0;31m             \u001b[0;32mreturn\u001b[0m \u001b[0mforward_call\u001b[0m\u001b[0;34m(\u001b[0m\u001b[0;34m*\u001b[0m\u001b[0minput\u001b[0m\u001b[0;34m,\u001b[0m \u001b[0;34m**\u001b[0m\u001b[0mkwargs\u001b[0m\u001b[0;34m)\u001b[0m\u001b[0;34m\u001b[0m\u001b[0;34m\u001b[0m\u001b[0m\n\u001b[0m\u001b[1;32m   1191\u001b[0m         \u001b[0;31m# Do not call functions when jit is used\u001b[0m\u001b[0;34m\u001b[0m\u001b[0;34m\u001b[0m\u001b[0m\n\u001b[1;32m   1192\u001b[0m         \u001b[0mfull_backward_hooks\u001b[0m\u001b[0;34m,\u001b[0m \u001b[0mnon_full_backward_hooks\u001b[0m \u001b[0;34m=\u001b[0m \u001b[0;34m[\u001b[0m\u001b[0;34m]\u001b[0m\u001b[0;34m,\u001b[0m \u001b[0;34m[\u001b[0m\u001b[0;34m]\u001b[0m\u001b[0;34m\u001b[0m\u001b[0;34m\u001b[0m\u001b[0m\n",
      "\u001b[0;32m~/anaconda3/lib/python3.9/site-packages/fastai/text/models/awdlstm.py\u001b[0m in \u001b[0;36mforward\u001b[0;34m(self, *args)\u001b[0m\n\u001b[1;32m     60\u001b[0m             \u001b[0;31m# To avoid the warning that comes because the weights aren't flattened.\u001b[0m\u001b[0;34m\u001b[0m\u001b[0;34m\u001b[0m\u001b[0m\n\u001b[1;32m     61\u001b[0m             \u001b[0mwarnings\u001b[0m\u001b[0;34m.\u001b[0m\u001b[0msimplefilter\u001b[0m\u001b[0;34m(\u001b[0m\u001b[0;34m\"ignore\"\u001b[0m\u001b[0;34m,\u001b[0m \u001b[0mcategory\u001b[0m\u001b[0;34m=\u001b[0m\u001b[0mUserWarning\u001b[0m\u001b[0;34m)\u001b[0m\u001b[0;34m\u001b[0m\u001b[0;34m\u001b[0m\u001b[0m\n\u001b[0;32m---> 62\u001b[0;31m             \u001b[0;32mreturn\u001b[0m \u001b[0mself\u001b[0m\u001b[0;34m.\u001b[0m\u001b[0mmodule\u001b[0m\u001b[0;34m(\u001b[0m\u001b[0;34m*\u001b[0m\u001b[0margs\u001b[0m\u001b[0;34m)\u001b[0m\u001b[0;34m\u001b[0m\u001b[0;34m\u001b[0m\u001b[0m\n\u001b[0m\u001b[1;32m     63\u001b[0m \u001b[0;34m\u001b[0m\u001b[0m\n\u001b[1;32m     64\u001b[0m     \u001b[0;32mdef\u001b[0m \u001b[0mreset\u001b[0m\u001b[0;34m(\u001b[0m\u001b[0mself\u001b[0m\u001b[0;34m)\u001b[0m\u001b[0;34m:\u001b[0m\u001b[0;34m\u001b[0m\u001b[0;34m\u001b[0m\u001b[0m\n",
      "\u001b[0;32m~/anaconda3/lib/python3.9/site-packages/torch/nn/modules/module.py\u001b[0m in \u001b[0;36m_call_impl\u001b[0;34m(self, *input, **kwargs)\u001b[0m\n\u001b[1;32m   1188\u001b[0m         if not (self._backward_hooks or self._forward_hooks or self._forward_pre_hooks or _global_backward_hooks\n\u001b[1;32m   1189\u001b[0m                 or _global_forward_hooks or _global_forward_pre_hooks):\n\u001b[0;32m-> 1190\u001b[0;31m             \u001b[0;32mreturn\u001b[0m \u001b[0mforward_call\u001b[0m\u001b[0;34m(\u001b[0m\u001b[0;34m*\u001b[0m\u001b[0minput\u001b[0m\u001b[0;34m,\u001b[0m \u001b[0;34m**\u001b[0m\u001b[0mkwargs\u001b[0m\u001b[0;34m)\u001b[0m\u001b[0;34m\u001b[0m\u001b[0;34m\u001b[0m\u001b[0m\n\u001b[0m\u001b[1;32m   1191\u001b[0m         \u001b[0;31m# Do not call functions when jit is used\u001b[0m\u001b[0;34m\u001b[0m\u001b[0;34m\u001b[0m\u001b[0m\n\u001b[1;32m   1192\u001b[0m         \u001b[0mfull_backward_hooks\u001b[0m\u001b[0;34m,\u001b[0m \u001b[0mnon_full_backward_hooks\u001b[0m \u001b[0;34m=\u001b[0m \u001b[0;34m[\u001b[0m\u001b[0;34m]\u001b[0m\u001b[0;34m,\u001b[0m \u001b[0;34m[\u001b[0m\u001b[0;34m]\u001b[0m\u001b[0;34m\u001b[0m\u001b[0;34m\u001b[0m\u001b[0m\n",
      "\u001b[0;32m~/anaconda3/lib/python3.9/site-packages/torch/nn/modules/rnn.py\u001b[0m in \u001b[0;36mforward\u001b[0;34m(self, input, hx)\u001b[0m\n\u001b[1;32m    772\u001b[0m         \u001b[0mself\u001b[0m\u001b[0;34m.\u001b[0m\u001b[0mcheck_forward_args\u001b[0m\u001b[0;34m(\u001b[0m\u001b[0minput\u001b[0m\u001b[0;34m,\u001b[0m \u001b[0mhx\u001b[0m\u001b[0;34m,\u001b[0m \u001b[0mbatch_sizes\u001b[0m\u001b[0;34m)\u001b[0m\u001b[0;34m\u001b[0m\u001b[0;34m\u001b[0m\u001b[0m\n\u001b[1;32m    773\u001b[0m         \u001b[0;32mif\u001b[0m \u001b[0mbatch_sizes\u001b[0m \u001b[0;32mis\u001b[0m \u001b[0;32mNone\u001b[0m\u001b[0;34m:\u001b[0m\u001b[0;34m\u001b[0m\u001b[0;34m\u001b[0m\u001b[0m\n\u001b[0;32m--> 774\u001b[0;31m             result = _VF.lstm(input, hx, self._flat_weights, self.bias, self.num_layers,\n\u001b[0m\u001b[1;32m    775\u001b[0m                               self.dropout, self.training, self.bidirectional, self.batch_first)\n\u001b[1;32m    776\u001b[0m         \u001b[0;32melse\u001b[0m\u001b[0;34m:\u001b[0m\u001b[0;34m\u001b[0m\u001b[0;34m\u001b[0m\u001b[0m\n",
      "\u001b[0;31mOutOfMemoryError\u001b[0m: CUDA out of memory. Tried to allocate 102.00 MiB (GPU 0; 11.76 GiB total capacity; 9.07 GiB already allocated; 52.88 MiB free; 9.53 GiB reserved in total by PyTorch) If reserved memory is >> allocated memory try setting max_split_size_mb to avoid fragmentation.  See documentation for Memory Management and PYTORCH_CUDA_ALLOC_CONF"
     ]
    }
   ],
   "source": [
    "learn_cls.freeze_to(-2)\n",
    "learn_cls.fit_one_cycle(1, slice(2e-3/(2.6**4),2e-3), cbs = [callback_cls])"
   ]
  },
  {
   "cell_type": "code",
   "execution_count": null,
   "id": "0e115e98-0702-4248-b5e1-89e55bb10ff6",
   "metadata": {},
   "outputs": [],
   "source": [
    "learn_cls.save('finetuned_CLS_3')"
   ]
  },
  {
   "cell_type": "markdown",
   "id": "0c0e1680-33cb-4e90-a7e8-7014b2ee3849",
   "metadata": {},
   "source": [
    "# predcit on training set"
   ]
  },
  {
   "cell_type": "code",
   "execution_count": null,
   "id": "8e01e58a-a90f-488f-8aac-b1b3cb590efc",
   "metadata": {},
   "outputs": [],
   "source": [
    "pred, y, losses = learn_cls.get_preds(with_loss = True)\n",
    "pred.shape"
   ]
  },
  {
   "cell_type": "code",
   "execution_count": null,
   "id": "b1f16d7c-1133-4bff-823a-e510088b3f2c",
   "metadata": {},
   "outputs": [],
   "source": [
    "interp = ClassificationIntepretation(learn_cls, preds, y, losses)"
   ]
  },
  {
   "cell_type": "code",
   "execution_count": null,
   "id": "4f7d20dc-b083-4df9-bda1-392764a100a6",
   "metadata": {},
   "outputs": [],
   "source": [
    "interp.plot_confusion_matrix(figsize = [5,5], dpi = 1000)"
   ]
  },
  {
   "cell_type": "code",
   "execution_count": null,
   "id": "5e57ebe7-9e2b-4b9a-bfaa-6269f756f85d",
   "metadata": {},
   "outputs": [],
   "source": []
  },
  {
   "cell_type": "code",
   "execution_count": null,
   "id": "3f230b22-17d7-4744-be86-54b23654f601",
   "metadata": {},
   "outputs": [],
   "source": [
    "fpr, tpr, _ = roc_surve(y, preds[:,1], pos_label = 1)"
   ]
  },
  {
   "cell_type": "code",
   "execution_count": null,
   "id": "f2ccf354-b03e-40ff-8505-13e973163cdc",
   "metadata": {},
   "outputs": [],
   "source": [
    "roc_auc = auc(fpr, tpr)"
   ]
  },
  {
   "cell_type": "code",
   "execution_count": null,
   "id": "436d40c2-e969-4d10-934b-9a3ab76a4c45",
   "metadata": {},
   "outputs": [],
   "source": [
    "plt.figure()\n",
    "plt.plot(fpr, tpr, color=\"darkorange\", lw=2, label=\"ROC curve (area = %0.2f)\" % roc_auc)\n",
    "plt.plot([0, 1], [0, 1], color=\"navy\", lw=lw, linestyle=\"--\")\n",
    "plt.xlim([0.0, 1.0])\n",
    "plt.ylim([0.0, 1.05])\n",
    "plt.xlabel(\"False Positive Rate\")\n",
    "plt.ylabel(\"True Positive Rate\")\n",
    "plt.title(\"ROC of M&A Prediction\")\n",
    "plt.legend(loc=\"lower right\")\n",
    "plt.show()"
   ]
  },
  {
   "cell_type": "code",
   "execution_count": null,
   "id": "9606e232-563e-4a6d-988e-04aabec0492a",
   "metadata": {},
   "outputs": [],
   "source": []
  },
  {
   "cell_type": "markdown",
   "id": "e304c05f-60bc-4bec-a515-69dfee6a2862",
   "metadata": {},
   "source": [
    "# T5 long Tglobal large\n",
    "\n",
    "* https://huggingface.co/google/long-t5-tglobal-xl"
   ]
  },
  {
   "cell_type": "code",
   "execution_count": null,
   "id": "e80fb1b5-9d49-4403-bd91-c582dae9558f",
   "metadata": {},
   "outputs": [],
   "source": [
    "from transformers import AutoTokenizer, LongT5Model\n",
    "\n",
    "tokenizer = AutoTokenizer.from_pretrained(\"google/long-t5-tglobal-large\")\n",
    "model = LongT5Model.from_pretrained(\"google/long-t5-tglobal-large\")\n",
    "\n",
    "inputs = tokenizer(\"Hello, my dog is cute\", return_tensors=\"pt\")\n",
    "outputs = model(**inputs)"
   ]
  },
  {
   "cell_type": "code",
   "execution_count": null,
   "id": "4db83eb6-f75d-476b-9cf4-c5d5cfbb91b5",
   "metadata": {},
   "outputs": [],
   "source": [
    "last_hidden_states = outputs.last_hidden_state"
   ]
  },
  {
   "cell_type": "code",
   "execution_count": null,
   "id": "a83aff39-4a76-4177-a54b-5ecbf35b0549",
   "metadata": {},
   "outputs": [],
   "source": []
  },
  {
   "cell_type": "code",
   "execution_count": null,
   "id": "5245ac2e-304b-4faa-bc01-42de4663735c",
   "metadata": {},
   "outputs": [],
   "source": []
  },
  {
   "cell_type": "code",
   "execution_count": null,
   "id": "c8ff08df-1cb1-4278-979b-491730c32684",
   "metadata": {},
   "outputs": [],
   "source": []
  },
  {
   "cell_type": "code",
   "execution_count": null,
   "id": "e3db3b0f-df74-41fe-828e-8faee60e894c",
   "metadata": {},
   "outputs": [],
   "source": []
  }
 ],
 "metadata": {
  "kernelspec": {
   "display_name": "Python 3 (ipykernel)",
   "language": "python",
   "name": "python3"
  },
  "language_info": {
   "codemirror_mode": {
    "name": "ipython",
    "version": 3
   },
   "file_extension": ".py",
   "mimetype": "text/x-python",
   "name": "python",
   "nbconvert_exporter": "python",
   "pygments_lexer": "ipython3",
   "version": "3.9.13"
  }
 },
 "nbformat": 4,
 "nbformat_minor": 5
}
