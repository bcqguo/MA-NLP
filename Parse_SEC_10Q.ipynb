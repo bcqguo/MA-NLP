{
 "cells": [
  {
   "cell_type": "markdown",
   "id": "60a436e6-d81d-47a5-9ba9-80326a379060",
   "metadata": {},
   "source": [
    "# Parse SEC 10-Q"
   ]
  },
  {
   "cell_type": "code",
   "execution_count": 594,
   "id": "cfd724f9-cf68-46c9-af2b-b04b5dd28ecd",
   "metadata": {},
   "outputs": [],
   "source": [
    "import pandas as pd\n",
    "import numpy as np\n",
    "import time, sys, os, re\n",
    "import datetime, pickle, bz2\n",
    "import getpass\n",
    "from tqdm import tqdm\n",
    "import datetime\n",
    "from datetime import datetime"
   ]
  },
  {
   "cell_type": "code",
   "execution_count": 3,
   "id": "fd7416bd-a5d1-4416-8676-0a520889fd74",
   "metadata": {},
   "outputs": [],
   "source": [
    "from __future__ import division, unicode_literals \n",
    "import codecs\n",
    "\n",
    "# Import requests to retrive Web Urls example HTML. TXT \n",
    "import requests\n",
    "\n",
    "# Import BeautifulSoup\n",
    "from bs4 import BeautifulSoup\n",
    "\n",
    "# import re module for REGEXes\n",
    "import re"
   ]
  },
  {
   "cell_type": "code",
   "execution_count": 490,
   "id": "50cfc23d-c177-4c9a-ba91-ae6a28e2c0c6",
   "metadata": {},
   "outputs": [],
   "source": [
    "with open(\"/home/dada/MA_Minus/10-Q/LCNB/LCNB-0\") as fp:\n",
    "    document= BeautifulSoup(fp.read()).get_text().lower()"
   ]
  },
  {
   "cell_type": "code",
   "execution_count": 561,
   "id": "b9aac69c-c500-4edd-ae3a-d32387802d9c",
   "metadata": {},
   "outputs": [],
   "source": [
    "# extract text between item 2 and item 3\n",
    "regex = re.compile('(item 2)|(item 3)') \n",
    "\n",
    "# Use finditer to math the regex\n",
    "matches = regex.finditer(document)"
   ]
  },
  {
   "cell_type": "code",
   "execution_count": 542,
   "id": "d1958709-2bcf-4ea0-bd10-289f4bf6f1f5",
   "metadata": {},
   "outputs": [],
   "source": [
    "# Create the dataframe\n",
    "test_df = pd.DataFrame([(x.start(), x.end()) for x in matches])"
   ]
  },
  {
   "cell_type": "code",
   "execution_count": 554,
   "id": "d844f999-7f98-4f6f-8f87-6300417b252e",
   "metadata": {},
   "outputs": [],
   "source": [
    "def cleanStr(test_df_1):\n",
    "    test_df_1 = re.sub('\\xa0', '', test_df_1)\n",
    "    test_df_1 = re.sub('\\n','', test_df_1)\n",
    "    test_df_1 = re.sub('\\n\\n','', test_df_1)\n",
    "    test_df_1 = re.sub('\\n\\n\\n','', test_df_1)\n",
    "    test_df_1 = re.sub('\\t', '', test_df_1)\n",
    "    test_df_1 = re.sub(' ·', '', test_df_1)\n",
    "        \n",
    "    return test_df_1"
   ]
  },
  {
   "cell_type": "code",
   "execution_count": 576,
   "id": "99dc15b1-4d0c-488b-aaa2-c95fbe183d17",
   "metadata": {},
   "outputs": [
    {
     "data": {
      "text/plain": [
       "['ACBI', 'ACNB', 'AMRB', 'ASRV', 'ATLO']"
      ]
     },
     "execution_count": 576,
     "metadata": {},
     "output_type": "execute_result"
    }
   ],
   "source": [
    "#parse 10-Q MA-\n",
    "ma_neg = sorted(os.listdir(\"/home/dada/MA_Minus/10-Q\"))\n",
    "len(ma_neg)\n",
    "ma_neg[:5]"
   ]
  },
  {
   "cell_type": "code",
   "execution_count": 584,
   "id": "41d6c971-a61c-4252-bd8a-8c82bbdd7318",
   "metadata": {},
   "outputs": [
    {
     "name": "stderr",
     "output_type": "stream",
     "text": [
      "100%|██████████| 112/112 [35:59<00:00, 19.29s/it]\n"
     ]
    }
   ],
   "source": [
    "MA_Minus_df = pd.DataFrame()\n",
    "\n",
    "for i in tqdm(ma_neg):\n",
    "    \n",
    "    i_list = sorted(os.listdir(\"/home/dada/MA_Minus/10-Q/{}\".format(i)))\n",
    "                    \n",
    "    MA_Minus_i = pd.DataFrame()            \n",
    "    for j in i_list:        \n",
    "        with open(\"/home/dada/MA_Minus/10-Q/{}/{}\".format(i, j)) as fp:\n",
    "            document = BeautifulSoup(fp.read()).get_text().lower()\n",
    "\n",
    "        if \"item 2\" in document:\n",
    "            regex_i_j = regex.finditer(document)\n",
    "            match_df = pd.DataFrame([(x.start(), x.end()) for x in regex_i_j])\n",
    "            parse_i_j = BeautifulSoup(document[match_df.iloc[0,1]:match_df.iloc[len(match_df)-1,0]], 'lxml')\n",
    "            parse_i_j = parse_i_j.get_text(\"\\n\\n\")\n",
    "            parse_i_j = cleanStr(parse_i_j)\n",
    "            MA_Minus_i = MA_Minus_i.append(pd.DataFrame([{\"Ticker\":i,\"Period\":j,\"MDAA\":parse_i_j}]), ignore_index = True)\n",
    "            \n",
    "        else:\n",
    "            continue\n",
    "            \n",
    "    MA_Minus_df = MA_Minus_df.append(MA_Minus_i)    "
   ]
  },
  {
   "cell_type": "code",
   "execution_count": 585,
   "id": "daa30322-4739-483e-a714-c6f1e1172e10",
   "metadata": {},
   "outputs": [
    {
     "name": "stdout",
     "output_type": "stream",
     "text": [
      "(844, 3)\n"
     ]
    },
    {
     "data": {
      "text/html": [
       "<div>\n",
       "<style scoped>\n",
       "    .dataframe tbody tr th:only-of-type {\n",
       "        vertical-align: middle;\n",
       "    }\n",
       "\n",
       "    .dataframe tbody tr th {\n",
       "        vertical-align: top;\n",
       "    }\n",
       "\n",
       "    .dataframe thead th {\n",
       "        text-align: right;\n",
       "    }\n",
       "</style>\n",
       "<table border=\"1\" class=\"dataframe\">\n",
       "  <thead>\n",
       "    <tr style=\"text-align: right;\">\n",
       "      <th></th>\n",
       "      <th>Ticker</th>\n",
       "      <th>Period</th>\n",
       "      <th>MDAA</th>\n",
       "    </tr>\n",
       "  </thead>\n",
       "  <tbody>\n",
       "    <tr>\n",
       "      <th>0</th>\n",
       "      <td>ACBI</td>\n",
       "      <td>ACBI-0</td>\n",
       "      <td></td>\n",
       "    </tr>\n",
       "    <tr>\n",
       "      <th>0</th>\n",
       "      <td>ACBI</td>\n",
       "      <td>ACBI-1</td>\n",
       "      <td>.unregistered sales of equity securities and u...</td>\n",
       "    </tr>\n",
       "    <tr>\n",
       "      <th>0</th>\n",
       "      <td>ACBI</td>\n",
       "      <td>ACBI-2</td>\n",
       "      <td>.unregistered sales of equity securities and u...</td>\n",
       "    </tr>\n",
       "    <tr>\n",
       "      <th>0</th>\n",
       "      <td>ACBI</td>\n",
       "      <td>ACBI-3</td>\n",
       "      <td>.unregistered sales of equity securities and u...</td>\n",
       "    </tr>\n",
       "    <tr>\n",
       "      <th>0</th>\n",
       "      <td>ACBI</td>\n",
       "      <td>ACBI-4</td>\n",
       "      <td>.unregistered sales of equity securities and u...</td>\n",
       "    </tr>\n",
       "  </tbody>\n",
       "</table>\n",
       "</div>"
      ],
      "text/plain": [
       "  Ticker  Period                                               MDAA\n",
       "0   ACBI  ACBI-0                                                   \n",
       "0   ACBI  ACBI-1  .unregistered sales of equity securities and u...\n",
       "0   ACBI  ACBI-2  .unregistered sales of equity securities and u...\n",
       "0   ACBI  ACBI-3  .unregistered sales of equity securities and u...\n",
       "0   ACBI  ACBI-4  .unregistered sales of equity securities and u..."
      ]
     },
     "execution_count": 585,
     "metadata": {},
     "output_type": "execute_result"
    }
   ],
   "source": [
    "print(MA_Minus_df.shape)\n",
    "MA_Minus_df.head()"
   ]
  },
  {
   "cell_type": "code",
   "execution_count": 586,
   "id": "988808eb-6e71-4401-937c-c18e3f41a5b0",
   "metadata": {},
   "outputs": [
    {
     "data": {
      "text/plain": [
       "109"
      ]
     },
     "execution_count": 586,
     "metadata": {},
     "output_type": "execute_result"
    }
   ],
   "source": [
    "#parse 10-Q MA+\n",
    "ma_pos = sorted(os.listdir(\"/home/dada/MA_Plus/10-Q\"))\n",
    "len(ma_pos)"
   ]
  },
  {
   "cell_type": "code",
   "execution_count": 588,
   "id": "d8c39be5-20d2-4f0b-ab4e-b3b080c2d50b",
   "metadata": {},
   "outputs": [
    {
     "name": "stderr",
     "output_type": "stream",
     "text": [
      "100%|██████████| 109/109 [36:02<00:00, 19.84s/it]\n"
     ]
    }
   ],
   "source": [
    "MA_Plus_df = pd.DataFrame()\n",
    "\n",
    "for i in tqdm(ma_pos):\n",
    "    \n",
    "    i_list = sorted(os.listdir(\"/home/dada/MA_Plus/10-Q/{}\".format(i)))\n",
    "    \n",
    "    MA_Plus_i = pd.DataFrame()  \n",
    "    for j in i_list:\n",
    "        \n",
    "        with open(\"/home/dada/MA_Plus/10-Q/{}/{}\".format(i, j)) as fp:\n",
    "            document = BeautifulSoup(fp.read()).get_text().lower()\n",
    "\n",
    "        if \"item 2\" in document:\n",
    "            regex_i_j = regex.finditer(document)\n",
    "            match_df = pd.DataFrame([(x.start(), x.end()) for x in regex_i_j])\n",
    "            parse_i_j = BeautifulSoup(document[match_df.iloc[0,1]:match_df.iloc[len(match_df)-1,0]], 'lxml')\n",
    "            parse_i_j = parse_i_j.get_text(\"\\n\\n\")\n",
    "            parse_i_j = cleanStr(parse_i_j)\n",
    "            MA_Plus_i = MA_Plus_i.append(pd.DataFrame([{\"Ticker\":i,\"Period\":j,\"MDAA\":parse_i_j}]), ignore_index = True)\n",
    "            \n",
    "        else:\n",
    "            continue\n",
    "            \n",
    "    MA_Plus_df = MA_Plus_df.append(MA_Plus_i)    "
   ]
  },
  {
   "cell_type": "code",
   "execution_count": 589,
   "id": "a7964b64-4a47-453f-b994-7231ffb80494",
   "metadata": {},
   "outputs": [],
   "source": [
    "MA_Plus_df[\"MA\"] = 1\n",
    "MA_Minus_df[\"MA\"] = 0"
   ]
  },
  {
   "cell_type": "code",
   "execution_count": 590,
   "id": "4f44af48-82aa-4634-9612-54271606a378",
   "metadata": {},
   "outputs": [],
   "source": [
    "MA_all = MA_Minus_df.append(MA_Plus_df, ignore_index = True)"
   ]
  },
  {
   "cell_type": "code",
   "execution_count": 593,
   "id": "db5cee09-9514-4865-9ed5-0ccdbba4d072",
   "metadata": {},
   "outputs": [],
   "source": [
    "pickle.dump(MA_Plus_df, open(\"MA_Plus_df.pkl\", 'wb'))\n",
    "pickle.dump(MA_Minus_df, open(\"MA_Minus_df.pkl\", 'wb'))"
   ]
  },
  {
   "cell_type": "code",
   "execution_count": 596,
   "id": "012649ca-31ad-4746-8836-1388f8c2d26e",
   "metadata": {},
   "outputs": [
    {
     "name": "stdout",
     "output_type": "stream",
     "text": [
      "total 228344\n",
      "drwxr-xr-x  3 dada dada      4096 Aug 11 02:02  \u001b[0m\u001b[01;34m.\u001b[0m/\n",
      "drwxr-xr-x 14 dada dada      4096 Aug  4 10:10  \u001b[01;34m..\u001b[0m/\n",
      "-rw-r--r--  1 dada dada     14323 Aug  2 22:42 'AI in finance proposal.docx'\n",
      "-rw-r--r--  1 dada dada   4323432 Aug  3 13:52  All_companies3.xlsx\n",
      "-rw-rw-r--  1 dada dada     26880 Aug  6 15:31  comp_ma.pkl\n",
      "-rw-rw-r--  1 dada dada       216 Aug  7 18:19  comp_missing.csv\n",
      "-rw-rw-r--  1 dada dada       783 Aug  9 12:32  comp_missing_.csv\n",
      "-rw-rw-r--  1 dada dada       291 Aug  9 13:44  comp_missing__.csv\n",
      "-rw-rw-r--  1 dada dada       192 Aug  9 14:09  comp_missing___.csv\n",
      "-rw-rw-r--  1 dada dada      1738 Aug  9 12:05  comp_missing.pkl\n",
      "-rw-r--r--  1 dada dada   1590537 Aug  4 23:09  Data_for_David.xlsx\n",
      "-rw-r--r--  1 dada dada   1162719 Aug  3 14:27  Data_for_David.xlsx.bak\n",
      "-rw-r--r--  1 dada dada    170765 Aug 10 10:29  Extract_SEC_filings.ipynb\n",
      "drwxr-xr-x  2 dada dada      4096 Aug 10 11:57  \u001b[01;34m.ipynb_checkpoints\u001b[0m/\n",
      "-rw-r--r--  1 dada dada   5675706 Aug  5 08:59 'LIST OF PUBLICLY TRADED US COMPANIES (7).xlsx'\n",
      "-rw-rw-r--  1 dada dada        75 Aug  5 08:59 '.~lock.LIST OF PUBLICLY TRADED US COMPANIES (7).xlsx#'\n",
      "-rw-r--r--  1 dada dada   1156613 Aug  1 21:54  M_A.csv\n",
      "-rw-rw-r--  1 dada dada 112533538 Aug 11 01:54  MA_Minus_df.pkl\n",
      "-rw-rw-r--  1 dada dada      2840 Aug  7 13:04  ma_missing.csv\n",
      "-rw-rw-r--  1 dada dada    316164 Aug  6 15:28  ma_out.pkl\n",
      "-rw-rw-r--  1 dada dada 104823382 Aug 11 01:54  MA_Plus_df.pkl\n",
      "-rw-rw-r--  1 dada dada   1127671 Aug  5 21:09  ma_value.pkl\n",
      "-rw-rw-r--  1 dada dada    305873 Aug  5 16:17  nasdaqlisted.txt\n",
      "-rw-rw-r--  1 dada dada    479124 Aug  5 16:17  otherlisted.txt\n",
      "-rw-rw-r--  1 dada dada     15262 Aug 11 02:02  Parse_SEC_10Q.ipynb\n",
      "-rw-r--r--  1 dada dada     11354 Aug  4 23:30 'SAS filtering.docx'\n",
      "-rw-r--r--  1 dada dada     18518 Aug  3 14:25 'SIC code reference.xlsx'\n"
     ]
    }
   ],
   "source": [
    "ls -al"
   ]
  }
 ],
 "metadata": {
  "kernelspec": {
   "display_name": "Python 3",
   "language": "python",
   "name": "python3"
  },
  "language_info": {
   "codemirror_mode": {
    "name": "ipython",
    "version": 3
   },
   "file_extension": ".py",
   "mimetype": "text/x-python",
   "name": "python",
   "nbconvert_exporter": "python",
   "pygments_lexer": "ipython3",
   "version": "3.8.8"
  }
 },
 "nbformat": 4,
 "nbformat_minor": 5
}
