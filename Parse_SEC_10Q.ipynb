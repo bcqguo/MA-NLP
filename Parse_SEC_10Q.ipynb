{
 "cells": [
  {
   "cell_type": "markdown",
   "id": "60a436e6-d81d-47a5-9ba9-80326a379060",
   "metadata": {},
   "source": [
    "# Parse SEC 10-Q"
   ]
  },
  {
   "cell_type": "code",
   "execution_count": 1,
   "id": "cfd724f9-cf68-46c9-af2b-b04b5dd28ecd",
   "metadata": {},
   "outputs": [],
   "source": [
    "import pandas as pd\n",
    "import numpy as np\n",
    "import time, sys, os, re\n",
    "import datetime, pickle\n",
    "import getpass\n",
    "from tqdm import tqdm\n",
    "import datetime\n",
    "from datetime import datetime"
   ]
  },
  {
   "cell_type": "code",
   "execution_count": 3,
   "id": "fd7416bd-a5d1-4416-8676-0a520889fd74",
   "metadata": {},
   "outputs": [],
   "source": [
    "from __future__ import division, unicode_literals \n",
    "import codecs\n",
    "\n",
    "# Import requests to retrive Web Urls example HTML. TXT \n",
    "import requests\n",
    "\n",
    "# Import BeautifulSoup\n",
    "from bs4 import BeautifulSoup\n",
    "\n",
    "# import re module for REGEXes\n",
    "import re"
   ]
  },
  {
   "cell_type": "code",
   "execution_count": 490,
   "id": "50cfc23d-c177-4c9a-ba91-ae6a28e2c0c6",
   "metadata": {},
   "outputs": [],
   "source": [
    "with open(\"/home/dada/MA_Minus/10-Q/LCNB/LCNB-0\") as fp:\n",
    "    document= BeautifulSoup(fp.read()).get_text().lower()"
   ]
  },
  {
   "cell_type": "code",
   "execution_count": 561,
   "id": "b9aac69c-c500-4edd-ae3a-d32387802d9c",
   "metadata": {},
   "outputs": [],
   "source": [
    "# Write the regexdocument= BeautifulSoup(fp.read()).get_text()\n",
    "regex = re.compile('(item 2)|(item 3)') \n",
    "\n",
    "# Use finditer to math the regex\n",
    "matches = regex.finditer(document)"
   ]
  },
  {
   "cell_type": "code",
   "execution_count": 542,
   "id": "d1958709-2bcf-4ea0-bd10-289f4bf6f1f5",
   "metadata": {},
   "outputs": [],
   "source": [
    "# Create the dataframe\n",
    "test_df = pd.DataFrame([(x.start(), x.end()) for x in matches])"
   ]
  },
  {
   "cell_type": "code",
   "execution_count": 554,
   "id": "d844f999-7f98-4f6f-8f87-6300417b252e",
   "metadata": {},
   "outputs": [],
   "source": [
    "def cleanStr(test_df_1):\n",
    "    test_df_1 = re.sub('\\xa0', '', test_df_1)\n",
    "    test_df_1 = re.sub('\\n','', test_df_1)\n",
    "    test_df_1 = re.sub('\\n\\n','', test_df_1)\n",
    "    test_df_1 = re.sub('\\n\\n\\n','', test_df_1)\n",
    "    test_df_1 = re.sub('\\t', '', test_df_1)\n",
    "    test_df_1 = re.sub(' ·', '', test_df_1)\n",
    "        \n",
    "    return test_df_1"
   ]
  },
  {
   "cell_type": "code",
   "execution_count": 432,
   "id": "99dc15b1-4d0c-488b-aaa2-c95fbe183d17",
   "metadata": {},
   "outputs": [
    {
     "data": {
      "text/plain": [
       "112"
      ]
     },
     "execution_count": 432,
     "metadata": {},
     "output_type": "execute_result"
    }
   ],
   "source": [
    "#parse 10-Q MA-\n",
    "ma_neg = os.listdir(\"/home/dada/MA_Minus/10-Q\")\n",
    "len(ma_neg)"
   ]
  },
  {
   "cell_type": "code",
   "execution_count": null,
   "id": "41d6c971-a61c-4252-bd8a-8c82bbdd7318",
   "metadata": {},
   "outputs": [
    {
     "name": "stderr",
     "output_type": "stream",
     "text": [
      " 46%|████▋     | 52/112 [18:13<17:55, 17.93s/it]"
     ]
    }
   ],
   "source": [
    "MA_Minus_df = pd.DataFrame()\n",
    "\n",
    "for i in tqdm(sorted(ma_neg)):\n",
    "    for j in sorted(os.listdir(\"/home/dada/MA_Minus/10-Q/{}\".format(i))):\n",
    "        \n",
    "        with open(\"/home/dada/MA_Minus/10-Q/{}/{}\".format(i, j)) as fp:\n",
    "            document = BeautifulSoup(fp.read()).get_text().lower()\n",
    "\n",
    "        if \"item 2\" in document:\n",
    "            regex_i_j = regex.finditer(document)\n",
    "            match_df = pd.DataFrame([(x.start(), x.end()) for x in regex_i_j])\n",
    "            parse_i_j = BeautifulSoup(document[match_df.iloc[0,1]:match_df.iloc[len(match_df)-1,0]], 'lxml')\n",
    "            parse_i_j = parse_i_j.get_text(\"\\n\\n\")\n",
    "            parse_i_j = cleanStr(parse_i_j)\n",
    "            MA_Minus_i_j = pd.DataFrame([{\"Ticker\":i,\"Period\":j,\"MDAA\":parse_i_j}])\n",
    "            \n",
    "        else:\n",
    "            continue\n",
    "            \n",
    "    MA_Minus_df = MA_Minus_df.append(MA_Minus_i_j)    "
   ]
  },
  {
   "cell_type": "code",
   "execution_count": null,
   "id": "daa30322-4739-483e-a714-c6f1e1172e10",
   "metadata": {},
   "outputs": [],
   "source": [
    "print(MA_Minus_df.shape)\n",
    "MA_Minus_df.head()"
   ]
  },
  {
   "cell_type": "code",
   "execution_count": null,
   "id": "988808eb-6e71-4401-937c-c18e3f41a5b0",
   "metadata": {},
   "outputs": [],
   "source": [
    "#parse 10-Q MA+\n",
    "ma_pos = os.listdir(\"/home/dada/MA_Plus/10-Q\")\n",
    "len(ma_pos)"
   ]
  },
  {
   "cell_type": "code",
   "execution_count": null,
   "id": "d8c39be5-20d2-4f0b-ab4e-b3b080c2d50b",
   "metadata": {},
   "outputs": [],
   "source": [
    "MA_Plus_df = pd.DataFrame()\n",
    "\n",
    "for i in tqdm(sorted(ma_pos)):\n",
    "    for j in sorted(os.listdir(\"/home/dada/MA_Plus/10-Q/{}\".format(i))):\n",
    "        \n",
    "        with open(\"/home/dada/MA_Plus/10-Q/{}/{}\".format(i, j)) as fp:\n",
    "            document = BeautifulSoup(fp.read()).get_text().lower()\n",
    "\n",
    "        if \"item 2\" in document:\n",
    "            regex_i_j = regex.finditer(document)\n",
    "            match_df = pd.DataFrame([(x.start(), x.end()) for x in regex_i_j])\n",
    "            parse_i_j = BeautifulSoup(document[match_df.iloc[0,1]:match_df.iloc[len(match_df)-1,0]], 'lxml')\n",
    "            parse_i_j = parse_i_j.get_text(\"\\n\\n\")\n",
    "            parse_i_j = cleanStr(parse_i_j)\n",
    "            MA_Plus_i_j = pd.DataFrame([{\"Ticker\":i,\"Period\":j,\"MDAA\":parse_i_j}])\n",
    "            \n",
    "        else:\n",
    "            continue\n",
    "            \n",
    "    MA_Plus_df = MA_Plus_df.append(MA_Plus_i_j)    "
   ]
  },
  {
   "cell_type": "code",
   "execution_count": null,
   "id": "a7964b64-4a47-453f-b994-7231ffb80494",
   "metadata": {},
   "outputs": [],
   "source": [
    "MA_Plus_df[\"MA\"] = 1\n",
    "MA_Minus_df[\"MA\"] = 0"
   ]
  },
  {
   "cell_type": "code",
   "execution_count": null,
   "id": "4f44af48-82aa-4634-9612-54271606a378",
   "metadata": {},
   "outputs": [],
   "source": [
    "MA_all = MA_Minus_df.append(MA_Plus_df)"
   ]
  },
  {
   "cell_type": "code",
   "execution_count": null,
   "id": "db5cee09-9514-4865-9ed5-0ccdbba4d072",
   "metadata": {},
   "outputs": [],
   "source": [
    "pickle.dump(MA_all, open(\"MA_all.pkl\", 'rb'))"
   ]
  }
 ],
 "metadata": {
  "kernelspec": {
   "display_name": "Python 3",
   "language": "python",
   "name": "python3"
  },
  "language_info": {
   "codemirror_mode": {
    "name": "ipython",
    "version": 3
   },
   "file_extension": ".py",
   "mimetype": "text/x-python",
   "name": "python",
   "nbconvert_exporter": "python",
   "pygments_lexer": "ipython3",
   "version": "3.8.8"
  }
 },
 "nbformat": 4,
 "nbformat_minor": 5
}
