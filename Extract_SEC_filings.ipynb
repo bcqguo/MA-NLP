{
 "cells": [
  {
   "cell_type": "markdown",
   "metadata": {},
   "source": [
    "# Extract Data from SEC"
   ]
  },
  {
   "cell_type": "code",
   "execution_count": 1,
   "metadata": {},
   "outputs": [
    {
     "name": "stdout",
     "output_type": "stream",
     "text": [
      "Collecting selenium\n",
      "  Downloading selenium-3.141.0-py2.py3-none-any.whl (904 kB)\n",
      "\u001b[K     |████████████████████████████████| 904 kB 4.0 MB/s eta 0:00:01\n",
      "\u001b[?25hRequirement already satisfied: urllib3 in /home/dada/anaconda3/lib/python3.8/site-packages (from selenium) (1.26.4)\n",
      "Installing collected packages: selenium\n",
      "Successfully installed selenium-3.141.0\n"
     ]
    }
   ],
   "source": [
    "!pip install selenium"
   ]
  },
  {
   "cell_type": "code",
   "execution_count": 6,
   "metadata": {},
   "outputs": [
    {
     "name": "stdout",
     "output_type": "stream",
     "text": [
      "Collecting webdriver_manager\n",
      "  Downloading webdriver_manager-3.4.2-py2.py3-none-any.whl (16 kB)\n",
      "Requirement already satisfied: requests in /home/dada/anaconda3/lib/python3.8/site-packages (from webdriver_manager) (2.25.1)\n",
      "Collecting configparser\n",
      "  Downloading configparser-5.0.2-py3-none-any.whl (19 kB)\n",
      "Collecting crayons\n",
      "  Downloading crayons-0.4.0-py2.py3-none-any.whl (4.6 kB)\n",
      "Requirement already satisfied: colorama in /home/dada/anaconda3/lib/python3.8/site-packages (from crayons->webdriver_manager) (0.4.4)\n",
      "Requirement already satisfied: certifi>=2017.4.17 in /home/dada/anaconda3/lib/python3.8/site-packages (from requests->webdriver_manager) (2020.12.5)\n",
      "Requirement already satisfied: idna<3,>=2.5 in /home/dada/anaconda3/lib/python3.8/site-packages (from requests->webdriver_manager) (2.10)\n",
      "Requirement already satisfied: chardet<5,>=3.0.2 in /home/dada/anaconda3/lib/python3.8/site-packages (from requests->webdriver_manager) (4.0.0)\n",
      "Requirement already satisfied: urllib3<1.27,>=1.21.1 in /home/dada/anaconda3/lib/python3.8/site-packages (from requests->webdriver_manager) (1.26.4)\n",
      "Installing collected packages: crayons, configparser, webdriver-manager\n",
      "Successfully installed configparser-5.0.2 crayons-0.4.0 webdriver-manager-3.4.2\n"
     ]
    }
   ],
   "source": [
    "!pip install webdriver_manager"
   ]
  },
  {
   "cell_type": "code",
   "execution_count": null,
   "metadata": {},
   "outputs": [],
   "source": [
    "#!wget -O /tmp/chromedriver.zip https://chromedriver.storage.googleapis.com/92.0.4515.107/chromedriver_linux64.zip && sudo unzip /tmp/chromedriver.zip chromedriver -d /home/dada/"
   ]
  },
  {
   "cell_type": "code",
   "execution_count": 18,
   "metadata": {},
   "outputs": [],
   "source": [
    "#!sudo rm /usr/bin/chromedriver\n",
    "#!sudo ln -s /home/dada/chromedriver /usr/bin/chromedriver"
   ]
  },
  {
   "cell_type": "code",
   "execution_count": null,
   "metadata": {},
   "outputs": [],
   "source": [
    "#nano ~/.bashrc\n",
    "#add line: export PATH=\"$/home/dada/:$PATH\" \n",
    "#source .bashrc\n",
    "#echo $PATH"
   ]
  },
  {
   "cell_type": "code",
   "execution_count": 1,
   "metadata": {},
   "outputs": [],
   "source": [
    "import pandas as pd\n",
    "import numpy as np\n",
    "import time, sys, os, re\n",
    "import datetime, pickle\n",
    "import getpass\n",
    "from tqdm import tqdm\n",
    "import datetime\n",
    "from datetime import datetime\n",
    "from selenium import webdriver\n",
    "from selenium.webdriver.common.by import By\n",
    "from selenium.webdriver.common.keys import Keys\n",
    "\n",
    "from selenium import webdriver\n",
    "from selenium.webdriver.common.by import By\n",
    "from selenium.webdriver.support.ui import WebDriverWait\n",
    "from selenium.webdriver.support import expected_conditions as EC\n",
    "from selenium.webdriver.support.select import Select\n",
    "import csv\n",
    "import time\n",
    "from selenium.webdriver.chrome.options import Options\n",
    "from webdriver_manager.chrome import ChromeDriverManager\n",
    "import os \n",
    "from bs4 import BeautifulSoup \n",
    "from selenium.common.exceptions import NoSuchElementException\n",
    "from selenium.common.exceptions import ElementNotInteractableException\n",
    "from selenium.common.exceptions import ElementClickInterceptedException\n",
    "from selenium.common.exceptions import StaleElementReferenceException"
   ]
  },
  {
   "cell_type": "code",
   "execution_count": 299,
   "metadata": {},
   "outputs": [],
   "source": [
    "comp = pd.read_excel('LIST OF PUBLICLY TRADED US COMPANIES (7).xlsx')"
   ]
  },
  {
   "cell_type": "code",
   "execution_count": 300,
   "metadata": {},
   "outputs": [
    {
     "name": "stdout",
     "output_type": "stream",
     "text": [
      "(27939, 31)\n"
     ]
    },
    {
     "data": {
      "text/html": [
       "<div>\n",
       "<style scoped>\n",
       "    .dataframe tbody tr th:only-of-type {\n",
       "        vertical-align: middle;\n",
       "    }\n",
       "\n",
       "    .dataframe tbody tr th {\n",
       "        vertical-align: top;\n",
       "    }\n",
       "\n",
       "    .dataframe thead th {\n",
       "        text-align: right;\n",
       "    }\n",
       "</style>\n",
       "<table border=\"1\" class=\"dataframe\">\n",
       "  <thead>\n",
       "    <tr style=\"text-align: right;\">\n",
       "      <th></th>\n",
       "      <th>Symbol</th>\n",
       "      <th>Name</th>\n",
       "      <th>Unnamed: 2</th>\n",
       "      <th>FREF ENTITY INCORP DATE</th>\n",
       "      <th>Primary Equity Listing</th>\n",
       "      <th>Company is Active</th>\n",
       "      <th>Listing Status</th>\n",
       "      <th>Bankruptcy Status</th>\n",
       "      <th>Extinct Status</th>\n",
       "      <th>FactSet Ind</th>\n",
       "      <th>...</th>\n",
       "      <th>MktVal Co 2014</th>\n",
       "      <th>MktVal Co 2013</th>\n",
       "      <th>MktVal Co 2012</th>\n",
       "      <th>MktVal Co 2011</th>\n",
       "      <th>MktVal Co 2010</th>\n",
       "      <th>MktVal Co 2009</th>\n",
       "      <th>MktVal Co 2008</th>\n",
       "      <th>MktVal Co 2007</th>\n",
       "      <th>MktVal Co 2006</th>\n",
       "      <th>MktVal Co 2005</th>\n",
       "    </tr>\n",
       "  </thead>\n",
       "  <tbody>\n",
       "    <tr>\n",
       "      <th>0</th>\n",
       "      <td>CTAC.1</td>\n",
       "      <td>1-800 Contacts, Inc.</td>\n",
       "      <td>United States</td>\n",
       "      <td>1997.0</td>\n",
       "      <td>68197710</td>\n",
       "      <td>0</td>\n",
       "      <td>1</td>\n",
       "      <td>@NA</td>\n",
       "      <td>@NA</td>\n",
       "      <td>Medical Distributors</td>\n",
       "      <td>...</td>\n",
       "      <td>NaN</td>\n",
       "      <td>NaN</td>\n",
       "      <td>NaN</td>\n",
       "      <td>NaN</td>\n",
       "      <td>NaN</td>\n",
       "      <td>NaN</td>\n",
       "      <td>NaN</td>\n",
       "      <td>NaN</td>\n",
       "      <td>228.764053</td>\n",
       "      <td>156.077999</td>\n",
       "    </tr>\n",
       "    <tr>\n",
       "      <th>1</th>\n",
       "      <td>ATTY</td>\n",
       "      <td>1-800-Attorney, Inc.</td>\n",
       "      <td>United States</td>\n",
       "      <td>1993.0</td>\n",
       "      <td>68231A20</td>\n",
       "      <td>0</td>\n",
       "      <td>1</td>\n",
       "      <td>@NA</td>\n",
       "      <td>@NA</td>\n",
       "      <td>Publishing: Books/Magazines</td>\n",
       "      <td>...</td>\n",
       "      <td>NaN</td>\n",
       "      <td>0.191550</td>\n",
       "      <td>0.19155</td>\n",
       "      <td>1.149300</td>\n",
       "      <td>0.766200</td>\n",
       "      <td>1.14930</td>\n",
       "      <td>0.038310</td>\n",
       "      <td>1.628175</td>\n",
       "      <td>3.299175</td>\n",
       "      <td>6.406785</td>\n",
       "    </tr>\n",
       "    <tr>\n",
       "      <th>2</th>\n",
       "      <td>FLWS</td>\n",
       "      <td>1-800-FLOWERS.COM, Inc. Class A</td>\n",
       "      <td>United States</td>\n",
       "      <td>1992.0</td>\n",
       "      <td>68243Q10</td>\n",
       "      <td>1</td>\n",
       "      <td>0</td>\n",
       "      <td>@NA</td>\n",
       "      <td>@NA</td>\n",
       "      <td>Internet Retail</td>\n",
       "      <td>...</td>\n",
       "      <td>528.238313</td>\n",
       "      <td>348.234085</td>\n",
       "      <td>238.14801</td>\n",
       "      <td>143.102225</td>\n",
       "      <td>172.110142</td>\n",
       "      <td>168.20999</td>\n",
       "      <td>242.720751</td>\n",
       "      <td>549.959115</td>\n",
       "      <td>401.425418</td>\n",
       "      <td>417.636832</td>\n",
       "    </tr>\n",
       "    <tr>\n",
       "      <th>3</th>\n",
       "      <td>TXG</td>\n",
       "      <td>10x Genomics Inc Class A</td>\n",
       "      <td>United States</td>\n",
       "      <td>2012.0</td>\n",
       "      <td>88025U10</td>\n",
       "      <td>1</td>\n",
       "      <td>0</td>\n",
       "      <td>@NA</td>\n",
       "      <td>@NA</td>\n",
       "      <td>Biotechnology</td>\n",
       "      <td>...</td>\n",
       "      <td>NaN</td>\n",
       "      <td>NaN</td>\n",
       "      <td>NaN</td>\n",
       "      <td>NaN</td>\n",
       "      <td>NaN</td>\n",
       "      <td>NaN</td>\n",
       "      <td>NaN</td>\n",
       "      <td>NaN</td>\n",
       "      <td>NaN</td>\n",
       "      <td>NaN</td>\n",
       "    </tr>\n",
       "    <tr>\n",
       "      <th>4</th>\n",
       "      <td>ELVN</td>\n",
       "      <td>11 Good Energy, Inc.</td>\n",
       "      <td>United States</td>\n",
       "      <td>NaN</td>\n",
       "      <td>28623610</td>\n",
       "      <td>0</td>\n",
       "      <td>1</td>\n",
       "      <td>@NA</td>\n",
       "      <td>@NA</td>\n",
       "      <td>Chemicals: Specialty</td>\n",
       "      <td>...</td>\n",
       "      <td>NaN</td>\n",
       "      <td>NaN</td>\n",
       "      <td>NaN</td>\n",
       "      <td>NaN</td>\n",
       "      <td>NaN</td>\n",
       "      <td>NaN</td>\n",
       "      <td>NaN</td>\n",
       "      <td>NaN</td>\n",
       "      <td>NaN</td>\n",
       "      <td>NaN</td>\n",
       "    </tr>\n",
       "  </tbody>\n",
       "</table>\n",
       "<p>5 rows × 31 columns</p>\n",
       "</div>"
      ],
      "text/plain": [
       "   Symbol                             Name     Unnamed: 2  \\\n",
       "0  CTAC.1             1-800 Contacts, Inc.  United States   \n",
       "1    ATTY             1-800-Attorney, Inc.  United States   \n",
       "2    FLWS  1-800-FLOWERS.COM, Inc. Class A  United States   \n",
       "3     TXG         10x Genomics Inc Class A  United States   \n",
       "4    ELVN             11 Good Energy, Inc.  United States   \n",
       "\n",
       "   FREF ENTITY INCORP DATE Primary Equity Listing  Company is Active  \\\n",
       "0                   1997.0               68197710                  0   \n",
       "1                   1993.0               68231A20                  0   \n",
       "2                   1992.0               68243Q10                  1   \n",
       "3                   2012.0               88025U10                  1   \n",
       "4                      NaN               28623610                  0   \n",
       "\n",
       "   Listing Status Bankruptcy Status Extinct Status  \\\n",
       "0               1               @NA            @NA   \n",
       "1               1               @NA            @NA   \n",
       "2               0               @NA            @NA   \n",
       "3               0               @NA            @NA   \n",
       "4               1               @NA            @NA   \n",
       "\n",
       "                   FactSet Ind  ... MktVal Co 2014 MktVal Co 2013  \\\n",
       "0         Medical Distributors  ...            NaN            NaN   \n",
       "1  Publishing: Books/Magazines  ...            NaN       0.191550   \n",
       "2              Internet Retail  ...     528.238313     348.234085   \n",
       "3                Biotechnology  ...            NaN            NaN   \n",
       "4         Chemicals: Specialty  ...            NaN            NaN   \n",
       "\n",
       "  MktVal Co 2012 MktVal Co 2011 MktVal Co 2010  MktVal Co 2009  \\\n",
       "0            NaN            NaN            NaN             NaN   \n",
       "1        0.19155       1.149300       0.766200         1.14930   \n",
       "2      238.14801     143.102225     172.110142       168.20999   \n",
       "3            NaN            NaN            NaN             NaN   \n",
       "4            NaN            NaN            NaN             NaN   \n",
       "\n",
       "   MktVal Co 2008  MktVal Co 2007  MktVal Co 2006  MktVal Co 2005  \n",
       "0             NaN             NaN      228.764053      156.077999  \n",
       "1        0.038310        1.628175        3.299175        6.406785  \n",
       "2      242.720751      549.959115      401.425418      417.636832  \n",
       "3             NaN             NaN             NaN             NaN  \n",
       "4             NaN             NaN             NaN             NaN  \n",
       "\n",
       "[5 rows x 31 columns]"
      ]
     },
     "execution_count": 300,
     "metadata": {},
     "output_type": "execute_result"
    }
   ],
   "source": [
    "print(comp.shape)\n",
    "comp.head() #need last available market capital"
   ]
  },
  {
   "cell_type": "code",
   "execution_count": 301,
   "metadata": {},
   "outputs": [],
   "source": [
    "comp = comp[comp['Unnamed: 2'] == \"United States\"]"
   ]
  },
  {
   "cell_type": "code",
   "execution_count": 302,
   "metadata": {},
   "outputs": [
    {
     "data": {
      "text/plain": [
       "(26697, 31)"
      ]
     },
     "execution_count": 302,
     "metadata": {},
     "output_type": "execute_result"
    }
   ],
   "source": [
    "comp.shape"
   ]
  },
  {
   "cell_type": "code",
   "execution_count": 303,
   "metadata": {},
   "outputs": [
    {
     "data": {
      "text/plain": [
       "Index(['Symbol', 'Name', 'Unnamed: 2', 'FREF ENTITY INCORP DATE',\n",
       "       'Primary Equity Listing', 'Company is Active', 'Listing Status',\n",
       "       'Bankruptcy Status', 'Extinct Status', 'FactSet Ind', 'NAICS Code',\n",
       "       'Entity NAICS Sector Number', 'FREF ENTITY INCORP DATE.1',\n",
       "       'Date (FIRST)', 'Date (RT Last)', 'MktVal Co 2020', 'MktVal Co 2019',\n",
       "       'MktVal Co 2018', 'MktVal Co 2017', 'MktVal Co 2016', 'MktVal Co 2015',\n",
       "       'MktVal Co 2014', 'MktVal Co 2013', 'MktVal Co 2012', 'MktVal Co 2011',\n",
       "       'MktVal Co 2010', 'MktVal Co 2009', 'MktVal Co 2008', 'MktVal Co 2007',\n",
       "       'MktVal Co 2006', 'MktVal Co 2005'],\n",
       "      dtype='object')"
      ]
     },
     "execution_count": 303,
     "metadata": {},
     "output_type": "execute_result"
    }
   ],
   "source": [
    "comp.columns"
   ]
  },
  {
   "cell_type": "code",
   "execution_count": 304,
   "metadata": {},
   "outputs": [],
   "source": [
    "#drop rows with all NA in market values\n",
    "MrkVal_col = ['MktVal Co 2019', 'MktVal Co 2018', 'MktVal Co 2017', 'MktVal Co 2016', 'MktVal Co 2015',\n",
    "       'MktVal Co 2014', 'MktVal Co 2013', 'MktVal Co 2012', 'MktVal Co 2011', 'MktVal Co 2010']"
   ]
  },
  {
   "cell_type": "code",
   "execution_count": 305,
   "metadata": {},
   "outputs": [
    {
     "data": {
      "text/plain": [
       "(13304, 31)"
      ]
     },
     "execution_count": 305,
     "metadata": {},
     "output_type": "execute_result"
    }
   ],
   "source": [
    "comp = comp[comp[MrkVal_col].isnull().apply(lambda x: all(x) == False, axis=1)] \n",
    "comp.shape"
   ]
  },
  {
   "cell_type": "code",
   "execution_count": 306,
   "metadata": {},
   "outputs": [],
   "source": [
    "# #limited to US\n",
    "# comp = comp[(comp['Unnamed: 2'] == 'United States') & (comp['Company is Active'] == 1)]\n",
    "# comp.shape"
   ]
  },
  {
   "cell_type": "code",
   "execution_count": 307,
   "metadata": {},
   "outputs": [
    {
     "name": "stdout",
     "output_type": "stream",
     "text": [
      "(13304, 31)\n"
     ]
    },
    {
     "data": {
      "text/html": [
       "<div>\n",
       "<style scoped>\n",
       "    .dataframe tbody tr th:only-of-type {\n",
       "        vertical-align: middle;\n",
       "    }\n",
       "\n",
       "    .dataframe tbody tr th {\n",
       "        vertical-align: top;\n",
       "    }\n",
       "\n",
       "    .dataframe thead th {\n",
       "        text-align: right;\n",
       "    }\n",
       "</style>\n",
       "<table border=\"1\" class=\"dataframe\">\n",
       "  <thead>\n",
       "    <tr style=\"text-align: right;\">\n",
       "      <th></th>\n",
       "      <th>Symbol</th>\n",
       "      <th>Name</th>\n",
       "      <th>Unnamed: 2</th>\n",
       "      <th>FREF ENTITY INCORP DATE</th>\n",
       "      <th>Primary Equity Listing</th>\n",
       "      <th>Company is Active</th>\n",
       "      <th>Listing Status</th>\n",
       "      <th>Bankruptcy Status</th>\n",
       "      <th>Extinct Status</th>\n",
       "      <th>FactSet Ind</th>\n",
       "      <th>...</th>\n",
       "      <th>MktVal Co 2014</th>\n",
       "      <th>MktVal Co 2013</th>\n",
       "      <th>MktVal Co 2012</th>\n",
       "      <th>MktVal Co 2011</th>\n",
       "      <th>MktVal Co 2010</th>\n",
       "      <th>MktVal Co 2009</th>\n",
       "      <th>MktVal Co 2008</th>\n",
       "      <th>MktVal Co 2007</th>\n",
       "      <th>MktVal Co 2006</th>\n",
       "      <th>MktVal Co 2005</th>\n",
       "    </tr>\n",
       "  </thead>\n",
       "  <tbody>\n",
       "    <tr>\n",
       "      <th>27925</th>\n",
       "      <td>ZIGO</td>\n",
       "      <td>Zygo Corporation</td>\n",
       "      <td>United States</td>\n",
       "      <td>1970.0</td>\n",
       "      <td>98985510</td>\n",
       "      <td>0</td>\n",
       "      <td>1</td>\n",
       "      <td>@NA</td>\n",
       "      <td>@NA</td>\n",
       "      <td>Electronic Components</td>\n",
       "      <td>...</td>\n",
       "      <td>NaN</td>\n",
       "      <td>276.725929</td>\n",
       "      <td>289.445209</td>\n",
       "      <td>315.529057</td>\n",
       "      <td>215.232496</td>\n",
       "      <td>113.986012</td>\n",
       "      <td>116.157094</td>\n",
       "      <td>224.45444</td>\n",
       "      <td>303.222873</td>\n",
       "      <td>264.948822</td>\n",
       "    </tr>\n",
       "    <tr>\n",
       "      <th>27926</th>\n",
       "      <td>ZCOR</td>\n",
       "      <td>Zyla Life Sciences</td>\n",
       "      <td>United States</td>\n",
       "      <td>2013.0</td>\n",
       "      <td>98986F10</td>\n",
       "      <td>1</td>\n",
       "      <td>1</td>\n",
       "      <td>BANKRUPT</td>\n",
       "      <td>@NA</td>\n",
       "      <td>Pharmaceuticals: Other</td>\n",
       "      <td>...</td>\n",
       "      <td>NaN</td>\n",
       "      <td>NaN</td>\n",
       "      <td>NaN</td>\n",
       "      <td>NaN</td>\n",
       "      <td>NaN</td>\n",
       "      <td>NaN</td>\n",
       "      <td>NaN</td>\n",
       "      <td>NaN</td>\n",
       "      <td>NaN</td>\n",
       "      <td>NaN</td>\n",
       "    </tr>\n",
       "    <tr>\n",
       "      <th>27930</th>\n",
       "      <td>ZYNE</td>\n",
       "      <td>Zynerba Pharmaceuticals Inc</td>\n",
       "      <td>United States</td>\n",
       "      <td>2007.0</td>\n",
       "      <td>98986X10</td>\n",
       "      <td>1</td>\n",
       "      <td>0</td>\n",
       "      <td>@NA</td>\n",
       "      <td>@NA</td>\n",
       "      <td>Pharmaceuticals: Other</td>\n",
       "      <td>...</td>\n",
       "      <td>NaN</td>\n",
       "      <td>NaN</td>\n",
       "      <td>NaN</td>\n",
       "      <td>NaN</td>\n",
       "      <td>NaN</td>\n",
       "      <td>NaN</td>\n",
       "      <td>NaN</td>\n",
       "      <td>NaN</td>\n",
       "      <td>NaN</td>\n",
       "      <td>NaN</td>\n",
       "    </tr>\n",
       "    <tr>\n",
       "      <th>27931</th>\n",
       "      <td>ZYXI</td>\n",
       "      <td>Zynex, Inc.</td>\n",
       "      <td>United States</td>\n",
       "      <td>2001.0</td>\n",
       "      <td>98986M10</td>\n",
       "      <td>1</td>\n",
       "      <td>0</td>\n",
       "      <td>@NA</td>\n",
       "      <td>@NA</td>\n",
       "      <td>Medical Specialties</td>\n",
       "      <td>...</td>\n",
       "      <td>5.159715</td>\n",
       "      <td>11.524760</td>\n",
       "      <td>21.791073</td>\n",
       "      <td>20.955560</td>\n",
       "      <td>18.357000</td>\n",
       "      <td>32.211279</td>\n",
       "      <td>46.270597</td>\n",
       "      <td>34.33216</td>\n",
       "      <td>6.488040</td>\n",
       "      <td>10.897420</td>\n",
       "    </tr>\n",
       "    <tr>\n",
       "      <th>27932</th>\n",
       "      <td>ZNGA</td>\n",
       "      <td>Zynga Inc. Class A</td>\n",
       "      <td>United States</td>\n",
       "      <td>2007.0</td>\n",
       "      <td>98986T10</td>\n",
       "      <td>1</td>\n",
       "      <td>0</td>\n",
       "      <td>@NA</td>\n",
       "      <td>@NA</td>\n",
       "      <td>Internet Software/Services</td>\n",
       "      <td>...</td>\n",
       "      <td>2401.038357</td>\n",
       "      <td>3064.479606</td>\n",
       "      <td>1826.665878</td>\n",
       "      <td>6588.985403</td>\n",
       "      <td>NaN</td>\n",
       "      <td>NaN</td>\n",
       "      <td>NaN</td>\n",
       "      <td>NaN</td>\n",
       "      <td>NaN</td>\n",
       "      <td>NaN</td>\n",
       "    </tr>\n",
       "  </tbody>\n",
       "</table>\n",
       "<p>5 rows × 31 columns</p>\n",
       "</div>"
      ],
      "text/plain": [
       "      Symbol                         Name     Unnamed: 2  \\\n",
       "27925   ZIGO             Zygo Corporation  United States   \n",
       "27926   ZCOR           Zyla Life Sciences  United States   \n",
       "27930   ZYNE  Zynerba Pharmaceuticals Inc  United States   \n",
       "27931   ZYXI                  Zynex, Inc.  United States   \n",
       "27932   ZNGA           Zynga Inc. Class A  United States   \n",
       "\n",
       "       FREF ENTITY INCORP DATE Primary Equity Listing  Company is Active  \\\n",
       "27925                   1970.0               98985510                  0   \n",
       "27926                   2013.0               98986F10                  1   \n",
       "27930                   2007.0               98986X10                  1   \n",
       "27931                   2001.0               98986M10                  1   \n",
       "27932                   2007.0               98986T10                  1   \n",
       "\n",
       "       Listing Status Bankruptcy Status Extinct Status  \\\n",
       "27925               1               @NA            @NA   \n",
       "27926               1          BANKRUPT            @NA   \n",
       "27930               0               @NA            @NA   \n",
       "27931               0               @NA            @NA   \n",
       "27932               0               @NA            @NA   \n",
       "\n",
       "                      FactSet Ind  ... MktVal Co 2014 MktVal Co 2013  \\\n",
       "27925       Electronic Components  ...            NaN     276.725929   \n",
       "27926      Pharmaceuticals: Other  ...            NaN            NaN   \n",
       "27930      Pharmaceuticals: Other  ...            NaN            NaN   \n",
       "27931         Medical Specialties  ...       5.159715      11.524760   \n",
       "27932  Internet Software/Services  ...    2401.038357    3064.479606   \n",
       "\n",
       "      MktVal Co 2012 MktVal Co 2011 MktVal Co 2010  MktVal Co 2009  \\\n",
       "27925     289.445209     315.529057     215.232496      113.986012   \n",
       "27926            NaN            NaN            NaN             NaN   \n",
       "27930            NaN            NaN            NaN             NaN   \n",
       "27931      21.791073      20.955560      18.357000       32.211279   \n",
       "27932    1826.665878    6588.985403            NaN             NaN   \n",
       "\n",
       "       MktVal Co 2008  MktVal Co 2007  MktVal Co 2006  MktVal Co 2005  \n",
       "27925      116.157094       224.45444      303.222873      264.948822  \n",
       "27926             NaN             NaN             NaN             NaN  \n",
       "27930             NaN             NaN             NaN             NaN  \n",
       "27931       46.270597        34.33216        6.488040       10.897420  \n",
       "27932             NaN             NaN             NaN             NaN  \n",
       "\n",
       "[5 rows x 31 columns]"
      ]
     },
     "execution_count": 307,
     "metadata": {},
     "output_type": "execute_result"
    }
   ],
   "source": [
    "print(comp.shape)\n",
    "comp.tail() #need last available market capital"
   ]
  },
  {
   "cell_type": "code",
   "execution_count": 308,
   "metadata": {},
   "outputs": [],
   "source": [
    "#ftp.nasdaqtrader.com/SymbolDirectory ftp.nasdaqtrader.com/SymbolDirectory/nasdaqlisted.txt ftp.nasdaqtrader.com/SymbolDirectory/otherlisted.txt \n",
    "nasdaq = pd.read_csv(\"nasdaqlisted.txt\", delimiter = '|')"
   ]
  },
  {
   "cell_type": "code",
   "execution_count": 309,
   "metadata": {},
   "outputs": [
    {
     "data": {
      "text/html": [
       "<div>\n",
       "<style scoped>\n",
       "    .dataframe tbody tr th:only-of-type {\n",
       "        vertical-align: middle;\n",
       "    }\n",
       "\n",
       "    .dataframe tbody tr th {\n",
       "        vertical-align: top;\n",
       "    }\n",
       "\n",
       "    .dataframe thead th {\n",
       "        text-align: right;\n",
       "    }\n",
       "</style>\n",
       "<table border=\"1\" class=\"dataframe\">\n",
       "  <thead>\n",
       "    <tr style=\"text-align: right;\">\n",
       "      <th></th>\n",
       "      <th>Symbol</th>\n",
       "      <th>Security Name</th>\n",
       "      <th>Market Category</th>\n",
       "      <th>Test Issue</th>\n",
       "      <th>Financial Status</th>\n",
       "      <th>Round Lot Size</th>\n",
       "      <th>ETF</th>\n",
       "      <th>NextShares</th>\n",
       "    </tr>\n",
       "  </thead>\n",
       "  <tbody>\n",
       "    <tr>\n",
       "      <th>0</th>\n",
       "      <td>AACG</td>\n",
       "      <td>ATA Creativity Global - American Depositary Sh...</td>\n",
       "      <td>G</td>\n",
       "      <td>N</td>\n",
       "      <td>N</td>\n",
       "      <td>100.0</td>\n",
       "      <td>N</td>\n",
       "      <td>N</td>\n",
       "    </tr>\n",
       "    <tr>\n",
       "      <th>1</th>\n",
       "      <td>AADR</td>\n",
       "      <td>AdvisorShares Dorsey Wright ADR ETF</td>\n",
       "      <td>G</td>\n",
       "      <td>N</td>\n",
       "      <td>N</td>\n",
       "      <td>100.0</td>\n",
       "      <td>Y</td>\n",
       "      <td>N</td>\n",
       "    </tr>\n",
       "    <tr>\n",
       "      <th>2</th>\n",
       "      <td>AAL</td>\n",
       "      <td>American Airlines Group, Inc. - Common Stock</td>\n",
       "      <td>Q</td>\n",
       "      <td>N</td>\n",
       "      <td>N</td>\n",
       "      <td>100.0</td>\n",
       "      <td>N</td>\n",
       "      <td>N</td>\n",
       "    </tr>\n",
       "    <tr>\n",
       "      <th>3</th>\n",
       "      <td>AAME</td>\n",
       "      <td>Atlantic American Corporation - Common Stock</td>\n",
       "      <td>G</td>\n",
       "      <td>N</td>\n",
       "      <td>N</td>\n",
       "      <td>100.0</td>\n",
       "      <td>N</td>\n",
       "      <td>N</td>\n",
       "    </tr>\n",
       "    <tr>\n",
       "      <th>4</th>\n",
       "      <td>AAOI</td>\n",
       "      <td>Applied Optoelectronics, Inc. - Common Stock</td>\n",
       "      <td>G</td>\n",
       "      <td>N</td>\n",
       "      <td>N</td>\n",
       "      <td>100.0</td>\n",
       "      <td>N</td>\n",
       "      <td>N</td>\n",
       "    </tr>\n",
       "  </tbody>\n",
       "</table>\n",
       "</div>"
      ],
      "text/plain": [
       "  Symbol                                      Security Name Market Category  \\\n",
       "0   AACG  ATA Creativity Global - American Depositary Sh...               G   \n",
       "1   AADR                AdvisorShares Dorsey Wright ADR ETF               G   \n",
       "2    AAL       American Airlines Group, Inc. - Common Stock               Q   \n",
       "3   AAME       Atlantic American Corporation - Common Stock               G   \n",
       "4   AAOI       Applied Optoelectronics, Inc. - Common Stock               G   \n",
       "\n",
       "  Test Issue Financial Status  Round Lot Size ETF NextShares  \n",
       "0          N                N           100.0   N          N  \n",
       "1          N                N           100.0   Y          N  \n",
       "2          N                N           100.0   N          N  \n",
       "3          N                N           100.0   N          N  \n",
       "4          N                N           100.0   N          N  "
      ]
     },
     "execution_count": 309,
     "metadata": {},
     "output_type": "execute_result"
    }
   ],
   "source": [
    "nasdaq.head()"
   ]
  },
  {
   "cell_type": "code",
   "execution_count": 310,
   "metadata": {},
   "outputs": [],
   "source": [
    "nasdaq_ticker = nasdaq.Symbol[nasdaq.ETF == \"N\"]"
   ]
  },
  {
   "cell_type": "code",
   "execution_count": 311,
   "metadata": {},
   "outputs": [
    {
     "data": {
      "text/plain": [
       "4477"
      ]
     },
     "execution_count": 311,
     "metadata": {},
     "output_type": "execute_result"
    }
   ],
   "source": [
    "len(nasdaq_ticker) #4477"
   ]
  },
  {
   "cell_type": "code",
   "execution_count": 312,
   "metadata": {},
   "outputs": [],
   "source": [
    "other = pd.read_csv(\"otherlisted.txt\", delimiter = '|')"
   ]
  },
  {
   "cell_type": "code",
   "execution_count": 313,
   "metadata": {},
   "outputs": [
    {
     "data": {
      "text/html": [
       "<div>\n",
       "<style scoped>\n",
       "    .dataframe tbody tr th:only-of-type {\n",
       "        vertical-align: middle;\n",
       "    }\n",
       "\n",
       "    .dataframe tbody tr th {\n",
       "        vertical-align: top;\n",
       "    }\n",
       "\n",
       "    .dataframe thead th {\n",
       "        text-align: right;\n",
       "    }\n",
       "</style>\n",
       "<table border=\"1\" class=\"dataframe\">\n",
       "  <thead>\n",
       "    <tr style=\"text-align: right;\">\n",
       "      <th></th>\n",
       "      <th>ACT Symbol</th>\n",
       "      <th>Security Name</th>\n",
       "      <th>Exchange</th>\n",
       "      <th>CQS Symbol</th>\n",
       "      <th>ETF</th>\n",
       "      <th>Round Lot Size</th>\n",
       "      <th>Test Issue</th>\n",
       "      <th>NASDAQ Symbol</th>\n",
       "    </tr>\n",
       "  </thead>\n",
       "  <tbody>\n",
       "    <tr>\n",
       "      <th>0</th>\n",
       "      <td>A</td>\n",
       "      <td>Agilent Technologies, Inc. Common Stock</td>\n",
       "      <td>N</td>\n",
       "      <td>A</td>\n",
       "      <td>N</td>\n",
       "      <td>100.0</td>\n",
       "      <td>N</td>\n",
       "      <td>A</td>\n",
       "    </tr>\n",
       "    <tr>\n",
       "      <th>1</th>\n",
       "      <td>AA</td>\n",
       "      <td>Alcoa Corporation Common Stock</td>\n",
       "      <td>N</td>\n",
       "      <td>AA</td>\n",
       "      <td>N</td>\n",
       "      <td>100.0</td>\n",
       "      <td>N</td>\n",
       "      <td>AA</td>\n",
       "    </tr>\n",
       "    <tr>\n",
       "      <th>2</th>\n",
       "      <td>AAA</td>\n",
       "      <td>Listed Funds Trust AAF First Priority CLO Bond...</td>\n",
       "      <td>P</td>\n",
       "      <td>AAA</td>\n",
       "      <td>Y</td>\n",
       "      <td>100.0</td>\n",
       "      <td>N</td>\n",
       "      <td>AAA</td>\n",
       "    </tr>\n",
       "    <tr>\n",
       "      <th>3</th>\n",
       "      <td>AAAU</td>\n",
       "      <td>Goldman Sachs Physical Gold ETF Shares</td>\n",
       "      <td>P</td>\n",
       "      <td>AAAU</td>\n",
       "      <td>Y</td>\n",
       "      <td>100.0</td>\n",
       "      <td>N</td>\n",
       "      <td>AAAU</td>\n",
       "    </tr>\n",
       "    <tr>\n",
       "      <th>4</th>\n",
       "      <td>AAC</td>\n",
       "      <td>Ares Acquisition Corporation Class A Ordinary ...</td>\n",
       "      <td>N</td>\n",
       "      <td>AAC</td>\n",
       "      <td>N</td>\n",
       "      <td>100.0</td>\n",
       "      <td>N</td>\n",
       "      <td>AAC</td>\n",
       "    </tr>\n",
       "  </tbody>\n",
       "</table>\n",
       "</div>"
      ],
      "text/plain": [
       "  ACT Symbol                                      Security Name Exchange  \\\n",
       "0          A            Agilent Technologies, Inc. Common Stock        N   \n",
       "1         AA                    Alcoa Corporation Common Stock         N   \n",
       "2        AAA  Listed Funds Trust AAF First Priority CLO Bond...        P   \n",
       "3       AAAU             Goldman Sachs Physical Gold ETF Shares        P   \n",
       "4        AAC  Ares Acquisition Corporation Class A Ordinary ...        N   \n",
       "\n",
       "  CQS Symbol ETF  Round Lot Size Test Issue NASDAQ Symbol  \n",
       "0          A   N           100.0          N             A  \n",
       "1         AA   N           100.0          N            AA  \n",
       "2        AAA   Y           100.0          N           AAA  \n",
       "3       AAAU   Y           100.0          N          AAAU  \n",
       "4        AAC   N           100.0          N           AAC  "
      ]
     },
     "execution_count": 313,
     "metadata": {},
     "output_type": "execute_result"
    }
   ],
   "source": [
    "other.head()"
   ]
  },
  {
   "cell_type": "code",
   "execution_count": 467,
   "metadata": {},
   "outputs": [
    {
     "data": {
      "text/plain": [
       "N    3598\n",
       "P    1692\n",
       "Z     511\n",
       "A     314\n",
       "V       3\n",
       "Name: Exchange, dtype: int64"
      ]
     },
     "execution_count": 467,
     "metadata": {},
     "output_type": "execute_result"
    }
   ],
   "source": [
    "other.Exchange.value_counts()\n"
   ]
  },
  {
   "cell_type": "code",
   "execution_count": 314,
   "metadata": {},
   "outputs": [],
   "source": [
    "\n",
    "nyse_ticker = other['ACT Symbol'][other.Exchange == 'N']"
   ]
  },
  {
   "cell_type": "code",
   "execution_count": 315,
   "metadata": {},
   "outputs": [
    {
     "data": {
      "text/plain": [
       "3598"
      ]
     },
     "execution_count": 315,
     "metadata": {},
     "output_type": "execute_result"
    }
   ],
   "source": [
    "len(nyse_ticker)"
   ]
  },
  {
   "cell_type": "code",
   "execution_count": 316,
   "metadata": {},
   "outputs": [],
   "source": [
    "comp[\"Exchange\"] = np.where(comp.Symbol.isin(nasdaq_ticker), \"NASDAQ\", np.where(comp.Symbol.isin(nyse_ticker), \"NYSE\", \"OTHERS\"))"
   ]
  },
  {
   "cell_type": "code",
   "execution_count": 317,
   "metadata": {},
   "outputs": [
    {
     "data": {
      "text/html": [
       "<div>\n",
       "<style scoped>\n",
       "    .dataframe tbody tr th:only-of-type {\n",
       "        vertical-align: middle;\n",
       "    }\n",
       "\n",
       "    .dataframe tbody tr th {\n",
       "        vertical-align: top;\n",
       "    }\n",
       "\n",
       "    .dataframe thead th {\n",
       "        text-align: right;\n",
       "    }\n",
       "</style>\n",
       "<table border=\"1\" class=\"dataframe\">\n",
       "  <thead>\n",
       "    <tr style=\"text-align: right;\">\n",
       "      <th></th>\n",
       "      <th>Symbol</th>\n",
       "      <th>Name</th>\n",
       "      <th>Unnamed: 2</th>\n",
       "      <th>FREF ENTITY INCORP DATE</th>\n",
       "      <th>Primary Equity Listing</th>\n",
       "      <th>Company is Active</th>\n",
       "      <th>Listing Status</th>\n",
       "      <th>Bankruptcy Status</th>\n",
       "      <th>Extinct Status</th>\n",
       "      <th>FactSet Ind</th>\n",
       "      <th>...</th>\n",
       "      <th>MktVal Co 2013</th>\n",
       "      <th>MktVal Co 2012</th>\n",
       "      <th>MktVal Co 2011</th>\n",
       "      <th>MktVal Co 2010</th>\n",
       "      <th>MktVal Co 2009</th>\n",
       "      <th>MktVal Co 2008</th>\n",
       "      <th>MktVal Co 2007</th>\n",
       "      <th>MktVal Co 2006</th>\n",
       "      <th>MktVal Co 2005</th>\n",
       "      <th>Exchange</th>\n",
       "    </tr>\n",
       "  </thead>\n",
       "  <tbody>\n",
       "    <tr>\n",
       "      <th>27925</th>\n",
       "      <td>ZIGO</td>\n",
       "      <td>Zygo Corporation</td>\n",
       "      <td>United States</td>\n",
       "      <td>1970.0</td>\n",
       "      <td>98985510</td>\n",
       "      <td>0</td>\n",
       "      <td>1</td>\n",
       "      <td>@NA</td>\n",
       "      <td>@NA</td>\n",
       "      <td>Electronic Components</td>\n",
       "      <td>...</td>\n",
       "      <td>276.725929</td>\n",
       "      <td>289.445209</td>\n",
       "      <td>315.529057</td>\n",
       "      <td>215.232496</td>\n",
       "      <td>113.986012</td>\n",
       "      <td>116.157094</td>\n",
       "      <td>224.45444</td>\n",
       "      <td>303.222873</td>\n",
       "      <td>264.948822</td>\n",
       "      <td>OTHERS</td>\n",
       "    </tr>\n",
       "    <tr>\n",
       "      <th>27926</th>\n",
       "      <td>ZCOR</td>\n",
       "      <td>Zyla Life Sciences</td>\n",
       "      <td>United States</td>\n",
       "      <td>2013.0</td>\n",
       "      <td>98986F10</td>\n",
       "      <td>1</td>\n",
       "      <td>1</td>\n",
       "      <td>BANKRUPT</td>\n",
       "      <td>@NA</td>\n",
       "      <td>Pharmaceuticals: Other</td>\n",
       "      <td>...</td>\n",
       "      <td>NaN</td>\n",
       "      <td>NaN</td>\n",
       "      <td>NaN</td>\n",
       "      <td>NaN</td>\n",
       "      <td>NaN</td>\n",
       "      <td>NaN</td>\n",
       "      <td>NaN</td>\n",
       "      <td>NaN</td>\n",
       "      <td>NaN</td>\n",
       "      <td>OTHERS</td>\n",
       "    </tr>\n",
       "    <tr>\n",
       "      <th>27930</th>\n",
       "      <td>ZYNE</td>\n",
       "      <td>Zynerba Pharmaceuticals Inc</td>\n",
       "      <td>United States</td>\n",
       "      <td>2007.0</td>\n",
       "      <td>98986X10</td>\n",
       "      <td>1</td>\n",
       "      <td>0</td>\n",
       "      <td>@NA</td>\n",
       "      <td>@NA</td>\n",
       "      <td>Pharmaceuticals: Other</td>\n",
       "      <td>...</td>\n",
       "      <td>NaN</td>\n",
       "      <td>NaN</td>\n",
       "      <td>NaN</td>\n",
       "      <td>NaN</td>\n",
       "      <td>NaN</td>\n",
       "      <td>NaN</td>\n",
       "      <td>NaN</td>\n",
       "      <td>NaN</td>\n",
       "      <td>NaN</td>\n",
       "      <td>NASDAQ</td>\n",
       "    </tr>\n",
       "    <tr>\n",
       "      <th>27931</th>\n",
       "      <td>ZYXI</td>\n",
       "      <td>Zynex, Inc.</td>\n",
       "      <td>United States</td>\n",
       "      <td>2001.0</td>\n",
       "      <td>98986M10</td>\n",
       "      <td>1</td>\n",
       "      <td>0</td>\n",
       "      <td>@NA</td>\n",
       "      <td>@NA</td>\n",
       "      <td>Medical Specialties</td>\n",
       "      <td>...</td>\n",
       "      <td>11.524760</td>\n",
       "      <td>21.791073</td>\n",
       "      <td>20.955560</td>\n",
       "      <td>18.357000</td>\n",
       "      <td>32.211279</td>\n",
       "      <td>46.270597</td>\n",
       "      <td>34.33216</td>\n",
       "      <td>6.488040</td>\n",
       "      <td>10.897420</td>\n",
       "      <td>NASDAQ</td>\n",
       "    </tr>\n",
       "    <tr>\n",
       "      <th>27932</th>\n",
       "      <td>ZNGA</td>\n",
       "      <td>Zynga Inc. Class A</td>\n",
       "      <td>United States</td>\n",
       "      <td>2007.0</td>\n",
       "      <td>98986T10</td>\n",
       "      <td>1</td>\n",
       "      <td>0</td>\n",
       "      <td>@NA</td>\n",
       "      <td>@NA</td>\n",
       "      <td>Internet Software/Services</td>\n",
       "      <td>...</td>\n",
       "      <td>3064.479606</td>\n",
       "      <td>1826.665878</td>\n",
       "      <td>6588.985403</td>\n",
       "      <td>NaN</td>\n",
       "      <td>NaN</td>\n",
       "      <td>NaN</td>\n",
       "      <td>NaN</td>\n",
       "      <td>NaN</td>\n",
       "      <td>NaN</td>\n",
       "      <td>NASDAQ</td>\n",
       "    </tr>\n",
       "  </tbody>\n",
       "</table>\n",
       "<p>5 rows × 32 columns</p>\n",
       "</div>"
      ],
      "text/plain": [
       "      Symbol                         Name     Unnamed: 2  \\\n",
       "27925   ZIGO             Zygo Corporation  United States   \n",
       "27926   ZCOR           Zyla Life Sciences  United States   \n",
       "27930   ZYNE  Zynerba Pharmaceuticals Inc  United States   \n",
       "27931   ZYXI                  Zynex, Inc.  United States   \n",
       "27932   ZNGA           Zynga Inc. Class A  United States   \n",
       "\n",
       "       FREF ENTITY INCORP DATE Primary Equity Listing  Company is Active  \\\n",
       "27925                   1970.0               98985510                  0   \n",
       "27926                   2013.0               98986F10                  1   \n",
       "27930                   2007.0               98986X10                  1   \n",
       "27931                   2001.0               98986M10                  1   \n",
       "27932                   2007.0               98986T10                  1   \n",
       "\n",
       "       Listing Status Bankruptcy Status Extinct Status  \\\n",
       "27925               1               @NA            @NA   \n",
       "27926               1          BANKRUPT            @NA   \n",
       "27930               0               @NA            @NA   \n",
       "27931               0               @NA            @NA   \n",
       "27932               0               @NA            @NA   \n",
       "\n",
       "                      FactSet Ind  ... MktVal Co 2013 MktVal Co 2012  \\\n",
       "27925       Electronic Components  ...     276.725929     289.445209   \n",
       "27926      Pharmaceuticals: Other  ...            NaN            NaN   \n",
       "27930      Pharmaceuticals: Other  ...            NaN            NaN   \n",
       "27931         Medical Specialties  ...      11.524760      21.791073   \n",
       "27932  Internet Software/Services  ...    3064.479606    1826.665878   \n",
       "\n",
       "      MktVal Co 2011 MktVal Co 2010 MktVal Co 2009  MktVal Co 2008  \\\n",
       "27925     315.529057     215.232496     113.986012      116.157094   \n",
       "27926            NaN            NaN            NaN             NaN   \n",
       "27930            NaN            NaN            NaN             NaN   \n",
       "27931      20.955560      18.357000      32.211279       46.270597   \n",
       "27932    6588.985403            NaN            NaN             NaN   \n",
       "\n",
       "       MktVal Co 2007  MktVal Co 2006  MktVal Co 2005  Exchange  \n",
       "27925       224.45444      303.222873      264.948822    OTHERS  \n",
       "27926             NaN             NaN             NaN    OTHERS  \n",
       "27930             NaN             NaN             NaN    NASDAQ  \n",
       "27931        34.33216        6.488040       10.897420    NASDAQ  \n",
       "27932             NaN             NaN             NaN    NASDAQ  \n",
       "\n",
       "[5 rows x 32 columns]"
      ]
     },
     "execution_count": 317,
     "metadata": {},
     "output_type": "execute_result"
    }
   ],
   "source": [
    "comp.tail()"
   ]
  },
  {
   "cell_type": "code",
   "execution_count": 318,
   "metadata": {},
   "outputs": [
    {
     "data": {
      "text/plain": [
       "OTHERS    9826\n",
       "NASDAQ    2117\n",
       "NYSE      1361\n",
       "Name: Exchange, dtype: int64"
      ]
     },
     "execution_count": 318,
     "metadata": {},
     "output_type": "execute_result"
    }
   ],
   "source": [
    "comp.Exchange.value_counts()"
   ]
  },
  {
   "cell_type": "code",
   "execution_count": 319,
   "metadata": {},
   "outputs": [],
   "source": [
    "#limit MA free companies to listed in NASDAQ and  NYSE\n",
    "comp = comp[comp.Exchange.isin(['NASDAQ', \"NYSE\"])]"
   ]
  },
  {
   "cell_type": "code",
   "execution_count": 320,
   "metadata": {},
   "outputs": [
    {
     "data": {
      "text/plain": [
       "NASDAQ    2117\n",
       "NYSE      1361\n",
       "Name: Exchange, dtype: int64"
      ]
     },
     "execution_count": 320,
     "metadata": {},
     "output_type": "execute_result"
    }
   ],
   "source": [
    "comp.Exchange.value_counts() #3786"
   ]
  },
  {
   "cell_type": "markdown",
   "metadata": {},
   "source": [
    "# Import M&A data"
   ]
  },
  {
   "cell_type": "code",
   "execution_count": 321,
   "metadata": {},
   "outputs": [],
   "source": [
    "ma = pd.read_csv(\"M_A.csv\")"
   ]
  },
  {
   "cell_type": "code",
   "execution_count": null,
   "metadata": {},
   "outputs": [],
   "source": []
  },
  {
   "cell_type": "code",
   "execution_count": 573,
   "metadata": {},
   "outputs": [
    {
     "name": "stdout",
     "output_type": "stream",
     "text": [
      "(1894, 18)\n"
     ]
    },
    {
     "data": {
      "text/html": [
       "<div>\n",
       "<style scoped>\n",
       "    .dataframe tbody tr th:only-of-type {\n",
       "        vertical-align: middle;\n",
       "    }\n",
       "\n",
       "    .dataframe tbody tr th {\n",
       "        vertical-align: top;\n",
       "    }\n",
       "\n",
       "    .dataframe thead th {\n",
       "        text-align: right;\n",
       "    }\n",
       "</style>\n",
       "<table border=\"1\" class=\"dataframe\">\n",
       "  <thead>\n",
       "    <tr style=\"text-align: right;\">\n",
       "      <th></th>\n",
       "      <th>Deal_ID</th>\n",
       "      <th>Target</th>\n",
       "      <th>Target_FactSet_Industry</th>\n",
       "      <th>Acquirer</th>\n",
       "      <th>Announcement_Date</th>\n",
       "      <th>Transaction_Status</th>\n",
       "      <th>Deal_Type</th>\n",
       "      <th>Transaction_Value</th>\n",
       "      <th>Enterprise_Value</th>\n",
       "      <th>Revenue_Target_LTM</th>\n",
       "      <th>EV_EBITDA</th>\n",
       "      <th>Target_Country</th>\n",
       "      <th>Target_Ticker</th>\n",
       "      <th>Target_Cusip</th>\n",
       "      <th>Target_Sedol</th>\n",
       "      <th>Target_Exchange</th>\n",
       "      <th>A_Date</th>\n",
       "      <th>Year</th>\n",
       "    </tr>\n",
       "  </thead>\n",
       "  <tbody>\n",
       "    <tr>\n",
       "      <th>4</th>\n",
       "      <td>862251MM</td>\n",
       "      <td>1st Century Bancshares, Inc. (California)</td>\n",
       "      <td>Major Banks</td>\n",
       "      <td>Midland Financial Co.; MidFirst Bank</td>\n",
       "      <td>10-Mar-16</td>\n",
       "      <td>Complete</td>\n",
       "      <td>Acquisition / Merger</td>\n",
       "      <td>115.98</td>\n",
       "      <td>172.09</td>\n",
       "      <td>23.61</td>\n",
       "      <td>-</td>\n",
       "      <td>United States</td>\n",
       "      <td>FCTY</td>\n",
       "      <td>31943X102</td>\n",
       "      <td>B00G7R3</td>\n",
       "      <td>NASDAQ</td>\n",
       "      <td>2016-03-10</td>\n",
       "      <td>2016</td>\n",
       "    </tr>\n",
       "    <tr>\n",
       "      <th>10</th>\n",
       "      <td>787548MM</td>\n",
       "      <td>1st United Bancorp, Inc. (Florida)</td>\n",
       "      <td>Financial Conglomerates</td>\n",
       "      <td>Valley National Bancorp</td>\n",
       "      <td>8-May-14</td>\n",
       "      <td>Complete</td>\n",
       "      <td>Acquisition / Merger</td>\n",
       "      <td>299.65</td>\n",
       "      <td>279.78</td>\n",
       "      <td>87.16</td>\n",
       "      <td>-</td>\n",
       "      <td>United States</td>\n",
       "      <td>FUBC</td>\n",
       "      <td>33740N105</td>\n",
       "      <td>B2Q5S97</td>\n",
       "      <td>NASDAQ</td>\n",
       "      <td>2014-05-08</td>\n",
       "      <td>2014</td>\n",
       "    </tr>\n",
       "    <tr>\n",
       "      <th>22</th>\n",
       "      <td>3041212MM</td>\n",
       "      <td>8point3 Energy Partners LP</td>\n",
       "      <td>Electric Utilities</td>\n",
       "      <td>Capital Dynamics AG</td>\n",
       "      <td>5-Feb-18</td>\n",
       "      <td>Complete</td>\n",
       "      <td>Acquisition / Merger</td>\n",
       "      <td>1,653.75</td>\n",
       "      <td>1,653.75</td>\n",
       "      <td>70.09</td>\n",
       "      <td>31.6</td>\n",
       "      <td>United States</td>\n",
       "      <td>CAFD</td>\n",
       "      <td>282539105</td>\n",
       "      <td>BZ0XXJ3</td>\n",
       "      <td>NASDAQ</td>\n",
       "      <td>2018-02-05</td>\n",
       "      <td>2018</td>\n",
       "    </tr>\n",
       "    <tr>\n",
       "      <th>23</th>\n",
       "      <td>578818MM</td>\n",
       "      <td>99 Cents Only Stores LLC</td>\n",
       "      <td>Specialty Stores</td>\n",
       "      <td>Leonard Green &amp; Partners LP; 99? Only Stores /...</td>\n",
       "      <td>11-Mar-11</td>\n",
       "      <td>Cancelled</td>\n",
       "      <td>Acquisition / Merger</td>\n",
       "      <td>693.27</td>\n",
       "      <td>1,134.72</td>\n",
       "      <td>1,384.65</td>\n",
       "      <td>8.05</td>\n",
       "      <td>United States</td>\n",
       "      <td>NDN</td>\n",
       "      <td>65440K106</td>\n",
       "      <td>2639930</td>\n",
       "      <td>NYSE</td>\n",
       "      <td>2011-03-11</td>\n",
       "      <td>2011</td>\n",
       "    </tr>\n",
       "    <tr>\n",
       "      <th>24</th>\n",
       "      <td>602545MM</td>\n",
       "      <td>99 Cents Only Stores LLC</td>\n",
       "      <td>Specialty Stores</td>\n",
       "      <td>Ares Owners Holdings LP; Government of Canada;...</td>\n",
       "      <td>11-Oct-11</td>\n",
       "      <td>Complete</td>\n",
       "      <td>Acquisition / Merger</td>\n",
       "      <td>1,348.87</td>\n",
       "      <td>1,348.87</td>\n",
       "      <td>1,384.65</td>\n",
       "      <td>9.57</td>\n",
       "      <td>United States</td>\n",
       "      <td>NDN</td>\n",
       "      <td>65440K106</td>\n",
       "      <td>2639930</td>\n",
       "      <td>NYSE</td>\n",
       "      <td>2011-10-11</td>\n",
       "      <td>2011</td>\n",
       "    </tr>\n",
       "  </tbody>\n",
       "</table>\n",
       "</div>"
      ],
      "text/plain": [
       "      Deal_ID                                     Target  \\\n",
       "4    862251MM  1st Century Bancshares, Inc. (California)   \n",
       "10   787548MM         1st United Bancorp, Inc. (Florida)   \n",
       "22  3041212MM                 8point3 Energy Partners LP   \n",
       "23   578818MM                   99 Cents Only Stores LLC   \n",
       "24   602545MM                   99 Cents Only Stores LLC   \n",
       "\n",
       "    Target_FactSet_Industry  \\\n",
       "4               Major Banks   \n",
       "10  Financial Conglomerates   \n",
       "22       Electric Utilities   \n",
       "23         Specialty Stores   \n",
       "24         Specialty Stores   \n",
       "\n",
       "                                             Acquirer Announcement_Date  \\\n",
       "4                Midland Financial Co.; MidFirst Bank         10-Mar-16   \n",
       "10                            Valley National Bancorp          8-May-14   \n",
       "22                                Capital Dynamics AG          5-Feb-18   \n",
       "23  Leonard Green & Partners LP; 99? Only Stores /...         11-Mar-11   \n",
       "24  Ares Owners Holdings LP; Government of Canada;...         11-Oct-11   \n",
       "\n",
       "   Transaction_Status             Deal_Type Transaction_Value  \\\n",
       "4            Complete  Acquisition / Merger            115.98   \n",
       "10           Complete  Acquisition / Merger            299.65   \n",
       "22           Complete  Acquisition / Merger          1,653.75   \n",
       "23          Cancelled  Acquisition / Merger            693.27   \n",
       "24           Complete  Acquisition / Merger          1,348.87   \n",
       "\n",
       "   Enterprise_Value  Revenue_Target_LTM EV_EBITDA Target_Country  \\\n",
       "4             172.09              23.61         -  United States   \n",
       "10            279.78              87.16         -  United States   \n",
       "22          1,653.75              70.09      31.6  United States   \n",
       "23          1,134.72           1,384.65      8.05  United States   \n",
       "24          1,348.87           1,384.65      9.57  United States   \n",
       "\n",
       "   Target_Ticker Target_Cusip Target_Sedol Target_Exchange      A_Date  Year  \n",
       "4           FCTY    31943X102      B00G7R3          NASDAQ  2016-03-10  2016  \n",
       "10          FUBC    33740N105      B2Q5S97          NASDAQ  2014-05-08  2014  \n",
       "22          CAFD    282539105      BZ0XXJ3          NASDAQ  2018-02-05  2018  \n",
       "23           NDN    65440K106      2639930            NYSE  2011-03-11  2011  \n",
       "24           NDN    65440K106      2639930            NYSE  2011-10-11  2011  "
      ]
     },
     "execution_count": 573,
     "metadata": {},
     "output_type": "execute_result"
    }
   ],
   "source": [
    "print(ma.shape)\n",
    "ma.head()"
   ]
  },
  {
   "cell_type": "code",
   "execution_count": 323,
   "metadata": {},
   "outputs": [
    {
     "data": {
      "text/plain": [
       "NASDAQ                            2267\n",
       "OTC                               1909\n",
       "NYSE                              1261\n",
       "NYSE MKT LLC                       171\n",
       "-                                  169\n",
       "Toronto                             29\n",
       "London Stock Exchange               26\n",
       "TSX Venture Exchange                26\n",
       "Australian Securities Exchange       7\n",
       "Canadian Securities Exchange         5\n",
       "NYSE Arca                            2\n",
       "Norwegian OTC Market                 2\n",
       "Aequitas NEO Exchange                1\n",
       "New Zealand Exchange Ltd             1\n",
       "BATS Exchange                        1\n",
       "Stuttgart Stock Exchange             1\n",
       "Name: Target_Exchange, dtype: int64"
      ]
     },
     "execution_count": 323,
     "metadata": {},
     "output_type": "execute_result"
    }
   ],
   "source": [
    "ma.Target_Exchange.value_counts()"
   ]
  },
  {
   "cell_type": "code",
   "execution_count": 324,
   "metadata": {},
   "outputs": [],
   "source": [
    "ma['A_Date'] = ma.Announcement_Date.apply(lambda x: str(datetime.strptime(x, '%d-%b-%y'))[:10])"
   ]
  },
  {
   "cell_type": "code",
   "execution_count": 325,
   "metadata": {},
   "outputs": [],
   "source": [
    "ma['Year'] = [i[:4] for i in ma.A_Date]"
   ]
  },
  {
   "cell_type": "code",
   "execution_count": 326,
   "metadata": {},
   "outputs": [
    {
     "data": {
      "text/plain": [
       "<AxesSubplot:>"
      ]
     },
     "execution_count": 326,
     "metadata": {},
     "output_type": "execute_result"
    },
    {
     "data": {
      "image/png": "[encoded data removed]",
      "text/plain": [
       "<Figure size 432x288 with 1 Axes>"
      ]
     },
     "metadata": {
      "needs_background": "light"
     },
     "output_type": "display_data"
    }
   ],
   "source": [
    "ma.Year.value_counts().plot()"
   ]
  },
  {
   "cell_type": "code",
   "execution_count": 327,
   "metadata": {},
   "outputs": [],
   "source": [
    "ma = ma[(ma.Target_Exchange.isin([\"NASDAQ\", \"NYSE\"])) & (ma.Year>='2011') & (ma.Year<='2019') & (ma.Target_Country == 'United States')]"
   ]
  },
  {
   "cell_type": "code",
   "execution_count": 328,
   "metadata": {},
   "outputs": [],
   "source": [
    "ma = ma.loc[['*' not in i for i in ma.Target_Ticker],:] #filter out Symbol has *\n",
    "ma = ma.loc[[(i.isdecimal() == False) for i in ma.Target_Ticker],:] ##filter out all number Symbol"
   ]
  },
  {
   "cell_type": "code",
   "execution_count": 329,
   "metadata": {},
   "outputs": [
    {
     "name": "stdout",
     "output_type": "stream",
     "text": [
      "(1894, 18)\n"
     ]
    },
    {
     "data": {
      "text/html": [
       "<div>\n",
       "<style scoped>\n",
       "    .dataframe tbody tr th:only-of-type {\n",
       "        vertical-align: middle;\n",
       "    }\n",
       "\n",
       "    .dataframe tbody tr th {\n",
       "        vertical-align: top;\n",
       "    }\n",
       "\n",
       "    .dataframe thead th {\n",
       "        text-align: right;\n",
       "    }\n",
       "</style>\n",
       "<table border=\"1\" class=\"dataframe\">\n",
       "  <thead>\n",
       "    <tr style=\"text-align: right;\">\n",
       "      <th></th>\n",
       "      <th>Deal_ID</th>\n",
       "      <th>Target</th>\n",
       "      <th>Target_FactSet_Industry</th>\n",
       "      <th>Acquirer</th>\n",
       "      <th>Announcement_Date</th>\n",
       "      <th>Transaction_Status</th>\n",
       "      <th>Deal_Type</th>\n",
       "      <th>Transaction_Value</th>\n",
       "      <th>Enterprise_Value</th>\n",
       "      <th>Revenue_Target_LTM</th>\n",
       "      <th>EV_EBITDA</th>\n",
       "      <th>Target_Country</th>\n",
       "      <th>Target_Ticker</th>\n",
       "      <th>Target_Cusip</th>\n",
       "      <th>Target_Sedol</th>\n",
       "      <th>Target_Exchange</th>\n",
       "      <th>A_Date</th>\n",
       "      <th>Year</th>\n",
       "    </tr>\n",
       "  </thead>\n",
       "  <tbody>\n",
       "    <tr>\n",
       "      <th>4</th>\n",
       "      <td>862251MM</td>\n",
       "      <td>1st Century Bancshares, Inc. (California)</td>\n",
       "      <td>Major Banks</td>\n",
       "      <td>Midland Financial Co.; MidFirst Bank</td>\n",
       "      <td>10-Mar-16</td>\n",
       "      <td>Complete</td>\n",
       "      <td>Acquisition / Merger</td>\n",
       "      <td>115.98</td>\n",
       "      <td>172.09</td>\n",
       "      <td>23.61</td>\n",
       "      <td>-</td>\n",
       "      <td>United States</td>\n",
       "      <td>FCTY</td>\n",
       "      <td>31943X102</td>\n",
       "      <td>B00G7R3</td>\n",
       "      <td>NASDAQ</td>\n",
       "      <td>2016-03-10</td>\n",
       "      <td>2016</td>\n",
       "    </tr>\n",
       "    <tr>\n",
       "      <th>10</th>\n",
       "      <td>787548MM</td>\n",
       "      <td>1st United Bancorp, Inc. (Florida)</td>\n",
       "      <td>Financial Conglomerates</td>\n",
       "      <td>Valley National Bancorp</td>\n",
       "      <td>8-May-14</td>\n",
       "      <td>Complete</td>\n",
       "      <td>Acquisition / Merger</td>\n",
       "      <td>299.65</td>\n",
       "      <td>279.78</td>\n",
       "      <td>87.16</td>\n",
       "      <td>-</td>\n",
       "      <td>United States</td>\n",
       "      <td>FUBC</td>\n",
       "      <td>33740N105</td>\n",
       "      <td>B2Q5S97</td>\n",
       "      <td>NASDAQ</td>\n",
       "      <td>2014-05-08</td>\n",
       "      <td>2014</td>\n",
       "    </tr>\n",
       "    <tr>\n",
       "      <th>22</th>\n",
       "      <td>3041212MM</td>\n",
       "      <td>8point3 Energy Partners LP</td>\n",
       "      <td>Electric Utilities</td>\n",
       "      <td>Capital Dynamics AG</td>\n",
       "      <td>5-Feb-18</td>\n",
       "      <td>Complete</td>\n",
       "      <td>Acquisition / Merger</td>\n",
       "      <td>1,653.75</td>\n",
       "      <td>1,653.75</td>\n",
       "      <td>70.09</td>\n",
       "      <td>31.6</td>\n",
       "      <td>United States</td>\n",
       "      <td>CAFD</td>\n",
       "      <td>282539105</td>\n",
       "      <td>BZ0XXJ3</td>\n",
       "      <td>NASDAQ</td>\n",
       "      <td>2018-02-05</td>\n",
       "      <td>2018</td>\n",
       "    </tr>\n",
       "    <tr>\n",
       "      <th>23</th>\n",
       "      <td>578818MM</td>\n",
       "      <td>99 Cents Only Stores LLC</td>\n",
       "      <td>Specialty Stores</td>\n",
       "      <td>Leonard Green &amp; Partners LP; 99? Only Stores /...</td>\n",
       "      <td>11-Mar-11</td>\n",
       "      <td>Cancelled</td>\n",
       "      <td>Acquisition / Merger</td>\n",
       "      <td>693.27</td>\n",
       "      <td>1,134.72</td>\n",
       "      <td>1,384.65</td>\n",
       "      <td>8.05</td>\n",
       "      <td>United States</td>\n",
       "      <td>NDN</td>\n",
       "      <td>65440K106</td>\n",
       "      <td>2639930</td>\n",
       "      <td>NYSE</td>\n",
       "      <td>2011-03-11</td>\n",
       "      <td>2011</td>\n",
       "    </tr>\n",
       "    <tr>\n",
       "      <th>24</th>\n",
       "      <td>602545MM</td>\n",
       "      <td>99 Cents Only Stores LLC</td>\n",
       "      <td>Specialty Stores</td>\n",
       "      <td>Ares Owners Holdings LP; Government of Canada;...</td>\n",
       "      <td>11-Oct-11</td>\n",
       "      <td>Complete</td>\n",
       "      <td>Acquisition / Merger</td>\n",
       "      <td>1,348.87</td>\n",
       "      <td>1,348.87</td>\n",
       "      <td>1,384.65</td>\n",
       "      <td>9.57</td>\n",
       "      <td>United States</td>\n",
       "      <td>NDN</td>\n",
       "      <td>65440K106</td>\n",
       "      <td>2639930</td>\n",
       "      <td>NYSE</td>\n",
       "      <td>2011-10-11</td>\n",
       "      <td>2011</td>\n",
       "    </tr>\n",
       "  </tbody>\n",
       "</table>\n",
       "</div>"
      ],
      "text/plain": [
       "      Deal_ID                                     Target  \\\n",
       "4    862251MM  1st Century Bancshares, Inc. (California)   \n",
       "10   787548MM         1st United Bancorp, Inc. (Florida)   \n",
       "22  3041212MM                 8point3 Energy Partners LP   \n",
       "23   578818MM                   99 Cents Only Stores LLC   \n",
       "24   602545MM                   99 Cents Only Stores LLC   \n",
       "\n",
       "    Target_FactSet_Industry  \\\n",
       "4               Major Banks   \n",
       "10  Financial Conglomerates   \n",
       "22       Electric Utilities   \n",
       "23         Specialty Stores   \n",
       "24         Specialty Stores   \n",
       "\n",
       "                                             Acquirer Announcement_Date  \\\n",
       "4                Midland Financial Co.; MidFirst Bank         10-Mar-16   \n",
       "10                            Valley National Bancorp          8-May-14   \n",
       "22                                Capital Dynamics AG          5-Feb-18   \n",
       "23  Leonard Green & Partners LP; 99? Only Stores /...         11-Mar-11   \n",
       "24  Ares Owners Holdings LP; Government of Canada;...         11-Oct-11   \n",
       "\n",
       "   Transaction_Status             Deal_Type Transaction_Value  \\\n",
       "4            Complete  Acquisition / Merger            115.98   \n",
       "10           Complete  Acquisition / Merger            299.65   \n",
       "22           Complete  Acquisition / Merger          1,653.75   \n",
       "23          Cancelled  Acquisition / Merger            693.27   \n",
       "24           Complete  Acquisition / Merger          1,348.87   \n",
       "\n",
       "   Enterprise_Value  Revenue_Target_LTM EV_EBITDA Target_Country  \\\n",
       "4             172.09              23.61         -  United States   \n",
       "10            279.78              87.16         -  United States   \n",
       "22          1,653.75              70.09      31.6  United States   \n",
       "23          1,134.72           1,384.65      8.05  United States   \n",
       "24          1,348.87           1,384.65      9.57  United States   \n",
       "\n",
       "   Target_Ticker Target_Cusip Target_Sedol Target_Exchange      A_Date  Year  \n",
       "4           FCTY    31943X102      B00G7R3          NASDAQ  2016-03-10  2016  \n",
       "10          FUBC    33740N105      B2Q5S97          NASDAQ  2014-05-08  2014  \n",
       "22          CAFD    282539105      BZ0XXJ3          NASDAQ  2018-02-05  2018  \n",
       "23           NDN    65440K106      2639930            NYSE  2011-03-11  2011  \n",
       "24           NDN    65440K106      2639930            NYSE  2011-10-11  2011  "
      ]
     },
     "execution_count": 329,
     "metadata": {},
     "output_type": "execute_result"
    }
   ],
   "source": [
    "print(ma.shape)\n",
    "ma.head() #75% in N"
   ]
  },
  {
   "cell_type": "code",
   "execution_count": 330,
   "metadata": {},
   "outputs": [
    {
     "data": {
      "text/plain": [
       "Regional Banks                     120\n",
       "Packaged Software                  118\n",
       "Pharmaceuticals: Major              85\n",
       "Medical Specialties                 75\n",
       "Semiconductors                      74\n",
       "                                  ... \n",
       "Services to the Health Industry      1\n",
       "Motor Vehicles                       1\n",
       "Office Equipment/Supplies            1\n",
       "Catalog/Specialty Distribution       1\n",
       "Automotive Aftermarket               1\n",
       "Name: Target_FactSet_Industry, Length: 124, dtype: int64"
      ]
     },
     "execution_count": 330,
     "metadata": {},
     "output_type": "execute_result"
    }
   ],
   "source": [
    "ma.Target_FactSet_Industry.value_counts()"
   ]
  },
  {
   "cell_type": "code",
   "execution_count": 331,
   "metadata": {},
   "outputs": [
    {
     "data": {
      "text/plain": [
       "0.8922914466737064"
      ]
     },
     "execution_count": 331,
     "metadata": {},
     "output_type": "execute_result"
    }
   ],
   "source": [
    "len(ma.Target_Ticker.unique())/len(ma) #11% duplicates by year"
   ]
  },
  {
   "cell_type": "code",
   "execution_count": 332,
   "metadata": {},
   "outputs": [],
   "source": [
    "#group announcement by Symbol and Year\n",
    "ma_1 = ma.sort_values('A_Date').groupby(['Target_Ticker']).last().reset_index()"
   ]
  },
  {
   "cell_type": "code",
   "execution_count": 333,
   "metadata": {},
   "outputs": [
    {
     "name": "stdout",
     "output_type": "stream",
     "text": [
      "(1690, 18)\n"
     ]
    },
    {
     "data": {
      "text/html": [
       "<div>\n",
       "<style scoped>\n",
       "    .dataframe tbody tr th:only-of-type {\n",
       "        vertical-align: middle;\n",
       "    }\n",
       "\n",
       "    .dataframe tbody tr th {\n",
       "        vertical-align: top;\n",
       "    }\n",
       "\n",
       "    .dataframe thead th {\n",
       "        text-align: right;\n",
       "    }\n",
       "</style>\n",
       "<table border=\"1\" class=\"dataframe\">\n",
       "  <thead>\n",
       "    <tr style=\"text-align: right;\">\n",
       "      <th></th>\n",
       "      <th>Target_Ticker</th>\n",
       "      <th>Deal_ID</th>\n",
       "      <th>Target</th>\n",
       "      <th>Target_FactSet_Industry</th>\n",
       "      <th>Acquirer</th>\n",
       "      <th>Announcement_Date</th>\n",
       "      <th>Transaction_Status</th>\n",
       "      <th>Deal_Type</th>\n",
       "      <th>Transaction_Value</th>\n",
       "      <th>Enterprise_Value</th>\n",
       "      <th>Revenue_Target_LTM</th>\n",
       "      <th>EV_EBITDA</th>\n",
       "      <th>Target_Country</th>\n",
       "      <th>Target_Cusip</th>\n",
       "      <th>Target_Sedol</th>\n",
       "      <th>Target_Exchange</th>\n",
       "      <th>A_Date</th>\n",
       "      <th>Year</th>\n",
       "    </tr>\n",
       "  </thead>\n",
       "  <tbody>\n",
       "    <tr>\n",
       "      <th>0</th>\n",
       "      <td>AACC</td>\n",
       "      <td>749270MM</td>\n",
       "      <td>Asset Acceptance Capital Corp.</td>\n",
       "      <td>Finance/Rental/Leasing</td>\n",
       "      <td>Encore Capital Group, Inc.</td>\n",
       "      <td>6-Mar-13</td>\n",
       "      <td>Complete</td>\n",
       "      <td>Acquisition / Merger</td>\n",
       "      <td>201.05</td>\n",
       "      <td>369.98</td>\n",
       "      <td>226.8</td>\n",
       "      <td>9.25</td>\n",
       "      <td>United States</td>\n",
       "      <td>04543P100</td>\n",
       "      <td>2321099</td>\n",
       "      <td>NASDAQ</td>\n",
       "      <td>2013-03-06</td>\n",
       "      <td>2013</td>\n",
       "    </tr>\n",
       "    <tr>\n",
       "      <th>1</th>\n",
       "      <td>AAN</td>\n",
       "      <td>778883MM</td>\n",
       "      <td>Aaron's, Inc.</td>\n",
       "      <td>Finance/Rental/Leasing</td>\n",
       "      <td>Vintage Capital Management LLC</td>\n",
       "      <td>7-Feb-14</td>\n",
       "      <td>Cancelled</td>\n",
       "      <td>Acquisition / Merger</td>\n",
       "      <td>2,105.26</td>\n",
       "      <td>2,168.92</td>\n",
       "      <td>2,255.13</td>\n",
       "      <td>2.2</td>\n",
       "      <td>United States</td>\n",
       "      <td>2535300</td>\n",
       "      <td>2002918</td>\n",
       "      <td>NYSE</td>\n",
       "      <td>2014-02-07</td>\n",
       "      <td>2014</td>\n",
       "    </tr>\n",
       "    <tr>\n",
       "      <th>2</th>\n",
       "      <td>AATI</td>\n",
       "      <td>587604MM</td>\n",
       "      <td>Advanced Analogic Technologies, Inc.</td>\n",
       "      <td>Semiconductors</td>\n",
       "      <td>Skyworks Solutions, Inc.</td>\n",
       "      <td>26-May-11</td>\n",
       "      <td>Complete</td>\n",
       "      <td>Acquisition / Merger</td>\n",
       "      <td>170.22</td>\n",
       "      <td>170.22</td>\n",
       "      <td>92.63</td>\n",
       "      <td>-14.41</td>\n",
       "      <td>United States</td>\n",
       "      <td>00752J108</td>\n",
       "      <td>B081P87</td>\n",
       "      <td>NASDAQ</td>\n",
       "      <td>2011-05-26</td>\n",
       "      <td>2011</td>\n",
       "    </tr>\n",
       "    <tr>\n",
       "      <th>3</th>\n",
       "      <td>ABAX</td>\n",
       "      <td>3054705MM</td>\n",
       "      <td>Abaxis, Inc.</td>\n",
       "      <td>Medical Specialties</td>\n",
       "      <td>Zoetis, Inc.</td>\n",
       "      <td>16-May-18</td>\n",
       "      <td>Complete</td>\n",
       "      <td>Acquisition / Merger</td>\n",
       "      <td>1,731.78</td>\n",
       "      <td>1,731.78</td>\n",
       "      <td>244.7</td>\n",
       "      <td>37.11</td>\n",
       "      <td>United States</td>\n",
       "      <td>2567105</td>\n",
       "      <td>2011550</td>\n",
       "      <td>NASDAQ</td>\n",
       "      <td>2018-05-16</td>\n",
       "      <td>2018</td>\n",
       "    </tr>\n",
       "    <tr>\n",
       "      <th>4</th>\n",
       "      <td>ABBC</td>\n",
       "      <td>574055MM</td>\n",
       "      <td>Abington Bancorp, Inc. (Pennsylvania)</td>\n",
       "      <td>Savings Banks</td>\n",
       "      <td>Susquehanna Bancshares, Inc.</td>\n",
       "      <td>26-Jan-11</td>\n",
       "      <td>Complete</td>\n",
       "      <td>Acquisition / Merger</td>\n",
       "      <td>264.04</td>\n",
       "      <td>371.88</td>\n",
       "      <td>36.3</td>\n",
       "      <td>-</td>\n",
       "      <td>United States</td>\n",
       "      <td>00350L109</td>\n",
       "      <td>B1Z98S2</td>\n",
       "      <td>NASDAQ</td>\n",
       "      <td>2011-01-26</td>\n",
       "      <td>2011</td>\n",
       "    </tr>\n",
       "  </tbody>\n",
       "</table>\n",
       "</div>"
      ],
      "text/plain": [
       "  Target_Ticker    Deal_ID                                 Target  \\\n",
       "0          AACC   749270MM         Asset Acceptance Capital Corp.   \n",
       "1           AAN   778883MM                          Aaron's, Inc.   \n",
       "2          AATI   587604MM   Advanced Analogic Technologies, Inc.   \n",
       "3          ABAX  3054705MM                           Abaxis, Inc.   \n",
       "4          ABBC   574055MM  Abington Bancorp, Inc. (Pennsylvania)   \n",
       "\n",
       "  Target_FactSet_Industry                        Acquirer Announcement_Date  \\\n",
       "0  Finance/Rental/Leasing      Encore Capital Group, Inc.          6-Mar-13   \n",
       "1  Finance/Rental/Leasing  Vintage Capital Management LLC          7-Feb-14   \n",
       "2          Semiconductors        Skyworks Solutions, Inc.         26-May-11   \n",
       "3     Medical Specialties                    Zoetis, Inc.         16-May-18   \n",
       "4           Savings Banks    Susquehanna Bancshares, Inc.         26-Jan-11   \n",
       "\n",
       "  Transaction_Status             Deal_Type Transaction_Value  \\\n",
       "0           Complete  Acquisition / Merger            201.05   \n",
       "1          Cancelled  Acquisition / Merger          2,105.26   \n",
       "2           Complete  Acquisition / Merger            170.22   \n",
       "3           Complete  Acquisition / Merger          1,731.78   \n",
       "4           Complete  Acquisition / Merger            264.04   \n",
       "\n",
       "  Enterprise_Value  Revenue_Target_LTM EV_EBITDA Target_Country Target_Cusip  \\\n",
       "0            369.98              226.8      9.25  United States    04543P100   \n",
       "1          2,168.92           2,255.13       2.2  United States      2535300   \n",
       "2            170.22              92.63    -14.41  United States    00752J108   \n",
       "3          1,731.78              244.7     37.11  United States      2567105   \n",
       "4            371.88               36.3         -  United States    00350L109   \n",
       "\n",
       "  Target_Sedol Target_Exchange      A_Date  Year  \n",
       "0      2321099          NASDAQ  2013-03-06  2013  \n",
       "1      2002918            NYSE  2014-02-07  2014  \n",
       "2      B081P87          NASDAQ  2011-05-26  2011  \n",
       "3      2011550          NASDAQ  2018-05-16  2018  \n",
       "4      B1Z98S2          NASDAQ  2011-01-26  2011  "
      ]
     },
     "execution_count": 333,
     "metadata": {},
     "output_type": "execute_result"
    }
   ],
   "source": [
    "print(ma_1.shape)\n",
    "ma_1.head()"
   ]
  },
  {
   "cell_type": "code",
   "execution_count": 334,
   "metadata": {},
   "outputs": [],
   "source": [
    "ma_1.columns = [i.strip() for i in ma_1.columns]"
   ]
  },
  {
   "cell_type": "code",
   "execution_count": 335,
   "metadata": {},
   "outputs": [
    {
     "data": {
      "text/plain": [
       "(1690, 18)"
      ]
     },
     "execution_count": 335,
     "metadata": {},
     "output_type": "execute_result"
    }
   ],
   "source": [
    "ma_1.shape"
   ]
  },
  {
   "cell_type": "code",
   "execution_count": 336,
   "metadata": {},
   "outputs": [],
   "source": [
    "pickle.dump(ma_1, open('ma_out.pkl', 'wb'))"
   ]
  },
  {
   "cell_type": "markdown",
   "metadata": {},
   "source": [
    "# merge with market capital"
   ]
  },
  {
   "cell_type": "code",
   "execution_count": 375,
   "metadata": {},
   "outputs": [],
   "source": [
    "comp_sub = comp[['Symbol','Name','FactSet Ind', 'NAICS Code','Entity NAICS Sector Number', 'MktVal Co 2019', 'MktVal Co 2018', 'MktVal Co 2017', \n",
    "                 'MktVal Co 2016', 'MktVal Co 2015', 'MktVal Co 2014', 'MktVal Co 2013', 'MktVal Co 2012', 'MktVal Co 2011', 'MktVal Co 2010']]       "
   ]
  },
  {
   "cell_type": "code",
   "execution_count": 376,
   "metadata": {},
   "outputs": [],
   "source": [
    "ma_1_sub = ma_1[['Target_Ticker', 'Target','Year', 'A_Date', 'Enterprise_Value', 'Target_FactSet_Industry']]"
   ]
  },
  {
   "cell_type": "code",
   "execution_count": 377,
   "metadata": {},
   "outputs": [],
   "source": [
    "share_ind = np.intersect1d(ma_1_sub.Target_FactSet_Industry.unique(), comp_sub['FactSet Ind'].unique())"
   ]
  },
  {
   "cell_type": "code",
   "execution_count": 378,
   "metadata": {},
   "outputs": [],
   "source": [
    "comp_sub = comp_sub[comp_sub['FactSet Ind'].isin(share_ind)]\n",
    "ma_1_sub = ma_1_sub[ma_1_sub['Target_FactSet_Industry'].isin(share_ind)]"
   ]
  },
  {
   "cell_type": "code",
   "execution_count": 379,
   "metadata": {},
   "outputs": [
    {
     "data": {
      "text/plain": [
       "(1677, 6)"
      ]
     },
     "execution_count": 379,
     "metadata": {},
     "output_type": "execute_result"
    }
   ],
   "source": [
    "ma_1_sub.shape"
   ]
  },
  {
   "cell_type": "code",
   "execution_count": 380,
   "metadata": {},
   "outputs": [
    {
     "data": {
      "text/plain": [
       "(112, 6)"
      ]
     },
     "execution_count": 380,
     "metadata": {},
     "output_type": "execute_result"
    }
   ],
   "source": [
    "ma_1_sub = ma_1_sub[ma_1_sub.Target_FactSet_Industry == 'Regional Banks']\n",
    "ma_1_sub.shape"
   ]
  },
  {
   "cell_type": "code",
   "execution_count": 381,
   "metadata": {},
   "outputs": [
    {
     "data": {
      "text/plain": [
       "Regional Banks    112\n",
       "Name: Target_FactSet_Industry, dtype: int64"
      ]
     },
     "execution_count": 381,
     "metadata": {},
     "output_type": "execute_result"
    }
   ],
   "source": [
    "ma_1_sub.Target_FactSet_Industry.value_counts()"
   ]
  },
  {
   "cell_type": "code",
   "execution_count": 367,
   "metadata": {},
   "outputs": [
    {
     "data": {
      "text/plain": [
       "99.07"
      ]
     },
     "execution_count": 367,
     "metadata": {},
     "output_type": "execute_result"
    }
   ],
   "source": [
    "cutoff_value = float(ma_1_sub.Enterprise_Value.max())\n",
    "\n",
    "cutoff_value"
   ]
  },
  {
   "cell_type": "code",
   "execution_count": 382,
   "metadata": {},
   "outputs": [
    {
     "data": {
      "text/plain": [
       "(257, 15)"
      ]
     },
     "execution_count": 382,
     "metadata": {},
     "output_type": "execute_result"
    }
   ],
   "source": [
    "comp_sub = comp_sub[comp_sub['FactSet Ind'] == 'Regional Banks']\n",
    "\n",
    "comp_sub.shape"
   ]
  },
  {
   "cell_type": "code",
   "execution_count": 369,
   "metadata": {},
   "outputs": [
    {
     "data": {
      "text/html": [
       "<div>\n",
       "<style scoped>\n",
       "    .dataframe tbody tr th:only-of-type {\n",
       "        vertical-align: middle;\n",
       "    }\n",
       "\n",
       "    .dataframe tbody tr th {\n",
       "        vertical-align: top;\n",
       "    }\n",
       "\n",
       "    .dataframe thead th {\n",
       "        text-align: right;\n",
       "    }\n",
       "</style>\n",
       "<table border=\"1\" class=\"dataframe\">\n",
       "  <thead>\n",
       "    <tr style=\"text-align: right;\">\n",
       "      <th></th>\n",
       "      <th>Symbol</th>\n",
       "      <th>Name</th>\n",
       "      <th>FactSet Ind</th>\n",
       "      <th>NAICS Code</th>\n",
       "      <th>Entity NAICS Sector Number</th>\n",
       "      <th>MktVal Co 2019</th>\n",
       "      <th>MktVal Co 2018</th>\n",
       "      <th>MktVal Co 2017</th>\n",
       "      <th>MktVal Co 2016</th>\n",
       "      <th>MktVal Co 2015</th>\n",
       "      <th>MktVal Co 2014</th>\n",
       "      <th>MktVal Co 2013</th>\n",
       "      <th>MktVal Co 2012</th>\n",
       "      <th>MktVal Co 2011</th>\n",
       "      <th>MktVal Co 2010</th>\n",
       "    </tr>\n",
       "  </thead>\n",
       "  <tbody>\n",
       "    <tr>\n",
       "      <th>25</th>\n",
       "      <td>FCCY</td>\n",
       "      <td>1st Constitution Bancorp</td>\n",
       "      <td>Regional Banks</td>\n",
       "      <td>522110</td>\n",
       "      <td>52</td>\n",
       "      <td>225.548960</td>\n",
       "      <td>171.517144</td>\n",
       "      <td>147.680988</td>\n",
       "      <td>149.282102</td>\n",
       "      <td>97.129895</td>\n",
       "      <td>77.700139</td>\n",
       "      <td>64.681199</td>\n",
       "      <td>50.080019</td>\n",
       "      <td>33.538902</td>\n",
       "      <td>39.144880</td>\n",
       "    </tr>\n",
       "    <tr>\n",
       "      <th>31</th>\n",
       "      <td>SRCE</td>\n",
       "      <td>1st Source Corporation</td>\n",
       "      <td>Regional Banks</td>\n",
       "      <td>522110</td>\n",
       "      <td>52</td>\n",
       "      <td>1323.394322</td>\n",
       "      <td>1047.468428</td>\n",
       "      <td>1282.535261</td>\n",
       "      <td>1155.220242</td>\n",
       "      <td>835.805296</td>\n",
       "      <td>818.705296</td>\n",
       "      <td>776.876685</td>\n",
       "      <td>536.323139</td>\n",
       "      <td>613.315307</td>\n",
       "      <td>489.868720</td>\n",
       "    </tr>\n",
       "    <tr>\n",
       "      <th>301</th>\n",
       "      <td>ACNB</td>\n",
       "      <td>ACNB Corporation</td>\n",
       "      <td>Regional Banks</td>\n",
       "      <td>522110</td>\n",
       "      <td>52</td>\n",
       "      <td>267.741357</td>\n",
       "      <td>276.398493</td>\n",
       "      <td>207.440994</td>\n",
       "      <td>189.406246</td>\n",
       "      <td>128.545492</td>\n",
       "      <td>130.739253</td>\n",
       "      <td>108.125217</td>\n",
       "      <td>96.448981</td>\n",
       "      <td>82.164029</td>\n",
       "      <td>93.010317</td>\n",
       "    </tr>\n",
       "    <tr>\n",
       "      <th>896</th>\n",
       "      <td>ABTX</td>\n",
       "      <td>Allegiance Bancshares, Inc.</td>\n",
       "      <td>Regional Banks</td>\n",
       "      <td>522110</td>\n",
       "      <td>52</td>\n",
       "      <td>782.478682</td>\n",
       "      <td>710.133028</td>\n",
       "      <td>496.302326</td>\n",
       "      <td>466.515760</td>\n",
       "      <td>303.027439</td>\n",
       "      <td>NaN</td>\n",
       "      <td>NaN</td>\n",
       "      <td>NaN</td>\n",
       "      <td>NaN</td>\n",
       "      <td>NaN</td>\n",
       "    </tr>\n",
       "    <tr>\n",
       "      <th>996</th>\n",
       "      <td>ALLY</td>\n",
       "      <td>Ally Financial Inc</td>\n",
       "      <td>Regional Banks</td>\n",
       "      <td>522220</td>\n",
       "      <td>52</td>\n",
       "      <td>11439.585742</td>\n",
       "      <td>9175.033800</td>\n",
       "      <td>12894.143828</td>\n",
       "      <td>8969.794023</td>\n",
       "      <td>8979.857250</td>\n",
       "      <td>11339.820545</td>\n",
       "      <td>NaN</td>\n",
       "      <td>NaN</td>\n",
       "      <td>NaN</td>\n",
       "      <td>NaN</td>\n",
       "    </tr>\n",
       "  </tbody>\n",
       "</table>\n",
       "</div>"
      ],
      "text/plain": [
       "    Symbol                         Name     FactSet Ind NAICS Code  \\\n",
       "25    FCCY     1st Constitution Bancorp  Regional Banks     522110   \n",
       "31    SRCE       1st Source Corporation  Regional Banks     522110   \n",
       "301   ACNB             ACNB Corporation  Regional Banks     522110   \n",
       "896   ABTX  Allegiance Bancshares, Inc.  Regional Banks     522110   \n",
       "996   ALLY           Ally Financial Inc  Regional Banks     522220   \n",
       "\n",
       "    Entity NAICS Sector Number  MktVal Co 2019  MktVal Co 2018  \\\n",
       "25                          52      225.548960      171.517144   \n",
       "31                          52     1323.394322     1047.468428   \n",
       "301                         52      267.741357      276.398493   \n",
       "896                         52      782.478682      710.133028   \n",
       "996                         52    11439.585742     9175.033800   \n",
       "\n",
       "     MktVal Co 2017  MktVal Co 2016  MktVal Co 2015  MktVal Co 2014  \\\n",
       "25       147.680988      149.282102       97.129895       77.700139   \n",
       "31      1282.535261     1155.220242      835.805296      818.705296   \n",
       "301      207.440994      189.406246      128.545492      130.739253   \n",
       "896      496.302326      466.515760      303.027439             NaN   \n",
       "996    12894.143828     8969.794023     8979.857250    11339.820545   \n",
       "\n",
       "     MktVal Co 2013  MktVal Co 2012  MktVal Co 2011  MktVal Co 2010  \n",
       "25        64.681199       50.080019       33.538902       39.144880  \n",
       "31       776.876685      536.323139      613.315307      489.868720  \n",
       "301      108.125217       96.448981       82.164029       93.010317  \n",
       "896             NaN             NaN             NaN             NaN  \n",
       "996             NaN             NaN             NaN             NaN  "
      ]
     },
     "execution_count": 369,
     "metadata": {},
     "output_type": "execute_result"
    }
   ],
   "source": [
    "comp_sub.head()\n"
   ]
  },
  {
   "cell_type": "code",
   "execution_count": 383,
   "metadata": {},
   "outputs": [],
   "source": [
    "\n",
    "#subset comp_sub by dropping company with too high market value\n",
    "comp_sub['In_sample'] = comp_sub[MrkVal_col].max(axis = 1)  < (5*cutoff_value)"
   ]
  },
  {
   "cell_type": "code",
   "execution_count": 384,
   "metadata": {},
   "outputs": [
    {
     "data": {
      "text/plain": [
       "118"
      ]
     },
     "execution_count": 384,
     "metadata": {},
     "output_type": "execute_result"
    }
   ],
   "source": [
    "sum(comp_sub.In_sample)"
   ]
  },
  {
   "cell_type": "code",
   "execution_count": 385,
   "metadata": {},
   "outputs": [],
   "source": [
    "comp_sub = comp_sub[comp_sub.In_sample]"
   ]
  },
  {
   "cell_type": "code",
   "execution_count": 386,
   "metadata": {},
   "outputs": [
    {
     "name": "stdout",
     "output_type": "stream",
     "text": [
      "(118, 16)\n"
     ]
    },
    {
     "data": {
      "text/html": [
       "<div>\n",
       "<style scoped>\n",
       "    .dataframe tbody tr th:only-of-type {\n",
       "        vertical-align: middle;\n",
       "    }\n",
       "\n",
       "    .dataframe tbody tr th {\n",
       "        vertical-align: top;\n",
       "    }\n",
       "\n",
       "    .dataframe thead th {\n",
       "        text-align: right;\n",
       "    }\n",
       "</style>\n",
       "<table border=\"1\" class=\"dataframe\">\n",
       "  <thead>\n",
       "    <tr style=\"text-align: right;\">\n",
       "      <th></th>\n",
       "      <th>Symbol</th>\n",
       "      <th>Name</th>\n",
       "      <th>FactSet Ind</th>\n",
       "      <th>NAICS Code</th>\n",
       "      <th>Entity NAICS Sector Number</th>\n",
       "      <th>MktVal Co 2019</th>\n",
       "      <th>MktVal Co 2018</th>\n",
       "      <th>MktVal Co 2017</th>\n",
       "      <th>MktVal Co 2016</th>\n",
       "      <th>MktVal Co 2015</th>\n",
       "      <th>MktVal Co 2014</th>\n",
       "      <th>MktVal Co 2013</th>\n",
       "      <th>MktVal Co 2012</th>\n",
       "      <th>MktVal Co 2011</th>\n",
       "      <th>MktVal Co 2010</th>\n",
       "      <th>In_sample</th>\n",
       "    </tr>\n",
       "  </thead>\n",
       "  <tbody>\n",
       "    <tr>\n",
       "      <th>25</th>\n",
       "      <td>FCCY</td>\n",
       "      <td>1st Constitution Bancorp</td>\n",
       "      <td>Regional Banks</td>\n",
       "      <td>522110</td>\n",
       "      <td>52</td>\n",
       "      <td>225.548960</td>\n",
       "      <td>171.517144</td>\n",
       "      <td>147.680988</td>\n",
       "      <td>149.282102</td>\n",
       "      <td>97.129895</td>\n",
       "      <td>77.700139</td>\n",
       "      <td>64.681199</td>\n",
       "      <td>50.080019</td>\n",
       "      <td>33.538902</td>\n",
       "      <td>39.144880</td>\n",
       "      <td>True</td>\n",
       "    </tr>\n",
       "    <tr>\n",
       "      <th>301</th>\n",
       "      <td>ACNB</td>\n",
       "      <td>ACNB Corporation</td>\n",
       "      <td>Regional Banks</td>\n",
       "      <td>522110</td>\n",
       "      <td>52</td>\n",
       "      <td>267.741357</td>\n",
       "      <td>276.398493</td>\n",
       "      <td>207.440994</td>\n",
       "      <td>189.406246</td>\n",
       "      <td>128.545492</td>\n",
       "      <td>130.739253</td>\n",
       "      <td>108.125217</td>\n",
       "      <td>96.448981</td>\n",
       "      <td>82.164029</td>\n",
       "      <td>93.010317</td>\n",
       "      <td>True</td>\n",
       "    </tr>\n",
       "    <tr>\n",
       "      <th>1475</th>\n",
       "      <td>AMRB</td>\n",
       "      <td>American River Bankshares</td>\n",
       "      <td>Regional Banks</td>\n",
       "      <td>522110</td>\n",
       "      <td>55</td>\n",
       "      <td>87.733001</td>\n",
       "      <td>81.872548</td>\n",
       "      <td>97.185476</td>\n",
       "      <td>100.587269</td>\n",
       "      <td>77.699518</td>\n",
       "      <td>76.207802</td>\n",
       "      <td>82.734749</td>\n",
       "      <td>64.456479</td>\n",
       "      <td>45.004051</td>\n",
       "      <td>59.250000</td>\n",
       "      <td>True</td>\n",
       "    </tr>\n",
       "    <tr>\n",
       "      <th>1580</th>\n",
       "      <td>ASRV</td>\n",
       "      <td>AmeriServ Financial, Inc.</td>\n",
       "      <td>Regional Banks</td>\n",
       "      <td>522110</td>\n",
       "      <td>55</td>\n",
       "      <td>71.983796</td>\n",
       "      <td>71.520413</td>\n",
       "      <td>75.837102</td>\n",
       "      <td>69.941100</td>\n",
       "      <td>60.387202</td>\n",
       "      <td>58.826470</td>\n",
       "      <td>56.915521</td>\n",
       "      <td>57.957547</td>\n",
       "      <td>41.355601</td>\n",
       "      <td>33.533922</td>\n",
       "      <td>True</td>\n",
       "    </tr>\n",
       "    <tr>\n",
       "      <th>1597</th>\n",
       "      <td>ATLO</td>\n",
       "      <td>Ames National Corporation</td>\n",
       "      <td>Regional Banks</td>\n",
       "      <td>551111</td>\n",
       "      <td>55</td>\n",
       "      <td>258.797363</td>\n",
       "      <td>236.685617</td>\n",
       "      <td>259.311350</td>\n",
       "      <td>307.262996</td>\n",
       "      <td>226.164195</td>\n",
       "      <td>241.527342</td>\n",
       "      <td>208.473281</td>\n",
       "      <td>203.910894</td>\n",
       "      <td>182.422491</td>\n",
       "      <td>204.413102</td>\n",
       "      <td>True</td>\n",
       "    </tr>\n",
       "  </tbody>\n",
       "</table>\n",
       "</div>"
      ],
      "text/plain": [
       "     Symbol                       Name     FactSet Ind NAICS Code  \\\n",
       "25     FCCY   1st Constitution Bancorp  Regional Banks     522110   \n",
       "301    ACNB           ACNB Corporation  Regional Banks     522110   \n",
       "1475   AMRB  American River Bankshares  Regional Banks     522110   \n",
       "1580   ASRV  AmeriServ Financial, Inc.  Regional Banks     522110   \n",
       "1597   ATLO  Ames National Corporation  Regional Banks     551111   \n",
       "\n",
       "     Entity NAICS Sector Number  MktVal Co 2019  MktVal Co 2018  \\\n",
       "25                           52      225.548960      171.517144   \n",
       "301                          52      267.741357      276.398493   \n",
       "1475                         55       87.733001       81.872548   \n",
       "1580                         55       71.983796       71.520413   \n",
       "1597                         55      258.797363      236.685617   \n",
       "\n",
       "      MktVal Co 2017  MktVal Co 2016  MktVal Co 2015  MktVal Co 2014  \\\n",
       "25        147.680988      149.282102       97.129895       77.700139   \n",
       "301       207.440994      189.406246      128.545492      130.739253   \n",
       "1475       97.185476      100.587269       77.699518       76.207802   \n",
       "1580       75.837102       69.941100       60.387202       58.826470   \n",
       "1597      259.311350      307.262996      226.164195      241.527342   \n",
       "\n",
       "      MktVal Co 2013  MktVal Co 2012  MktVal Co 2011  MktVal Co 2010  \\\n",
       "25         64.681199       50.080019       33.538902       39.144880   \n",
       "301       108.125217       96.448981       82.164029       93.010317   \n",
       "1475       82.734749       64.456479       45.004051       59.250000   \n",
       "1580       56.915521       57.957547       41.355601       33.533922   \n",
       "1597      208.473281      203.910894      182.422491      204.413102   \n",
       "\n",
       "      In_sample  \n",
       "25         True  \n",
       "301        True  \n",
       "1475       True  \n",
       "1580       True  \n",
       "1597       True  "
      ]
     },
     "execution_count": 386,
     "metadata": {},
     "output_type": "execute_result"
    }
   ],
   "source": [
    "print(comp_sub.shape)\n",
    "comp_sub.head()"
   ]
  },
  {
   "cell_type": "code",
   "execution_count": 126,
   "metadata": {},
   "outputs": [],
   "source": [
    "comp_sub.index = range(len(comp_sub))"
   ]
  },
  {
   "cell_type": "code",
   "execution_count": 4,
   "metadata": {},
   "outputs": [],
   "source": [
    "#pickle.dump((comp_sub, ma_1_sub), open('comp_ma.pkl', 'wb'))\n",
    "(comp_sub, ma_1_sub) = pickle.load(open('comp_ma.pkl', 'rb'))"
   ]
  },
  {
   "cell_type": "code",
   "execution_count": 5,
   "metadata": {},
   "outputs": [
    {
     "data": {
      "text/plain": [
       "(118, 16)"
      ]
     },
     "execution_count": 5,
     "metadata": {},
     "output_type": "execute_result"
    }
   ],
   "source": [
    "comp_sub.shape"
   ]
  },
  {
   "cell_type": "code",
   "execution_count": 6,
   "metadata": {},
   "outputs": [
    {
     "data": {
      "text/plain": [
       "(112, 6)"
      ]
     },
     "execution_count": 6,
     "metadata": {},
     "output_type": "execute_result"
    }
   ],
   "source": [
    "ma_1_sub.index = range(len(ma_1_sub))\n",
    "ma_1_sub.shape"
   ]
  },
  {
   "cell_type": "code",
   "execution_count": 206,
   "metadata": {},
   "outputs": [
    {
     "data": {
      "text/html": [
       "<div>\n",
       "<style scoped>\n",
       "    .dataframe tbody tr th:only-of-type {\n",
       "        vertical-align: middle;\n",
       "    }\n",
       "\n",
       "    .dataframe tbody tr th {\n",
       "        vertical-align: top;\n",
       "    }\n",
       "\n",
       "    .dataframe thead th {\n",
       "        text-align: right;\n",
       "    }\n",
       "</style>\n",
       "<table border=\"1\" class=\"dataframe\">\n",
       "  <thead>\n",
       "    <tr style=\"text-align: right;\">\n",
       "      <th></th>\n",
       "      <th>Target_Ticker</th>\n",
       "      <th>Target</th>\n",
       "      <th>Year</th>\n",
       "      <th>A_Date</th>\n",
       "      <th>Enterprise_Value</th>\n",
       "      <th>Target_FactSet_Industry</th>\n",
       "      <th>CIK</th>\n",
       "    </tr>\n",
       "  </thead>\n",
       "  <tbody>\n",
       "    <tr>\n",
       "      <th>0</th>\n",
       "      <td>ALNC</td>\n",
       "      <td>ALLIANCE FINANCIAL CORP.</td>\n",
       "      <td>2012</td>\n",
       "      <td>2012-10-08</td>\n",
       "      <td>294.9</td>\n",
       "      <td>Regional Banks</td>\n",
       "      <td>796317</td>\n",
       "    </tr>\n",
       "    <tr>\n",
       "      <th>1</th>\n",
       "      <td>ANCB</td>\n",
       "      <td>Anchor Bancorp (Washington)</td>\n",
       "      <td>2018</td>\n",
       "      <td>2018-07-17</td>\n",
       "      <td>96.04</td>\n",
       "      <td>Regional Banks</td>\n",
       "      <td>1448301</td>\n",
       "    </tr>\n",
       "    <tr>\n",
       "      <th>2</th>\n",
       "      <td>BKYF</td>\n",
       "      <td>Bank of Kentucky Financial Corp.</td>\n",
       "      <td>2014</td>\n",
       "      <td>2014-09-08</td>\n",
       "      <td>366.32</td>\n",
       "      <td>Regional Banks</td>\n",
       "      <td>934547</td>\n",
       "    </tr>\n",
       "    <tr>\n",
       "      <th>3</th>\n",
       "      <td>CARO</td>\n",
       "      <td>Carolina Financial Corp.</td>\n",
       "      <td>2019</td>\n",
       "      <td>2019-11-18</td>\n",
       "      <td>1,567.84</td>\n",
       "      <td>Regional Banks</td>\n",
       "      <td>870385</td>\n",
       "    </tr>\n",
       "    <tr>\n",
       "      <th>4</th>\n",
       "      <td>CFCB</td>\n",
       "      <td>Centrue Financial Corp.</td>\n",
       "      <td>2017</td>\n",
       "      <td>2017-01-26</td>\n",
       "      <td>259.77</td>\n",
       "      <td>Regional Banks</td>\n",
       "      <td>891523</td>\n",
       "    </tr>\n",
       "  </tbody>\n",
       "</table>\n",
       "</div>"
      ],
      "text/plain": [
       "  Target_Ticker                             Target  Year      A_Date  \\\n",
       "0          ALNC           ALLIANCE FINANCIAL CORP.  2012  2012-10-08   \n",
       "1          ANCB        Anchor Bancorp (Washington)  2018  2018-07-17   \n",
       "2          BKYF  Bank of Kentucky Financial Corp.   2014  2014-09-08   \n",
       "3          CARO           Carolina Financial Corp.  2019  2019-11-18   \n",
       "4          CFCB            Centrue Financial Corp.  2017  2017-01-26   \n",
       "\n",
       "  Enterprise_Value Target_FactSet_Industry      CIK  \n",
       "0            294.9          Regional Banks   796317  \n",
       "1            96.04          Regional Banks  1448301  \n",
       "2           366.32          Regional Banks   934547  \n",
       "3         1,567.84          Regional Banks   870385  \n",
       "4           259.77          Regional Banks   891523  "
      ]
     },
     "execution_count": 206,
     "metadata": {},
     "output_type": "execute_result"
    }
   ],
   "source": [
    "ma_missing = pd.read_csv(\"ma_missing.csv\")\n",
    "ma_missing.head()"
   ]
  },
  {
   "cell_type": "code",
   "execution_count": 116,
   "metadata": {},
   "outputs": [],
   "source": [
    "ma_missing['CIK'] = [str(i).zfill(10) for i in ma_missing.CIK]"
   ]
  },
  {
   "cell_type": "code",
   "execution_count": 117,
   "metadata": {},
   "outputs": [
    {
     "name": "stdout",
     "output_type": "stream",
     "text": [
      "(32, 7)\n"
     ]
    },
    {
     "data": {
      "text/html": [
       "<div>\n",
       "<style scoped>\n",
       "    .dataframe tbody tr th:only-of-type {\n",
       "        vertical-align: middle;\n",
       "    }\n",
       "\n",
       "    .dataframe tbody tr th {\n",
       "        vertical-align: top;\n",
       "    }\n",
       "\n",
       "    .dataframe thead th {\n",
       "        text-align: right;\n",
       "    }\n",
       "</style>\n",
       "<table border=\"1\" class=\"dataframe\">\n",
       "  <thead>\n",
       "    <tr style=\"text-align: right;\">\n",
       "      <th></th>\n",
       "      <th>Target_Ticker</th>\n",
       "      <th>Target</th>\n",
       "      <th>Year</th>\n",
       "      <th>A_Date</th>\n",
       "      <th>Enterprise_Value</th>\n",
       "      <th>Target_FactSet_Industry</th>\n",
       "      <th>CIK</th>\n",
       "    </tr>\n",
       "  </thead>\n",
       "  <tbody>\n",
       "    <tr>\n",
       "      <th>0</th>\n",
       "      <td>ALNC</td>\n",
       "      <td>ALLIANCE FINANCIAL CORP.</td>\n",
       "      <td>2012</td>\n",
       "      <td>2012-10-08</td>\n",
       "      <td>294.9</td>\n",
       "      <td>Regional Banks</td>\n",
       "      <td>0000796317</td>\n",
       "    </tr>\n",
       "    <tr>\n",
       "      <th>1</th>\n",
       "      <td>ANCB</td>\n",
       "      <td>Anchor Bancorp (Washington)</td>\n",
       "      <td>2018</td>\n",
       "      <td>2018-07-17</td>\n",
       "      <td>96.04</td>\n",
       "      <td>Regional Banks</td>\n",
       "      <td>0001448301</td>\n",
       "    </tr>\n",
       "    <tr>\n",
       "      <th>2</th>\n",
       "      <td>BKYF</td>\n",
       "      <td>Bank of Kentucky Financial Corp.</td>\n",
       "      <td>2014</td>\n",
       "      <td>2014-09-08</td>\n",
       "      <td>366.32</td>\n",
       "      <td>Regional Banks</td>\n",
       "      <td>0000934547</td>\n",
       "    </tr>\n",
       "    <tr>\n",
       "      <th>3</th>\n",
       "      <td>CARO</td>\n",
       "      <td>Carolina Financial Corp.</td>\n",
       "      <td>2019</td>\n",
       "      <td>2019-11-18</td>\n",
       "      <td>1,567.84</td>\n",
       "      <td>Regional Banks</td>\n",
       "      <td>0000870385</td>\n",
       "    </tr>\n",
       "    <tr>\n",
       "      <th>4</th>\n",
       "      <td>CFCB</td>\n",
       "      <td>Centrue Financial Corp.</td>\n",
       "      <td>2017</td>\n",
       "      <td>2017-01-26</td>\n",
       "      <td>259.77</td>\n",
       "      <td>Regional Banks</td>\n",
       "      <td>0000891523</td>\n",
       "    </tr>\n",
       "  </tbody>\n",
       "</table>\n",
       "</div>"
      ],
      "text/plain": [
       "  Target_Ticker                             Target  Year      A_Date  \\\n",
       "0          ALNC           ALLIANCE FINANCIAL CORP.  2012  2012-10-08   \n",
       "1          ANCB        Anchor Bancorp (Washington)  2018  2018-07-17   \n",
       "2          BKYF  Bank of Kentucky Financial Corp.   2014  2014-09-08   \n",
       "3          CARO           Carolina Financial Corp.  2019  2019-11-18   \n",
       "4          CFCB            Centrue Financial Corp.  2017  2017-01-26   \n",
       "\n",
       "  Enterprise_Value Target_FactSet_Industry         CIK  \n",
       "0            294.9          Regional Banks  0000796317  \n",
       "1            96.04          Regional Banks  0001448301  \n",
       "2           366.32          Regional Banks  0000934547  \n",
       "3         1,567.84          Regional Banks  0000870385  \n",
       "4           259.77          Regional Banks  0000891523  "
      ]
     },
     "execution_count": 117,
     "metadata": {},
     "output_type": "execute_result"
    }
   ],
   "source": [
    "print(ma_missing.shape)\n",
    "ma_missing.head()"
   ]
  },
  {
   "cell_type": "markdown",
   "metadata": {},
   "source": [
    "# Webscaping 10-K SEC filing"
   ]
  },
  {
   "cell_type": "code",
   "execution_count": null,
   "metadata": {},
   "outputs": [],
   "source": [
    "#for MA company, pull previous 9 years of 10-K if any\n",
    "#for COMP company, pull 10-K between 2011 and 2019"
   ]
  },
  {
   "cell_type": "code",
   "execution_count": 556,
   "metadata": {},
   "outputs": [],
   "source": [
    "######################################################\n",
    "#################  Unit Test #########################\n",
    "######################################################"
   ]
  },
  {
   "cell_type": "code",
   "execution_count": 405,
   "metadata": {},
   "outputs": [],
   "source": [
    "driver.quit()"
   ]
  },
  {
   "cell_type": "code",
   "execution_count": 79,
   "metadata": {},
   "outputs": [],
   "source": [
    "def name_input(comp_name):\n",
    "    \n",
    "    comp_name = comp_name.replace('Corporation', 'Corp')\n",
    "    \n",
    "    if \".\" in comp_name:\n",
    "        comp_name = comp_name.split('.')[0]\n",
    "#     if \",\" in comp_name:\n",
    "#         comp_name = comp_name.replace(',', '')        \n",
    "    if \"(\" in comp_name:\n",
    "        comp_name = comp_name.split(' (')[0]\n",
    "    return comp_name    "
   ]
  },
  {
   "cell_type": "code",
   "execution_count": 207,
   "metadata": {},
   "outputs": [
    {
     "data": {
      "text/html": [
       "<div>\n",
       "<style scoped>\n",
       "    .dataframe tbody tr th:only-of-type {\n",
       "        vertical-align: middle;\n",
       "    }\n",
       "\n",
       "    .dataframe tbody tr th {\n",
       "        vertical-align: top;\n",
       "    }\n",
       "\n",
       "    .dataframe thead th {\n",
       "        text-align: right;\n",
       "    }\n",
       "</style>\n",
       "<table border=\"1\" class=\"dataframe\">\n",
       "  <thead>\n",
       "    <tr style=\"text-align: right;\">\n",
       "      <th></th>\n",
       "      <th>Target_Ticker</th>\n",
       "      <th>Target</th>\n",
       "      <th>Year</th>\n",
       "      <th>A_Date</th>\n",
       "      <th>Enterprise_Value</th>\n",
       "      <th>Target_FactSet_Industry</th>\n",
       "      <th>CIK</th>\n",
       "    </tr>\n",
       "  </thead>\n",
       "  <tbody>\n",
       "    <tr>\n",
       "      <th>0</th>\n",
       "      <td>ALNC</td>\n",
       "      <td>ALLIANCE FINANCIAL CORP.</td>\n",
       "      <td>2012</td>\n",
       "      <td>2012-10-08</td>\n",
       "      <td>294.9</td>\n",
       "      <td>Regional Banks</td>\n",
       "      <td>796317</td>\n",
       "    </tr>\n",
       "    <tr>\n",
       "      <th>1</th>\n",
       "      <td>ANCB</td>\n",
       "      <td>Anchor Bancorp (Washington)</td>\n",
       "      <td>2018</td>\n",
       "      <td>2018-07-17</td>\n",
       "      <td>96.04</td>\n",
       "      <td>Regional Banks</td>\n",
       "      <td>1448301</td>\n",
       "    </tr>\n",
       "    <tr>\n",
       "      <th>2</th>\n",
       "      <td>BKYF</td>\n",
       "      <td>Bank of Kentucky Financial Corp.</td>\n",
       "      <td>2014</td>\n",
       "      <td>2014-09-08</td>\n",
       "      <td>366.32</td>\n",
       "      <td>Regional Banks</td>\n",
       "      <td>934547</td>\n",
       "    </tr>\n",
       "    <tr>\n",
       "      <th>3</th>\n",
       "      <td>CARO</td>\n",
       "      <td>Carolina Financial Corp.</td>\n",
       "      <td>2019</td>\n",
       "      <td>2019-11-18</td>\n",
       "      <td>1,567.84</td>\n",
       "      <td>Regional Banks</td>\n",
       "      <td>870385</td>\n",
       "    </tr>\n",
       "    <tr>\n",
       "      <th>4</th>\n",
       "      <td>CFCB</td>\n",
       "      <td>Centrue Financial Corp.</td>\n",
       "      <td>2017</td>\n",
       "      <td>2017-01-26</td>\n",
       "      <td>259.77</td>\n",
       "      <td>Regional Banks</td>\n",
       "      <td>891523</td>\n",
       "    </tr>\n",
       "  </tbody>\n",
       "</table>\n",
       "</div>"
      ],
      "text/plain": [
       "  Target_Ticker                             Target  Year      A_Date  \\\n",
       "0          ALNC           ALLIANCE FINANCIAL CORP.  2012  2012-10-08   \n",
       "1          ANCB        Anchor Bancorp (Washington)  2018  2018-07-17   \n",
       "2          BKYF  Bank of Kentucky Financial Corp.   2014  2014-09-08   \n",
       "3          CARO           Carolina Financial Corp.  2019  2019-11-18   \n",
       "4          CFCB            Centrue Financial Corp.  2017  2017-01-26   \n",
       "\n",
       "  Enterprise_Value Target_FactSet_Industry      CIK  \n",
       "0            294.9          Regional Banks   796317  \n",
       "1            96.04          Regional Banks  1448301  \n",
       "2           366.32          Regional Banks   934547  \n",
       "3         1,567.84          Regional Banks   870385  \n",
       "4           259.77          Regional Banks   891523  "
      ]
     },
     "execution_count": 207,
     "metadata": {},
     "output_type": "execute_result"
    }
   ],
   "source": [
    "ma_missing = pd.read_csv(\"ma_missing.csv\")\n",
    "ma_missing.head()"
   ]
  },
  {
   "cell_type": "code",
   "execution_count": 209,
   "metadata": {},
   "outputs": [],
   "source": [
    "ma_missing = ma_missing.copy()\n",
    "ma_missing['CIK'] = [str(i).zfill(10) for i in ma_missing.CIK]"
   ]
  },
  {
   "cell_type": "markdown",
   "metadata": {},
   "source": [
    "# MA free companies"
   ]
  },
  {
   "cell_type": "code",
   "execution_count": 100,
   "metadata": {},
   "outputs": [],
   "source": [
    "K = os.listdir(\"/home/dada/MA_Minus/10-K/\")"
   ]
  },
  {
   "cell_type": "code",
   "execution_count": 101,
   "metadata": {},
   "outputs": [],
   "source": [
    "Q = os.listdir(\"/home/dada/MA_Minus/10-Q/\")"
   ]
  },
  {
   "cell_type": "code",
   "execution_count": 102,
   "metadata": {},
   "outputs": [
    {
     "data": {
      "text/plain": [
       "array(['MCBS', 'MNSB', 'PTRS', 'RRBI', 'SI', 'SPFI'], dtype='<U5')"
      ]
     },
     "execution_count": 102,
     "metadata": {},
     "output_type": "execute_result"
    }
   ],
   "source": [
    "comp_diff = np.setdiff1d(Q, K) \n",
    "comp_diff"
   ]
  },
  {
   "cell_type": "code",
   "execution_count": 103,
   "metadata": {},
   "outputs": [],
   "source": [
    "comp_mis = comp_sub.loc[comp_sub.Symbol.isin(comp_diff), ['Symbol','Name']]"
   ]
  },
  {
   "cell_type": "code",
   "execution_count": 104,
   "metadata": {},
   "outputs": [
    {
     "data": {
      "text/html": [
       "<div>\n",
       "<style scoped>\n",
       "    .dataframe tbody tr th:only-of-type {\n",
       "        vertical-align: middle;\n",
       "    }\n",
       "\n",
       "    .dataframe tbody tr th {\n",
       "        vertical-align: top;\n",
       "    }\n",
       "\n",
       "    .dataframe thead th {\n",
       "        text-align: right;\n",
       "    }\n",
       "</style>\n",
       "<table border=\"1\" class=\"dataframe\">\n",
       "  <thead>\n",
       "    <tr style=\"text-align: right;\">\n",
       "      <th></th>\n",
       "      <th>Symbol</th>\n",
       "      <th>Name</th>\n",
       "    </tr>\n",
       "  </thead>\n",
       "  <tbody>\n",
       "    <tr>\n",
       "      <th>15644</th>\n",
       "      <td>MNSB</td>\n",
       "      <td>MainStreet Bancshares, Inc.</td>\n",
       "    </tr>\n",
       "    <tr>\n",
       "      <th>16440</th>\n",
       "      <td>MCBS</td>\n",
       "      <td>MetroCity Bankshares, Inc.</td>\n",
       "    </tr>\n",
       "    <tr>\n",
       "      <th>19253</th>\n",
       "      <td>PTRS</td>\n",
       "      <td>Partners Bancorp</td>\n",
       "    </tr>\n",
       "    <tr>\n",
       "      <th>21136</th>\n",
       "      <td>RRBI</td>\n",
       "      <td>Red River Bancshares, Inc.</td>\n",
       "    </tr>\n",
       "    <tr>\n",
       "      <th>22713</th>\n",
       "      <td>SI</td>\n",
       "      <td>Silvergate Capital Corp. Class A</td>\n",
       "    </tr>\n",
       "    <tr>\n",
       "      <th>23160</th>\n",
       "      <td>SPFI</td>\n",
       "      <td>South Plains Financial Inc</td>\n",
       "    </tr>\n",
       "  </tbody>\n",
       "</table>\n",
       "</div>"
      ],
      "text/plain": [
       "      Symbol                              Name\n",
       "15644   MNSB       MainStreet Bancshares, Inc.\n",
       "16440   MCBS        MetroCity Bankshares, Inc.\n",
       "19253   PTRS                  Partners Bancorp\n",
       "21136   RRBI        Red River Bancshares, Inc.\n",
       "22713     SI  Silvergate Capital Corp. Class A\n",
       "23160   SPFI        South Plains Financial Inc"
      ]
     },
     "execution_count": 104,
     "metadata": {},
     "output_type": "execute_result"
    }
   ],
   "source": [
    "comp_mis"
   ]
  },
  {
   "cell_type": "code",
   "execution_count": 91,
   "metadata": {},
   "outputs": [],
   "source": [
    "comp_mis.to_csv(\"comp_missing___.csv\", index = False)"
   ]
  },
  {
   "cell_type": "code",
   "execution_count": 95,
   "metadata": {},
   "outputs": [],
   "source": [
    "comp_missing = pd.read_csv(\"comp_missing___.csv\")"
   ]
  },
  {
   "cell_type": "code",
   "execution_count": 96,
   "metadata": {},
   "outputs": [],
   "source": [
    "comp_missing.index = range(len(comp_missing))"
   ]
  },
  {
   "cell_type": "code",
   "execution_count": 213,
   "metadata": {},
   "outputs": [],
   "source": [
    "# comp_missing = comp_missing.copy()\n",
    "# comp_missing['CIK'] = [str(i).zfill(10) for i in comp_missing.CIK]"
   ]
  },
  {
   "cell_type": "code",
   "execution_count": 97,
   "metadata": {},
   "outputs": [
    {
     "data": {
      "text/html": [
       "<div>\n",
       "<style scoped>\n",
       "    .dataframe tbody tr th:only-of-type {\n",
       "        vertical-align: middle;\n",
       "    }\n",
       "\n",
       "    .dataframe tbody tr th {\n",
       "        vertical-align: top;\n",
       "    }\n",
       "\n",
       "    .dataframe thead th {\n",
       "        text-align: right;\n",
       "    }\n",
       "</style>\n",
       "<table border=\"1\" class=\"dataframe\">\n",
       "  <thead>\n",
       "    <tr style=\"text-align: right;\">\n",
       "      <th></th>\n",
       "      <th>Symbol</th>\n",
       "      <th>Name</th>\n",
       "    </tr>\n",
       "  </thead>\n",
       "  <tbody>\n",
       "    <tr>\n",
       "      <th>0</th>\n",
       "      <td>MNSB</td>\n",
       "      <td>MainStreet Bancshares, Inc.</td>\n",
       "    </tr>\n",
       "    <tr>\n",
       "      <th>1</th>\n",
       "      <td>MCBS</td>\n",
       "      <td>MetroCity Bankshares, Inc.</td>\n",
       "    </tr>\n",
       "    <tr>\n",
       "      <th>2</th>\n",
       "      <td>PTRS</td>\n",
       "      <td>Partners Bancorp</td>\n",
       "    </tr>\n",
       "    <tr>\n",
       "      <th>3</th>\n",
       "      <td>RRBI</td>\n",
       "      <td>Red River Bancshares Inc</td>\n",
       "    </tr>\n",
       "    <tr>\n",
       "      <th>4</th>\n",
       "      <td>SI</td>\n",
       "      <td>Silvergate Capital Corp</td>\n",
       "    </tr>\n",
       "    <tr>\n",
       "      <th>5</th>\n",
       "      <td>SPFI</td>\n",
       "      <td>South Plains Financial Inc</td>\n",
       "    </tr>\n",
       "  </tbody>\n",
       "</table>\n",
       "</div>"
      ],
      "text/plain": [
       "  Symbol                         Name\n",
       "0   MNSB  MainStreet Bancshares, Inc.\n",
       "1   MCBS   MetroCity Bankshares, Inc.\n",
       "2   PTRS             Partners Bancorp\n",
       "3   RRBI     Red River Bancshares Inc\n",
       "4     SI      Silvergate Capital Corp\n",
       "5   SPFI   South Plains Financial Inc"
      ]
     },
     "execution_count": 97,
     "metadata": {},
     "output_type": "execute_result"
    }
   ],
   "source": [
    "comp_missing"
   ]
  },
  {
   "cell_type": "code",
   "execution_count": 98,
   "metadata": {},
   "outputs": [
    {
     "ename": "AttributeError",
     "evalue": "'DataFrame' object has no attribute 'CIK'",
     "output_type": "error",
     "traceback": [
      "\u001b[0;31m---------------------------------------------------------------------------\u001b[0m",
      "\u001b[0;31mAttributeError\u001b[0m                            Traceback (most recent call last)",
      "\u001b[0;32m<ipython-input-98-f9b1945518a0>\u001b[0m in \u001b[0;36m<module>\u001b[0;34m\u001b[0m\n\u001b[1;32m     16\u001b[0m \u001b[0;34m\u001b[0m\u001b[0m\n\u001b[1;32m     17\u001b[0m     \u001b[0;32mtry\u001b[0m\u001b[0;34m:\u001b[0m\u001b[0;34m\u001b[0m\u001b[0;34m\u001b[0m\u001b[0m\n\u001b[0;32m---> 18\u001b[0;31m         \u001b[0mdriver\u001b[0m\u001b[0;34m.\u001b[0m\u001b[0mfind_element_by_xpath\u001b[0m\u001b[0;34m(\u001b[0m\u001b[0;34m\"//a[text()='{0}']\"\u001b[0m\u001b[0;34m.\u001b[0m\u001b[0mformat\u001b[0m\u001b[0;34m(\u001b[0m\u001b[0mcomp_missing\u001b[0m\u001b[0;34m.\u001b[0m\u001b[0mCIK\u001b[0m\u001b[0;34m[\u001b[0m\u001b[0mi\u001b[0m\u001b[0;34m]\u001b[0m\u001b[0;34m)\u001b[0m\u001b[0;34m)\u001b[0m\u001b[0;34m.\u001b[0m\u001b[0mclick\u001b[0m\u001b[0;34m(\u001b[0m\u001b[0;34m)\u001b[0m\u001b[0;34m\u001b[0m\u001b[0;34m\u001b[0m\u001b[0m\n\u001b[0m\u001b[1;32m     19\u001b[0m \u001b[0;34m\u001b[0m\u001b[0m\n\u001b[1;32m     20\u001b[0m         \u001b[0mtime\u001b[0m\u001b[0;34m.\u001b[0m\u001b[0msleep\u001b[0m\u001b[0;34m(\u001b[0m\u001b[0;36m1\u001b[0m\u001b[0;34m)\u001b[0m\u001b[0;34m\u001b[0m\u001b[0;34m\u001b[0m\u001b[0m\n",
      "\u001b[0;32m~/anaconda3/lib/python3.8/site-packages/pandas/core/generic.py\u001b[0m in \u001b[0;36m__getattr__\u001b[0;34m(self, name)\u001b[0m\n\u001b[1;32m   5463\u001b[0m             \u001b[0;32mif\u001b[0m \u001b[0mself\u001b[0m\u001b[0;34m.\u001b[0m\u001b[0m_info_axis\u001b[0m\u001b[0;34m.\u001b[0m\u001b[0m_can_hold_identifiers_and_holds_name\u001b[0m\u001b[0;34m(\u001b[0m\u001b[0mname\u001b[0m\u001b[0;34m)\u001b[0m\u001b[0;34m:\u001b[0m\u001b[0;34m\u001b[0m\u001b[0;34m\u001b[0m\u001b[0m\n\u001b[1;32m   5464\u001b[0m                 \u001b[0;32mreturn\u001b[0m \u001b[0mself\u001b[0m\u001b[0;34m[\u001b[0m\u001b[0mname\u001b[0m\u001b[0;34m]\u001b[0m\u001b[0;34m\u001b[0m\u001b[0;34m\u001b[0m\u001b[0m\n\u001b[0;32m-> 5465\u001b[0;31m             \u001b[0;32mreturn\u001b[0m \u001b[0mobject\u001b[0m\u001b[0;34m.\u001b[0m\u001b[0m__getattribute__\u001b[0m\u001b[0;34m(\u001b[0m\u001b[0mself\u001b[0m\u001b[0;34m,\u001b[0m \u001b[0mname\u001b[0m\u001b[0;34m)\u001b[0m\u001b[0;34m\u001b[0m\u001b[0;34m\u001b[0m\u001b[0m\n\u001b[0m\u001b[1;32m   5466\u001b[0m \u001b[0;34m\u001b[0m\u001b[0m\n\u001b[1;32m   5467\u001b[0m     \u001b[0;32mdef\u001b[0m \u001b[0m__setattr__\u001b[0m\u001b[0;34m(\u001b[0m\u001b[0mself\u001b[0m\u001b[0;34m,\u001b[0m \u001b[0mname\u001b[0m\u001b[0;34m:\u001b[0m \u001b[0mstr\u001b[0m\u001b[0;34m,\u001b[0m \u001b[0mvalue\u001b[0m\u001b[0;34m)\u001b[0m \u001b[0;34m->\u001b[0m \u001b[0;32mNone\u001b[0m\u001b[0;34m:\u001b[0m\u001b[0;34m\u001b[0m\u001b[0;34m\u001b[0m\u001b[0m\n",
      "\u001b[0;31mAttributeError\u001b[0m: 'DataFrame' object has no attribute 'CIK'"
     ]
    }
   ],
   "source": [
    "################### CIK ########################\n",
    "\n",
    "for i in range(len(comp_missing)):\n",
    "#for i in [24]:\n",
    "    name_i = comp_missing.Name[i]\n",
    "    \n",
    "    driver = webdriver.Chrome(executable_path='chromedriver')\n",
    "    driver.get('https://www.sec.gov/edgar/searchedgar/companysearch.html') \n",
    "    user_input = driver.find_element_by_id(\"company\")\n",
    "    \n",
    "    #user_input.send_keys(name_input(name_i))\n",
    "    user_input.send_keys(name_i)\n",
    "    \n",
    "    login_button = driver.find_element_by_name(\"Find\").click()\n",
    "    time.sleep(2)\n",
    "\n",
    "    try:\n",
    "        driver.find_element_by_xpath(\"//a[text()='{0}']\".format(comp_missing.CIK[i])).click()\n",
    "        \n",
    "        time.sleep(1)\n",
    "        form_type = driver.find_element_by_id(\"type\")\n",
    "        form_type.send_keys('10-K')\n",
    "        \n",
    "        time.sleep(1)\n",
    "        prior_to = driver.find_element_by_id(\"prior_to\")\n",
    "        prior_to.send_keys('2019-12-31')\n",
    "    \n",
    "        time.sleep(1)\n",
    "        limit_count = Select(driver.find_element_by_id(\"count\"))\n",
    "        limit_count.select_by_visible_text(\"10 Entries\")    \n",
    "    \n",
    "        time.sleep(1)\n",
    "        submit = driver.find_element_by_xpath((\"//input[@type='submit' and @value='Search']\")).click()\n",
    "        \n",
    "        time.sleep(1)\n",
    "        hrefs = driver.find_elements_by_xpath(\"//a[contains(@href,'Archives') and @id='documentsbutton']\")\n",
    "    \n",
    "        for j in range(len(hrefs)):\n",
    "            submit = driver.find_element_by_xpath((\"//input[@type='submit' and @value='Search']\")).click()\n",
    "            time.sleep(1)\n",
    "            hrefs = driver.find_elements_by_xpath(\"//a[contains(@href,'Archives') and @id='documentsbutton']\")\n",
    "    \n",
    "            time.sleep(1)\n",
    "            html = driver.find_element_by_xpath(\"//a[@href='/{}']\".format(\"/\".join(hrefs[j].get_attribute(\"href\").split(\"/\")[3:]))).click()\n",
    "            \n",
    "            time.sleep(1)\n",
    "            q = driver.find_elements_by_xpath(\"//a[contains(@href,'Archives')]\")\n",
    "            #q[0].get_attribute(\"href\")\n",
    "            driver.get(q[0].get_attribute(\"href\"))\n",
    "    \n",
    "            file_name = comp_missing.Symbol[i] + \"-\" + str(j)\n",
    "            os.system(\"mkdir /home/dada/MA_Minus/10-K/{}/\".format(comp_missing.Symbol[i]))\n",
    "            full_name = os.path.join(\"/home/dada/MA_Minus/10-K/{}/\".format(comp_missing.Symbol[i]), file_name)\n",
    "                \n",
    "            #open file in write mode with encoding\n",
    "            with open(full_name, \"w\") as writer:\n",
    "                h = driver.page_source\n",
    "                writer.write(h)\n",
    "    \n",
    "            driver.back()\n",
    "            driver.back()\n",
    "            \n",
    "        driver.quit()\n",
    "        \n",
    "    except NoSuchElementException as exc:\n",
    "        print(comp_missing.Symbol[i])\n",
    "        continue     "
   ]
  },
  {
   "cell_type": "code",
   "execution_count": 218,
   "metadata": {},
   "outputs": [],
   "source": [
    "comp_sub.index = range(len(comp_sub))"
   ]
  },
  {
   "cell_type": "code",
   "execution_count": 99,
   "metadata": {},
   "outputs": [],
   "source": [
    "############## W/ CIK   ####################\n",
    "comp_mis_name = []\n",
    "for i in range(len(comp_missing)):\n",
    "#for i in [2, 27]:\n",
    "    \n",
    "    name_i = comp_missing.Name[i]\n",
    "    \n",
    "    driver = webdriver.Chrome(executable_path='chromedriver')\n",
    "    driver.get('https://www.sec.gov/edgar/searchedgar/companysearch.html') \n",
    "    user_input = driver.find_element_by_id(\"company\")\n",
    "    \n",
    "    #user_input.send_keys(name_input(name_i))\n",
    "    user_input.send_keys(name_i)\n",
    "    \n",
    "    login_button = driver.find_element_by_name(\"Find\").click()\n",
    "    time.sleep(2)\n",
    "\n",
    "    try:\n",
    "        form_type = driver.find_element_by_id(\"type\")\n",
    "        form_type.send_keys('10-K')\n",
    "        \n",
    "        time.sleep(1)\n",
    "        prior_to = driver.find_element_by_id(\"prior_to\")\n",
    "        #prior_to.send_keys(ma_1_sub.A_Date[i])\n",
    "        prior_to.send_keys('2019-12-31')\n",
    "    \n",
    "        time.sleep(1)\n",
    "        limit_count = Select(driver.find_element_by_id(\"count\"))\n",
    "        limit_count.select_by_visible_text(\"10 Entries\")    \n",
    "    \n",
    "        time.sleep(1)\n",
    "        submit = driver.find_element_by_xpath((\"//input[@type='submit' and @value='Search']\")).click()\n",
    "        \n",
    "        time.sleep(1)\n",
    "        hrefs = driver.find_elements_by_xpath(\"//a[contains(@href,'Archives') and @id='documentsbutton']\")\n",
    "    \n",
    "        for j in range(len(hrefs)):\n",
    "            submit = driver.find_element_by_xpath((\"//input[@type='submit' and @value='Search']\")).click()\n",
    "            time.sleep(1)\n",
    "            hrefs = driver.find_elements_by_xpath(\"//a[contains(@href,'Archives') and @id='documentsbutton']\")\n",
    "    \n",
    "            time.sleep(1)\n",
    "            html = driver.find_element_by_xpath(\"//a[@href='/{}']\".format(\"/\".join(hrefs[j].get_attribute(\"href\").split(\"/\")[3:]))).click()\n",
    "            \n",
    "            time.sleep(1)\n",
    "            q = driver.find_elements_by_xpath(\"//a[contains(@href,'Archives')]\")\n",
    "            #q[0].get_attribute(\"href\")\n",
    "            driver.get(q[0].get_attribute(\"href\"))\n",
    "    \n",
    "            file_name = comp_missing.Symbol[i] + \"-\" + str(j)\n",
    "            os.system(\"mkdir /home/dada/MA_Minus/10-K/{}/\".format(comp_missing.Symbol[i]))\n",
    "            full_name = os.path.join(\"/home/dada/MA_Minus/10-K/{}/\".format(comp_missing.Symbol[i]), file_name)\n",
    "                \n",
    "            #open file in write mode with encoding\n",
    "            with open(full_name, \"w\") as writer:\n",
    "                h = driver.page_source\n",
    "                writer.write(h)\n",
    "    \n",
    "            driver.back()\n",
    "            driver.back()\n",
    "            \n",
    "        driver.quit()\n",
    "        \n",
    "    except NoSuchElementException as exc:\n",
    "        comp_mis_name.append(comp_missing.Symbol[i])\n",
    "        print(comp_missing.Symbol[i])\n",
    "        continue        "
   ]
  },
  {
   "cell_type": "code",
   "execution_count": 29,
   "metadata": {},
   "outputs": [],
   "source": [
    "comp_missing = comp_sub.loc[comp_sub.Symbol.isin(comp_mis_name), ['Symbol','Name']]"
   ]
  },
  {
   "cell_type": "code",
   "execution_count": 30,
   "metadata": {},
   "outputs": [],
   "source": [
    "pickle.dump(comp_missing[['Symbol','Name']], open(\"comp_missing.pkl\", \"wb\"))"
   ]
  },
  {
   "cell_type": "code",
   "execution_count": 31,
   "metadata": {},
   "outputs": [],
   "source": [
    "comp_missing.index = range(len(comp_missing))"
   ]
  },
  {
   "cell_type": "code",
   "execution_count": 36,
   "metadata": {},
   "outputs": [
    {
     "name": "stdout",
     "output_type": "stream",
     "text": [
      "(23, 2)\n"
     ]
    },
    {
     "data": {
      "text/html": [
       "<div>\n",
       "<style scoped>\n",
       "    .dataframe tbody tr th:only-of-type {\n",
       "        vertical-align: middle;\n",
       "    }\n",
       "\n",
       "    .dataframe tbody tr th {\n",
       "        vertical-align: top;\n",
       "    }\n",
       "\n",
       "    .dataframe thead th {\n",
       "        text-align: right;\n",
       "    }\n",
       "</style>\n",
       "<table border=\"1\" class=\"dataframe\">\n",
       "  <thead>\n",
       "    <tr style=\"text-align: right;\">\n",
       "      <th></th>\n",
       "      <th>Symbol</th>\n",
       "      <th>Name</th>\n",
       "    </tr>\n",
       "  </thead>\n",
       "  <tbody>\n",
       "    <tr>\n",
       "      <th>0</th>\n",
       "      <td>BPRN</td>\n",
       "      <td>Bank of Princeton</td>\n",
       "    </tr>\n",
       "    <tr>\n",
       "      <th>1</th>\n",
       "      <td>CFFI</td>\n",
       "      <td>C&amp;F Financial Corporation</td>\n",
       "    </tr>\n",
       "    <tr>\n",
       "      <th>2</th>\n",
       "      <td>CNBKA</td>\n",
       "      <td>Century Bancorp, Inc. Class A</td>\n",
       "    </tr>\n",
       "    <tr>\n",
       "      <th>3</th>\n",
       "      <td>CCB</td>\n",
       "      <td>Coastal Financial Corporation</td>\n",
       "    </tr>\n",
       "    <tr>\n",
       "      <th>4</th>\n",
       "      <td>TCFC</td>\n",
       "      <td>Community Financial Corporation</td>\n",
       "    </tr>\n",
       "    <tr>\n",
       "      <th>5</th>\n",
       "      <td>EMCF</td>\n",
       "      <td>Emclaire Financial Corp.</td>\n",
       "    </tr>\n",
       "    <tr>\n",
       "      <th>6</th>\n",
       "      <td>FRBA</td>\n",
       "      <td>First Bank</td>\n",
       "    </tr>\n",
       "    <tr>\n",
       "      <th>7</th>\n",
       "      <td>FCCO</td>\n",
       "      <td>First Community Corporation</td>\n",
       "    </tr>\n",
       "    <tr>\n",
       "      <th>8</th>\n",
       "      <td>FXNC</td>\n",
       "      <td>First National Corporation</td>\n",
       "    </tr>\n",
       "    <tr>\n",
       "      <th>9</th>\n",
       "      <td>FUNC</td>\n",
       "      <td>First United Corporation</td>\n",
       "    </tr>\n",
       "    <tr>\n",
       "      <th>10</th>\n",
       "      <td>FRAF</td>\n",
       "      <td>Franklin Financial Services Corporation</td>\n",
       "    </tr>\n",
       "    <tr>\n",
       "      <th>11</th>\n",
       "      <td>GNTY</td>\n",
       "      <td>Guaranty Bancshares, Inc.</td>\n",
       "    </tr>\n",
       "    <tr>\n",
       "      <th>12</th>\n",
       "      <td>MFNC</td>\n",
       "      <td>Mackinac Financial Corporation</td>\n",
       "    </tr>\n",
       "    <tr>\n",
       "      <th>13</th>\n",
       "      <td>NBN</td>\n",
       "      <td>Northeast Bank</td>\n",
       "    </tr>\n",
       "    <tr>\n",
       "      <th>14</th>\n",
       "      <td>OSBC</td>\n",
       "      <td>Old Second Bancorp, Inc.</td>\n",
       "    </tr>\n",
       "    <tr>\n",
       "      <th>15</th>\n",
       "      <td>PCB</td>\n",
       "      <td>PCB Bancorp</td>\n",
       "    </tr>\n",
       "    <tr>\n",
       "      <th>16</th>\n",
       "      <td>RBNC</td>\n",
       "      <td>Reliant Bancorp Inc</td>\n",
       "    </tr>\n",
       "    <tr>\n",
       "      <th>17</th>\n",
       "      <td>RIVE</td>\n",
       "      <td>Riverview Financial Corp.</td>\n",
       "    </tr>\n",
       "    <tr>\n",
       "      <th>18</th>\n",
       "      <td>SLCT</td>\n",
       "      <td>Select Bancorp Inc</td>\n",
       "    </tr>\n",
       "    <tr>\n",
       "      <th>19</th>\n",
       "      <td>SSBI</td>\n",
       "      <td>Summit State Bank</td>\n",
       "    </tr>\n",
       "    <tr>\n",
       "      <th>20</th>\n",
       "      <td>UBCP</td>\n",
       "      <td>United Bancorp, Inc.</td>\n",
       "    </tr>\n",
       "    <tr>\n",
       "      <th>21</th>\n",
       "      <td>UBFO</td>\n",
       "      <td>United Security Bancshares</td>\n",
       "    </tr>\n",
       "    <tr>\n",
       "      <th>22</th>\n",
       "      <td>VBFC</td>\n",
       "      <td>Village Bank and Trust Financial Corp.</td>\n",
       "    </tr>\n",
       "  </tbody>\n",
       "</table>\n",
       "</div>"
      ],
      "text/plain": [
       "   Symbol                                     Name\n",
       "0    BPRN                        Bank of Princeton\n",
       "1    CFFI                C&F Financial Corporation\n",
       "2   CNBKA            Century Bancorp, Inc. Class A\n",
       "3     CCB            Coastal Financial Corporation\n",
       "4    TCFC          Community Financial Corporation\n",
       "5    EMCF                 Emclaire Financial Corp.\n",
       "6    FRBA                               First Bank\n",
       "7    FCCO              First Community Corporation\n",
       "8    FXNC               First National Corporation\n",
       "9    FUNC                 First United Corporation\n",
       "10   FRAF  Franklin Financial Services Corporation\n",
       "11   GNTY                Guaranty Bancshares, Inc.\n",
       "12   MFNC           Mackinac Financial Corporation\n",
       "13    NBN                           Northeast Bank\n",
       "14   OSBC                 Old Second Bancorp, Inc.\n",
       "15    PCB                              PCB Bancorp\n",
       "16   RBNC                      Reliant Bancorp Inc\n",
       "17   RIVE                Riverview Financial Corp.\n",
       "18   SLCT                       Select Bancorp Inc\n",
       "19   SSBI                        Summit State Bank\n",
       "20   UBCP                     United Bancorp, Inc.\n",
       "21   UBFO               United Security Bancshares\n",
       "22   VBFC   Village Bank and Trust Financial Corp."
      ]
     },
     "execution_count": 36,
     "metadata": {},
     "output_type": "execute_result"
    }
   ],
   "source": [
    "print(comp_missing.shape)\n",
    "comp_missing"
   ]
  },
  {
   "cell_type": "code",
   "execution_count": 40,
   "metadata": {},
   "outputs": [],
   "source": [
    "comp_missing = pd.read_csv(\"comp_missing_.csv\")"
   ]
  },
  {
   "cell_type": "code",
   "execution_count": 41,
   "metadata": {},
   "outputs": [
    {
     "name": "stdout",
     "output_type": "stream",
     "text": [
      "(19, 3)\n"
     ]
    },
    {
     "data": {
      "text/html": [
       "<div>\n",
       "<style scoped>\n",
       "    .dataframe tbody tr th:only-of-type {\n",
       "        vertical-align: middle;\n",
       "    }\n",
       "\n",
       "    .dataframe tbody tr th {\n",
       "        vertical-align: top;\n",
       "    }\n",
       "\n",
       "    .dataframe thead th {\n",
       "        text-align: right;\n",
       "    }\n",
       "</style>\n",
       "<table border=\"1\" class=\"dataframe\">\n",
       "  <thead>\n",
       "    <tr style=\"text-align: right;\">\n",
       "      <th></th>\n",
       "      <th>Symbol</th>\n",
       "      <th>Name</th>\n",
       "      <th>CIK</th>\n",
       "    </tr>\n",
       "  </thead>\n",
       "  <tbody>\n",
       "    <tr>\n",
       "      <th>0</th>\n",
       "      <td>CFFI</td>\n",
       "      <td>C &amp; F Financial Corporation</td>\n",
       "      <td></td>\n",
       "    </tr>\n",
       "    <tr>\n",
       "      <th>1</th>\n",
       "      <td>CNBKA</td>\n",
       "      <td>Century Bancorp, Inc</td>\n",
       "      <td>0000812348</td>\n",
       "    </tr>\n",
       "    <tr>\n",
       "      <th>2</th>\n",
       "      <td>CCB</td>\n",
       "      <td>Coastal Financial Corporation</td>\n",
       "      <td>0001437958</td>\n",
       "    </tr>\n",
       "    <tr>\n",
       "      <th>3</th>\n",
       "      <td>TCFC</td>\n",
       "      <td>Community Financial Corporation</td>\n",
       "      <td>0000855874</td>\n",
       "    </tr>\n",
       "    <tr>\n",
       "      <th>4</th>\n",
       "      <td>EMCF</td>\n",
       "      <td>Emclaire Financial Corp.</td>\n",
       "      <td>0000858800</td>\n",
       "    </tr>\n",
       "    <tr>\n",
       "      <th>5</th>\n",
       "      <td>FCCO</td>\n",
       "      <td>First Community Corporation</td>\n",
       "      <td>0000932781</td>\n",
       "    </tr>\n",
       "    <tr>\n",
       "      <th>6</th>\n",
       "      <td>FXNC</td>\n",
       "      <td>First National Corporation</td>\n",
       "      <td>0000719402</td>\n",
       "    </tr>\n",
       "    <tr>\n",
       "      <th>7</th>\n",
       "      <td>FUNC</td>\n",
       "      <td>First United Corporation</td>\n",
       "      <td>0000763907</td>\n",
       "    </tr>\n",
       "    <tr>\n",
       "      <th>8</th>\n",
       "      <td>FRAF</td>\n",
       "      <td>Franklin Financial Services Corporation</td>\n",
       "      <td>0000723646</td>\n",
       "    </tr>\n",
       "    <tr>\n",
       "      <th>9</th>\n",
       "      <td>GNTY</td>\n",
       "      <td>Guaranty Bancshares, Inc.</td>\n",
       "      <td>0001058867</td>\n",
       "    </tr>\n",
       "    <tr>\n",
       "      <th>10</th>\n",
       "      <td>MFNC</td>\n",
       "      <td>Mackinac Financial Corporation</td>\n",
       "      <td>0000036506</td>\n",
       "    </tr>\n",
       "    <tr>\n",
       "      <th>11</th>\n",
       "      <td>OSBC</td>\n",
       "      <td>Old Second Bancorp, Inc</td>\n",
       "      <td>0000357173</td>\n",
       "    </tr>\n",
       "    <tr>\n",
       "      <th>12</th>\n",
       "      <td>PCB</td>\n",
       "      <td>PCB Bancorp</td>\n",
       "      <td>0001423869</td>\n",
       "    </tr>\n",
       "    <tr>\n",
       "      <th>13</th>\n",
       "      <td>RBNC</td>\n",
       "      <td>Reliant Bancorp</td>\n",
       "      <td></td>\n",
       "    </tr>\n",
       "    <tr>\n",
       "      <th>14</th>\n",
       "      <td>RIVE</td>\n",
       "      <td>Riverview Financial Corp.</td>\n",
       "      <td>0001590799</td>\n",
       "    </tr>\n",
       "    <tr>\n",
       "      <th>15</th>\n",
       "      <td>SLCT</td>\n",
       "      <td>Select Bancorp</td>\n",
       "      <td></td>\n",
       "    </tr>\n",
       "    <tr>\n",
       "      <th>16</th>\n",
       "      <td>UBCP</td>\n",
       "      <td>United Bancorp, Inc</td>\n",
       "      <td>0000731653</td>\n",
       "    </tr>\n",
       "    <tr>\n",
       "      <th>17</th>\n",
       "      <td>UBFO</td>\n",
       "      <td>United Security Bancshares</td>\n",
       "      <td>0001137547</td>\n",
       "    </tr>\n",
       "    <tr>\n",
       "      <th>18</th>\n",
       "      <td>VBFC</td>\n",
       "      <td>Village Bank &amp; Trust Financial Corp.</td>\n",
       "      <td></td>\n",
       "    </tr>\n",
       "  </tbody>\n",
       "</table>\n",
       "</div>"
      ],
      "text/plain": [
       "   Symbol                                     Name         CIK\n",
       "0    CFFI              C & F Financial Corporation            \n",
       "1   CNBKA                     Century Bancorp, Inc  0000812348\n",
       "2     CCB            Coastal Financial Corporation  0001437958\n",
       "3    TCFC          Community Financial Corporation  0000855874\n",
       "4    EMCF                 Emclaire Financial Corp.  0000858800\n",
       "5    FCCO              First Community Corporation  0000932781\n",
       "6    FXNC               First National Corporation  0000719402\n",
       "7    FUNC                 First United Corporation  0000763907\n",
       "8    FRAF  Franklin Financial Services Corporation  0000723646\n",
       "9    GNTY                Guaranty Bancshares, Inc.  0001058867\n",
       "10   MFNC           Mackinac Financial Corporation  0000036506\n",
       "11   OSBC                 Old Second Bancorp, Inc   0000357173\n",
       "12    PCB                              PCB Bancorp  0001423869\n",
       "13   RBNC                          Reliant Bancorp            \n",
       "14   RIVE                Riverview Financial Corp.  0001590799\n",
       "15   SLCT                           Select Bancorp            \n",
       "16   UBCP                     United Bancorp, Inc   0000731653\n",
       "17   UBFO               United Security Bancshares  0001137547\n",
       "18   VBFC     Village Bank & Trust Financial Corp.            "
      ]
     },
     "execution_count": 41,
     "metadata": {},
     "output_type": "execute_result"
    }
   ],
   "source": [
    "print(comp_missing.shape)\n",
    "comp_missing"
   ]
  },
  {
   "cell_type": "code",
   "execution_count": 118,
   "metadata": {},
   "outputs": [],
   "source": [
    "driver = webdriver.Chrome(executable_path='chromedriver')"
   ]
  },
  {
   "cell_type": "code",
   "execution_count": 209,
   "metadata": {},
   "outputs": [],
   "source": [
    "driver.get('https://www.sec.gov/edgar/searchedgar/companysearch.html') "
   ]
  },
  {
   "cell_type": "code",
   "execution_count": 210,
   "metadata": {},
   "outputs": [],
   "source": [
    "user_input = driver.find_element_by_id(\"company\")"
   ]
  },
  {
   "cell_type": "code",
   "execution_count": 211,
   "metadata": {},
   "outputs": [],
   "source": [
    "com_input = 'Blue Hills Bancorp, Inc.'"
   ]
  },
  {
   "cell_type": "code",
   "execution_count": 392,
   "metadata": {},
   "outputs": [
    {
     "data": {
      "text/plain": [
       "0"
      ]
     },
     "execution_count": 392,
     "metadata": {},
     "output_type": "execute_result"
    }
   ],
   "source": [
    "os.system(\"mkdir /home/dada/{}/\".format(\"ABCD\")) "
   ]
  },
  {
   "cell_type": "code",
   "execution_count": 213,
   "metadata": {},
   "outputs": [],
   "source": [
    "user_input.send_keys(comp_input(com_input))"
   ]
  },
  {
   "cell_type": "code",
   "execution_count": 214,
   "metadata": {},
   "outputs": [],
   "source": [
    "login_button = driver.find_element_by_name(\"Find\")"
   ]
  },
  {
   "cell_type": "code",
   "execution_count": 215,
   "metadata": {},
   "outputs": [],
   "source": [
    "login_button.click()"
   ]
  },
  {
   "cell_type": "code",
   "execution_count": 218,
   "metadata": {},
   "outputs": [],
   "source": [
    "form_type = driver.find_element_by_id(\"type\")"
   ]
  },
  {
   "cell_type": "code",
   "execution_count": 219,
   "metadata": {},
   "outputs": [],
   "source": [
    "form_type.send_keys('10-Q')"
   ]
  },
  {
   "cell_type": "code",
   "execution_count": 220,
   "metadata": {},
   "outputs": [],
   "source": [
    "prior_to = driver.find_element_by_id(\"prior_to\")"
   ]
  },
  {
   "cell_type": "code",
   "execution_count": 221,
   "metadata": {},
   "outputs": [],
   "source": [
    "prior_to.send_keys('2019-12-31')"
   ]
  },
  {
   "cell_type": "code",
   "execution_count": 222,
   "metadata": {},
   "outputs": [],
   "source": [
    "limit_count = Select(driver.find_element_by_id(\"count\"))\n",
    "limit_count.select_by_visible_text(\"10 Entries\")"
   ]
  },
  {
   "cell_type": "code",
   "execution_count": 223,
   "metadata": {},
   "outputs": [],
   "source": [
    "submit = driver.find_element_by_xpath((\"//input[@type='submit' and @value='Search']\"))"
   ]
  },
  {
   "cell_type": "code",
   "execution_count": 224,
   "metadata": {},
   "outputs": [],
   "source": [
    "submit.click()"
   ]
  },
  {
   "cell_type": "code",
   "execution_count": 238,
   "metadata": {},
   "outputs": [],
   "source": [
    "hrefs = driver.find_elements_by_xpath(\"//a[contains(@href,'Archives') and @id='documentsbutton']\")\n",
    "len(hrefs)"
   ]
  },
  {
   "cell_type": "code",
   "execution_count": 234,
   "metadata": {},
   "outputs": [
    {
     "data": {
      "text/plain": [
       "'Archives/edgar/data/1601545/000160154518000053/0001601545-18-000053-index.htm'"
      ]
     },
     "execution_count": 234,
     "metadata": {},
     "output_type": "execute_result"
    }
   ],
   "source": [
    "\"/\".join(hrefs[0].get_attribute(\"href\").split(\"/\")[3:])"
   ]
  },
  {
   "cell_type": "code",
   "execution_count": 241,
   "metadata": {},
   "outputs": [],
   "source": [
    "html = driver.find_element_by_xpath(\"//a[@href='/{}']\".format(\"/\".join(hrefs[0].get_attribute(\"href\").split(\"/\")[3:]))).click()"
   ]
  },
  {
   "cell_type": "code",
   "execution_count": 281,
   "metadata": {},
   "outputs": [],
   "source": [
    "q1 = driver.find_elements_by_xpath(\"//a[contains(@href,'Archives')]\")"
   ]
  },
  {
   "cell_type": "code",
   "execution_count": 282,
   "metadata": {},
   "outputs": [
    {
     "data": {
      "text/plain": [
       "'https://www.sec.gov/Archives/edgar/data/1601545/000160154518000053/bluehills10-qq32018.htm'"
      ]
     },
     "execution_count": 282,
     "metadata": {},
     "output_type": "execute_result"
    }
   ],
   "source": [
    "q1[0].get_attribute(\"href\")"
   ]
  },
  {
   "cell_type": "code",
   "execution_count": 283,
   "metadata": {},
   "outputs": [],
   "source": [
    "file_name = q1[0].get_attribute(\"href\").split(\"/\")[-1:][0]"
   ]
  },
  {
   "cell_type": "code",
   "execution_count": 284,
   "metadata": {},
   "outputs": [],
   "source": [
    "full_name = os.path.join(\"/home/dada/tt/\", file_name)"
   ]
  },
  {
   "cell_type": "code",
   "execution_count": 287,
   "metadata": {},
   "outputs": [],
   "source": [
    "#get file path to save page\n",
    "path_10_q = os.path.join(\"/home/dada/tt/\", q1[0].get_attribute(\"href\").split(\"/\")[-1:][0])\n",
    "\n",
    "driver.get(q1[0].get_attribute(\"href\"))"
   ]
  },
  {
   "cell_type": "code",
   "execution_count": 286,
   "metadata": {},
   "outputs": [],
   "source": [
    "#open file in write mode with encoding\n",
    "with open(full_name, \"w\") as writer:\n",
    "    h = driver.page_source\n",
    "    writer.write(h)"
   ]
  },
  {
   "cell_type": "code",
   "execution_count": null,
   "metadata": {},
   "outputs": [],
   "source": []
  },
  {
   "cell_type": "code",
   "execution_count": 69,
   "metadata": {},
   "outputs": [
    {
     "name": "stderr",
     "output_type": "stream",
     "text": [
      "100%|██████████| 837/837 [4:34:19<00:00, 19.67s/it]  \n"
     ]
    }
   ],
   "source": [
    "wsj_headline = {}\n",
    "for i in tqdm(comp_sub.Name):\n",
    "    \n",
    "    driver.get('https://www.sec.gov/edgar/searchedgar/companysearch.html')    \n",
    "    #page_1 = driver.find_elements_by_xpath('//ol[@class=\"WSJTheme--list-reset--3pR-r52l \"]')\n",
    "    user_input = driver.find_element_by_id(\"company\")\n",
    "    time.sleep(1)\n",
    "    user_input.send_keys(i)\n",
    "    tt = page_1[0].text.split(\"\\n\")\n",
    "    topic_i = \"|\".join([topic_i, \"|\".join(([tt[j] for j in range(0, len(tt), 3)]))])\n",
    "    news_i = \"|\".join([news_i, \"|\".join(([tt[j] for j in range(1, len(tt), 3)]))])\n",
    "    \n",
    "    p_total = driver.find_elements_by_xpath('//span[@class=\"WSJTheme--pagepicker-total--Kl350I1l \"]')\n",
    "    \n",
    "    #loop over n pages\n",
    "    for j in range(1, int(p_total[0].text.split(\" \")[1])):\n",
    "        page += 1\n",
    "        driver.get('https://www.wsj.com/news/archive/{}?page={}'.format(i, page))\n",
    "        next_page = driver.find_elements_by_xpath('//ol[@class=\"WSJTheme--list-reset--3pR-r52l \"]')\n",
    "        time.sleep(1)\n",
    "        tt = next_page[0].text.split(\"\\n\")\n",
    "        topic_i = \"|\".join([topic_i, \"|\".join(([tt[j] for j in range(0, len(tt), 3)]))])\n",
    "        news_i = \"|\".join([news_i, \"|\".join(([tt[j] for j in range(1, len(tt), 3)]))])\n",
    "                \n",
    "    wsj_headline[i] = {\"Topic\":topic_i, \"Headlines\":news_i}"
   ]
  },
  {
   "cell_type": "code",
   "execution_count": 70,
   "metadata": {},
   "outputs": [
    {
     "data": {
      "text/plain": [
       "'2021/03/31'"
      ]
     },
     "execution_count": 70,
     "metadata": {},
     "output_type": "execute_result"
    }
   ],
   "source": [
    "max(wsj_headline)"
   ]
  },
  {
   "cell_type": "code",
   "execution_count": 71,
   "metadata": {},
   "outputs": [
    {
     "data": {
      "text/html": [
       "<div>\n",
       "<style scoped>\n",
       "    .dataframe tbody tr th:only-of-type {\n",
       "        vertical-align: middle;\n",
       "    }\n",
       "\n",
       "    .dataframe tbody tr th {\n",
       "        vertical-align: top;\n",
       "    }\n",
       "\n",
       "    .dataframe thead th {\n",
       "        text-align: right;\n",
       "    }\n",
       "</style>\n",
       "<table border=\"1\" class=\"dataframe\">\n",
       "  <thead>\n",
       "    <tr style=\"text-align: right;\">\n",
       "      <th></th>\n",
       "      <th>Date</th>\n",
       "      <th>Wk_Date</th>\n",
       "    </tr>\n",
       "  </thead>\n",
       "  <tbody>\n",
       "    <tr>\n",
       "      <th>1185</th>\n",
       "      <td>2021/03/31</td>\n",
       "      <td>Wed</td>\n",
       "    </tr>\n",
       "  </tbody>\n",
       "</table>\n",
       "</div>"
      ],
      "text/plain": [
       "            Date Wk_Date\n",
       "1185  2021/03/31     Wed"
      ]
     },
     "execution_count": 71,
     "metadata": {},
     "output_type": "execute_result"
    }
   ],
   "source": [
    "dates[dates.Date == max(wsj_headline)]"
   ]
  },
  {
   "cell_type": "code",
   "execution_count": null,
   "metadata": {},
   "outputs": [],
   "source": [
    "pickle.dump(wsj_headline, open(\"wsj_headline_raw2.pkl\", \"wb\"))"
   ]
  },
  {
   "cell_type": "code",
   "execution_count": 73,
   "metadata": {},
   "outputs": [],
   "source": [
    "wsj_headline1 = pickle.load(open(\"wsj_headline_raw1.pkl\", \"rb\"))\n",
    "wsj_headline2 = pickle.load(open(\"wsj_headline_raw2.pkl\", \"rb\"))"
   ]
  },
  {
   "cell_type": "code",
   "execution_count": 74,
   "metadata": {},
   "outputs": [],
   "source": [
    "wsj_headline1.update(wsj_headline2)"
   ]
  },
  {
   "cell_type": "code",
   "execution_count": 75,
   "metadata": {},
   "outputs": [],
   "source": [
    "wsj_hl_df = pd.DataFrame.from_dict(wsj_headline1, orient = \"index\").reset_index()\n",
    "wsj_hl_df.rename(columns = {\"index\":\"Date\"}, inplace = True)"
   ]
  },
  {
   "cell_type": "code",
   "execution_count": 77,
   "metadata": {},
   "outputs": [
    {
     "name": "stdout",
     "output_type": "stream",
     "text": [
      "(1186, 3)\n"
     ]
    },
    {
     "data": {
      "text/html": [
       "<div>\n",
       "<style scoped>\n",
       "    .dataframe tbody tr th:only-of-type {\n",
       "        vertical-align: middle;\n",
       "    }\n",
       "\n",
       "    .dataframe tbody tr th {\n",
       "        vertical-align: top;\n",
       "    }\n",
       "\n",
       "    .dataframe thead th {\n",
       "        text-align: right;\n",
       "    }\n",
       "</style>\n",
       "<table border=\"1\" class=\"dataframe\">\n",
       "  <thead>\n",
       "    <tr style=\"text-align: right;\">\n",
       "      <th></th>\n",
       "      <th>Date</th>\n",
       "      <th>Topic</th>\n",
       "      <th>Headlines</th>\n",
       "    </tr>\n",
       "  </thead>\n",
       "  <tbody>\n",
       "    <tr>\n",
       "      <th>0</th>\n",
       "      <td>2018/01/01</td>\n",
       "      <td>|COLLEGE FOOTBALL|MARKETS|ECONOMY|TECH|U.S.|EC...</td>\n",
       "      <td>|Georgia Outguns Oklahoma in Rose Bowl Epic|Pe...</td>\n",
       "    </tr>\n",
       "    <tr>\n",
       "      <th>1</th>\n",
       "      <td>2018/01/02</td>\n",
       "      <td>|MARKETS|ASIA|U.S.|ASIA|HEARD ON THE STREET|PR...</td>\n",
       "      <td>|Peter Thiel’s Founders Fund Makes Big Bet on ...</td>\n",
       "    </tr>\n",
       "    <tr>\n",
       "      <th>2</th>\n",
       "      <td>2018/01/03</td>\n",
       "      <td>|MARKETS|HEARD ON THE STREET|BUSINESS|POLITICS...</td>\n",
       "      <td>|Never Mind the Defaults, Venezuela Has Made M...</td>\n",
       "    </tr>\n",
       "    <tr>\n",
       "      <th>3</th>\n",
       "      <td>2018/01/04</td>\n",
       "      <td>|SCHOOLS|TECH|POLITICS|ASIA|FOOD &amp; DRINK|REAL ...</td>\n",
       "      <td>|More Pre-K Seats Planned for Upper East Side|...</td>\n",
       "    </tr>\n",
       "    <tr>\n",
       "      <th>4</th>\n",
       "      <td>2018/01/05</td>\n",
       "      <td>|FOOD &amp; DRINK|GLOBAL MARKETS|MARKETS|MARKETS|P...</td>\n",
       "      <td>|Blizzard-Proof Bowls: Savory Porridge Saves t...</td>\n",
       "    </tr>\n",
       "  </tbody>\n",
       "</table>\n",
       "</div>"
      ],
      "text/plain": [
       "         Date                                              Topic  \\\n",
       "0  2018/01/01  |COLLEGE FOOTBALL|MARKETS|ECONOMY|TECH|U.S.|EC...   \n",
       "1  2018/01/02  |MARKETS|ASIA|U.S.|ASIA|HEARD ON THE STREET|PR...   \n",
       "2  2018/01/03  |MARKETS|HEARD ON THE STREET|BUSINESS|POLITICS...   \n",
       "3  2018/01/04  |SCHOOLS|TECH|POLITICS|ASIA|FOOD & DRINK|REAL ...   \n",
       "4  2018/01/05  |FOOD & DRINK|GLOBAL MARKETS|MARKETS|MARKETS|P...   \n",
       "\n",
       "                                           Headlines  \n",
       "0  |Georgia Outguns Oklahoma in Rose Bowl Epic|Pe...  \n",
       "1  |Peter Thiel’s Founders Fund Makes Big Bet on ...  \n",
       "2  |Never Mind the Defaults, Venezuela Has Made M...  \n",
       "3  |More Pre-K Seats Planned for Upper East Side|...  \n",
       "4  |Blizzard-Proof Bowls: Savory Porridge Saves t...  "
      ]
     },
     "execution_count": 77,
     "metadata": {},
     "output_type": "execute_result"
    }
   ],
   "source": [
    "print(wsj_hl_df.shape)\n",
    "wsj_hl_df.head()"
   ]
  },
  {
   "cell_type": "code",
   "execution_count": 78,
   "metadata": {},
   "outputs": [],
   "source": [
    "wsj_hl_all = pd.merge(wsj_hl_df, dates, on = \"Date\")"
   ]
  },
  {
   "cell_type": "code",
   "execution_count": 79,
   "metadata": {},
   "outputs": [
    {
     "name": "stdout",
     "output_type": "stream",
     "text": [
      "(1186, 4)\n"
     ]
    },
    {
     "data": {
      "text/html": [
       "<div>\n",
       "<style scoped>\n",
       "    .dataframe tbody tr th:only-of-type {\n",
       "        vertical-align: middle;\n",
       "    }\n",
       "\n",
       "    .dataframe tbody tr th {\n",
       "        vertical-align: top;\n",
       "    }\n",
       "\n",
       "    .dataframe thead th {\n",
       "        text-align: right;\n",
       "    }\n",
       "</style>\n",
       "<table border=\"1\" class=\"dataframe\">\n",
       "  <thead>\n",
       "    <tr style=\"text-align: right;\">\n",
       "      <th></th>\n",
       "      <th>Date</th>\n",
       "      <th>Topic</th>\n",
       "      <th>Headlines</th>\n",
       "      <th>Wk_Date</th>\n",
       "    </tr>\n",
       "  </thead>\n",
       "  <tbody>\n",
       "    <tr>\n",
       "      <th>0</th>\n",
       "      <td>2018/01/01</td>\n",
       "      <td>|COLLEGE FOOTBALL|MARKETS|ECONOMY|TECH|U.S.|EC...</td>\n",
       "      <td>|Georgia Outguns Oklahoma in Rose Bowl Epic|Pe...</td>\n",
       "      <td>Mon</td>\n",
       "    </tr>\n",
       "    <tr>\n",
       "      <th>1</th>\n",
       "      <td>2018/01/02</td>\n",
       "      <td>|MARKETS|ASIA|U.S.|ASIA|HEARD ON THE STREET|PR...</td>\n",
       "      <td>|Peter Thiel’s Founders Fund Makes Big Bet on ...</td>\n",
       "      <td>Tue</td>\n",
       "    </tr>\n",
       "    <tr>\n",
       "      <th>2</th>\n",
       "      <td>2018/01/03</td>\n",
       "      <td>|MARKETS|HEARD ON THE STREET|BUSINESS|POLITICS...</td>\n",
       "      <td>|Never Mind the Defaults, Venezuela Has Made M...</td>\n",
       "      <td>Wed</td>\n",
       "    </tr>\n",
       "    <tr>\n",
       "      <th>3</th>\n",
       "      <td>2018/01/04</td>\n",
       "      <td>|SCHOOLS|TECH|POLITICS|ASIA|FOOD &amp; DRINK|REAL ...</td>\n",
       "      <td>|More Pre-K Seats Planned for Upper East Side|...</td>\n",
       "      <td>Thu</td>\n",
       "    </tr>\n",
       "    <tr>\n",
       "      <th>4</th>\n",
       "      <td>2018/01/05</td>\n",
       "      <td>|FOOD &amp; DRINK|GLOBAL MARKETS|MARKETS|MARKETS|P...</td>\n",
       "      <td>|Blizzard-Proof Bowls: Savory Porridge Saves t...</td>\n",
       "      <td>Fri</td>\n",
       "    </tr>\n",
       "  </tbody>\n",
       "</table>\n",
       "</div>"
      ],
      "text/plain": [
       "         Date                                              Topic  \\\n",
       "0  2018/01/01  |COLLEGE FOOTBALL|MARKETS|ECONOMY|TECH|U.S.|EC...   \n",
       "1  2018/01/02  |MARKETS|ASIA|U.S.|ASIA|HEARD ON THE STREET|PR...   \n",
       "2  2018/01/03  |MARKETS|HEARD ON THE STREET|BUSINESS|POLITICS...   \n",
       "3  2018/01/04  |SCHOOLS|TECH|POLITICS|ASIA|FOOD & DRINK|REAL ...   \n",
       "4  2018/01/05  |FOOD & DRINK|GLOBAL MARKETS|MARKETS|MARKETS|P...   \n",
       "\n",
       "                                           Headlines Wk_Date  \n",
       "0  |Georgia Outguns Oklahoma in Rose Bowl Epic|Pe...     Mon  \n",
       "1  |Peter Thiel’s Founders Fund Makes Big Bet on ...     Tue  \n",
       "2  |Never Mind the Defaults, Venezuela Has Made M...     Wed  \n",
       "3  |More Pre-K Seats Planned for Upper East Side|...     Thu  \n",
       "4  |Blizzard-Proof Bowls: Savory Porridge Saves t...     Fri  "
      ]
     },
     "execution_count": 79,
     "metadata": {},
     "output_type": "execute_result"
    }
   ],
   "source": [
    "print(wsj_hl_all.shape)\n",
    "wsj_hl_all.head()"
   ]
  },
  {
   "cell_type": "code",
   "execution_count": 80,
   "metadata": {},
   "outputs": [],
   "source": [
    "pickle.dump(wsj_hl_all, open(\"wsj_new_wk.pkl\", \"wb\"))"
   ]
  },
  {
   "cell_type": "code",
   "execution_count": 81,
   "metadata": {},
   "outputs": [],
   "source": [
    "wsj_hl_all.to_csv(\"wsj_new_wk.csv.gz\", index=False, compression=\"gzip\")"
   ]
  }
 ],
 "metadata": {
  "kernelspec": {
   "display_name": "Python 3",
   "language": "python",
   "name": "python3"
  },
  "language_info": {
   "codemirror_mode": {
    "name": "ipython",
    "version": 3
   },
   "file_extension": ".py",
   "mimetype": "text/x-python",
   "name": "python",
   "nbconvert_exporter": "python",
   "pygments_lexer": "ipython3",
   "version": "3.8.8"
  }
 },
 "nbformat": 4,
 "nbformat_minor": 4
}
